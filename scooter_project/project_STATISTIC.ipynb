{
 "cells": [
  {
   "cell_type": "markdown",
   "id": "e1cf65fb-ac85-4a33-9cb4-e093007ccd01",
   "metadata": {},
   "source": [
    "# Проект. Проверка статистических гипотез, способных помочь сервису самокатов"
   ]
  },
  {
   "cell_type": "markdown",
   "id": "c9107ec4",
   "metadata": {},
   "source": [
    "**Описание проекта**"
   ]
  },
  {
   "cell_type": "markdown",
   "id": "d1eb53c0",
   "metadata": {},
   "source": [
    "Предположим, что я аналитик популярного сервиса аренды самокатов GoFast. Мне передали данные о некоторых пользователях из нескольких городов, а также об их поездках. Мне необходимо проанализировать эти данные и проверить некоторые гипотезы, которые могут помочь бизнесу вырасти."
   ]
  },
  {
   "cell_type": "markdown",
   "id": "67d4f2fc",
   "metadata": {},
   "source": [
    "Чтобы совершать поездки по городу, пользователи сервиса GoFast пользуются мобильным приложением. Сервисом можно пользоваться:\n",
    "* без подписки\n",
    "   * абонентская плата отсутствует;\n",
    "   * стоимость одной минуты поездки — 8 рублей;\n",
    "   * стоимость старта (начала поездки) — 50 рублей;\n",
    "* с подпиской Ultra\n",
    "   * абонентская плата — 199 рублей в месяц; \n",
    "   * стоимость одной минуты поездки — 6 рублей;\n",
    "   * стоимость старта — бесплатно."
   ]
  },
  {
   "cell_type": "markdown",
   "id": "0e9d658c",
   "metadata": {},
   "source": [
    "**Описание данных**"
   ]
  },
  {
   "cell_type": "markdown",
   "id": "6bda6c9d",
   "metadata": {},
   "source": [
    "В основных данных есть информация о пользователях, их поездках и подписках."
   ]
  },
  {
   "cell_type": "markdown",
   "id": "c243eb2d",
   "metadata": {},
   "source": [
    "Пользователи - `users`\n",
    "* `user_id` - уникальный идентификатор пользователя;\n",
    "* `name` - имя пользователя;\n",
    "* `age` - возраст;\n",
    "* `city` - город;\n",
    "* `subscription_type` - тип подписки (free, ultra)."
   ]
  },
  {
   "cell_type": "markdown",
   "id": "68f6d701",
   "metadata": {},
   "source": [
    "Поездки - `rides`\n",
    "* `user_id` - уникальный идентификатор пользователя;\n",
    "* `distance` - расстояние, которое пользователь проехал в текущей сессии (в метрах); \n",
    "* `duration` - продолжительность сессии (в минутах) — время с того момента, как пользователь нажал кнопку «Начать поездку» до момента, как он нажал кнопку «Завершить поездку»; \n",
    "* `date` - дата совершения поездки.  "
   ]
  },
  {
   "cell_type": "markdown",
   "id": "6d6493f7",
   "metadata": {},
   "source": [
    "Подписки - subscriptions\n",
    "* `subscription_type` - тип подписки;\n",
    "* `minute_price` - стоимость одной минуты поездки по данной подписке;\n",
    "* `start_ride_price` - стоимость начала поездки;\n",
    "* `subscription_fee` - стоимость ежемесячного платежа."
   ]
  },
  {
   "cell_type": "code",
   "execution_count": 1,
   "id": "72576667",
   "metadata": {},
   "outputs": [],
   "source": [
    "import pandas as pd\n",
    "import matplotlib.pyplot as plt\n",
    "import numpy as np\n",
    "import scipy.stats as st"
   ]
  },
  {
   "cell_type": "markdown",
   "id": "c42cbe00",
   "metadata": {},
   "source": [
    "#### Шаг 1. Загрузка данных"
   ]
  },
  {
   "cell_type": "markdown",
   "id": "4fa32ba6",
   "metadata": {},
   "source": [
    "**Считаем csv `-` файл с данными о пользователях с помощью библиотеки `pandas` и сохраним его в датафрейм `users`.**"
   ]
  },
  {
   "cell_type": "code",
   "execution_count": 2,
   "id": "4ae3c208",
   "metadata": {},
   "outputs": [],
   "source": [
    "users = pd.read_csv('users_go.csv')"
   ]
  },
  {
   "cell_type": "markdown",
   "id": "ffafc686",
   "metadata": {},
   "source": [
    "**Выведем первые 10 строк датафрейма `users` на экран.**"
   ]
  },
  {
   "cell_type": "code",
   "execution_count": 3,
   "id": "e977a82a",
   "metadata": {},
   "outputs": [
    {
     "data": {
      "text/html": [
       "<div>\n",
       "<style scoped>\n",
       "    .dataframe tbody tr th:only-of-type {\n",
       "        vertical-align: middle;\n",
       "    }\n",
       "\n",
       "    .dataframe tbody tr th {\n",
       "        vertical-align: top;\n",
       "    }\n",
       "\n",
       "    .dataframe thead th {\n",
       "        text-align: right;\n",
       "    }\n",
       "</style>\n",
       "<table border=\"1\" class=\"dataframe\">\n",
       "  <thead>\n",
       "    <tr style=\"text-align: right;\">\n",
       "      <th></th>\n",
       "      <th>user_id</th>\n",
       "      <th>name</th>\n",
       "      <th>age</th>\n",
       "      <th>city</th>\n",
       "      <th>subscription_type</th>\n",
       "    </tr>\n",
       "  </thead>\n",
       "  <tbody>\n",
       "    <tr>\n",
       "      <th>0</th>\n",
       "      <td>1</td>\n",
       "      <td>Кира</td>\n",
       "      <td>22</td>\n",
       "      <td>Тюмень</td>\n",
       "      <td>ultra</td>\n",
       "    </tr>\n",
       "    <tr>\n",
       "      <th>1</th>\n",
       "      <td>2</td>\n",
       "      <td>Станислав</td>\n",
       "      <td>31</td>\n",
       "      <td>Омск</td>\n",
       "      <td>ultra</td>\n",
       "    </tr>\n",
       "    <tr>\n",
       "      <th>2</th>\n",
       "      <td>3</td>\n",
       "      <td>Алексей</td>\n",
       "      <td>20</td>\n",
       "      <td>Москва</td>\n",
       "      <td>ultra</td>\n",
       "    </tr>\n",
       "    <tr>\n",
       "      <th>3</th>\n",
       "      <td>4</td>\n",
       "      <td>Константин</td>\n",
       "      <td>26</td>\n",
       "      <td>Ростов-на-Дону</td>\n",
       "      <td>ultra</td>\n",
       "    </tr>\n",
       "    <tr>\n",
       "      <th>4</th>\n",
       "      <td>5</td>\n",
       "      <td>Адель</td>\n",
       "      <td>28</td>\n",
       "      <td>Омск</td>\n",
       "      <td>ultra</td>\n",
       "    </tr>\n",
       "    <tr>\n",
       "      <th>5</th>\n",
       "      <td>6</td>\n",
       "      <td>Регина</td>\n",
       "      <td>25</td>\n",
       "      <td>Краснодар</td>\n",
       "      <td>ultra</td>\n",
       "    </tr>\n",
       "    <tr>\n",
       "      <th>6</th>\n",
       "      <td>7</td>\n",
       "      <td>Игорь</td>\n",
       "      <td>23</td>\n",
       "      <td>Омск</td>\n",
       "      <td>ultra</td>\n",
       "    </tr>\n",
       "    <tr>\n",
       "      <th>7</th>\n",
       "      <td>8</td>\n",
       "      <td>Юрий</td>\n",
       "      <td>23</td>\n",
       "      <td>Краснодар</td>\n",
       "      <td>ultra</td>\n",
       "    </tr>\n",
       "    <tr>\n",
       "      <th>8</th>\n",
       "      <td>9</td>\n",
       "      <td>Ян</td>\n",
       "      <td>21</td>\n",
       "      <td>Пятигорск</td>\n",
       "      <td>ultra</td>\n",
       "    </tr>\n",
       "    <tr>\n",
       "      <th>9</th>\n",
       "      <td>10</td>\n",
       "      <td>Валерий</td>\n",
       "      <td>18</td>\n",
       "      <td>Екатеринбург</td>\n",
       "      <td>ultra</td>\n",
       "    </tr>\n",
       "  </tbody>\n",
       "</table>\n",
       "</div>"
      ],
      "text/plain": [
       "   user_id        name  age            city subscription_type\n",
       "0        1        Кира   22          Тюмень             ultra\n",
       "1        2   Станислав   31            Омск             ultra\n",
       "2        3     Алексей   20          Москва             ultra\n",
       "3        4  Константин   26  Ростов-на-Дону             ultra\n",
       "4        5       Адель   28            Омск             ultra\n",
       "5        6      Регина   25       Краснодар             ultra\n",
       "6        7       Игорь   23            Омск             ultra\n",
       "7        8        Юрий   23       Краснодар             ultra\n",
       "8        9          Ян   21       Пятигорск             ultra\n",
       "9       10     Валерий   18    Екатеринбург             ultra"
      ]
     },
     "execution_count": 3,
     "metadata": {},
     "output_type": "execute_result"
    }
   ],
   "source": [
    "users.head(10)"
   ]
  },
  {
   "cell_type": "markdown",
   "id": "ae14b99b",
   "metadata": {},
   "source": [
    "**Выведем общую информацию о датафрейме `users`.**"
   ]
  },
  {
   "cell_type": "code",
   "execution_count": 4,
   "id": "30e85197",
   "metadata": {},
   "outputs": [
    {
     "name": "stdout",
     "output_type": "stream",
     "text": [
      "<class 'pandas.core.frame.DataFrame'>\n",
      "RangeIndex: 1565 entries, 0 to 1564\n",
      "Data columns (total 5 columns):\n",
      " #   Column             Non-Null Count  Dtype \n",
      "---  ------             --------------  ----- \n",
      " 0   user_id            1565 non-null   int64 \n",
      " 1   name               1565 non-null   object\n",
      " 2   age                1565 non-null   int64 \n",
      " 3   city               1565 non-null   object\n",
      " 4   subscription_type  1565 non-null   object\n",
      "dtypes: int64(2), object(3)\n",
      "memory usage: 61.3+ KB\n"
     ]
    }
   ],
   "source": [
    "users.info()"
   ]
  },
  {
   "cell_type": "markdown",
   "id": "72456de6",
   "metadata": {},
   "source": [
    "**Все типы данных в столбцах датафрейма `users` приемлемы для дальнейшей работы с ними.**"
   ]
  },
  {
   "cell_type": "markdown",
   "id": "47ef0fc8",
   "metadata": {},
   "source": [
    "**Проверим количество пропусков в столбцах датафрейма `users`.**"
   ]
  },
  {
   "cell_type": "code",
   "execution_count": 5,
   "id": "1c2373e8",
   "metadata": {},
   "outputs": [
    {
     "data": {
      "text/plain": [
       "user_id              0\n",
       "name                 0\n",
       "age                  0\n",
       "city                 0\n",
       "subscription_type    0\n",
       "dtype: int64"
      ]
     },
     "execution_count": 5,
     "metadata": {},
     "output_type": "execute_result"
    }
   ],
   "source": [
    "users.isna().sum()"
   ]
  },
  {
   "cell_type": "markdown",
   "id": "0a73f920",
   "metadata": {},
   "source": [
    "**Пропусков в столбцах этого датафрейма нет.**"
   ]
  },
  {
   "cell_type": "markdown",
   "id": "fbf39635",
   "metadata": {},
   "source": [
    "**Проверим количество строк-дубликатов в датафрейме `users`.**"
   ]
  },
  {
   "cell_type": "code",
   "execution_count": 6,
   "id": "ef7ea789",
   "metadata": {},
   "outputs": [
    {
     "data": {
      "text/plain": [
       "31"
      ]
     },
     "execution_count": 6,
     "metadata": {},
     "output_type": "execute_result"
    }
   ],
   "source": [
    "users.duplicated().sum()"
   ]
  },
  {
   "cell_type": "markdown",
   "id": "278c41f6",
   "metadata": {},
   "source": [
    "**В этом датафрейме есть 31 дубликат. Их необходимо будет убрать на этапе предобработки данных.**"
   ]
  },
  {
   "cell_type": "markdown",
   "id": "ab5e162b",
   "metadata": {},
   "source": [
    "**Проверим на сомнительные значения числовой столбец `age` таблицы `users`. Для этого выведем соответствующую гистограмму на экран.**"
   ]
  },
  {
   "cell_type": "code",
   "execution_count": 7,
   "id": "f35b2014",
   "metadata": {},
   "outputs": [
    {
     "data": {
      "image/png": "[encoded data removed]",
      "text/plain": [
       "<Figure size 640x480 with 1 Axes>"
      ]
     },
     "metadata": {},
     "output_type": "display_data"
    }
   ],
   "source": [
    "users['age'].hist(bins=100);"
   ]
  },
  {
   "cell_type": "markdown",
   "id": "ba1d3125",
   "metadata": {},
   "source": [
    "**По гистограмме видно, что возраст распределен в границах от 12 до 43 лет. Никаких аномальных значений в этом столбце нет.**"
   ]
  },
  {
   "cell_type": "markdown",
   "id": "4f16bbe0",
   "metadata": {},
   "source": [
    "**Считаем csv `-` файл с данными о поездках с помощью библиотеки `pandas` и сохраним его в датафрейм `rides`.**"
   ]
  },
  {
   "cell_type": "code",
   "execution_count": 8,
   "id": "1c8d1a5c",
   "metadata": {},
   "outputs": [],
   "source": [
    "rides = pd.read_csv('rides_go.csv')"
   ]
  },
  {
   "cell_type": "markdown",
   "id": "67c38a7e",
   "metadata": {},
   "source": [
    "**Выведем первые 10 строк датафрейма `rides` на экран.**"
   ]
  },
  {
   "cell_type": "code",
   "execution_count": 9,
   "id": "dcdea8fd",
   "metadata": {},
   "outputs": [
    {
     "data": {
      "text/html": [
       "<div>\n",
       "<style scoped>\n",
       "    .dataframe tbody tr th:only-of-type {\n",
       "        vertical-align: middle;\n",
       "    }\n",
       "\n",
       "    .dataframe tbody tr th {\n",
       "        vertical-align: top;\n",
       "    }\n",
       "\n",
       "    .dataframe thead th {\n",
       "        text-align: right;\n",
       "    }\n",
       "</style>\n",
       "<table border=\"1\" class=\"dataframe\">\n",
       "  <thead>\n",
       "    <tr style=\"text-align: right;\">\n",
       "      <th></th>\n",
       "      <th>user_id</th>\n",
       "      <th>distance</th>\n",
       "      <th>duration</th>\n",
       "      <th>date</th>\n",
       "    </tr>\n",
       "  </thead>\n",
       "  <tbody>\n",
       "    <tr>\n",
       "      <th>0</th>\n",
       "      <td>1</td>\n",
       "      <td>4409.919140</td>\n",
       "      <td>25.599769</td>\n",
       "      <td>2021-01-01</td>\n",
       "    </tr>\n",
       "    <tr>\n",
       "      <th>1</th>\n",
       "      <td>1</td>\n",
       "      <td>2617.592153</td>\n",
       "      <td>15.816871</td>\n",
       "      <td>2021-01-18</td>\n",
       "    </tr>\n",
       "    <tr>\n",
       "      <th>2</th>\n",
       "      <td>1</td>\n",
       "      <td>754.159807</td>\n",
       "      <td>6.232113</td>\n",
       "      <td>2021-04-20</td>\n",
       "    </tr>\n",
       "    <tr>\n",
       "      <th>3</th>\n",
       "      <td>1</td>\n",
       "      <td>2694.783254</td>\n",
       "      <td>18.511000</td>\n",
       "      <td>2021-08-11</td>\n",
       "    </tr>\n",
       "    <tr>\n",
       "      <th>4</th>\n",
       "      <td>1</td>\n",
       "      <td>4028.687306</td>\n",
       "      <td>26.265803</td>\n",
       "      <td>2021-08-28</td>\n",
       "    </tr>\n",
       "    <tr>\n",
       "      <th>5</th>\n",
       "      <td>1</td>\n",
       "      <td>2770.890808</td>\n",
       "      <td>16.650138</td>\n",
       "      <td>2021-10-09</td>\n",
       "    </tr>\n",
       "    <tr>\n",
       "      <th>6</th>\n",
       "      <td>1</td>\n",
       "      <td>3039.020292</td>\n",
       "      <td>14.927879</td>\n",
       "      <td>2021-10-19</td>\n",
       "    </tr>\n",
       "    <tr>\n",
       "      <th>7</th>\n",
       "      <td>1</td>\n",
       "      <td>2842.118050</td>\n",
       "      <td>23.117468</td>\n",
       "      <td>2021-11-06</td>\n",
       "    </tr>\n",
       "    <tr>\n",
       "      <th>8</th>\n",
       "      <td>1</td>\n",
       "      <td>3412.690668</td>\n",
       "      <td>15.238072</td>\n",
       "      <td>2021-11-14</td>\n",
       "    </tr>\n",
       "    <tr>\n",
       "      <th>9</th>\n",
       "      <td>1</td>\n",
       "      <td>748.690645</td>\n",
       "      <td>15.041884</td>\n",
       "      <td>2021-11-22</td>\n",
       "    </tr>\n",
       "  </tbody>\n",
       "</table>\n",
       "</div>"
      ],
      "text/plain": [
       "   user_id     distance   duration        date\n",
       "0        1  4409.919140  25.599769  2021-01-01\n",
       "1        1  2617.592153  15.816871  2021-01-18\n",
       "2        1   754.159807   6.232113  2021-04-20\n",
       "3        1  2694.783254  18.511000  2021-08-11\n",
       "4        1  4028.687306  26.265803  2021-08-28\n",
       "5        1  2770.890808  16.650138  2021-10-09\n",
       "6        1  3039.020292  14.927879  2021-10-19\n",
       "7        1  2842.118050  23.117468  2021-11-06\n",
       "8        1  3412.690668  15.238072  2021-11-14\n",
       "9        1   748.690645  15.041884  2021-11-22"
      ]
     },
     "execution_count": 9,
     "metadata": {},
     "output_type": "execute_result"
    }
   ],
   "source": [
    "rides.head(10)"
   ]
  },
  {
   "cell_type": "markdown",
   "id": "9d1463df",
   "metadata": {},
   "source": [
    "**Выведем общую информацию о датафрейме `rides`.**"
   ]
  },
  {
   "cell_type": "code",
   "execution_count": 10,
   "id": "539611dc",
   "metadata": {},
   "outputs": [
    {
     "name": "stdout",
     "output_type": "stream",
     "text": [
      "<class 'pandas.core.frame.DataFrame'>\n",
      "RangeIndex: 18068 entries, 0 to 18067\n",
      "Data columns (total 4 columns):\n",
      " #   Column    Non-Null Count  Dtype  \n",
      "---  ------    --------------  -----  \n",
      " 0   user_id   18068 non-null  int64  \n",
      " 1   distance  18068 non-null  float64\n",
      " 2   duration  18068 non-null  float64\n",
      " 3   date      18068 non-null  object \n",
      "dtypes: float64(2), int64(1), object(1)\n",
      "memory usage: 564.8+ KB\n"
     ]
    }
   ],
   "source": [
    "rides.info()"
   ]
  },
  {
   "cell_type": "markdown",
   "id": "705c1eda",
   "metadata": {},
   "source": [
    "**Все типы данных в столбцах таблицы `rides` за исключением типа в столбце `date` приемлемы для дальнейшей работы с ними. В столбце `date` нужно заменить тип данных на `datetime` для корректной работы с датой.**"
   ]
  },
  {
   "cell_type": "markdown",
   "id": "723060af",
   "metadata": {},
   "source": [
    "**Проверим количество пропусков в столбцах датафрейма `rides`.**"
   ]
  },
  {
   "cell_type": "code",
   "execution_count": 11,
   "id": "31b45463",
   "metadata": {},
   "outputs": [
    {
     "data": {
      "text/plain": [
       "user_id     0\n",
       "distance    0\n",
       "duration    0\n",
       "date        0\n",
       "dtype: int64"
      ]
     },
     "execution_count": 11,
     "metadata": {},
     "output_type": "execute_result"
    }
   ],
   "source": [
    "rides.isna().sum()"
   ]
  },
  {
   "cell_type": "markdown",
   "id": "ba1025a5",
   "metadata": {},
   "source": [
    "**Пропусков в столбцах этого датафрейма нет.**"
   ]
  },
  {
   "cell_type": "markdown",
   "id": "b623e840",
   "metadata": {},
   "source": [
    "**Проверим количество строк-дубликатов в датафрейме `rides`.**"
   ]
  },
  {
   "cell_type": "code",
   "execution_count": 12,
   "id": "2e4bf9b0",
   "metadata": {},
   "outputs": [
    {
     "data": {
      "text/plain": [
       "0"
      ]
     },
     "execution_count": 12,
     "metadata": {},
     "output_type": "execute_result"
    }
   ],
   "source": [
    "rides.duplicated().sum()"
   ]
  },
  {
   "cell_type": "markdown",
   "id": "92f19b2a",
   "metadata": {},
   "source": [
    "**Строк-дубликатов в этом датафрейме нет.**"
   ]
  },
  {
   "cell_type": "markdown",
   "id": "d59dfd81",
   "metadata": {},
   "source": [
    "**Проверим на сомнительные значения числовые столбцы `distance` и `duration` таблицы `rides`. Для этого выведем соответствующие гистограммы на экран.**"
   ]
  },
  {
   "cell_type": "code",
   "execution_count": 13,
   "id": "998f906a",
   "metadata": {},
   "outputs": [
    {
     "data": {
      "image/png": "[encoded data removed]",
      "text/plain": [
       "<Figure size 640x480 with 1 Axes>"
      ]
     },
     "metadata": {},
     "output_type": "display_data"
    }
   ],
   "source": [
    "rides['distance'].hist(bins=100);"
   ]
  },
  {
   "cell_type": "markdown",
   "id": "eeeb90d8",
   "metadata": {},
   "source": [
    "**Наблюдается бимодальное распределение пройденного расстояния. Сомнительных значений не видно.**"
   ]
  },
  {
   "cell_type": "code",
   "execution_count": 14,
   "id": "aa1de356",
   "metadata": {},
   "outputs": [
    {
     "data": {
      "image/png": "[encoded data removed]",
      "text/plain": [
       "<Figure size 640x480 with 1 Axes>"
      ]
     },
     "metadata": {},
     "output_type": "display_data"
    }
   ],
   "source": [
    "rides['duration'].hist(bins=100);"
   ]
  },
  {
   "cell_type": "markdown",
   "id": "099d0019",
   "metadata": {},
   "source": [
    "**Видно, что есть случаи, в которых поездки занимали крайне странное, близкое к нулю, время.**"
   ]
  },
  {
   "cell_type": "markdown",
   "id": "d6aa2799",
   "metadata": {},
   "source": [
    "**Считаем csv `-` файл с данными о подписках с помощью библиотеки `pandas` и сохраним его в датафрейм `subscriptions`.**"
   ]
  },
  {
   "cell_type": "code",
   "execution_count": 15,
   "id": "64887ced",
   "metadata": {},
   "outputs": [],
   "source": [
    "subscriptions = pd.read_csv('subscriptions_go.csv')"
   ]
  },
  {
   "cell_type": "markdown",
   "id": "2197d7b5",
   "metadata": {},
   "source": [
    "**Выведем датафрейм `subscriptions` на экран.**"
   ]
  },
  {
   "cell_type": "code",
   "execution_count": 16,
   "id": "7025333e",
   "metadata": {},
   "outputs": [
    {
     "data": {
      "text/html": [
       "<div>\n",
       "<style scoped>\n",
       "    .dataframe tbody tr th:only-of-type {\n",
       "        vertical-align: middle;\n",
       "    }\n",
       "\n",
       "    .dataframe tbody tr th {\n",
       "        vertical-align: top;\n",
       "    }\n",
       "\n",
       "    .dataframe thead th {\n",
       "        text-align: right;\n",
       "    }\n",
       "</style>\n",
       "<table border=\"1\" class=\"dataframe\">\n",
       "  <thead>\n",
       "    <tr style=\"text-align: right;\">\n",
       "      <th></th>\n",
       "      <th>subscription_type</th>\n",
       "      <th>minute_price</th>\n",
       "      <th>start_ride_price</th>\n",
       "      <th>subscription_fee</th>\n",
       "    </tr>\n",
       "  </thead>\n",
       "  <tbody>\n",
       "    <tr>\n",
       "      <th>0</th>\n",
       "      <td>free</td>\n",
       "      <td>8</td>\n",
       "      <td>50</td>\n",
       "      <td>0</td>\n",
       "    </tr>\n",
       "    <tr>\n",
       "      <th>1</th>\n",
       "      <td>ultra</td>\n",
       "      <td>6</td>\n",
       "      <td>0</td>\n",
       "      <td>199</td>\n",
       "    </tr>\n",
       "  </tbody>\n",
       "</table>\n",
       "</div>"
      ],
      "text/plain": [
       "  subscription_type  minute_price  start_ride_price  subscription_fee\n",
       "0              free             8                50                 0\n",
       "1             ultra             6                 0               199"
      ]
     },
     "execution_count": 16,
     "metadata": {},
     "output_type": "execute_result"
    }
   ],
   "source": [
    "subscriptions"
   ]
  },
  {
   "cell_type": "markdown",
   "id": "e64410d3",
   "metadata": {},
   "source": [
    "**Таблица содержит информацию о типе подписки и соответствующих ценах услуг.**"
   ]
  },
  {
   "cell_type": "markdown",
   "id": "e95ebca7",
   "metadata": {},
   "source": [
    "#### Шаг 2. Предобработка данных"
   ]
  },
  {
   "cell_type": "markdown",
   "id": "ab38daf7",
   "metadata": {},
   "source": [
    "**Начнем предобработку с приведения типа данных в столбце `date` таблицы `rides` к типу `datetime`.**"
   ]
  },
  {
   "cell_type": "code",
   "execution_count": 17,
   "id": "ee9ec14d",
   "metadata": {},
   "outputs": [],
   "source": [
    "rides['date'] = pd.to_datetime(rides['date'], format='%Y-%m-%d')"
   ]
  },
  {
   "cell_type": "markdown",
   "id": "6b6d01ef",
   "metadata": {},
   "source": [
    "**Проверим столбец `date` после приведения типа данных.**"
   ]
  },
  {
   "cell_type": "code",
   "execution_count": 18,
   "id": "99d18135",
   "metadata": {},
   "outputs": [
    {
     "data": {
      "text/plain": [
       "0   2021-01-01\n",
       "1   2021-01-18\n",
       "2   2021-04-20\n",
       "3   2021-08-11\n",
       "4   2021-08-28\n",
       "5   2021-10-09\n",
       "6   2021-10-19\n",
       "7   2021-11-06\n",
       "8   2021-11-14\n",
       "9   2021-11-22\n",
       "Name: date, dtype: datetime64[ns]"
      ]
     },
     "execution_count": 18,
     "metadata": {},
     "output_type": "execute_result"
    }
   ],
   "source": [
    "rides['date'].head(10)"
   ]
  },
  {
   "cell_type": "markdown",
   "id": "7fec7d60",
   "metadata": {},
   "source": [
    "**Тип данных успешно изменился на `datetime`. Теперь с датой из этого столбца можно работать.**"
   ]
  },
  {
   "cell_type": "markdown",
   "id": "8565ba28",
   "metadata": {},
   "source": [
    "**Создадим новый столбец в таблице `rides` с номером месяца на основании столбца `date`.**"
   ]
  },
  {
   "cell_type": "code",
   "execution_count": 19,
   "id": "da9ad47a",
   "metadata": {},
   "outputs": [],
   "source": [
    "rides['month'] = pd.DatetimeIndex(rides['date']).month"
   ]
  },
  {
   "cell_type": "markdown",
   "id": "4948f0c1",
   "metadata": {},
   "source": [
    "Проверим за какой период предоставлены данные."
   ]
  },
  {
   "cell_type": "code",
   "execution_count": 20,
   "id": "6fdfb858",
   "metadata": {},
   "outputs": [],
   "source": [
    "years = pd.DatetimeIndex(rides['date']).year"
   ]
  },
  {
   "cell_type": "code",
   "execution_count": 21,
   "id": "74b2e13a",
   "metadata": {},
   "outputs": [
    {
     "data": {
      "text/plain": [
       "Int64Index([2021], dtype='int64', name='date')"
      ]
     },
     "execution_count": 21,
     "metadata": {},
     "output_type": "execute_result"
    }
   ],
   "source": [
    "years.unique()"
   ]
  },
  {
   "cell_type": "markdown",
   "id": "ddfc6ed8",
   "metadata": {},
   "source": [
    "В данном случае всё в порядке, все данные были предоставлены за 2021 год."
   ]
  },
  {
   "cell_type": "markdown",
   "id": "61309dac",
   "metadata": {},
   "source": [
    "**Проверим новый столбец `month` и столбец `date` в таблице `rides` на их соответствие.**"
   ]
  },
  {
   "cell_type": "code",
   "execution_count": 22,
   "id": "c9eeb3d8",
   "metadata": {},
   "outputs": [
    {
     "data": {
      "text/html": [
       "<div>\n",
       "<style scoped>\n",
       "    .dataframe tbody tr th:only-of-type {\n",
       "        vertical-align: middle;\n",
       "    }\n",
       "\n",
       "    .dataframe tbody tr th {\n",
       "        vertical-align: top;\n",
       "    }\n",
       "\n",
       "    .dataframe thead th {\n",
       "        text-align: right;\n",
       "    }\n",
       "</style>\n",
       "<table border=\"1\" class=\"dataframe\">\n",
       "  <thead>\n",
       "    <tr style=\"text-align: right;\">\n",
       "      <th></th>\n",
       "      <th>date</th>\n",
       "      <th>month</th>\n",
       "    </tr>\n",
       "  </thead>\n",
       "  <tbody>\n",
       "    <tr>\n",
       "      <th>0</th>\n",
       "      <td>2021-01-01</td>\n",
       "      <td>1</td>\n",
       "    </tr>\n",
       "    <tr>\n",
       "      <th>1</th>\n",
       "      <td>2021-01-18</td>\n",
       "      <td>1</td>\n",
       "    </tr>\n",
       "    <tr>\n",
       "      <th>2</th>\n",
       "      <td>2021-04-20</td>\n",
       "      <td>4</td>\n",
       "    </tr>\n",
       "    <tr>\n",
       "      <th>3</th>\n",
       "      <td>2021-08-11</td>\n",
       "      <td>8</td>\n",
       "    </tr>\n",
       "    <tr>\n",
       "      <th>4</th>\n",
       "      <td>2021-08-28</td>\n",
       "      <td>8</td>\n",
       "    </tr>\n",
       "    <tr>\n",
       "      <th>5</th>\n",
       "      <td>2021-10-09</td>\n",
       "      <td>10</td>\n",
       "    </tr>\n",
       "    <tr>\n",
       "      <th>6</th>\n",
       "      <td>2021-10-19</td>\n",
       "      <td>10</td>\n",
       "    </tr>\n",
       "    <tr>\n",
       "      <th>7</th>\n",
       "      <td>2021-11-06</td>\n",
       "      <td>11</td>\n",
       "    </tr>\n",
       "    <tr>\n",
       "      <th>8</th>\n",
       "      <td>2021-11-14</td>\n",
       "      <td>11</td>\n",
       "    </tr>\n",
       "    <tr>\n",
       "      <th>9</th>\n",
       "      <td>2021-11-22</td>\n",
       "      <td>11</td>\n",
       "    </tr>\n",
       "  </tbody>\n",
       "</table>\n",
       "</div>"
      ],
      "text/plain": [
       "        date  month\n",
       "0 2021-01-01      1\n",
       "1 2021-01-18      1\n",
       "2 2021-04-20      4\n",
       "3 2021-08-11      8\n",
       "4 2021-08-28      8\n",
       "5 2021-10-09     10\n",
       "6 2021-10-19     10\n",
       "7 2021-11-06     11\n",
       "8 2021-11-14     11\n",
       "9 2021-11-22     11"
      ]
     },
     "execution_count": 22,
     "metadata": {},
     "output_type": "execute_result"
    }
   ],
   "source": [
    "rides[['date','month']].head(10)"
   ]
  },
  {
   "cell_type": "markdown",
   "id": "d1dd67da",
   "metadata": {},
   "source": [
    "**Заметно, что номер месяца в столбце `month` соответствует номеру месяца в столбце `date`. Столбец с номером месяца добавлен и коректно отображает этот номер.**"
   ]
  },
  {
   "cell_type": "markdown",
   "id": "98c82752",
   "metadata": {},
   "source": [
    "**Рассмотрим распределение времени поездки в области очень коротких поездок.**"
   ]
  },
  {
   "cell_type": "code",
   "execution_count": 23,
   "id": "47fb5027",
   "metadata": {},
   "outputs": [
    {
     "data": {
      "image/png": "[encoded data removed]",
      "text/plain": [
       "<Figure size 640x480 with 1 Axes>"
      ]
     },
     "metadata": {},
     "output_type": "display_data"
    }
   ],
   "source": [
    "rides['duration'].hist(bins=100, range=(0,5));"
   ]
  },
  {
   "cell_type": "markdown",
   "id": "4580ce4c",
   "metadata": {},
   "source": [
    "**Поездки с длительностью меньше минуты можно исключить из рассмотрения. Скорее всего такие случаи были связаны с оплатой поездки, но не сопровождались самой поездкой (не было пройдено никакого расстояния) по тем или иным причинам. При этом алгоритм расчета времени поездки сработал таким образом, что посчитал это время как раз равным чуть меньше минуты.**"
   ]
  },
  {
   "cell_type": "markdown",
   "id": "d2397505",
   "metadata": {},
   "source": [
    "**Исключим из датафрейма `rides` строки, в столбце `duration` которых значения меньше 1 минуты.**"
   ]
  },
  {
   "cell_type": "code",
   "execution_count": 24,
   "id": "244b85d9",
   "metadata": {},
   "outputs": [],
   "source": [
    "rides = rides[rides['duration'] > 1]"
   ]
  },
  {
   "cell_type": "markdown",
   "id": "1b81b64f",
   "metadata": {},
   "source": [
    "**Проверим, какую часть данных этого датафрейма мы в итоге отбросили.**"
   ]
  },
  {
   "cell_type": "code",
   "execution_count": 25,
   "id": "9c7c4af2",
   "metadata": {},
   "outputs": [
    {
     "name": "stdout",
     "output_type": "stream",
     "text": [
      "<class 'pandas.core.frame.DataFrame'>\n",
      "Int64Index: 17973 entries, 0 to 18067\n",
      "Data columns (total 5 columns):\n",
      " #   Column    Non-Null Count  Dtype         \n",
      "---  ------    --------------  -----         \n",
      " 0   user_id   17973 non-null  int64         \n",
      " 1   distance  17973 non-null  float64       \n",
      " 2   duration  17973 non-null  float64       \n",
      " 3   date      17973 non-null  datetime64[ns]\n",
      " 4   month     17973 non-null  int64         \n",
      "dtypes: datetime64[ns](1), float64(2), int64(2)\n",
      "memory usage: 842.5 KB\n"
     ]
    }
   ],
   "source": [
    "rides.info()"
   ]
  },
  {
   "cell_type": "code",
   "execution_count": 26,
   "id": "ff39a887",
   "metadata": {},
   "outputs": [
    {
     "data": {
      "text/plain": [
       "0.5202856035866454"
      ]
     },
     "execution_count": 26,
     "metadata": {},
     "output_type": "execute_result"
    }
   ],
   "source": [
    "(1 - 17973/18067) * 100"
   ]
  },
  {
   "cell_type": "markdown",
   "id": "a529947e",
   "metadata": {},
   "source": [
    "**Было отброшено всего 0.5% от объёма данных таблицы `rides`. Это приемлемо.**"
   ]
  },
  {
   "cell_type": "markdown",
   "id": "f3101071",
   "metadata": {},
   "source": [
    "**Рассмотрим вновь распределение длительности поездок.**"
   ]
  },
  {
   "cell_type": "code",
   "execution_count": 27,
   "id": "2b6f2c2a",
   "metadata": {},
   "outputs": [
    {
     "data": {
      "image/png": "[encoded data removed]",
      "text/plain": [
       "<Figure size 640x480 with 1 Axes>"
      ]
     },
     "metadata": {},
     "output_type": "display_data"
    }
   ],
   "source": [
    "rides['duration'].hist(bins=100);"
   ]
  },
  {
   "cell_type": "markdown",
   "id": "22080623",
   "metadata": {},
   "source": [
    "**Теперь распределение в порядке.**"
   ]
  },
  {
   "cell_type": "markdown",
   "id": "c1d6736a",
   "metadata": {},
   "source": [
    "**Вспомним, что в таблице `users` присутствовали дубликаты. Уберем их.**"
   ]
  },
  {
   "cell_type": "code",
   "execution_count": 28,
   "id": "a002272c",
   "metadata": {},
   "outputs": [],
   "source": [
    "users = users.drop_duplicates().reset_index(drop=True)"
   ]
  },
  {
   "cell_type": "markdown",
   "id": "2826a6c6",
   "metadata": {},
   "source": [
    "**Проверим, остались ли после этого в таблице `users` дубликаты.**"
   ]
  },
  {
   "cell_type": "code",
   "execution_count": 29,
   "id": "6b14ea15",
   "metadata": {},
   "outputs": [
    {
     "data": {
      "text/plain": [
       "0"
      ]
     },
     "execution_count": 29,
     "metadata": {},
     "output_type": "execute_result"
    }
   ],
   "source": [
    "users.duplicated().sum()"
   ]
  },
  {
   "cell_type": "markdown",
   "id": "dc6672dd",
   "metadata": {},
   "source": [
    "**В этой таблице больше нет дубликатов.**"
   ]
  },
  {
   "cell_type": "markdown",
   "id": "212593c7",
   "metadata": {},
   "source": [
    "#### Шаг 3. Исследовательский анализ данных"
   ]
  },
  {
   "cell_type": "markdown",
   "id": "333be350",
   "metadata": {},
   "source": [
    "**Начнем с частоты встречаемости городов. Определим сколько пользователей сервиса аренды самокатов в каждом из городов.**"
   ]
  },
  {
   "cell_type": "code",
   "execution_count": 30,
   "id": "37da3569",
   "metadata": {},
   "outputs": [],
   "source": [
    "city_data = users.pivot_table(index='city',values='user_id',aggfunc='count').sort_values(by='user_id',ascending=False)"
   ]
  },
  {
   "cell_type": "code",
   "execution_count": 31,
   "id": "b6607fab",
   "metadata": {},
   "outputs": [
    {
     "data": {
      "text/html": [
       "<div>\n",
       "<style scoped>\n",
       "    .dataframe tbody tr th:only-of-type {\n",
       "        vertical-align: middle;\n",
       "    }\n",
       "\n",
       "    .dataframe tbody tr th {\n",
       "        vertical-align: top;\n",
       "    }\n",
       "\n",
       "    .dataframe thead th {\n",
       "        text-align: right;\n",
       "    }\n",
       "</style>\n",
       "<table border=\"1\" class=\"dataframe\">\n",
       "  <thead>\n",
       "    <tr style=\"text-align: right;\">\n",
       "      <th></th>\n",
       "      <th>user_id</th>\n",
       "    </tr>\n",
       "    <tr>\n",
       "      <th>city</th>\n",
       "      <th></th>\n",
       "    </tr>\n",
       "  </thead>\n",
       "  <tbody>\n",
       "    <tr>\n",
       "      <th>Пятигорск</th>\n",
       "      <td>219</td>\n",
       "    </tr>\n",
       "    <tr>\n",
       "      <th>Екатеринбург</th>\n",
       "      <td>204</td>\n",
       "    </tr>\n",
       "    <tr>\n",
       "      <th>Ростов-на-Дону</th>\n",
       "      <td>198</td>\n",
       "    </tr>\n",
       "    <tr>\n",
       "      <th>Краснодар</th>\n",
       "      <td>193</td>\n",
       "    </tr>\n",
       "    <tr>\n",
       "      <th>Сочи</th>\n",
       "      <td>189</td>\n",
       "    </tr>\n",
       "    <tr>\n",
       "      <th>Омск</th>\n",
       "      <td>183</td>\n",
       "    </tr>\n",
       "    <tr>\n",
       "      <th>Тюмень</th>\n",
       "      <td>180</td>\n",
       "    </tr>\n",
       "    <tr>\n",
       "      <th>Москва</th>\n",
       "      <td>168</td>\n",
       "    </tr>\n",
       "  </tbody>\n",
       "</table>\n",
       "</div>"
      ],
      "text/plain": [
       "                user_id\n",
       "city                   \n",
       "Пятигорск           219\n",
       "Екатеринбург        204\n",
       "Ростов-на-Дону      198\n",
       "Краснодар           193\n",
       "Сочи                189\n",
       "Омск                183\n",
       "Тюмень              180\n",
       "Москва              168"
      ]
     },
     "execution_count": 31,
     "metadata": {},
     "output_type": "execute_result"
    }
   ],
   "source": [
    "city_data"
   ]
  },
  {
   "cell_type": "markdown",
   "id": "ed9a0695",
   "metadata": {},
   "source": [
    "**Для наглядности визуализируем это соответствие с помощью столбчатой диаграммы.**"
   ]
  },
  {
   "cell_type": "code",
   "execution_count": 32,
   "id": "073a9dd0",
   "metadata": {},
   "outputs": [
    {
     "data": {
      "image/png": "[encoded data removed]",
      "text/plain": [
       "<Figure size 640x480 with 1 Axes>"
      ]
     },
     "metadata": {},
     "output_type": "display_data"
    }
   ],
   "source": [
    "city_data.plot.bar(y='user_id', rot=90,title='Количество пользователей сервиса в разных городах',\n",
    "                   legend=False,xlabel='Город',ylabel='Количество пользователей');"
   ]
  },
  {
   "cell_type": "markdown",
   "id": "8cb1cbfb",
   "metadata": {},
   "source": [
    "**Больше всего пользователей в Пятигорске, а меньше всего - в Москве.**"
   ]
  },
  {
   "cell_type": "markdown",
   "id": "7c523ca1",
   "metadata": {},
   "source": [
    "**Исследуем соотношение пользователей с подпиской и без подписки. Определим сколько пользователей имеет подписку а сколько - нет.**"
   ]
  },
  {
   "cell_type": "code",
   "execution_count": 33,
   "id": "cdcc3d56",
   "metadata": {},
   "outputs": [],
   "source": [
    "subscription_data = users.pivot_table(index='subscription_type',values='user_id',aggfunc='count')"
   ]
  },
  {
   "cell_type": "code",
   "execution_count": 34,
   "id": "5c3a5f71",
   "metadata": {},
   "outputs": [
    {
     "data": {
      "text/html": [
       "<div>\n",
       "<style scoped>\n",
       "    .dataframe tbody tr th:only-of-type {\n",
       "        vertical-align: middle;\n",
       "    }\n",
       "\n",
       "    .dataframe tbody tr th {\n",
       "        vertical-align: top;\n",
       "    }\n",
       "\n",
       "    .dataframe thead th {\n",
       "        text-align: right;\n",
       "    }\n",
       "</style>\n",
       "<table border=\"1\" class=\"dataframe\">\n",
       "  <thead>\n",
       "    <tr style=\"text-align: right;\">\n",
       "      <th></th>\n",
       "      <th>user_id</th>\n",
       "    </tr>\n",
       "    <tr>\n",
       "      <th>subscription_type</th>\n",
       "      <th></th>\n",
       "    </tr>\n",
       "  </thead>\n",
       "  <tbody>\n",
       "    <tr>\n",
       "      <th>free</th>\n",
       "      <td>835</td>\n",
       "    </tr>\n",
       "    <tr>\n",
       "      <th>ultra</th>\n",
       "      <td>699</td>\n",
       "    </tr>\n",
       "  </tbody>\n",
       "</table>\n",
       "</div>"
      ],
      "text/plain": [
       "                   user_id\n",
       "subscription_type         \n",
       "free                   835\n",
       "ultra                  699"
      ]
     },
     "execution_count": 34,
     "metadata": {},
     "output_type": "execute_result"
    }
   ],
   "source": [
    "subscription_data"
   ]
  },
  {
   "cell_type": "markdown",
   "id": "d33efe2b",
   "metadata": {},
   "source": [
    "**Визуализируем это соответствие с помощью столбчатой диаграммы.**"
   ]
  },
  {
   "cell_type": "code",
   "execution_count": 35,
   "id": "039a9946",
   "metadata": {},
   "outputs": [
    {
     "data": {
      "image/png": "[encoded data removed]",
      "text/plain": [
       "<Figure size 640x480 with 1 Axes>"
      ]
     },
     "metadata": {},
     "output_type": "display_data"
    }
   ],
   "source": [
    "subscription_data.plot.bar(y='user_id', rot=0,\n",
    "                           title='Соотношение пользователей с подпиской и без',legend=False,\n",
    "                           ylabel='Количество пользователей',xlabel='Тип подписки');"
   ]
  },
  {
   "cell_type": "markdown",
   "id": "1d88b46c",
   "metadata": {},
   "source": [
    "Построим круговую диаграмму."
   ]
  },
  {
   "cell_type": "code",
   "execution_count": 36,
   "id": "3a8b4081",
   "metadata": {},
   "outputs": [
    {
     "data": {
      "image/png": "[encoded data removed]",
      "text/plain": [
       "<Figure size 800x800 with 1 Axes>"
      ]
     },
     "metadata": {},
     "output_type": "display_data"
    }
   ],
   "source": [
    "subscription_data.plot(y='user_id',\n",
    "                       kind='pie',figsize=(8,8),\n",
    "                       autopct='%1.0f%%',\n",
    "                       title='Соотношение пользователей с подпиской и без',\n",
    "                       ylabel='');"
   ]
  },
  {
   "cell_type": "markdown",
   "id": "cd643283",
   "metadata": {},
   "source": [
    "Пользователей без подписки больше на 8%."
   ]
  },
  {
   "cell_type": "markdown",
   "id": "eb55d339",
   "metadata": {},
   "source": [
    "**Исследуем возраст пользователей. Для этого изначально категоризируем этот параметр.**"
   ]
  },
  {
   "cell_type": "code",
   "execution_count": 37,
   "id": "5af671a7",
   "metadata": {},
   "outputs": [],
   "source": [
    "def age_categorize(age):\n",
    "    if age < 16:\n",
    "        return 'подростки'\n",
    "    if age < 25:\n",
    "        return 'молодежь'\n",
    "    else:\n",
    "        return 'взрослые'"
   ]
  },
  {
   "cell_type": "markdown",
   "id": "360f66bd",
   "metadata": {},
   "source": [
    "**Добавим новый столбец `age_group` в таблицу `users`.**"
   ]
  },
  {
   "cell_type": "code",
   "execution_count": 38,
   "id": "b021ef2a",
   "metadata": {},
   "outputs": [],
   "source": [
    "users['age_group'] = users['age'].apply(age_categorize)"
   ]
  },
  {
   "cell_type": "markdown",
   "id": "14f67a4e",
   "metadata": {},
   "source": [
    "**Теперь создадим сводную таблицу и по данным из неё построим столбчатую диаграмму.**"
   ]
  },
  {
   "cell_type": "code",
   "execution_count": 39,
   "id": "36f28907",
   "metadata": {},
   "outputs": [],
   "source": [
    "age_data = users.pivot_table(index='age_group',values='user_id',aggfunc='count')"
   ]
  },
  {
   "cell_type": "code",
   "execution_count": 40,
   "id": "e5cb1d74",
   "metadata": {},
   "outputs": [
    {
     "data": {
      "text/html": [
       "<div>\n",
       "<style scoped>\n",
       "    .dataframe tbody tr th:only-of-type {\n",
       "        vertical-align: middle;\n",
       "    }\n",
       "\n",
       "    .dataframe tbody tr th {\n",
       "        vertical-align: top;\n",
       "    }\n",
       "\n",
       "    .dataframe thead th {\n",
       "        text-align: right;\n",
       "    }\n",
       "</style>\n",
       "<table border=\"1\" class=\"dataframe\">\n",
       "  <thead>\n",
       "    <tr style=\"text-align: right;\">\n",
       "      <th></th>\n",
       "      <th>user_id</th>\n",
       "    </tr>\n",
       "    <tr>\n",
       "      <th>age_group</th>\n",
       "      <th></th>\n",
       "    </tr>\n",
       "  </thead>\n",
       "  <tbody>\n",
       "    <tr>\n",
       "      <th>взрослые</th>\n",
       "      <td>818</td>\n",
       "    </tr>\n",
       "    <tr>\n",
       "      <th>молодежь</th>\n",
       "      <td>682</td>\n",
       "    </tr>\n",
       "    <tr>\n",
       "      <th>подростки</th>\n",
       "      <td>34</td>\n",
       "    </tr>\n",
       "  </tbody>\n",
       "</table>\n",
       "</div>"
      ],
      "text/plain": [
       "           user_id\n",
       "age_group         \n",
       "взрослые       818\n",
       "молодежь       682\n",
       "подростки       34"
      ]
     },
     "execution_count": 40,
     "metadata": {},
     "output_type": "execute_result"
    }
   ],
   "source": [
    "age_data"
   ]
  },
  {
   "cell_type": "code",
   "execution_count": 41,
   "id": "f17be1ba",
   "metadata": {},
   "outputs": [
    {
     "data": {
      "image/png": "[encoded data removed]",
      "text/plain": [
       "<Figure size 640x480 with 1 Axes>"
      ]
     },
     "metadata": {},
     "output_type": "display_data"
    }
   ],
   "source": [
    "age_data.plot.bar(y='user_id', rot=45,legend=False,xlabel='Категория возраста',ylabel='Количество пользователей',title='Количество пользователей разного возраста');"
   ]
  },
  {
   "cell_type": "markdown",
   "id": "822ca11d",
   "metadata": {},
   "source": [
    "**Взрослых пользователей сервиса больше всего. Молодежи чуть меньше, а подростков совсем мало.**"
   ]
  },
  {
   "cell_type": "markdown",
   "id": "25bb540a",
   "metadata": {},
   "source": [
    "Добавлю точный возраст пользователей, которых больше всего."
   ]
  },
  {
   "cell_type": "code",
   "execution_count": 42,
   "id": "7c15e5e6",
   "metadata": {},
   "outputs": [
    {
     "data": {
      "image/png": "[encoded data removed]",
      "text/plain": [
       "<Figure size 640x480 with 1 Axes>"
      ]
     },
     "metadata": {},
     "output_type": "display_data"
    }
   ],
   "source": [
    "ax1 = users['age'].hist(bins=100)\n",
    "ax1.set(xlabel='Возраст',ylabel='Количество пользователей',title='Количество пользователей разного возраста');"
   ]
  },
  {
   "cell_type": "markdown",
   "id": "309ed9e9",
   "metadata": {},
   "source": [
    "У сервиса больше всего пользователей, которым 25 лет."
   ]
  },
  {
   "cell_type": "markdown",
   "id": "6085b902",
   "metadata": {},
   "source": [
    "**Исследуем расстояние, которое пользователь преодолел за одну поездку. Для этого снова понадобится категоризация.**"
   ]
  },
  {
   "cell_type": "code",
   "execution_count": 43,
   "id": "8c6f1af1",
   "metadata": {},
   "outputs": [],
   "source": [
    "def distance_categorize(distance):\n",
    "    if distance < 2000:\n",
    "        return 'меньше 2 км'\n",
    "    if distance < 4000:\n",
    "        return 'от 2 до 4 км'\n",
    "    if distance < 6000:\n",
    "        return 'от 4 до 6 км'\n",
    "    else:\n",
    "        return 'от 6 км и больше'"
   ]
  },
  {
   "cell_type": "markdown",
   "id": "7efba947",
   "metadata": {},
   "source": [
    "**Добавим новый столбец `distance_group` в таблицу `rides`.**"
   ]
  },
  {
   "cell_type": "code",
   "execution_count": 44,
   "id": "971e5eb5",
   "metadata": {},
   "outputs": [],
   "source": [
    "rides['distance_group'] = rides['distance'].apply(distance_categorize)"
   ]
  },
  {
   "cell_type": "markdown",
   "id": "b1feb451",
   "metadata": {},
   "source": [
    "**Cоздадим сводную таблицу и по данным из неё построим столбчатую диаграмму.**"
   ]
  },
  {
   "cell_type": "code",
   "execution_count": 45,
   "id": "a32caded",
   "metadata": {},
   "outputs": [],
   "source": [
    "distance_data = rides.pivot_table(index='distance_group',values='user_id',aggfunc='count')"
   ]
  },
  {
   "cell_type": "code",
   "execution_count": 46,
   "id": "582a20b4",
   "metadata": {},
   "outputs": [
    {
     "data": {
      "text/html": [
       "<div>\n",
       "<style scoped>\n",
       "    .dataframe tbody tr th:only-of-type {\n",
       "        vertical-align: middle;\n",
       "    }\n",
       "\n",
       "    .dataframe tbody tr th {\n",
       "        vertical-align: top;\n",
       "    }\n",
       "\n",
       "    .dataframe thead th {\n",
       "        text-align: right;\n",
       "    }\n",
       "</style>\n",
       "<table border=\"1\" class=\"dataframe\">\n",
       "  <thead>\n",
       "    <tr style=\"text-align: right;\">\n",
       "      <th></th>\n",
       "      <th>user_id</th>\n",
       "    </tr>\n",
       "    <tr>\n",
       "      <th>distance_group</th>\n",
       "      <th></th>\n",
       "    </tr>\n",
       "  </thead>\n",
       "  <tbody>\n",
       "    <tr>\n",
       "      <th>меньше 2 км</th>\n",
       "      <td>2352</td>\n",
       "    </tr>\n",
       "    <tr>\n",
       "      <th>от 2 до 4 км</th>\n",
       "      <td>12238</td>\n",
       "    </tr>\n",
       "    <tr>\n",
       "      <th>от 4 до 6 км</th>\n",
       "      <td>3347</td>\n",
       "    </tr>\n",
       "    <tr>\n",
       "      <th>от 6 км и больше</th>\n",
       "      <td>36</td>\n",
       "    </tr>\n",
       "  </tbody>\n",
       "</table>\n",
       "</div>"
      ],
      "text/plain": [
       "                  user_id\n",
       "distance_group           \n",
       "меньше 2 км          2352\n",
       "от 2 до 4 км        12238\n",
       "от 4 до 6 км         3347\n",
       "от 6 км и больше       36"
      ]
     },
     "execution_count": 46,
     "metadata": {},
     "output_type": "execute_result"
    }
   ],
   "source": [
    "distance_data"
   ]
  },
  {
   "cell_type": "code",
   "execution_count": 47,
   "id": "b677b1af",
   "metadata": {},
   "outputs": [
    {
     "data": {
      "image/png": "[encoded data removed]",
      "text/plain": [
       "<Figure size 640x480 with 1 Axes>"
      ]
     },
     "metadata": {},
     "output_type": "display_data"
    }
   ],
   "source": [
    "distance_data.plot.bar(y='user_id', rot=45,legend=False,xlabel='Расстояние',ylabel='Количество пользователей',title='Количество пользователей, прошедших разные расстояния');"
   ]
  },
  {
   "cell_type": "markdown",
   "id": "325d0150",
   "metadata": {},
   "source": [
    "**Больше всего пользователей преодолели за одну поездку от 2 до 4 километров. Примерно одинаковые части пользователей приодолели меньше 2 километров и от 4 до 6 километров. Более 6 километров преодолели единицы пользователей.**"
   ]
  },
  {
   "cell_type": "markdown",
   "id": "8387d767",
   "metadata": {},
   "source": [
    "**Исследуем продолжительности поездок пользователей. Вновь понадобится категоризация.**"
   ]
  },
  {
   "cell_type": "code",
   "execution_count": 48,
   "id": "e89d6907",
   "metadata": {},
   "outputs": [],
   "source": [
    "def duration_categorize(duration):\n",
    "    if duration < 10:\n",
    "        return 'меньше 10 мин'\n",
    "    if duration < 20:\n",
    "        return 'от 10 до 20 мин'\n",
    "    if duration < 30:\n",
    "        return 'от 20 до 30 мин'\n",
    "    else:\n",
    "        return 'от 30 мин и более'"
   ]
  },
  {
   "cell_type": "markdown",
   "id": "ee320a1d",
   "metadata": {},
   "source": [
    "**Добавим новый столбец `duration_group` в таблицу `rides`.**"
   ]
  },
  {
   "cell_type": "code",
   "execution_count": 49,
   "id": "3df95642",
   "metadata": {},
   "outputs": [],
   "source": [
    "rides['duration_group'] = rides['duration'].apply(duration_categorize)"
   ]
  },
  {
   "cell_type": "markdown",
   "id": "8e65e142",
   "metadata": {},
   "source": [
    "**Cоздадим сводную таблицу и по данным из неё построим столбчатую диаграмму.**"
   ]
  },
  {
   "cell_type": "code",
   "execution_count": 50,
   "id": "1a7bacde",
   "metadata": {},
   "outputs": [],
   "source": [
    "duration_data = rides.pivot_table(index='duration_group',values='user_id',aggfunc='count')"
   ]
  },
  {
   "cell_type": "code",
   "execution_count": 51,
   "id": "690468ca",
   "metadata": {},
   "outputs": [
    {
     "data": {
      "text/html": [
       "<div>\n",
       "<style scoped>\n",
       "    .dataframe tbody tr th:only-of-type {\n",
       "        vertical-align: middle;\n",
       "    }\n",
       "\n",
       "    .dataframe tbody tr th {\n",
       "        vertical-align: top;\n",
       "    }\n",
       "\n",
       "    .dataframe thead th {\n",
       "        text-align: right;\n",
       "    }\n",
       "</style>\n",
       "<table border=\"1\" class=\"dataframe\">\n",
       "  <thead>\n",
       "    <tr style=\"text-align: right;\">\n",
       "      <th></th>\n",
       "      <th>user_id</th>\n",
       "    </tr>\n",
       "    <tr>\n",
       "      <th>duration_group</th>\n",
       "      <th></th>\n",
       "    </tr>\n",
       "  </thead>\n",
       "  <tbody>\n",
       "    <tr>\n",
       "      <th>меньше 10 мин</th>\n",
       "      <td>1544</td>\n",
       "    </tr>\n",
       "    <tr>\n",
       "      <th>от 10 до 20 мин</th>\n",
       "      <td>10095</td>\n",
       "    </tr>\n",
       "    <tr>\n",
       "      <th>от 20 до 30 мин</th>\n",
       "      <td>5791</td>\n",
       "    </tr>\n",
       "    <tr>\n",
       "      <th>от 30 мин и более</th>\n",
       "      <td>543</td>\n",
       "    </tr>\n",
       "  </tbody>\n",
       "</table>\n",
       "</div>"
      ],
      "text/plain": [
       "                   user_id\n",
       "duration_group            \n",
       "меньше 10 мин         1544\n",
       "от 10 до 20 мин      10095\n",
       "от 20 до 30 мин       5791\n",
       "от 30 мин и более      543"
      ]
     },
     "execution_count": 51,
     "metadata": {},
     "output_type": "execute_result"
    }
   ],
   "source": [
    "duration_data"
   ]
  },
  {
   "cell_type": "code",
   "execution_count": 52,
   "id": "d18809d4",
   "metadata": {},
   "outputs": [
    {
     "data": {
      "image/png": "[encoded data removed]",
      "text/plain": [
       "<Figure size 640x480 with 1 Axes>"
      ]
     },
     "metadata": {},
     "output_type": "display_data"
    }
   ],
   "source": [
    "duration_data.plot.bar(y='user_id', rot=45,title='Количество пользователей, потративших разное время на поездки',legend=False,xlabel='Время',ylabel='Количество пользователей');"
   ]
  },
  {
   "cell_type": "markdown",
   "id": "ea354e2c",
   "metadata": {},
   "source": [
    "**Продолжительность поездки пользователей сервиса чаще всего оказывается в пределах от 10 до 20 минут. Нередки случаи и с поездками по 20 - 30 минут. А вот поездки меньше 10 минут и более получаса редкие.**"
   ]
  },
  {
   "cell_type": "markdown",
   "id": "4ef51331",
   "metadata": {},
   "source": [
    "#### Шаг 4. Объединение данных"
   ]
  },
  {
   "cell_type": "markdown",
   "id": "ae77ae01",
   "metadata": {},
   "source": [
    "**Сперва объединим таблицы `users` и `rides` по столбцу `user_id`.**"
   ]
  },
  {
   "cell_type": "code",
   "execution_count": 53,
   "id": "6bf288b5",
   "metadata": {},
   "outputs": [],
   "source": [
    "users_rides = users.merge(rides, on='user_id', how='left')"
   ]
  },
  {
   "cell_type": "markdown",
   "id": "622c9046",
   "metadata": {},
   "source": [
    "**Посмотрим на результат.**"
   ]
  },
  {
   "cell_type": "code",
   "execution_count": 54,
   "id": "8dda095d",
   "metadata": {},
   "outputs": [
    {
     "data": {
      "text/html": [
       "<div>\n",
       "<style scoped>\n",
       "    .dataframe tbody tr th:only-of-type {\n",
       "        vertical-align: middle;\n",
       "    }\n",
       "\n",
       "    .dataframe tbody tr th {\n",
       "        vertical-align: top;\n",
       "    }\n",
       "\n",
       "    .dataframe thead th {\n",
       "        text-align: right;\n",
       "    }\n",
       "</style>\n",
       "<table border=\"1\" class=\"dataframe\">\n",
       "  <thead>\n",
       "    <tr style=\"text-align: right;\">\n",
       "      <th></th>\n",
       "      <th>user_id</th>\n",
       "      <th>name</th>\n",
       "      <th>age</th>\n",
       "      <th>city</th>\n",
       "      <th>subscription_type</th>\n",
       "      <th>age_group</th>\n",
       "      <th>distance</th>\n",
       "      <th>duration</th>\n",
       "      <th>date</th>\n",
       "      <th>month</th>\n",
       "      <th>distance_group</th>\n",
       "      <th>duration_group</th>\n",
       "    </tr>\n",
       "  </thead>\n",
       "  <tbody>\n",
       "    <tr>\n",
       "      <th>0</th>\n",
       "      <td>1</td>\n",
       "      <td>Кира</td>\n",
       "      <td>22</td>\n",
       "      <td>Тюмень</td>\n",
       "      <td>ultra</td>\n",
       "      <td>молодежь</td>\n",
       "      <td>4409.919140</td>\n",
       "      <td>25.599769</td>\n",
       "      <td>2021-01-01</td>\n",
       "      <td>1</td>\n",
       "      <td>от 4 до 6 км</td>\n",
       "      <td>от 20 до 30 мин</td>\n",
       "    </tr>\n",
       "    <tr>\n",
       "      <th>1</th>\n",
       "      <td>1</td>\n",
       "      <td>Кира</td>\n",
       "      <td>22</td>\n",
       "      <td>Тюмень</td>\n",
       "      <td>ultra</td>\n",
       "      <td>молодежь</td>\n",
       "      <td>2617.592153</td>\n",
       "      <td>15.816871</td>\n",
       "      <td>2021-01-18</td>\n",
       "      <td>1</td>\n",
       "      <td>от 2 до 4 км</td>\n",
       "      <td>от 10 до 20 мин</td>\n",
       "    </tr>\n",
       "    <tr>\n",
       "      <th>2</th>\n",
       "      <td>1</td>\n",
       "      <td>Кира</td>\n",
       "      <td>22</td>\n",
       "      <td>Тюмень</td>\n",
       "      <td>ultra</td>\n",
       "      <td>молодежь</td>\n",
       "      <td>754.159807</td>\n",
       "      <td>6.232113</td>\n",
       "      <td>2021-04-20</td>\n",
       "      <td>4</td>\n",
       "      <td>меньше 2 км</td>\n",
       "      <td>меньше 10 мин</td>\n",
       "    </tr>\n",
       "    <tr>\n",
       "      <th>3</th>\n",
       "      <td>1</td>\n",
       "      <td>Кира</td>\n",
       "      <td>22</td>\n",
       "      <td>Тюмень</td>\n",
       "      <td>ultra</td>\n",
       "      <td>молодежь</td>\n",
       "      <td>2694.783254</td>\n",
       "      <td>18.511000</td>\n",
       "      <td>2021-08-11</td>\n",
       "      <td>8</td>\n",
       "      <td>от 2 до 4 км</td>\n",
       "      <td>от 10 до 20 мин</td>\n",
       "    </tr>\n",
       "    <tr>\n",
       "      <th>4</th>\n",
       "      <td>1</td>\n",
       "      <td>Кира</td>\n",
       "      <td>22</td>\n",
       "      <td>Тюмень</td>\n",
       "      <td>ultra</td>\n",
       "      <td>молодежь</td>\n",
       "      <td>4028.687306</td>\n",
       "      <td>26.265803</td>\n",
       "      <td>2021-08-28</td>\n",
       "      <td>8</td>\n",
       "      <td>от 4 до 6 км</td>\n",
       "      <td>от 20 до 30 мин</td>\n",
       "    </tr>\n",
       "    <tr>\n",
       "      <th>5</th>\n",
       "      <td>1</td>\n",
       "      <td>Кира</td>\n",
       "      <td>22</td>\n",
       "      <td>Тюмень</td>\n",
       "      <td>ultra</td>\n",
       "      <td>молодежь</td>\n",
       "      <td>2770.890808</td>\n",
       "      <td>16.650138</td>\n",
       "      <td>2021-10-09</td>\n",
       "      <td>10</td>\n",
       "      <td>от 2 до 4 км</td>\n",
       "      <td>от 10 до 20 мин</td>\n",
       "    </tr>\n",
       "    <tr>\n",
       "      <th>6</th>\n",
       "      <td>1</td>\n",
       "      <td>Кира</td>\n",
       "      <td>22</td>\n",
       "      <td>Тюмень</td>\n",
       "      <td>ultra</td>\n",
       "      <td>молодежь</td>\n",
       "      <td>3039.020292</td>\n",
       "      <td>14.927879</td>\n",
       "      <td>2021-10-19</td>\n",
       "      <td>10</td>\n",
       "      <td>от 2 до 4 км</td>\n",
       "      <td>от 10 до 20 мин</td>\n",
       "    </tr>\n",
       "    <tr>\n",
       "      <th>7</th>\n",
       "      <td>1</td>\n",
       "      <td>Кира</td>\n",
       "      <td>22</td>\n",
       "      <td>Тюмень</td>\n",
       "      <td>ultra</td>\n",
       "      <td>молодежь</td>\n",
       "      <td>2842.118050</td>\n",
       "      <td>23.117468</td>\n",
       "      <td>2021-11-06</td>\n",
       "      <td>11</td>\n",
       "      <td>от 2 до 4 км</td>\n",
       "      <td>от 20 до 30 мин</td>\n",
       "    </tr>\n",
       "    <tr>\n",
       "      <th>8</th>\n",
       "      <td>1</td>\n",
       "      <td>Кира</td>\n",
       "      <td>22</td>\n",
       "      <td>Тюмень</td>\n",
       "      <td>ultra</td>\n",
       "      <td>молодежь</td>\n",
       "      <td>3412.690668</td>\n",
       "      <td>15.238072</td>\n",
       "      <td>2021-11-14</td>\n",
       "      <td>11</td>\n",
       "      <td>от 2 до 4 км</td>\n",
       "      <td>от 10 до 20 мин</td>\n",
       "    </tr>\n",
       "    <tr>\n",
       "      <th>9</th>\n",
       "      <td>1</td>\n",
       "      <td>Кира</td>\n",
       "      <td>22</td>\n",
       "      <td>Тюмень</td>\n",
       "      <td>ultra</td>\n",
       "      <td>молодежь</td>\n",
       "      <td>748.690645</td>\n",
       "      <td>15.041884</td>\n",
       "      <td>2021-11-22</td>\n",
       "      <td>11</td>\n",
       "      <td>меньше 2 км</td>\n",
       "      <td>от 10 до 20 мин</td>\n",
       "    </tr>\n",
       "  </tbody>\n",
       "</table>\n",
       "</div>"
      ],
      "text/plain": [
       "   user_id  name  age    city subscription_type age_group     distance  \\\n",
       "0        1  Кира   22  Тюмень             ultra  молодежь  4409.919140   \n",
       "1        1  Кира   22  Тюмень             ultra  молодежь  2617.592153   \n",
       "2        1  Кира   22  Тюмень             ultra  молодежь   754.159807   \n",
       "3        1  Кира   22  Тюмень             ultra  молодежь  2694.783254   \n",
       "4        1  Кира   22  Тюмень             ultra  молодежь  4028.687306   \n",
       "5        1  Кира   22  Тюмень             ultra  молодежь  2770.890808   \n",
       "6        1  Кира   22  Тюмень             ultra  молодежь  3039.020292   \n",
       "7        1  Кира   22  Тюмень             ultra  молодежь  2842.118050   \n",
       "8        1  Кира   22  Тюмень             ultra  молодежь  3412.690668   \n",
       "9        1  Кира   22  Тюмень             ultra  молодежь   748.690645   \n",
       "\n",
       "    duration       date  month distance_group   duration_group  \n",
       "0  25.599769 2021-01-01      1   от 4 до 6 км  от 20 до 30 мин  \n",
       "1  15.816871 2021-01-18      1   от 2 до 4 км  от 10 до 20 мин  \n",
       "2   6.232113 2021-04-20      4    меньше 2 км    меньше 10 мин  \n",
       "3  18.511000 2021-08-11      8   от 2 до 4 км  от 10 до 20 мин  \n",
       "4  26.265803 2021-08-28      8   от 4 до 6 км  от 20 до 30 мин  \n",
       "5  16.650138 2021-10-09     10   от 2 до 4 км  от 10 до 20 мин  \n",
       "6  14.927879 2021-10-19     10   от 2 до 4 км  от 10 до 20 мин  \n",
       "7  23.117468 2021-11-06     11   от 2 до 4 км  от 20 до 30 мин  \n",
       "8  15.238072 2021-11-14     11   от 2 до 4 км  от 10 до 20 мин  \n",
       "9  15.041884 2021-11-22     11    меньше 2 км  от 10 до 20 мин  "
      ]
     },
     "execution_count": 54,
     "metadata": {},
     "output_type": "execute_result"
    }
   ],
   "source": [
    "users_rides.head(10)"
   ]
  },
  {
   "cell_type": "markdown",
   "id": "1b6aecf3",
   "metadata": {},
   "source": [
    "**Результат удовлетворительный.**"
   ]
  },
  {
   "cell_type": "markdown",
   "id": "d53ae598",
   "metadata": {},
   "source": [
    "**Теперь объединим таблицы `users_rides` и `subscriptions` по столбцу `subscription_type`.**"
   ]
  },
  {
   "cell_type": "code",
   "execution_count": 55,
   "id": "172962f4",
   "metadata": {},
   "outputs": [],
   "source": [
    "data_final = users_rides.merge(subscriptions, on='subscription_type', how='left')"
   ]
  },
  {
   "cell_type": "markdown",
   "id": "25bffda5",
   "metadata": {},
   "source": [
    "**Посмотрим на результат.**"
   ]
  },
  {
   "cell_type": "code",
   "execution_count": 56,
   "id": "fb4fe4c5",
   "metadata": {},
   "outputs": [
    {
     "data": {
      "text/html": [
       "<div>\n",
       "<style scoped>\n",
       "    .dataframe tbody tr th:only-of-type {\n",
       "        vertical-align: middle;\n",
       "    }\n",
       "\n",
       "    .dataframe tbody tr th {\n",
       "        vertical-align: top;\n",
       "    }\n",
       "\n",
       "    .dataframe thead th {\n",
       "        text-align: right;\n",
       "    }\n",
       "</style>\n",
       "<table border=\"1\" class=\"dataframe\">\n",
       "  <thead>\n",
       "    <tr style=\"text-align: right;\">\n",
       "      <th></th>\n",
       "      <th>user_id</th>\n",
       "      <th>name</th>\n",
       "      <th>age</th>\n",
       "      <th>city</th>\n",
       "      <th>subscription_type</th>\n",
       "      <th>age_group</th>\n",
       "      <th>distance</th>\n",
       "      <th>duration</th>\n",
       "      <th>date</th>\n",
       "      <th>month</th>\n",
       "      <th>distance_group</th>\n",
       "      <th>duration_group</th>\n",
       "      <th>minute_price</th>\n",
       "      <th>start_ride_price</th>\n",
       "      <th>subscription_fee</th>\n",
       "    </tr>\n",
       "  </thead>\n",
       "  <tbody>\n",
       "    <tr>\n",
       "      <th>0</th>\n",
       "      <td>1</td>\n",
       "      <td>Кира</td>\n",
       "      <td>22</td>\n",
       "      <td>Тюмень</td>\n",
       "      <td>ultra</td>\n",
       "      <td>молодежь</td>\n",
       "      <td>4409.919140</td>\n",
       "      <td>25.599769</td>\n",
       "      <td>2021-01-01</td>\n",
       "      <td>1</td>\n",
       "      <td>от 4 до 6 км</td>\n",
       "      <td>от 20 до 30 мин</td>\n",
       "      <td>6</td>\n",
       "      <td>0</td>\n",
       "      <td>199</td>\n",
       "    </tr>\n",
       "    <tr>\n",
       "      <th>1</th>\n",
       "      <td>1</td>\n",
       "      <td>Кира</td>\n",
       "      <td>22</td>\n",
       "      <td>Тюмень</td>\n",
       "      <td>ultra</td>\n",
       "      <td>молодежь</td>\n",
       "      <td>2617.592153</td>\n",
       "      <td>15.816871</td>\n",
       "      <td>2021-01-18</td>\n",
       "      <td>1</td>\n",
       "      <td>от 2 до 4 км</td>\n",
       "      <td>от 10 до 20 мин</td>\n",
       "      <td>6</td>\n",
       "      <td>0</td>\n",
       "      <td>199</td>\n",
       "    </tr>\n",
       "    <tr>\n",
       "      <th>2</th>\n",
       "      <td>1</td>\n",
       "      <td>Кира</td>\n",
       "      <td>22</td>\n",
       "      <td>Тюмень</td>\n",
       "      <td>ultra</td>\n",
       "      <td>молодежь</td>\n",
       "      <td>754.159807</td>\n",
       "      <td>6.232113</td>\n",
       "      <td>2021-04-20</td>\n",
       "      <td>4</td>\n",
       "      <td>меньше 2 км</td>\n",
       "      <td>меньше 10 мин</td>\n",
       "      <td>6</td>\n",
       "      <td>0</td>\n",
       "      <td>199</td>\n",
       "    </tr>\n",
       "    <tr>\n",
       "      <th>3</th>\n",
       "      <td>1</td>\n",
       "      <td>Кира</td>\n",
       "      <td>22</td>\n",
       "      <td>Тюмень</td>\n",
       "      <td>ultra</td>\n",
       "      <td>молодежь</td>\n",
       "      <td>2694.783254</td>\n",
       "      <td>18.511000</td>\n",
       "      <td>2021-08-11</td>\n",
       "      <td>8</td>\n",
       "      <td>от 2 до 4 км</td>\n",
       "      <td>от 10 до 20 мин</td>\n",
       "      <td>6</td>\n",
       "      <td>0</td>\n",
       "      <td>199</td>\n",
       "    </tr>\n",
       "    <tr>\n",
       "      <th>4</th>\n",
       "      <td>1</td>\n",
       "      <td>Кира</td>\n",
       "      <td>22</td>\n",
       "      <td>Тюмень</td>\n",
       "      <td>ultra</td>\n",
       "      <td>молодежь</td>\n",
       "      <td>4028.687306</td>\n",
       "      <td>26.265803</td>\n",
       "      <td>2021-08-28</td>\n",
       "      <td>8</td>\n",
       "      <td>от 4 до 6 км</td>\n",
       "      <td>от 20 до 30 мин</td>\n",
       "      <td>6</td>\n",
       "      <td>0</td>\n",
       "      <td>199</td>\n",
       "    </tr>\n",
       "    <tr>\n",
       "      <th>5</th>\n",
       "      <td>1</td>\n",
       "      <td>Кира</td>\n",
       "      <td>22</td>\n",
       "      <td>Тюмень</td>\n",
       "      <td>ultra</td>\n",
       "      <td>молодежь</td>\n",
       "      <td>2770.890808</td>\n",
       "      <td>16.650138</td>\n",
       "      <td>2021-10-09</td>\n",
       "      <td>10</td>\n",
       "      <td>от 2 до 4 км</td>\n",
       "      <td>от 10 до 20 мин</td>\n",
       "      <td>6</td>\n",
       "      <td>0</td>\n",
       "      <td>199</td>\n",
       "    </tr>\n",
       "    <tr>\n",
       "      <th>6</th>\n",
       "      <td>1</td>\n",
       "      <td>Кира</td>\n",
       "      <td>22</td>\n",
       "      <td>Тюмень</td>\n",
       "      <td>ultra</td>\n",
       "      <td>молодежь</td>\n",
       "      <td>3039.020292</td>\n",
       "      <td>14.927879</td>\n",
       "      <td>2021-10-19</td>\n",
       "      <td>10</td>\n",
       "      <td>от 2 до 4 км</td>\n",
       "      <td>от 10 до 20 мин</td>\n",
       "      <td>6</td>\n",
       "      <td>0</td>\n",
       "      <td>199</td>\n",
       "    </tr>\n",
       "    <tr>\n",
       "      <th>7</th>\n",
       "      <td>1</td>\n",
       "      <td>Кира</td>\n",
       "      <td>22</td>\n",
       "      <td>Тюмень</td>\n",
       "      <td>ultra</td>\n",
       "      <td>молодежь</td>\n",
       "      <td>2842.118050</td>\n",
       "      <td>23.117468</td>\n",
       "      <td>2021-11-06</td>\n",
       "      <td>11</td>\n",
       "      <td>от 2 до 4 км</td>\n",
       "      <td>от 20 до 30 мин</td>\n",
       "      <td>6</td>\n",
       "      <td>0</td>\n",
       "      <td>199</td>\n",
       "    </tr>\n",
       "    <tr>\n",
       "      <th>8</th>\n",
       "      <td>1</td>\n",
       "      <td>Кира</td>\n",
       "      <td>22</td>\n",
       "      <td>Тюмень</td>\n",
       "      <td>ultra</td>\n",
       "      <td>молодежь</td>\n",
       "      <td>3412.690668</td>\n",
       "      <td>15.238072</td>\n",
       "      <td>2021-11-14</td>\n",
       "      <td>11</td>\n",
       "      <td>от 2 до 4 км</td>\n",
       "      <td>от 10 до 20 мин</td>\n",
       "      <td>6</td>\n",
       "      <td>0</td>\n",
       "      <td>199</td>\n",
       "    </tr>\n",
       "    <tr>\n",
       "      <th>9</th>\n",
       "      <td>1</td>\n",
       "      <td>Кира</td>\n",
       "      <td>22</td>\n",
       "      <td>Тюмень</td>\n",
       "      <td>ultra</td>\n",
       "      <td>молодежь</td>\n",
       "      <td>748.690645</td>\n",
       "      <td>15.041884</td>\n",
       "      <td>2021-11-22</td>\n",
       "      <td>11</td>\n",
       "      <td>меньше 2 км</td>\n",
       "      <td>от 10 до 20 мин</td>\n",
       "      <td>6</td>\n",
       "      <td>0</td>\n",
       "      <td>199</td>\n",
       "    </tr>\n",
       "  </tbody>\n",
       "</table>\n",
       "</div>"
      ],
      "text/plain": [
       "   user_id  name  age    city subscription_type age_group     distance  \\\n",
       "0        1  Кира   22  Тюмень             ultra  молодежь  4409.919140   \n",
       "1        1  Кира   22  Тюмень             ultra  молодежь  2617.592153   \n",
       "2        1  Кира   22  Тюмень             ultra  молодежь   754.159807   \n",
       "3        1  Кира   22  Тюмень             ultra  молодежь  2694.783254   \n",
       "4        1  Кира   22  Тюмень             ultra  молодежь  4028.687306   \n",
       "5        1  Кира   22  Тюмень             ultra  молодежь  2770.890808   \n",
       "6        1  Кира   22  Тюмень             ultra  молодежь  3039.020292   \n",
       "7        1  Кира   22  Тюмень             ultra  молодежь  2842.118050   \n",
       "8        1  Кира   22  Тюмень             ultra  молодежь  3412.690668   \n",
       "9        1  Кира   22  Тюмень             ultra  молодежь   748.690645   \n",
       "\n",
       "    duration       date  month distance_group   duration_group  minute_price  \\\n",
       "0  25.599769 2021-01-01      1   от 4 до 6 км  от 20 до 30 мин             6   \n",
       "1  15.816871 2021-01-18      1   от 2 до 4 км  от 10 до 20 мин             6   \n",
       "2   6.232113 2021-04-20      4    меньше 2 км    меньше 10 мин             6   \n",
       "3  18.511000 2021-08-11      8   от 2 до 4 км  от 10 до 20 мин             6   \n",
       "4  26.265803 2021-08-28      8   от 4 до 6 км  от 20 до 30 мин             6   \n",
       "5  16.650138 2021-10-09     10   от 2 до 4 км  от 10 до 20 мин             6   \n",
       "6  14.927879 2021-10-19     10   от 2 до 4 км  от 10 до 20 мин             6   \n",
       "7  23.117468 2021-11-06     11   от 2 до 4 км  от 20 до 30 мин             6   \n",
       "8  15.238072 2021-11-14     11   от 2 до 4 км  от 10 до 20 мин             6   \n",
       "9  15.041884 2021-11-22     11    меньше 2 км  от 10 до 20 мин             6   \n",
       "\n",
       "   start_ride_price  subscription_fee  \n",
       "0                 0               199  \n",
       "1                 0               199  \n",
       "2                 0               199  \n",
       "3                 0               199  \n",
       "4                 0               199  \n",
       "5                 0               199  \n",
       "6                 0               199  \n",
       "7                 0               199  \n",
       "8                 0               199  \n",
       "9                 0               199  "
      ]
     },
     "execution_count": 56,
     "metadata": {},
     "output_type": "execute_result"
    }
   ],
   "source": [
    "data_final.head(10)"
   ]
  },
  {
   "cell_type": "markdown",
   "id": "5bc4484a",
   "metadata": {},
   "source": [
    "**Таблицы объединились корректно.**"
   ]
  },
  {
   "cell_type": "markdown",
   "id": "cb842b19",
   "metadata": {},
   "source": [
    "Проверим, все ли строки вошли в получившийся датафрейм."
   ]
  },
  {
   "cell_type": "code",
   "execution_count": 57,
   "id": "451882d0",
   "metadata": {},
   "outputs": [
    {
     "name": "stdout",
     "output_type": "stream",
     "text": [
      "(17973, 15) (17973, 7)\n"
     ]
    }
   ],
   "source": [
    "print(data_final.shape,rides.shape)"
   ]
  },
  {
   "cell_type": "markdown",
   "id": "7ede6c9f",
   "metadata": {},
   "source": [
    "Все 17973 строки вошли в получившийся датафрейм."
   ]
  },
  {
   "cell_type": "markdown",
   "id": "d7c534b7",
   "metadata": {},
   "source": [
    "**Создадим таблицу с данными о пользователях без подписки на основании таблицы `data_final`.**"
   ]
  },
  {
   "cell_type": "code",
   "execution_count": 58,
   "id": "3005ddf0",
   "metadata": {},
   "outputs": [],
   "source": [
    "df_free = data_final[data_final['subscription_type']=='free']"
   ]
  },
  {
   "cell_type": "markdown",
   "id": "a236b642",
   "metadata": {},
   "source": [
    "**Проверим полученную таблицу.**"
   ]
  },
  {
   "cell_type": "code",
   "execution_count": 59,
   "id": "893231dd",
   "metadata": {},
   "outputs": [
    {
     "data": {
      "text/html": [
       "<div>\n",
       "<style scoped>\n",
       "    .dataframe tbody tr th:only-of-type {\n",
       "        vertical-align: middle;\n",
       "    }\n",
       "\n",
       "    .dataframe tbody tr th {\n",
       "        vertical-align: top;\n",
       "    }\n",
       "\n",
       "    .dataframe thead th {\n",
       "        text-align: right;\n",
       "    }\n",
       "</style>\n",
       "<table border=\"1\" class=\"dataframe\">\n",
       "  <thead>\n",
       "    <tr style=\"text-align: right;\">\n",
       "      <th></th>\n",
       "      <th>user_id</th>\n",
       "      <th>name</th>\n",
       "      <th>age</th>\n",
       "      <th>city</th>\n",
       "      <th>subscription_type</th>\n",
       "      <th>age_group</th>\n",
       "      <th>distance</th>\n",
       "      <th>duration</th>\n",
       "      <th>date</th>\n",
       "      <th>month</th>\n",
       "      <th>distance_group</th>\n",
       "      <th>duration_group</th>\n",
       "      <th>minute_price</th>\n",
       "      <th>start_ride_price</th>\n",
       "      <th>subscription_fee</th>\n",
       "    </tr>\n",
       "  </thead>\n",
       "  <tbody>\n",
       "    <tr>\n",
       "      <th>6500</th>\n",
       "      <td>700</td>\n",
       "      <td>Айдар</td>\n",
       "      <td>22</td>\n",
       "      <td>Омск</td>\n",
       "      <td>free</td>\n",
       "      <td>молодежь</td>\n",
       "      <td>2515.690719</td>\n",
       "      <td>14.944286</td>\n",
       "      <td>2021-01-02</td>\n",
       "      <td>1</td>\n",
       "      <td>от 2 до 4 км</td>\n",
       "      <td>от 10 до 20 мин</td>\n",
       "      <td>8</td>\n",
       "      <td>50</td>\n",
       "      <td>0</td>\n",
       "    </tr>\n",
       "    <tr>\n",
       "      <th>6501</th>\n",
       "      <td>700</td>\n",
       "      <td>Айдар</td>\n",
       "      <td>22</td>\n",
       "      <td>Омск</td>\n",
       "      <td>free</td>\n",
       "      <td>молодежь</td>\n",
       "      <td>846.932642</td>\n",
       "      <td>16.234663</td>\n",
       "      <td>2021-02-01</td>\n",
       "      <td>2</td>\n",
       "      <td>меньше 2 км</td>\n",
       "      <td>от 10 до 20 мин</td>\n",
       "      <td>8</td>\n",
       "      <td>50</td>\n",
       "      <td>0</td>\n",
       "    </tr>\n",
       "    <tr>\n",
       "      <th>6502</th>\n",
       "      <td>700</td>\n",
       "      <td>Айдар</td>\n",
       "      <td>22</td>\n",
       "      <td>Омск</td>\n",
       "      <td>free</td>\n",
       "      <td>молодежь</td>\n",
       "      <td>4004.434142</td>\n",
       "      <td>20.016628</td>\n",
       "      <td>2021-02-04</td>\n",
       "      <td>2</td>\n",
       "      <td>от 4 до 6 км</td>\n",
       "      <td>от 20 до 30 мин</td>\n",
       "      <td>8</td>\n",
       "      <td>50</td>\n",
       "      <td>0</td>\n",
       "    </tr>\n",
       "    <tr>\n",
       "      <th>6503</th>\n",
       "      <td>700</td>\n",
       "      <td>Айдар</td>\n",
       "      <td>22</td>\n",
       "      <td>Омск</td>\n",
       "      <td>free</td>\n",
       "      <td>молодежь</td>\n",
       "      <td>1205.911290</td>\n",
       "      <td>9.782872</td>\n",
       "      <td>2021-02-10</td>\n",
       "      <td>2</td>\n",
       "      <td>меньше 2 км</td>\n",
       "      <td>меньше 10 мин</td>\n",
       "      <td>8</td>\n",
       "      <td>50</td>\n",
       "      <td>0</td>\n",
       "    </tr>\n",
       "    <tr>\n",
       "      <th>6504</th>\n",
       "      <td>700</td>\n",
       "      <td>Айдар</td>\n",
       "      <td>22</td>\n",
       "      <td>Омск</td>\n",
       "      <td>free</td>\n",
       "      <td>молодежь</td>\n",
       "      <td>3047.379435</td>\n",
       "      <td>17.427673</td>\n",
       "      <td>2021-02-14</td>\n",
       "      <td>2</td>\n",
       "      <td>от 2 до 4 км</td>\n",
       "      <td>от 10 до 20 мин</td>\n",
       "      <td>8</td>\n",
       "      <td>50</td>\n",
       "      <td>0</td>\n",
       "    </tr>\n",
       "    <tr>\n",
       "      <th>6505</th>\n",
       "      <td>700</td>\n",
       "      <td>Айдар</td>\n",
       "      <td>22</td>\n",
       "      <td>Омск</td>\n",
       "      <td>free</td>\n",
       "      <td>молодежь</td>\n",
       "      <td>4342.002254</td>\n",
       "      <td>22.368009</td>\n",
       "      <td>2021-02-23</td>\n",
       "      <td>2</td>\n",
       "      <td>от 4 до 6 км</td>\n",
       "      <td>от 20 до 30 мин</td>\n",
       "      <td>8</td>\n",
       "      <td>50</td>\n",
       "      <td>0</td>\n",
       "    </tr>\n",
       "    <tr>\n",
       "      <th>6506</th>\n",
       "      <td>700</td>\n",
       "      <td>Айдар</td>\n",
       "      <td>22</td>\n",
       "      <td>Омск</td>\n",
       "      <td>free</td>\n",
       "      <td>молодежь</td>\n",
       "      <td>3798.334905</td>\n",
       "      <td>18.243756</td>\n",
       "      <td>2021-03-03</td>\n",
       "      <td>3</td>\n",
       "      <td>от 2 до 4 км</td>\n",
       "      <td>от 10 до 20 мин</td>\n",
       "      <td>8</td>\n",
       "      <td>50</td>\n",
       "      <td>0</td>\n",
       "    </tr>\n",
       "    <tr>\n",
       "      <th>6507</th>\n",
       "      <td>700</td>\n",
       "      <td>Айдар</td>\n",
       "      <td>22</td>\n",
       "      <td>Омск</td>\n",
       "      <td>free</td>\n",
       "      <td>молодежь</td>\n",
       "      <td>2984.551206</td>\n",
       "      <td>15.424899</td>\n",
       "      <td>2021-04-09</td>\n",
       "      <td>4</td>\n",
       "      <td>от 2 до 4 км</td>\n",
       "      <td>от 10 до 20 мин</td>\n",
       "      <td>8</td>\n",
       "      <td>50</td>\n",
       "      <td>0</td>\n",
       "    </tr>\n",
       "    <tr>\n",
       "      <th>6508</th>\n",
       "      <td>700</td>\n",
       "      <td>Айдар</td>\n",
       "      <td>22</td>\n",
       "      <td>Омск</td>\n",
       "      <td>free</td>\n",
       "      <td>молодежь</td>\n",
       "      <td>3360.107141</td>\n",
       "      <td>16.765497</td>\n",
       "      <td>2021-06-12</td>\n",
       "      <td>6</td>\n",
       "      <td>от 2 до 4 км</td>\n",
       "      <td>от 10 до 20 мин</td>\n",
       "      <td>8</td>\n",
       "      <td>50</td>\n",
       "      <td>0</td>\n",
       "    </tr>\n",
       "    <tr>\n",
       "      <th>6509</th>\n",
       "      <td>700</td>\n",
       "      <td>Айдар</td>\n",
       "      <td>22</td>\n",
       "      <td>Омск</td>\n",
       "      <td>free</td>\n",
       "      <td>молодежь</td>\n",
       "      <td>2567.543847</td>\n",
       "      <td>11.312160</td>\n",
       "      <td>2021-06-23</td>\n",
       "      <td>6</td>\n",
       "      <td>от 2 до 4 км</td>\n",
       "      <td>от 10 до 20 мин</td>\n",
       "      <td>8</td>\n",
       "      <td>50</td>\n",
       "      <td>0</td>\n",
       "    </tr>\n",
       "  </tbody>\n",
       "</table>\n",
       "</div>"
      ],
      "text/plain": [
       "      user_id   name  age  city subscription_type age_group     distance  \\\n",
       "6500      700  Айдар   22  Омск              free  молодежь  2515.690719   \n",
       "6501      700  Айдар   22  Омск              free  молодежь   846.932642   \n",
       "6502      700  Айдар   22  Омск              free  молодежь  4004.434142   \n",
       "6503      700  Айдар   22  Омск              free  молодежь  1205.911290   \n",
       "6504      700  Айдар   22  Омск              free  молодежь  3047.379435   \n",
       "6505      700  Айдар   22  Омск              free  молодежь  4342.002254   \n",
       "6506      700  Айдар   22  Омск              free  молодежь  3798.334905   \n",
       "6507      700  Айдар   22  Омск              free  молодежь  2984.551206   \n",
       "6508      700  Айдар   22  Омск              free  молодежь  3360.107141   \n",
       "6509      700  Айдар   22  Омск              free  молодежь  2567.543847   \n",
       "\n",
       "       duration       date  month distance_group   duration_group  \\\n",
       "6500  14.944286 2021-01-02      1   от 2 до 4 км  от 10 до 20 мин   \n",
       "6501  16.234663 2021-02-01      2    меньше 2 км  от 10 до 20 мин   \n",
       "6502  20.016628 2021-02-04      2   от 4 до 6 км  от 20 до 30 мин   \n",
       "6503   9.782872 2021-02-10      2    меньше 2 км    меньше 10 мин   \n",
       "6504  17.427673 2021-02-14      2   от 2 до 4 км  от 10 до 20 мин   \n",
       "6505  22.368009 2021-02-23      2   от 4 до 6 км  от 20 до 30 мин   \n",
       "6506  18.243756 2021-03-03      3   от 2 до 4 км  от 10 до 20 мин   \n",
       "6507  15.424899 2021-04-09      4   от 2 до 4 км  от 10 до 20 мин   \n",
       "6508  16.765497 2021-06-12      6   от 2 до 4 км  от 10 до 20 мин   \n",
       "6509  11.312160 2021-06-23      6   от 2 до 4 км  от 10 до 20 мин   \n",
       "\n",
       "      minute_price  start_ride_price  subscription_fee  \n",
       "6500             8                50                 0  \n",
       "6501             8                50                 0  \n",
       "6502             8                50                 0  \n",
       "6503             8                50                 0  \n",
       "6504             8                50                 0  \n",
       "6505             8                50                 0  \n",
       "6506             8                50                 0  \n",
       "6507             8                50                 0  \n",
       "6508             8                50                 0  \n",
       "6509             8                50                 0  "
      ]
     },
     "execution_count": 59,
     "metadata": {},
     "output_type": "execute_result"
    }
   ],
   "source": [
    "df_free.head(10)"
   ]
  },
  {
   "cell_type": "markdown",
   "id": "428b9405",
   "metadata": {},
   "source": [
    "**Таблица создана верно.**"
   ]
  },
  {
   "cell_type": "markdown",
   "id": "56acd987",
   "metadata": {},
   "source": [
    "**Создадим таблицу с данными о пользователях с подпиской на основании таблицы `data_final`.**"
   ]
  },
  {
   "cell_type": "code",
   "execution_count": 60,
   "id": "74686ad7",
   "metadata": {},
   "outputs": [],
   "source": [
    "df_ultra = data_final[data_final['subscription_type']=='ultra']"
   ]
  },
  {
   "cell_type": "markdown",
   "id": "d30d4db9",
   "metadata": {},
   "source": [
    "**Проверим полученную таблицу.**"
   ]
  },
  {
   "cell_type": "code",
   "execution_count": 61,
   "id": "c3964eb7",
   "metadata": {},
   "outputs": [
    {
     "data": {
      "text/html": [
       "<div>\n",
       "<style scoped>\n",
       "    .dataframe tbody tr th:only-of-type {\n",
       "        vertical-align: middle;\n",
       "    }\n",
       "\n",
       "    .dataframe tbody tr th {\n",
       "        vertical-align: top;\n",
       "    }\n",
       "\n",
       "    .dataframe thead th {\n",
       "        text-align: right;\n",
       "    }\n",
       "</style>\n",
       "<table border=\"1\" class=\"dataframe\">\n",
       "  <thead>\n",
       "    <tr style=\"text-align: right;\">\n",
       "      <th></th>\n",
       "      <th>user_id</th>\n",
       "      <th>name</th>\n",
       "      <th>age</th>\n",
       "      <th>city</th>\n",
       "      <th>subscription_type</th>\n",
       "      <th>age_group</th>\n",
       "      <th>distance</th>\n",
       "      <th>duration</th>\n",
       "      <th>date</th>\n",
       "      <th>month</th>\n",
       "      <th>distance_group</th>\n",
       "      <th>duration_group</th>\n",
       "      <th>minute_price</th>\n",
       "      <th>start_ride_price</th>\n",
       "      <th>subscription_fee</th>\n",
       "    </tr>\n",
       "  </thead>\n",
       "  <tbody>\n",
       "    <tr>\n",
       "      <th>0</th>\n",
       "      <td>1</td>\n",
       "      <td>Кира</td>\n",
       "      <td>22</td>\n",
       "      <td>Тюмень</td>\n",
       "      <td>ultra</td>\n",
       "      <td>молодежь</td>\n",
       "      <td>4409.919140</td>\n",
       "      <td>25.599769</td>\n",
       "      <td>2021-01-01</td>\n",
       "      <td>1</td>\n",
       "      <td>от 4 до 6 км</td>\n",
       "      <td>от 20 до 30 мин</td>\n",
       "      <td>6</td>\n",
       "      <td>0</td>\n",
       "      <td>199</td>\n",
       "    </tr>\n",
       "    <tr>\n",
       "      <th>1</th>\n",
       "      <td>1</td>\n",
       "      <td>Кира</td>\n",
       "      <td>22</td>\n",
       "      <td>Тюмень</td>\n",
       "      <td>ultra</td>\n",
       "      <td>молодежь</td>\n",
       "      <td>2617.592153</td>\n",
       "      <td>15.816871</td>\n",
       "      <td>2021-01-18</td>\n",
       "      <td>1</td>\n",
       "      <td>от 2 до 4 км</td>\n",
       "      <td>от 10 до 20 мин</td>\n",
       "      <td>6</td>\n",
       "      <td>0</td>\n",
       "      <td>199</td>\n",
       "    </tr>\n",
       "    <tr>\n",
       "      <th>2</th>\n",
       "      <td>1</td>\n",
       "      <td>Кира</td>\n",
       "      <td>22</td>\n",
       "      <td>Тюмень</td>\n",
       "      <td>ultra</td>\n",
       "      <td>молодежь</td>\n",
       "      <td>754.159807</td>\n",
       "      <td>6.232113</td>\n",
       "      <td>2021-04-20</td>\n",
       "      <td>4</td>\n",
       "      <td>меньше 2 км</td>\n",
       "      <td>меньше 10 мин</td>\n",
       "      <td>6</td>\n",
       "      <td>0</td>\n",
       "      <td>199</td>\n",
       "    </tr>\n",
       "    <tr>\n",
       "      <th>3</th>\n",
       "      <td>1</td>\n",
       "      <td>Кира</td>\n",
       "      <td>22</td>\n",
       "      <td>Тюмень</td>\n",
       "      <td>ultra</td>\n",
       "      <td>молодежь</td>\n",
       "      <td>2694.783254</td>\n",
       "      <td>18.511000</td>\n",
       "      <td>2021-08-11</td>\n",
       "      <td>8</td>\n",
       "      <td>от 2 до 4 км</td>\n",
       "      <td>от 10 до 20 мин</td>\n",
       "      <td>6</td>\n",
       "      <td>0</td>\n",
       "      <td>199</td>\n",
       "    </tr>\n",
       "    <tr>\n",
       "      <th>4</th>\n",
       "      <td>1</td>\n",
       "      <td>Кира</td>\n",
       "      <td>22</td>\n",
       "      <td>Тюмень</td>\n",
       "      <td>ultra</td>\n",
       "      <td>молодежь</td>\n",
       "      <td>4028.687306</td>\n",
       "      <td>26.265803</td>\n",
       "      <td>2021-08-28</td>\n",
       "      <td>8</td>\n",
       "      <td>от 4 до 6 км</td>\n",
       "      <td>от 20 до 30 мин</td>\n",
       "      <td>6</td>\n",
       "      <td>0</td>\n",
       "      <td>199</td>\n",
       "    </tr>\n",
       "    <tr>\n",
       "      <th>5</th>\n",
       "      <td>1</td>\n",
       "      <td>Кира</td>\n",
       "      <td>22</td>\n",
       "      <td>Тюмень</td>\n",
       "      <td>ultra</td>\n",
       "      <td>молодежь</td>\n",
       "      <td>2770.890808</td>\n",
       "      <td>16.650138</td>\n",
       "      <td>2021-10-09</td>\n",
       "      <td>10</td>\n",
       "      <td>от 2 до 4 км</td>\n",
       "      <td>от 10 до 20 мин</td>\n",
       "      <td>6</td>\n",
       "      <td>0</td>\n",
       "      <td>199</td>\n",
       "    </tr>\n",
       "    <tr>\n",
       "      <th>6</th>\n",
       "      <td>1</td>\n",
       "      <td>Кира</td>\n",
       "      <td>22</td>\n",
       "      <td>Тюмень</td>\n",
       "      <td>ultra</td>\n",
       "      <td>молодежь</td>\n",
       "      <td>3039.020292</td>\n",
       "      <td>14.927879</td>\n",
       "      <td>2021-10-19</td>\n",
       "      <td>10</td>\n",
       "      <td>от 2 до 4 км</td>\n",
       "      <td>от 10 до 20 мин</td>\n",
       "      <td>6</td>\n",
       "      <td>0</td>\n",
       "      <td>199</td>\n",
       "    </tr>\n",
       "    <tr>\n",
       "      <th>7</th>\n",
       "      <td>1</td>\n",
       "      <td>Кира</td>\n",
       "      <td>22</td>\n",
       "      <td>Тюмень</td>\n",
       "      <td>ultra</td>\n",
       "      <td>молодежь</td>\n",
       "      <td>2842.118050</td>\n",
       "      <td>23.117468</td>\n",
       "      <td>2021-11-06</td>\n",
       "      <td>11</td>\n",
       "      <td>от 2 до 4 км</td>\n",
       "      <td>от 20 до 30 мин</td>\n",
       "      <td>6</td>\n",
       "      <td>0</td>\n",
       "      <td>199</td>\n",
       "    </tr>\n",
       "    <tr>\n",
       "      <th>8</th>\n",
       "      <td>1</td>\n",
       "      <td>Кира</td>\n",
       "      <td>22</td>\n",
       "      <td>Тюмень</td>\n",
       "      <td>ultra</td>\n",
       "      <td>молодежь</td>\n",
       "      <td>3412.690668</td>\n",
       "      <td>15.238072</td>\n",
       "      <td>2021-11-14</td>\n",
       "      <td>11</td>\n",
       "      <td>от 2 до 4 км</td>\n",
       "      <td>от 10 до 20 мин</td>\n",
       "      <td>6</td>\n",
       "      <td>0</td>\n",
       "      <td>199</td>\n",
       "    </tr>\n",
       "    <tr>\n",
       "      <th>9</th>\n",
       "      <td>1</td>\n",
       "      <td>Кира</td>\n",
       "      <td>22</td>\n",
       "      <td>Тюмень</td>\n",
       "      <td>ultra</td>\n",
       "      <td>молодежь</td>\n",
       "      <td>748.690645</td>\n",
       "      <td>15.041884</td>\n",
       "      <td>2021-11-22</td>\n",
       "      <td>11</td>\n",
       "      <td>меньше 2 км</td>\n",
       "      <td>от 10 до 20 мин</td>\n",
       "      <td>6</td>\n",
       "      <td>0</td>\n",
       "      <td>199</td>\n",
       "    </tr>\n",
       "  </tbody>\n",
       "</table>\n",
       "</div>"
      ],
      "text/plain": [
       "   user_id  name  age    city subscription_type age_group     distance  \\\n",
       "0        1  Кира   22  Тюмень             ultra  молодежь  4409.919140   \n",
       "1        1  Кира   22  Тюмень             ultra  молодежь  2617.592153   \n",
       "2        1  Кира   22  Тюмень             ultra  молодежь   754.159807   \n",
       "3        1  Кира   22  Тюмень             ultra  молодежь  2694.783254   \n",
       "4        1  Кира   22  Тюмень             ultra  молодежь  4028.687306   \n",
       "5        1  Кира   22  Тюмень             ultra  молодежь  2770.890808   \n",
       "6        1  Кира   22  Тюмень             ultra  молодежь  3039.020292   \n",
       "7        1  Кира   22  Тюмень             ultra  молодежь  2842.118050   \n",
       "8        1  Кира   22  Тюмень             ultra  молодежь  3412.690668   \n",
       "9        1  Кира   22  Тюмень             ultra  молодежь   748.690645   \n",
       "\n",
       "    duration       date  month distance_group   duration_group  minute_price  \\\n",
       "0  25.599769 2021-01-01      1   от 4 до 6 км  от 20 до 30 мин             6   \n",
       "1  15.816871 2021-01-18      1   от 2 до 4 км  от 10 до 20 мин             6   \n",
       "2   6.232113 2021-04-20      4    меньше 2 км    меньше 10 мин             6   \n",
       "3  18.511000 2021-08-11      8   от 2 до 4 км  от 10 до 20 мин             6   \n",
       "4  26.265803 2021-08-28      8   от 4 до 6 км  от 20 до 30 мин             6   \n",
       "5  16.650138 2021-10-09     10   от 2 до 4 км  от 10 до 20 мин             6   \n",
       "6  14.927879 2021-10-19     10   от 2 до 4 км  от 10 до 20 мин             6   \n",
       "7  23.117468 2021-11-06     11   от 2 до 4 км  от 20 до 30 мин             6   \n",
       "8  15.238072 2021-11-14     11   от 2 до 4 км  от 10 до 20 мин             6   \n",
       "9  15.041884 2021-11-22     11    меньше 2 км  от 10 до 20 мин             6   \n",
       "\n",
       "   start_ride_price  subscription_fee  \n",
       "0                 0               199  \n",
       "1                 0               199  \n",
       "2                 0               199  \n",
       "3                 0               199  \n",
       "4                 0               199  \n",
       "5                 0               199  \n",
       "6                 0               199  \n",
       "7                 0               199  \n",
       "8                 0               199  \n",
       "9                 0               199  "
      ]
     },
     "execution_count": 61,
     "metadata": {},
     "output_type": "execute_result"
    }
   ],
   "source": [
    "df_ultra.head(10)"
   ]
  },
  {
   "cell_type": "markdown",
   "id": "ef390a79",
   "metadata": {},
   "source": [
    "**Таблица создана верно.**"
   ]
  },
  {
   "cell_type": "markdown",
   "id": "7db2a313",
   "metadata": {},
   "source": [
    "**Визуализируем информацию о расстоянии и времени поездок для пользователей двух категорий. Для этого создадим соответствующие сводные таблицы.**"
   ]
  },
  {
   "cell_type": "code",
   "execution_count": 62,
   "id": "c47fcc43",
   "metadata": {},
   "outputs": [],
   "source": [
    "distance_data_free = df_free.pivot_table(index='user_id',values='distance',aggfunc='mean')"
   ]
  },
  {
   "cell_type": "code",
   "execution_count": 63,
   "id": "f46e24c9",
   "metadata": {},
   "outputs": [],
   "source": [
    "distance_data_ultra = df_ultra.pivot_table(index='user_id',values='distance',aggfunc='mean')"
   ]
  },
  {
   "cell_type": "code",
   "execution_count": 64,
   "id": "32fa3bb0",
   "metadata": {},
   "outputs": [],
   "source": [
    "duration_data_free = df_free.pivot_table(index='user_id',values='duration',aggfunc='mean')"
   ]
  },
  {
   "cell_type": "code",
   "execution_count": 65,
   "id": "04c72fc1",
   "metadata": {},
   "outputs": [],
   "source": [
    "duration_data_ultra = df_ultra.pivot_table(index='user_id',values='duration',aggfunc='mean')"
   ]
  },
  {
   "cell_type": "markdown",
   "id": "68fe6066",
   "metadata": {},
   "source": [
    "**Теперь построим соответствующие распределения для расстояний и длительностей поездок для двух категорий подписок.**"
   ]
  },
  {
   "cell_type": "code",
   "execution_count": 66,
   "id": "bb5aa666",
   "metadata": {},
   "outputs": [
    {
     "data": {
      "image/png": "[encoded data removed]",
      "text/plain": [
       "<Figure size 640x480 with 1 Axes>"
      ]
     },
     "metadata": {},
     "output_type": "display_data"
    },
    {
     "data": {
      "image/png": "[encoded data removed]",
      "text/plain": [
       "<Figure size 640x480 with 1 Axes>"
      ]
     },
     "metadata": {},
     "output_type": "display_data"
    }
   ],
   "source": [
    "ax2 = distance_data_free['distance'].hist(bins=30,range=(0,5000));\n",
    "ax2.set(xlabel='Расстояние в метрах',ylabel='Количество пользователей',title='Без подписки');\n",
    "plt.show()\n",
    "ax3 = distance_data_ultra['distance'].hist(bins=30,range=(0,5000));\n",
    "ax3.set(xlabel='Расстояние в метрах',ylabel='Количество пользователей',title='C подпиской');\n",
    "plt.show()"
   ]
  },
  {
   "cell_type": "markdown",
   "id": "54bdf163",
   "metadata": {},
   "source": [
    "**Заметно, что наиболее частое значение пройденного расстояния пользователями с подпиской чуть выше анологичного расстояния для пользователей без неё.**"
   ]
  },
  {
   "cell_type": "code",
   "execution_count": 67,
   "id": "2c45b57e",
   "metadata": {},
   "outputs": [
    {
     "data": {
      "image/png": "[encoded data removed]",
      "text/plain": [
       "<Figure size 640x480 with 1 Axes>"
      ]
     },
     "metadata": {},
     "output_type": "display_data"
    },
    {
     "data": {
      "image/png": "[encoded data removed]",
      "text/plain": [
       "<Figure size 640x480 with 1 Axes>"
      ]
     },
     "metadata": {},
     "output_type": "display_data"
    }
   ],
   "source": [
    "ax4 = duration_data_free['duration'].hist(bins=30,range=(0,40));\n",
    "ax4.set(xlabel='Время в минутах',ylabel='Количество пользователей',title='Без подписки');\n",
    "plt.show()\n",
    "ax5 = duration_data_ultra['duration'].hist(bins=30,range=(0,40));\n",
    "ax5.set(xlabel='Время в минутах',ylabel='Количество пользователей',title='С подпиской');\n",
    "plt.show()"
   ]
  },
  {
   "cell_type": "markdown",
   "id": "fc53a234",
   "metadata": {},
   "source": [
    "**Видно, что наиболее частое значение продолжительности поездки у пользователей с подпиской чуть выше анологичной продолжительности у пользователей без подписки.**"
   ]
  },
  {
   "cell_type": "markdown",
   "id": "402d620f",
   "metadata": {},
   "source": [
    "#### Шаг 5. Подсчёт выручки"
   ]
  },
  {
   "cell_type": "markdown",
   "id": "84a03623",
   "metadata": {},
   "source": [
    "**Создадим датафрейм `aggregate_table` с агрегированными данными о поездках на основе датафрейма с объединёнными данными `data_final`: найдём суммарное расстояние, количество поездок и суммарное время для каждого пользователя за каждый месяц.**"
   ]
  },
  {
   "cell_type": "code",
   "execution_count": 68,
   "id": "b9ffd03b",
   "metadata": {},
   "outputs": [],
   "source": [
    "total_distance_array = [] # список для хранения данных о суммарном расстоянии\n",
    "total_rides_array = [] # список для хранения данных о количестве поездок\n",
    "total_duration_array = [] # список для хранения данных о суммарном времени поездок\n",
    "id_array = [] # список для хранения данных о индексах пользователей\n",
    "month_array_12 = [1,2,3,4,5,6,7,8,9,10,11,12] # список месяцев\n",
    "month_array = month_array_12 * data_final['user_id'].nunique() # список месяцев для всех индексов пользователей\n",
    "\n",
    "for id in data_final['user_id'].unique(): # для каждого уникального индекса пользователя\n",
    "    for month_number in range(1,13): # для каждого из 12 месяцев года\n",
    "        try: # случай, когда за месяц происходили поездки\n",
    "            total_distance = data_final[(data_final['user_id']==id)&(data_final['month']==month_number)]['distance'].sum()\n",
    "            total_rides = data_final[(data_final['user_id']==id)&(data_final['month']==month_number)]['user_id'].count()\n",
    "            total_duration = data_final[(data_final['user_id']==id)&(data_final['month']==month_number)]['duration'].sum()\n",
    "            total_distance_array.append(total_distance)\n",
    "            total_rides_array.append(total_rides)\n",
    "            total_duration_array.append(total_duration)\n",
    "            id_array.append(id)\n",
    "        except: # случай, когда за месяц не было поездок\n",
    "            total_distance = 0\n",
    "            total_rides = 0\n",
    "            total_duration = 0\n",
    "            total_distance_array.append(total_distance)\n",
    "            total_rides_array.append(total_rides)\n",
    "            total_duration_array.append(total_duration)\n",
    "            id_array.append(id)"
   ]
  },
  {
   "cell_type": "code",
   "execution_count": 69,
   "id": "1d61f1b3",
   "metadata": {},
   "outputs": [],
   "source": [
    "aggregate_table = pd.DataFrame({'month':month_array,'user_id':id_array,'total_distance':total_distance_array,'total_rides':total_rides_array,'total_duration':total_duration_array})"
   ]
  },
  {
   "cell_type": "markdown",
   "id": "b465a068",
   "metadata": {},
   "source": [
    "**Рассмотрим созданный датафрейм и проверим его содержимое.**"
   ]
  },
  {
   "cell_type": "code",
   "execution_count": 70,
   "id": "001d4690",
   "metadata": {},
   "outputs": [
    {
     "data": {
      "text/html": [
       "<div>\n",
       "<style scoped>\n",
       "    .dataframe tbody tr th:only-of-type {\n",
       "        vertical-align: middle;\n",
       "    }\n",
       "\n",
       "    .dataframe tbody tr th {\n",
       "        vertical-align: top;\n",
       "    }\n",
       "\n",
       "    .dataframe thead th {\n",
       "        text-align: right;\n",
       "    }\n",
       "</style>\n",
       "<table border=\"1\" class=\"dataframe\">\n",
       "  <thead>\n",
       "    <tr style=\"text-align: right;\">\n",
       "      <th></th>\n",
       "      <th>month</th>\n",
       "      <th>user_id</th>\n",
       "      <th>total_distance</th>\n",
       "      <th>total_rides</th>\n",
       "      <th>total_duration</th>\n",
       "    </tr>\n",
       "  </thead>\n",
       "  <tbody>\n",
       "    <tr>\n",
       "      <th>0</th>\n",
       "      <td>1</td>\n",
       "      <td>1</td>\n",
       "      <td>7027.511294</td>\n",
       "      <td>2</td>\n",
       "      <td>41.416640</td>\n",
       "    </tr>\n",
       "    <tr>\n",
       "      <th>1</th>\n",
       "      <td>2</td>\n",
       "      <td>1</td>\n",
       "      <td>0.000000</td>\n",
       "      <td>0</td>\n",
       "      <td>0.000000</td>\n",
       "    </tr>\n",
       "    <tr>\n",
       "      <th>2</th>\n",
       "      <td>3</td>\n",
       "      <td>1</td>\n",
       "      <td>0.000000</td>\n",
       "      <td>0</td>\n",
       "      <td>0.000000</td>\n",
       "    </tr>\n",
       "    <tr>\n",
       "      <th>3</th>\n",
       "      <td>4</td>\n",
       "      <td>1</td>\n",
       "      <td>754.159807</td>\n",
       "      <td>1</td>\n",
       "      <td>6.232113</td>\n",
       "    </tr>\n",
       "    <tr>\n",
       "      <th>4</th>\n",
       "      <td>5</td>\n",
       "      <td>1</td>\n",
       "      <td>0.000000</td>\n",
       "      <td>0</td>\n",
       "      <td>0.000000</td>\n",
       "    </tr>\n",
       "    <tr>\n",
       "      <th>5</th>\n",
       "      <td>6</td>\n",
       "      <td>1</td>\n",
       "      <td>0.000000</td>\n",
       "      <td>0</td>\n",
       "      <td>0.000000</td>\n",
       "    </tr>\n",
       "    <tr>\n",
       "      <th>6</th>\n",
       "      <td>7</td>\n",
       "      <td>1</td>\n",
       "      <td>0.000000</td>\n",
       "      <td>0</td>\n",
       "      <td>0.000000</td>\n",
       "    </tr>\n",
       "    <tr>\n",
       "      <th>7</th>\n",
       "      <td>8</td>\n",
       "      <td>1</td>\n",
       "      <td>6723.470560</td>\n",
       "      <td>2</td>\n",
       "      <td>44.776802</td>\n",
       "    </tr>\n",
       "    <tr>\n",
       "      <th>8</th>\n",
       "      <td>9</td>\n",
       "      <td>1</td>\n",
       "      <td>0.000000</td>\n",
       "      <td>0</td>\n",
       "      <td>0.000000</td>\n",
       "    </tr>\n",
       "    <tr>\n",
       "      <th>9</th>\n",
       "      <td>10</td>\n",
       "      <td>1</td>\n",
       "      <td>5809.911100</td>\n",
       "      <td>2</td>\n",
       "      <td>31.578017</td>\n",
       "    </tr>\n",
       "  </tbody>\n",
       "</table>\n",
       "</div>"
      ],
      "text/plain": [
       "   month  user_id  total_distance  total_rides  total_duration\n",
       "0      1        1     7027.511294            2       41.416640\n",
       "1      2        1        0.000000            0        0.000000\n",
       "2      3        1        0.000000            0        0.000000\n",
       "3      4        1      754.159807            1        6.232113\n",
       "4      5        1        0.000000            0        0.000000\n",
       "5      6        1        0.000000            0        0.000000\n",
       "6      7        1        0.000000            0        0.000000\n",
       "7      8        1     6723.470560            2       44.776802\n",
       "8      9        1        0.000000            0        0.000000\n",
       "9     10        1     5809.911100            2       31.578017"
      ]
     },
     "execution_count": 70,
     "metadata": {},
     "output_type": "execute_result"
    }
   ],
   "source": [
    "aggregate_table.head(10)"
   ]
  },
  {
   "cell_type": "markdown",
   "id": "f3e9fb7a",
   "metadata": {},
   "source": [
    "**Датафрейм `aggregate_table` правильно описывает необходимые метрики для каждого пользователя за каждый месяц.**"
   ]
  },
  {
   "cell_type": "markdown",
   "id": "b8ebe063",
   "metadata": {},
   "source": [
    "**Рассчитаем помесячную выручку и добавим эту метрику в новый столбец в таблицу `aggregate_table`.**"
   ]
  },
  {
   "cell_type": "markdown",
   "id": "8fa0b66d",
   "metadata": {},
   "source": [
    "**Сперва округлим в большую сторону все значения в столбце `total_duration` таблицы `aggregate_table`.**"
   ]
  },
  {
   "cell_type": "code",
   "execution_count": 71,
   "id": "cecf98d6",
   "metadata": {},
   "outputs": [],
   "source": [
    "aggregate_table['total_duration'] = np.ceil(aggregate_table['total_duration'])"
   ]
  },
  {
   "cell_type": "markdown",
   "id": "1090f2d4",
   "metadata": {},
   "source": [
    "**Уберем из датафрейма `aggregate_table` неинформативные строки.**"
   ]
  },
  {
   "cell_type": "code",
   "execution_count": 72,
   "id": "4bf42b34",
   "metadata": {},
   "outputs": [],
   "source": [
    "aggregate_table = aggregate_table[aggregate_table['total_rides'] != 0]"
   ]
  },
  {
   "cell_type": "markdown",
   "id": "d099a1a4",
   "metadata": {},
   "source": [
    "**Приведём индексы в порядок.**"
   ]
  },
  {
   "cell_type": "code",
   "execution_count": 73,
   "id": "88831d85",
   "metadata": {},
   "outputs": [],
   "source": [
    "aggregate_table = aggregate_table.reset_index(drop=True)"
   ]
  },
  {
   "cell_type": "markdown",
   "id": "e09958a8",
   "metadata": {},
   "source": [
    "**Посмотрим на полученную таблицу.**"
   ]
  },
  {
   "cell_type": "code",
   "execution_count": 74,
   "id": "48c1ddaa",
   "metadata": {},
   "outputs": [
    {
     "data": {
      "text/html": [
       "<div>\n",
       "<style scoped>\n",
       "    .dataframe tbody tr th:only-of-type {\n",
       "        vertical-align: middle;\n",
       "    }\n",
       "\n",
       "    .dataframe tbody tr th {\n",
       "        vertical-align: top;\n",
       "    }\n",
       "\n",
       "    .dataframe thead th {\n",
       "        text-align: right;\n",
       "    }\n",
       "</style>\n",
       "<table border=\"1\" class=\"dataframe\">\n",
       "  <thead>\n",
       "    <tr style=\"text-align: right;\">\n",
       "      <th></th>\n",
       "      <th>month</th>\n",
       "      <th>user_id</th>\n",
       "      <th>total_distance</th>\n",
       "      <th>total_rides</th>\n",
       "      <th>total_duration</th>\n",
       "    </tr>\n",
       "  </thead>\n",
       "  <tbody>\n",
       "    <tr>\n",
       "      <th>0</th>\n",
       "      <td>1</td>\n",
       "      <td>1</td>\n",
       "      <td>7027.511294</td>\n",
       "      <td>2</td>\n",
       "      <td>42.0</td>\n",
       "    </tr>\n",
       "    <tr>\n",
       "      <th>1</th>\n",
       "      <td>4</td>\n",
       "      <td>1</td>\n",
       "      <td>754.159807</td>\n",
       "      <td>1</td>\n",
       "      <td>7.0</td>\n",
       "    </tr>\n",
       "    <tr>\n",
       "      <th>2</th>\n",
       "      <td>8</td>\n",
       "      <td>1</td>\n",
       "      <td>6723.470560</td>\n",
       "      <td>2</td>\n",
       "      <td>45.0</td>\n",
       "    </tr>\n",
       "    <tr>\n",
       "      <th>3</th>\n",
       "      <td>10</td>\n",
       "      <td>1</td>\n",
       "      <td>5809.911100</td>\n",
       "      <td>2</td>\n",
       "      <td>32.0</td>\n",
       "    </tr>\n",
       "    <tr>\n",
       "      <th>4</th>\n",
       "      <td>11</td>\n",
       "      <td>1</td>\n",
       "      <td>7003.499363</td>\n",
       "      <td>3</td>\n",
       "      <td>54.0</td>\n",
       "    </tr>\n",
       "    <tr>\n",
       "      <th>5</th>\n",
       "      <td>12</td>\n",
       "      <td>1</td>\n",
       "      <td>6751.629942</td>\n",
       "      <td>2</td>\n",
       "      <td>28.0</td>\n",
       "    </tr>\n",
       "    <tr>\n",
       "      <th>6</th>\n",
       "      <td>3</td>\n",
       "      <td>2</td>\n",
       "      <td>10187.723006</td>\n",
       "      <td>3</td>\n",
       "      <td>61.0</td>\n",
       "    </tr>\n",
       "    <tr>\n",
       "      <th>7</th>\n",
       "      <td>4</td>\n",
       "      <td>2</td>\n",
       "      <td>6164.381824</td>\n",
       "      <td>2</td>\n",
       "      <td>40.0</td>\n",
       "    </tr>\n",
       "    <tr>\n",
       "      <th>8</th>\n",
       "      <td>6</td>\n",
       "      <td>2</td>\n",
       "      <td>3255.338202</td>\n",
       "      <td>1</td>\n",
       "      <td>14.0</td>\n",
       "    </tr>\n",
       "    <tr>\n",
       "      <th>9</th>\n",
       "      <td>7</td>\n",
       "      <td>2</td>\n",
       "      <td>6780.722964</td>\n",
       "      <td>2</td>\n",
       "      <td>47.0</td>\n",
       "    </tr>\n",
       "  </tbody>\n",
       "</table>\n",
       "</div>"
      ],
      "text/plain": [
       "   month  user_id  total_distance  total_rides  total_duration\n",
       "0      1        1     7027.511294            2            42.0\n",
       "1      4        1      754.159807            1             7.0\n",
       "2      8        1     6723.470560            2            45.0\n",
       "3     10        1     5809.911100            2            32.0\n",
       "4     11        1     7003.499363            3            54.0\n",
       "5     12        1     6751.629942            2            28.0\n",
       "6      3        2    10187.723006            3            61.0\n",
       "7      4        2     6164.381824            2            40.0\n",
       "8      6        2     3255.338202            1            14.0\n",
       "9      7        2     6780.722964            2            47.0"
      ]
     },
     "execution_count": 74,
     "metadata": {},
     "output_type": "execute_result"
    }
   ],
   "source": [
    "aggregate_table.head(10)"
   ]
  },
  {
   "cell_type": "markdown",
   "id": "e1850d56",
   "metadata": {},
   "source": [
    "**Индексы идут по порядку, значения в столбце `total_duration` округлены в большую сторону, неинформативные строки убраны.**"
   ]
  },
  {
   "cell_type": "markdown",
   "id": "6fdbcd6f",
   "metadata": {},
   "source": [
    "**Перед расчётом помесячной выручки добавим в таблицу `aggregate_table` все необходимые столбцы.**"
   ]
  },
  {
   "cell_type": "code",
   "execution_count": 75,
   "id": "daec0871",
   "metadata": {},
   "outputs": [],
   "source": [
    "aggregate_table_2 = aggregate_table.merge(users, on='user_id', how='left')\n",
    "aggregate_table_2 = aggregate_table_2.drop(columns=['name','age','city','age_group'])\n",
    "aggregate_table_3 = aggregate_table_2.merge(subscriptions, on ='subscription_type', how='left')"
   ]
  },
  {
   "cell_type": "code",
   "execution_count": 76,
   "id": "c858b8ca",
   "metadata": {},
   "outputs": [
    {
     "data": {
      "text/html": [
       "<div>\n",
       "<style scoped>\n",
       "    .dataframe tbody tr th:only-of-type {\n",
       "        vertical-align: middle;\n",
       "    }\n",
       "\n",
       "    .dataframe tbody tr th {\n",
       "        vertical-align: top;\n",
       "    }\n",
       "\n",
       "    .dataframe thead th {\n",
       "        text-align: right;\n",
       "    }\n",
       "</style>\n",
       "<table border=\"1\" class=\"dataframe\">\n",
       "  <thead>\n",
       "    <tr style=\"text-align: right;\">\n",
       "      <th></th>\n",
       "      <th>month</th>\n",
       "      <th>user_id</th>\n",
       "      <th>total_distance</th>\n",
       "      <th>total_rides</th>\n",
       "      <th>total_duration</th>\n",
       "      <th>subscription_type</th>\n",
       "      <th>minute_price</th>\n",
       "      <th>start_ride_price</th>\n",
       "      <th>subscription_fee</th>\n",
       "    </tr>\n",
       "  </thead>\n",
       "  <tbody>\n",
       "    <tr>\n",
       "      <th>0</th>\n",
       "      <td>1</td>\n",
       "      <td>1</td>\n",
       "      <td>7027.511294</td>\n",
       "      <td>2</td>\n",
       "      <td>42.0</td>\n",
       "      <td>ultra</td>\n",
       "      <td>6</td>\n",
       "      <td>0</td>\n",
       "      <td>199</td>\n",
       "    </tr>\n",
       "    <tr>\n",
       "      <th>1</th>\n",
       "      <td>4</td>\n",
       "      <td>1</td>\n",
       "      <td>754.159807</td>\n",
       "      <td>1</td>\n",
       "      <td>7.0</td>\n",
       "      <td>ultra</td>\n",
       "      <td>6</td>\n",
       "      <td>0</td>\n",
       "      <td>199</td>\n",
       "    </tr>\n",
       "    <tr>\n",
       "      <th>2</th>\n",
       "      <td>8</td>\n",
       "      <td>1</td>\n",
       "      <td>6723.470560</td>\n",
       "      <td>2</td>\n",
       "      <td>45.0</td>\n",
       "      <td>ultra</td>\n",
       "      <td>6</td>\n",
       "      <td>0</td>\n",
       "      <td>199</td>\n",
       "    </tr>\n",
       "    <tr>\n",
       "      <th>3</th>\n",
       "      <td>10</td>\n",
       "      <td>1</td>\n",
       "      <td>5809.911100</td>\n",
       "      <td>2</td>\n",
       "      <td>32.0</td>\n",
       "      <td>ultra</td>\n",
       "      <td>6</td>\n",
       "      <td>0</td>\n",
       "      <td>199</td>\n",
       "    </tr>\n",
       "    <tr>\n",
       "      <th>4</th>\n",
       "      <td>11</td>\n",
       "      <td>1</td>\n",
       "      <td>7003.499363</td>\n",
       "      <td>3</td>\n",
       "      <td>54.0</td>\n",
       "      <td>ultra</td>\n",
       "      <td>6</td>\n",
       "      <td>0</td>\n",
       "      <td>199</td>\n",
       "    </tr>\n",
       "    <tr>\n",
       "      <th>5</th>\n",
       "      <td>12</td>\n",
       "      <td>1</td>\n",
       "      <td>6751.629942</td>\n",
       "      <td>2</td>\n",
       "      <td>28.0</td>\n",
       "      <td>ultra</td>\n",
       "      <td>6</td>\n",
       "      <td>0</td>\n",
       "      <td>199</td>\n",
       "    </tr>\n",
       "    <tr>\n",
       "      <th>6</th>\n",
       "      <td>3</td>\n",
       "      <td>2</td>\n",
       "      <td>10187.723006</td>\n",
       "      <td>3</td>\n",
       "      <td>61.0</td>\n",
       "      <td>ultra</td>\n",
       "      <td>6</td>\n",
       "      <td>0</td>\n",
       "      <td>199</td>\n",
       "    </tr>\n",
       "    <tr>\n",
       "      <th>7</th>\n",
       "      <td>4</td>\n",
       "      <td>2</td>\n",
       "      <td>6164.381824</td>\n",
       "      <td>2</td>\n",
       "      <td>40.0</td>\n",
       "      <td>ultra</td>\n",
       "      <td>6</td>\n",
       "      <td>0</td>\n",
       "      <td>199</td>\n",
       "    </tr>\n",
       "    <tr>\n",
       "      <th>8</th>\n",
       "      <td>6</td>\n",
       "      <td>2</td>\n",
       "      <td>3255.338202</td>\n",
       "      <td>1</td>\n",
       "      <td>14.0</td>\n",
       "      <td>ultra</td>\n",
       "      <td>6</td>\n",
       "      <td>0</td>\n",
       "      <td>199</td>\n",
       "    </tr>\n",
       "    <tr>\n",
       "      <th>9</th>\n",
       "      <td>7</td>\n",
       "      <td>2</td>\n",
       "      <td>6780.722964</td>\n",
       "      <td>2</td>\n",
       "      <td>47.0</td>\n",
       "      <td>ultra</td>\n",
       "      <td>6</td>\n",
       "      <td>0</td>\n",
       "      <td>199</td>\n",
       "    </tr>\n",
       "  </tbody>\n",
       "</table>\n",
       "</div>"
      ],
      "text/plain": [
       "   month  user_id  total_distance  total_rides  total_duration  \\\n",
       "0      1        1     7027.511294            2            42.0   \n",
       "1      4        1      754.159807            1             7.0   \n",
       "2      8        1     6723.470560            2            45.0   \n",
       "3     10        1     5809.911100            2            32.0   \n",
       "4     11        1     7003.499363            3            54.0   \n",
       "5     12        1     6751.629942            2            28.0   \n",
       "6      3        2    10187.723006            3            61.0   \n",
       "7      4        2     6164.381824            2            40.0   \n",
       "8      6        2     3255.338202            1            14.0   \n",
       "9      7        2     6780.722964            2            47.0   \n",
       "\n",
       "  subscription_type  minute_price  start_ride_price  subscription_fee  \n",
       "0             ultra             6                 0               199  \n",
       "1             ultra             6                 0               199  \n",
       "2             ultra             6                 0               199  \n",
       "3             ultra             6                 0               199  \n",
       "4             ultra             6                 0               199  \n",
       "5             ultra             6                 0               199  \n",
       "6             ultra             6                 0               199  \n",
       "7             ultra             6                 0               199  \n",
       "8             ultra             6                 0               199  \n",
       "9             ultra             6                 0               199  "
      ]
     },
     "execution_count": 76,
     "metadata": {},
     "output_type": "execute_result"
    }
   ],
   "source": [
    "aggregate_table_3.head(10)"
   ]
  },
  {
   "cell_type": "markdown",
   "id": "27afc434",
   "metadata": {},
   "source": [
    "**Теперь рассчитаем помесячную выручку и добавим в таблицу `aggregate_table_3` соответствующий столбец.**"
   ]
  },
  {
   "cell_type": "code",
   "execution_count": 77,
   "id": "b3f24ebc",
   "metadata": {},
   "outputs": [],
   "source": [
    "aggregate_table_3['price_per_month'] = aggregate_table_3['minute_price']*aggregate_table_3['total_duration'] + aggregate_table_3['start_ride_price']*aggregate_table_3['total_rides'] + aggregate_table_3['subscription_fee']"
   ]
  },
  {
   "cell_type": "markdown",
   "id": "0adefe52",
   "metadata": {},
   "source": [
    "**Проверим, добавился ли новый столбец и что в нём отобразилось.**"
   ]
  },
  {
   "cell_type": "code",
   "execution_count": 78,
   "id": "ebde4b3d",
   "metadata": {},
   "outputs": [
    {
     "data": {
      "text/html": [
       "<div>\n",
       "<style scoped>\n",
       "    .dataframe tbody tr th:only-of-type {\n",
       "        vertical-align: middle;\n",
       "    }\n",
       "\n",
       "    .dataframe tbody tr th {\n",
       "        vertical-align: top;\n",
       "    }\n",
       "\n",
       "    .dataframe thead th {\n",
       "        text-align: right;\n",
       "    }\n",
       "</style>\n",
       "<table border=\"1\" class=\"dataframe\">\n",
       "  <thead>\n",
       "    <tr style=\"text-align: right;\">\n",
       "      <th></th>\n",
       "      <th>month</th>\n",
       "      <th>user_id</th>\n",
       "      <th>total_distance</th>\n",
       "      <th>total_rides</th>\n",
       "      <th>total_duration</th>\n",
       "      <th>subscription_type</th>\n",
       "      <th>minute_price</th>\n",
       "      <th>start_ride_price</th>\n",
       "      <th>subscription_fee</th>\n",
       "      <th>price_per_month</th>\n",
       "    </tr>\n",
       "  </thead>\n",
       "  <tbody>\n",
       "    <tr>\n",
       "      <th>0</th>\n",
       "      <td>1</td>\n",
       "      <td>1</td>\n",
       "      <td>7027.511294</td>\n",
       "      <td>2</td>\n",
       "      <td>42.0</td>\n",
       "      <td>ultra</td>\n",
       "      <td>6</td>\n",
       "      <td>0</td>\n",
       "      <td>199</td>\n",
       "      <td>451.0</td>\n",
       "    </tr>\n",
       "    <tr>\n",
       "      <th>1</th>\n",
       "      <td>4</td>\n",
       "      <td>1</td>\n",
       "      <td>754.159807</td>\n",
       "      <td>1</td>\n",
       "      <td>7.0</td>\n",
       "      <td>ultra</td>\n",
       "      <td>6</td>\n",
       "      <td>0</td>\n",
       "      <td>199</td>\n",
       "      <td>241.0</td>\n",
       "    </tr>\n",
       "    <tr>\n",
       "      <th>2</th>\n",
       "      <td>8</td>\n",
       "      <td>1</td>\n",
       "      <td>6723.470560</td>\n",
       "      <td>2</td>\n",
       "      <td>45.0</td>\n",
       "      <td>ultra</td>\n",
       "      <td>6</td>\n",
       "      <td>0</td>\n",
       "      <td>199</td>\n",
       "      <td>469.0</td>\n",
       "    </tr>\n",
       "    <tr>\n",
       "      <th>3</th>\n",
       "      <td>10</td>\n",
       "      <td>1</td>\n",
       "      <td>5809.911100</td>\n",
       "      <td>2</td>\n",
       "      <td>32.0</td>\n",
       "      <td>ultra</td>\n",
       "      <td>6</td>\n",
       "      <td>0</td>\n",
       "      <td>199</td>\n",
       "      <td>391.0</td>\n",
       "    </tr>\n",
       "    <tr>\n",
       "      <th>4</th>\n",
       "      <td>11</td>\n",
       "      <td>1</td>\n",
       "      <td>7003.499363</td>\n",
       "      <td>3</td>\n",
       "      <td>54.0</td>\n",
       "      <td>ultra</td>\n",
       "      <td>6</td>\n",
       "      <td>0</td>\n",
       "      <td>199</td>\n",
       "      <td>523.0</td>\n",
       "    </tr>\n",
       "    <tr>\n",
       "      <th>5</th>\n",
       "      <td>12</td>\n",
       "      <td>1</td>\n",
       "      <td>6751.629942</td>\n",
       "      <td>2</td>\n",
       "      <td>28.0</td>\n",
       "      <td>ultra</td>\n",
       "      <td>6</td>\n",
       "      <td>0</td>\n",
       "      <td>199</td>\n",
       "      <td>367.0</td>\n",
       "    </tr>\n",
       "    <tr>\n",
       "      <th>6</th>\n",
       "      <td>3</td>\n",
       "      <td>2</td>\n",
       "      <td>10187.723006</td>\n",
       "      <td>3</td>\n",
       "      <td>61.0</td>\n",
       "      <td>ultra</td>\n",
       "      <td>6</td>\n",
       "      <td>0</td>\n",
       "      <td>199</td>\n",
       "      <td>565.0</td>\n",
       "    </tr>\n",
       "    <tr>\n",
       "      <th>7</th>\n",
       "      <td>4</td>\n",
       "      <td>2</td>\n",
       "      <td>6164.381824</td>\n",
       "      <td>2</td>\n",
       "      <td>40.0</td>\n",
       "      <td>ultra</td>\n",
       "      <td>6</td>\n",
       "      <td>0</td>\n",
       "      <td>199</td>\n",
       "      <td>439.0</td>\n",
       "    </tr>\n",
       "    <tr>\n",
       "      <th>8</th>\n",
       "      <td>6</td>\n",
       "      <td>2</td>\n",
       "      <td>3255.338202</td>\n",
       "      <td>1</td>\n",
       "      <td>14.0</td>\n",
       "      <td>ultra</td>\n",
       "      <td>6</td>\n",
       "      <td>0</td>\n",
       "      <td>199</td>\n",
       "      <td>283.0</td>\n",
       "    </tr>\n",
       "    <tr>\n",
       "      <th>9</th>\n",
       "      <td>7</td>\n",
       "      <td>2</td>\n",
       "      <td>6780.722964</td>\n",
       "      <td>2</td>\n",
       "      <td>47.0</td>\n",
       "      <td>ultra</td>\n",
       "      <td>6</td>\n",
       "      <td>0</td>\n",
       "      <td>199</td>\n",
       "      <td>481.0</td>\n",
       "    </tr>\n",
       "  </tbody>\n",
       "</table>\n",
       "</div>"
      ],
      "text/plain": [
       "   month  user_id  total_distance  total_rides  total_duration  \\\n",
       "0      1        1     7027.511294            2            42.0   \n",
       "1      4        1      754.159807            1             7.0   \n",
       "2      8        1     6723.470560            2            45.0   \n",
       "3     10        1     5809.911100            2            32.0   \n",
       "4     11        1     7003.499363            3            54.0   \n",
       "5     12        1     6751.629942            2            28.0   \n",
       "6      3        2    10187.723006            3            61.0   \n",
       "7      4        2     6164.381824            2            40.0   \n",
       "8      6        2     3255.338202            1            14.0   \n",
       "9      7        2     6780.722964            2            47.0   \n",
       "\n",
       "  subscription_type  minute_price  start_ride_price  subscription_fee  \\\n",
       "0             ultra             6                 0               199   \n",
       "1             ultra             6                 0               199   \n",
       "2             ultra             6                 0               199   \n",
       "3             ultra             6                 0               199   \n",
       "4             ultra             6                 0               199   \n",
       "5             ultra             6                 0               199   \n",
       "6             ultra             6                 0               199   \n",
       "7             ultra             6                 0               199   \n",
       "8             ultra             6                 0               199   \n",
       "9             ultra             6                 0               199   \n",
       "\n",
       "   price_per_month  \n",
       "0            451.0  \n",
       "1            241.0  \n",
       "2            469.0  \n",
       "3            391.0  \n",
       "4            523.0  \n",
       "5            367.0  \n",
       "6            565.0  \n",
       "7            439.0  \n",
       "8            283.0  \n",
       "9            481.0  "
      ]
     },
     "execution_count": 78,
     "metadata": {},
     "output_type": "execute_result"
    }
   ],
   "source": [
    "aggregate_table_3.head(10)"
   ]
  },
  {
   "cell_type": "markdown",
   "id": "2757a681",
   "metadata": {},
   "source": [
    "**Столбец добавлен, значения в нём корректные.**"
   ]
  },
  {
   "cell_type": "markdown",
   "id": "990b3a6c",
   "metadata": {},
   "source": [
    "**Теперь уберём лишние столбцы из датафрейма `aggregate_table_3`.**"
   ]
  },
  {
   "cell_type": "code",
   "execution_count": 79,
   "id": "a6d2e06c",
   "metadata": {},
   "outputs": [],
   "source": [
    "aggregate_table_3 = aggregate_table_3.drop(columns=['minute_price','start_ride_price','subscription_fee'])"
   ]
  },
  {
   "cell_type": "markdown",
   "id": "f9c9e2d3",
   "metadata": {},
   "source": [
    "**Выведем первые 30 строк обработанного датафрейма `aggregate_table_3` на экран.**"
   ]
  },
  {
   "cell_type": "code",
   "execution_count": 80,
   "id": "40f0427b",
   "metadata": {
    "scrolled": true
   },
   "outputs": [
    {
     "data": {
      "text/html": [
       "<div>\n",
       "<style scoped>\n",
       "    .dataframe tbody tr th:only-of-type {\n",
       "        vertical-align: middle;\n",
       "    }\n",
       "\n",
       "    .dataframe tbody tr th {\n",
       "        vertical-align: top;\n",
       "    }\n",
       "\n",
       "    .dataframe thead th {\n",
       "        text-align: right;\n",
       "    }\n",
       "</style>\n",
       "<table border=\"1\" class=\"dataframe\">\n",
       "  <thead>\n",
       "    <tr style=\"text-align: right;\">\n",
       "      <th></th>\n",
       "      <th>month</th>\n",
       "      <th>user_id</th>\n",
       "      <th>total_distance</th>\n",
       "      <th>total_rides</th>\n",
       "      <th>total_duration</th>\n",
       "      <th>subscription_type</th>\n",
       "      <th>price_per_month</th>\n",
       "    </tr>\n",
       "  </thead>\n",
       "  <tbody>\n",
       "    <tr>\n",
       "      <th>0</th>\n",
       "      <td>1</td>\n",
       "      <td>1</td>\n",
       "      <td>7027.511294</td>\n",
       "      <td>2</td>\n",
       "      <td>42.0</td>\n",
       "      <td>ultra</td>\n",
       "      <td>451.0</td>\n",
       "    </tr>\n",
       "    <tr>\n",
       "      <th>1</th>\n",
       "      <td>4</td>\n",
       "      <td>1</td>\n",
       "      <td>754.159807</td>\n",
       "      <td>1</td>\n",
       "      <td>7.0</td>\n",
       "      <td>ultra</td>\n",
       "      <td>241.0</td>\n",
       "    </tr>\n",
       "    <tr>\n",
       "      <th>2</th>\n",
       "      <td>8</td>\n",
       "      <td>1</td>\n",
       "      <td>6723.470560</td>\n",
       "      <td>2</td>\n",
       "      <td>45.0</td>\n",
       "      <td>ultra</td>\n",
       "      <td>469.0</td>\n",
       "    </tr>\n",
       "    <tr>\n",
       "      <th>3</th>\n",
       "      <td>10</td>\n",
       "      <td>1</td>\n",
       "      <td>5809.911100</td>\n",
       "      <td>2</td>\n",
       "      <td>32.0</td>\n",
       "      <td>ultra</td>\n",
       "      <td>391.0</td>\n",
       "    </tr>\n",
       "    <tr>\n",
       "      <th>4</th>\n",
       "      <td>11</td>\n",
       "      <td>1</td>\n",
       "      <td>7003.499363</td>\n",
       "      <td>3</td>\n",
       "      <td>54.0</td>\n",
       "      <td>ultra</td>\n",
       "      <td>523.0</td>\n",
       "    </tr>\n",
       "    <tr>\n",
       "      <th>5</th>\n",
       "      <td>12</td>\n",
       "      <td>1</td>\n",
       "      <td>6751.629942</td>\n",
       "      <td>2</td>\n",
       "      <td>28.0</td>\n",
       "      <td>ultra</td>\n",
       "      <td>367.0</td>\n",
       "    </tr>\n",
       "    <tr>\n",
       "      <th>6</th>\n",
       "      <td>3</td>\n",
       "      <td>2</td>\n",
       "      <td>10187.723006</td>\n",
       "      <td>3</td>\n",
       "      <td>61.0</td>\n",
       "      <td>ultra</td>\n",
       "      <td>565.0</td>\n",
       "    </tr>\n",
       "    <tr>\n",
       "      <th>7</th>\n",
       "      <td>4</td>\n",
       "      <td>2</td>\n",
       "      <td>6164.381824</td>\n",
       "      <td>2</td>\n",
       "      <td>40.0</td>\n",
       "      <td>ultra</td>\n",
       "      <td>439.0</td>\n",
       "    </tr>\n",
       "    <tr>\n",
       "      <th>8</th>\n",
       "      <td>6</td>\n",
       "      <td>2</td>\n",
       "      <td>3255.338202</td>\n",
       "      <td>1</td>\n",
       "      <td>14.0</td>\n",
       "      <td>ultra</td>\n",
       "      <td>283.0</td>\n",
       "    </tr>\n",
       "    <tr>\n",
       "      <th>9</th>\n",
       "      <td>7</td>\n",
       "      <td>2</td>\n",
       "      <td>6780.722964</td>\n",
       "      <td>2</td>\n",
       "      <td>47.0</td>\n",
       "      <td>ultra</td>\n",
       "      <td>481.0</td>\n",
       "    </tr>\n",
       "  </tbody>\n",
       "</table>\n",
       "</div>"
      ],
      "text/plain": [
       "   month  user_id  total_distance  total_rides  total_duration  \\\n",
       "0      1        1     7027.511294            2            42.0   \n",
       "1      4        1      754.159807            1             7.0   \n",
       "2      8        1     6723.470560            2            45.0   \n",
       "3     10        1     5809.911100            2            32.0   \n",
       "4     11        1     7003.499363            3            54.0   \n",
       "5     12        1     6751.629942            2            28.0   \n",
       "6      3        2    10187.723006            3            61.0   \n",
       "7      4        2     6164.381824            2            40.0   \n",
       "8      6        2     3255.338202            1            14.0   \n",
       "9      7        2     6780.722964            2            47.0   \n",
       "\n",
       "  subscription_type  price_per_month  \n",
       "0             ultra            451.0  \n",
       "1             ultra            241.0  \n",
       "2             ultra            469.0  \n",
       "3             ultra            391.0  \n",
       "4             ultra            523.0  \n",
       "5             ultra            367.0  \n",
       "6             ultra            565.0  \n",
       "7             ultra            439.0  \n",
       "8             ultra            283.0  \n",
       "9             ultra            481.0  "
      ]
     },
     "execution_count": 80,
     "metadata": {},
     "output_type": "execute_result"
    }
   ],
   "source": [
    "aggregate_table_3.head(10)"
   ]
  },
  {
   "cell_type": "markdown",
   "id": "41545ac0",
   "metadata": {},
   "source": [
    "#### Шаг 6. Проверка гипотез"
   ]
  },
  {
   "cell_type": "markdown",
   "id": "87e1509b",
   "metadata": {},
   "source": [
    "**Проверим, тратят ли пользователи с подпиской больше времени на поездки.**"
   ]
  },
  {
   "cell_type": "markdown",
   "id": "c6aa561e",
   "metadata": {},
   "source": [
    "**Сформулируем нулевую и альтернативную гипотезы.**"
   ]
  },
  {
   "cell_type": "markdown",
   "id": "b010dfae",
   "metadata": {},
   "source": [
    "**Нулевая гипотеза: средние значения времени поездки пользователей с подпиской и без равны.**"
   ]
  },
  {
   "cell_type": "markdown",
   "id": "e8886e1b",
   "metadata": {},
   "source": [
    "**Альтернативная гипотеза: среднее значение времени поездки пользователей с подпиской больше среднего значения времени поездки пользователей без подписки.**"
   ]
  },
  {
   "cell_type": "markdown",
   "id": "51fce5ea",
   "metadata": {},
   "source": [
    "**Проверим гипотезы.**"
   ]
  },
  {
   "cell_type": "code",
   "execution_count": 81,
   "id": "ec85496b",
   "metadata": {},
   "outputs": [
    {
     "name": "stdout",
     "output_type": "stream",
     "text": [
      "p-значение: 1.664581641646187e-27\n",
      "отвергаем нулевую гипотезу в сторону альтернативной\n"
     ]
    }
   ],
   "source": [
    "alpha = 0.05 \n",
    "\n",
    "duration_free = duration_data_free['duration']\n",
    "duration_ultra = duration_data_ultra['duration']\n",
    "\n",
    "result = st.ttest_ind(duration_ultra,duration_free,alternative='greater')\n",
    "\n",
    "print(f'p-значение: {result.pvalue}')\n",
    "\n",
    "if result.pvalue < alpha:\n",
    "    print('отвергаем нулевую гипотезу в сторону альтернативной')\n",
    "else:\n",
    "    print('нет оснований отвергнуть нулевую гипотезу')\n"
   ]
  },
  {
   "cell_type": "markdown",
   "id": "6d1648fb",
   "metadata": {},
   "source": [
    "**Есть основания говорить, что пользователи с подпиской тратят больше времени на поездки.**"
   ]
  },
  {
   "cell_type": "markdown",
   "id": "7830eb74",
   "metadata": {},
   "source": [
    "**Проверим, не превышает ли 3130 метров расстояние, которое проезжают пользователи с подпиской за одну поездку.**"
   ]
  },
  {
   "cell_type": "markdown",
   "id": "e06ee035",
   "metadata": {},
   "source": [
    "**Сформулируем нулевую и альтернативную гипотезы.**"
   ]
  },
  {
   "cell_type": "markdown",
   "id": "067888b5",
   "metadata": {},
   "source": [
    "**Нулевая гипотеза: среднее значение расстояния, которое проезжают пользователи равно 3130 метров.**"
   ]
  },
  {
   "cell_type": "markdown",
   "id": "dd9ba4d8",
   "metadata": {},
   "source": [
    "**Альтернативная гипотеза: среднее значение расстояния, которое проезжают пользователи больше 3130 метров.**"
   ]
  },
  {
   "cell_type": "markdown",
   "id": "31e78d6c",
   "metadata": {},
   "source": [
    "**Проверим гипотезы.**"
   ]
  },
  {
   "cell_type": "code",
   "execution_count": 82,
   "id": "eebf8510",
   "metadata": {},
   "outputs": [
    {
     "name": "stdout",
     "output_type": "stream",
     "text": [
      "p-значение: 0.9275041260050892\n",
      "нет оснований отвергнуть нулевую гипотезу\n"
     ]
    }
   ],
   "source": [
    "alpha = 0.05\n",
    "\n",
    "distance_ultra = distance_data_ultra['distance']\n",
    "\n",
    "mean_distance = 3130\n",
    "\n",
    "result = st.ttest_1samp(distance_ultra,mean_distance,alternative='greater')\n",
    "\n",
    "print(f'p-значение: {result.pvalue}')\n",
    "\n",
    "if result.pvalue < alpha:\n",
    "    print('отвергаем нулевую гипотезу в сторону альтернативной')\n",
    "else:\n",
    "    print('нет оснований отвергнуть нулевую гипотезу')"
   ]
  },
  {
   "cell_type": "markdown",
   "id": "7b0dab40",
   "metadata": {},
   "source": [
    "**Есть основания говорить, что расстояние, которое проезжают пользователи с подпиской за одну поездку, не превышает 3130 метров.**"
   ]
  },
  {
   "cell_type": "markdown",
   "id": "2d919e7e",
   "metadata": {},
   "source": [
    "**Проверим, будет ли помесячная выручка от пользователей с подпиской по месяцам выше, чем выручка от пользователей без подписки.**"
   ]
  },
  {
   "cell_type": "markdown",
   "id": "7d35d511",
   "metadata": {},
   "source": [
    "**Сформулируем нулевую и альтернативную гипотезы.**"
   ]
  },
  {
   "cell_type": "markdown",
   "id": "0811035b",
   "metadata": {},
   "source": [
    "**Нулевая гипотеза: средние значения помесячной выручки пользователей с подпиской и без равны.**"
   ]
  },
  {
   "cell_type": "markdown",
   "id": "3acdcdef",
   "metadata": {},
   "source": [
    "**Альтернативная гипотеза: среднее значение помесячной выручки пользователей с подпиской больше среднего значения помесячной выручки пользователей без подписки.**"
   ]
  },
  {
   "cell_type": "markdown",
   "id": "758ad564",
   "metadata": {},
   "source": [
    "**Проверим гипотезы.**"
   ]
  },
  {
   "cell_type": "code",
   "execution_count": 83,
   "id": "2873ec20",
   "metadata": {},
   "outputs": [
    {
     "name": "stdout",
     "output_type": "stream",
     "text": [
      "p-значение: 3.914474385320123e-34\n",
      "отвергаем нулевую гипотезу в сторону альтернативной\n"
     ]
    }
   ],
   "source": [
    "alpha = 0.05 \n",
    "\n",
    "month_income_free = aggregate_table_3[aggregate_table_3['subscription_type']=='free']['price_per_month']\n",
    "month_income_ultra = aggregate_table_3[aggregate_table_3['subscription_type']=='ultra']['price_per_month']\n",
    "\n",
    "result = st.ttest_ind(month_income_ultra,month_income_free,alternative='greater')\n",
    "\n",
    "print(f'p-значение: {result.pvalue}')\n",
    "\n",
    "if result.pvalue < alpha:\n",
    "    print('отвергаем нулевую гипотезу в сторону альтернативной')\n",
    "else:\n",
    "    print('нет оснований отвергнуть нулевую гипотезу')\n"
   ]
  },
  {
   "cell_type": "markdown",
   "id": "4a0bdcc1",
   "metadata": {},
   "source": [
    "**Есть основания говорить, что пользователи с подпиской тратят больше денег в месяц на поездки. Соответственно сервису нужно стремится к тому, чтобы пользователи покупали подписку чаще.**"
   ]
  },
  {
   "cell_type": "markdown",
   "id": "a63c813b",
   "metadata": {},
   "source": [
    "**Представим такую ситуацию: техническая команда сервиса обновила сервера, с которыми взаимодействует мобильное приложение. Она надеется, что из-за этого количество обращений в техподдержку значимо снизилось. Некоторый файл содержит для каждого пользователя данные о количестве обращений до обновления и после него.**"
   ]
  },
  {
   "cell_type": "markdown",
   "id": "e912ecd7",
   "metadata": {},
   "source": [
    "**Эта гипотеза относится к гипотезам о равенстве средних для зависимых (парных) выборок. Для проверки этой гипотезы понадобился бы тест `st.ttest_rel` из библиотеки `scipy.stats`.**"
   ]
  },
  {
   "cell_type": "markdown",
   "id": "2240df65",
   "metadata": {},
   "source": [
    "#### Общий вывод"
   ]
  },
  {
   "cell_type": "markdown",
   "id": "f56303a7",
   "metadata": {},
   "source": [
    "В результате исследования были получены следующие результаты:\n",
    "* больше всего пользователей в Пятигорске, а меньше всего - в Москве\n",
    "* пользователей без подписки больше на 8%\n",
    "* взрослых пользователей сервиса больше всего. Молодежи чуть меньше, а подростков совсем мало. Больше всего пользователей, которым 25 лет\n",
    "* больше всего пользователей преодолели за одну поездку от 2 до 4 километров. Примерно одинаковые части пользователей приодолели меньше 2 километров и от 4 до 6 километров. Более 6 километров преодолели единицы пользователей\n",
    "* продолжительность поездки пользователей сервиса чаще всего оказывается в пределах от 10 до 20 минут. Нередки случаи и с поездками по 20 - 30 минут. А вот поездки меньше 10 минут и более получаса редкие\n",
    "\n",
    "* пользователи с подпиской могут быть \"выгоднее\" для компании, так как есть основания говорить, что они тратят больше времени на поездки\n",
    "* скорее всего самокаты не будут изношены, так как есть основания говорить, что расстояние, которое проезжают пользователи с подпиской за одну поездку, не превышает 3130 метров\n",
    "* сервису нужно стремится к тому, чтобы пользователи покупали подписку чаще, так как есть основания говорить, что такие пользователи тратят больше денег в месяц на поездки"
   ]
  }
 ],
 "metadata": {
  "ExecuteTimeLog": [
   {
    "duration": 406,
    "start_time": "2023-05-27T10:28:20.483Z"
   },
   {
    "duration": 86,
    "start_time": "2023-05-27T10:33:09.803Z"
   },
   {
    "duration": 15,
    "start_time": "2023-05-27T10:35:29.731Z"
   },
   {
    "duration": 12,
    "start_time": "2023-05-27T10:37:45.509Z"
   },
   {
    "duration": 8,
    "start_time": "2023-05-27T10:42:42.549Z"
   },
   {
    "duration": 6,
    "start_time": "2023-05-27T10:44:16.186Z"
   },
   {
    "duration": 723,
    "start_time": "2023-05-27T10:51:25.271Z"
   },
   {
    "duration": 233,
    "start_time": "2023-05-27T10:56:13.199Z"
   },
   {
    "duration": 4,
    "start_time": "2023-05-27T10:56:36.862Z"
   },
   {
    "duration": 431,
    "start_time": "2023-05-27T10:57:04.394Z"
   },
   {
    "duration": 266,
    "start_time": "2023-05-27T10:57:10.519Z"
   },
   {
    "duration": 322,
    "start_time": "2023-05-27T10:57:14.247Z"
   },
   {
    "duration": 216,
    "start_time": "2023-05-27T10:57:20.647Z"
   },
   {
    "duration": 160,
    "start_time": "2023-05-27T11:01:12.076Z"
   },
   {
    "duration": 13,
    "start_time": "2023-05-27T11:01:52.090Z"
   },
   {
    "duration": 9,
    "start_time": "2023-05-27T11:02:15.800Z"
   },
   {
    "duration": 9,
    "start_time": "2023-05-27T11:02:25.185Z"
   },
   {
    "duration": 12,
    "start_time": "2023-05-27T11:03:49.688Z"
   },
   {
    "duration": 10,
    "start_time": "2023-05-27T11:07:15.992Z"
   },
   {
    "duration": 11,
    "start_time": "2023-05-27T11:08:23.538Z"
   },
   {
    "duration": 816,
    "start_time": "2023-05-27T11:11:17.095Z"
   },
   {
    "duration": 311,
    "start_time": "2023-05-27T11:11:26.391Z"
   },
   {
    "duration": 259,
    "start_time": "2023-05-27T11:12:59.601Z"
   },
   {
    "duration": 64,
    "start_time": "2023-05-27T11:19:50.807Z"
   },
   {
    "duration": 7,
    "start_time": "2023-05-27T11:20:42.902Z"
   },
   {
    "duration": 7,
    "start_time": "2023-05-27T11:21:42.753Z"
   },
   {
    "duration": 8,
    "start_time": "2023-05-27T11:29:09.056Z"
   },
   {
    "duration": 5,
    "start_time": "2023-05-27T11:30:15.460Z"
   },
   {
    "duration": 5,
    "start_time": "2023-05-27T11:34:54.306Z"
   },
   {
    "duration": 11,
    "start_time": "2023-05-27T11:36:28.486Z"
   },
   {
    "duration": 697,
    "start_time": "2023-05-27T11:36:43.151Z"
   },
   {
    "duration": 4,
    "start_time": "2023-05-27T11:37:09.894Z"
   },
   {
    "duration": 8,
    "start_time": "2023-05-27T11:38:07.343Z"
   },
   {
    "duration": 275,
    "start_time": "2023-05-27T11:45:08.697Z"
   },
   {
    "duration": 219,
    "start_time": "2023-05-27T11:45:29.325Z"
   },
   {
    "duration": 5,
    "start_time": "2023-05-27T11:55:56.849Z"
   },
   {
    "duration": 10,
    "start_time": "2023-05-27T11:56:45.239Z"
   },
   {
    "duration": 6,
    "start_time": "2023-05-27T11:58:08.988Z"
   },
   {
    "duration": 4,
    "start_time": "2023-05-27T11:58:40.325Z"
   },
   {
    "duration": 278,
    "start_time": "2023-05-27T12:00:12.643Z"
   },
   {
    "duration": 270,
    "start_time": "2023-05-27T12:02:45.548Z"
   },
   {
    "duration": 349,
    "start_time": "2023-05-27T12:04:52.426Z"
   },
   {
    "duration": 145,
    "start_time": "2023-05-27T12:05:27.629Z"
   },
   {
    "duration": 7,
    "start_time": "2023-05-27T12:16:10.944Z"
   },
   {
    "duration": 8,
    "start_time": "2023-05-27T12:16:58.257Z"
   },
   {
    "duration": 4,
    "start_time": "2023-05-27T12:20:59.041Z"
   },
   {
    "duration": 7,
    "start_time": "2023-05-27T12:24:21.305Z"
   },
   {
    "duration": 8,
    "start_time": "2023-05-27T12:26:07.104Z"
   },
   {
    "duration": 7,
    "start_time": "2023-05-27T12:26:49.718Z"
   },
   {
    "duration": 4,
    "start_time": "2023-05-27T12:29:17.148Z"
   },
   {
    "duration": 24,
    "start_time": "2023-05-27T12:29:20.702Z"
   },
   {
    "duration": 12,
    "start_time": "2023-05-27T12:33:27.297Z"
   },
   {
    "duration": 17,
    "start_time": "2023-05-27T12:33:29.301Z"
   },
   {
    "duration": 36,
    "start_time": "2023-05-27T12:35:14.486Z"
   },
   {
    "duration": 16,
    "start_time": "2023-05-27T12:35:41.130Z"
   },
   {
    "duration": 15,
    "start_time": "2023-05-27T12:36:03.573Z"
   },
   {
    "duration": 20,
    "start_time": "2023-05-27T12:36:27.138Z"
   },
   {
    "duration": 9,
    "start_time": "2023-05-27T12:36:28.922Z"
   },
   {
    "duration": 272,
    "start_time": "2023-05-27T12:37:02.909Z"
   },
   {
    "duration": 27,
    "start_time": "2023-05-27T12:41:22.776Z"
   },
   {
    "duration": 9,
    "start_time": "2023-05-27T12:41:30.840Z"
   },
   {
    "duration": 177,
    "start_time": "2023-05-27T12:42:30.103Z"
   },
   {
    "duration": 3,
    "start_time": "2023-05-27T12:50:48.659Z"
   },
   {
    "duration": 24,
    "start_time": "2023-05-27T12:52:19.574Z"
   },
   {
    "duration": 6,
    "start_time": "2023-05-27T12:54:05.102Z"
   },
   {
    "duration": 41,
    "start_time": "2023-05-27T12:54:13.172Z"
   },
   {
    "duration": 10,
    "start_time": "2023-05-27T12:56:04.398Z"
   },
   {
    "duration": 6,
    "start_time": "2023-05-27T12:56:11.028Z"
   },
   {
    "duration": 202,
    "start_time": "2023-05-27T12:57:24.001Z"
   },
   {
    "duration": 4,
    "start_time": "2023-05-27T13:04:00.802Z"
   },
   {
    "duration": 11,
    "start_time": "2023-05-27T13:05:24.340Z"
   },
   {
    "duration": 16,
    "start_time": "2023-05-27T13:05:29.047Z"
   },
   {
    "duration": 9,
    "start_time": "2023-05-27T13:06:57.353Z"
   },
   {
    "duration": 6,
    "start_time": "2023-05-27T13:07:11.821Z"
   },
   {
    "duration": 214,
    "start_time": "2023-05-27T13:08:05.153Z"
   },
   {
    "duration": 172,
    "start_time": "2023-05-27T13:08:10.905Z"
   },
   {
    "duration": 140,
    "start_time": "2023-05-27T13:13:51.615Z"
   },
   {
    "duration": 148,
    "start_time": "2023-05-27T13:13:59.009Z"
   },
   {
    "duration": 184,
    "start_time": "2023-05-27T13:14:08.658Z"
   },
   {
    "duration": 5,
    "start_time": "2023-05-27T13:15:59.204Z"
   },
   {
    "duration": 18,
    "start_time": "2023-05-27T13:16:56.997Z"
   },
   {
    "duration": 15,
    "start_time": "2023-05-27T13:17:03.251Z"
   },
   {
    "duration": 14,
    "start_time": "2023-05-27T13:18:13.747Z"
   },
   {
    "duration": 6,
    "start_time": "2023-05-27T13:18:23.139Z"
   },
   {
    "duration": 3,
    "start_time": "2023-05-27T13:20:47.245Z"
   },
   {
    "duration": 3,
    "start_time": "2023-05-27T13:21:00.857Z"
   },
   {
    "duration": 76,
    "start_time": "2023-05-27T13:21:00.862Z"
   },
   {
    "duration": 17,
    "start_time": "2023-05-27T13:21:00.941Z"
   },
   {
    "duration": 53,
    "start_time": "2023-05-27T13:21:00.960Z"
   },
   {
    "duration": 29,
    "start_time": "2023-05-27T13:21:01.019Z"
   },
   {
    "duration": 39,
    "start_time": "2023-05-27T13:21:01.051Z"
   },
   {
    "duration": 442,
    "start_time": "2023-05-27T13:21:01.092Z"
   },
   {
    "duration": 29,
    "start_time": "2023-05-27T13:21:01.536Z"
   },
   {
    "duration": 19,
    "start_time": "2023-05-27T13:21:01.567Z"
   },
   {
    "duration": 25,
    "start_time": "2023-05-27T13:21:01.596Z"
   },
   {
    "duration": 11,
    "start_time": "2023-05-27T13:21:01.627Z"
   },
   {
    "duration": 37,
    "start_time": "2023-05-27T13:21:01.640Z"
   },
   {
    "duration": 317,
    "start_time": "2023-05-27T13:21:01.680Z"
   },
   {
    "duration": 291,
    "start_time": "2023-05-27T13:21:02.001Z"
   },
   {
    "duration": 32,
    "start_time": "2023-05-27T13:21:02.301Z"
   },
   {
    "duration": 8,
    "start_time": "2023-05-27T13:21:02.334Z"
   },
   {
    "duration": 21,
    "start_time": "2023-05-27T13:21:02.344Z"
   },
   {
    "duration": 6,
    "start_time": "2023-05-27T13:21:02.366Z"
   },
   {
    "duration": 24,
    "start_time": "2023-05-27T13:21:02.381Z"
   },
   {
    "duration": 21,
    "start_time": "2023-05-27T13:21:02.407Z"
   },
   {
    "duration": 240,
    "start_time": "2023-05-27T13:21:02.430Z"
   },
   {
    "duration": 10,
    "start_time": "2023-05-27T13:21:02.671Z"
   },
   {
    "duration": 28,
    "start_time": "2023-05-27T13:21:02.691Z"
   },
   {
    "duration": 10,
    "start_time": "2023-05-27T13:21:02.722Z"
   },
   {
    "duration": 277,
    "start_time": "2023-05-27T13:21:02.734Z"
   },
   {
    "duration": 8,
    "start_time": "2023-05-27T13:21:03.012Z"
   },
   {
    "duration": 9,
    "start_time": "2023-05-27T13:21:03.021Z"
   },
   {
    "duration": 9,
    "start_time": "2023-05-27T13:21:03.031Z"
   },
   {
    "duration": 11,
    "start_time": "2023-05-27T13:21:03.044Z"
   },
   {
    "duration": 194,
    "start_time": "2023-05-27T13:21:03.057Z"
   },
   {
    "duration": 8,
    "start_time": "2023-05-27T13:21:03.252Z"
   },
   {
    "duration": 27,
    "start_time": "2023-05-27T13:21:03.262Z"
   },
   {
    "duration": 246,
    "start_time": "2023-05-27T13:21:03.291Z"
   },
   {
    "duration": 3,
    "start_time": "2023-05-27T13:21:03.539Z"
   },
   {
    "duration": 6,
    "start_time": "2023-05-27T13:21:03.544Z"
   },
   {
    "duration": 24,
    "start_time": "2023-05-27T13:21:03.552Z"
   },
   {
    "duration": 22,
    "start_time": "2023-05-27T13:21:03.580Z"
   },
   {
    "duration": 142,
    "start_time": "2023-05-27T13:21:03.604Z"
   },
   {
    "duration": 4,
    "start_time": "2023-05-27T13:21:03.748Z"
   },
   {
    "duration": 44,
    "start_time": "2023-05-27T13:21:03.754Z"
   },
   {
    "duration": 11,
    "start_time": "2023-05-27T13:21:03.800Z"
   },
   {
    "duration": 14,
    "start_time": "2023-05-27T13:21:03.818Z"
   },
   {
    "duration": 151,
    "start_time": "2023-05-27T13:21:03.834Z"
   },
   {
    "duration": 8,
    "start_time": "2023-05-27T13:21:03.987Z"
   },
   {
    "duration": 9,
    "start_time": "2023-05-27T13:21:11.015Z"
   },
   {
    "duration": 16,
    "start_time": "2023-05-27T13:21:13.603Z"
   },
   {
    "duration": 15,
    "start_time": "2023-05-27T13:21:15.792Z"
   },
   {
    "duration": 3,
    "start_time": "2023-05-27T13:22:00.160Z"
   },
   {
    "duration": 58,
    "start_time": "2023-05-27T13:22:00.165Z"
   },
   {
    "duration": 10,
    "start_time": "2023-05-27T13:22:00.225Z"
   },
   {
    "duration": 25,
    "start_time": "2023-05-27T13:22:00.236Z"
   },
   {
    "duration": 61,
    "start_time": "2023-05-27T13:22:00.263Z"
   },
   {
    "duration": 14,
    "start_time": "2023-05-27T13:22:00.326Z"
   },
   {
    "duration": 334,
    "start_time": "2023-05-27T13:22:00.342Z"
   },
   {
    "duration": 43,
    "start_time": "2023-05-27T13:22:00.685Z"
   },
   {
    "duration": 23,
    "start_time": "2023-05-27T13:22:00.731Z"
   },
   {
    "duration": 104,
    "start_time": "2023-05-27T13:22:00.756Z"
   },
   {
    "duration": 59,
    "start_time": "2023-05-27T13:22:00.862Z"
   },
   {
    "duration": 55,
    "start_time": "2023-05-27T13:22:00.924Z"
   },
   {
    "duration": 325,
    "start_time": "2023-05-27T13:22:00.980Z"
   },
   {
    "duration": 304,
    "start_time": "2023-05-27T13:22:01.306Z"
   },
   {
    "duration": 36,
    "start_time": "2023-05-27T13:22:01.612Z"
   },
   {
    "duration": 9,
    "start_time": "2023-05-27T13:22:01.650Z"
   },
   {
    "duration": 26,
    "start_time": "2023-05-27T13:22:01.661Z"
   },
   {
    "duration": 37,
    "start_time": "2023-05-27T13:22:01.691Z"
   },
   {
    "duration": 43,
    "start_time": "2023-05-27T13:22:01.736Z"
   },
   {
    "duration": 19,
    "start_time": "2023-05-27T13:22:01.784Z"
   },
   {
    "duration": 415,
    "start_time": "2023-05-27T13:22:01.809Z"
   },
   {
    "duration": 7,
    "start_time": "2023-05-27T13:22:02.236Z"
   },
   {
    "duration": 14,
    "start_time": "2023-05-27T13:22:02.244Z"
   },
   {
    "duration": 4,
    "start_time": "2023-05-27T13:22:02.260Z"
   },
   {
    "duration": 399,
    "start_time": "2023-05-27T13:22:02.266Z"
   },
   {
    "duration": 14,
    "start_time": "2023-05-27T13:22:02.668Z"
   },
   {
    "duration": 23,
    "start_time": "2023-05-27T13:22:02.693Z"
   },
   {
    "duration": 9,
    "start_time": "2023-05-27T13:22:02.720Z"
   },
   {
    "duration": 7,
    "start_time": "2023-05-27T13:22:02.732Z"
   },
   {
    "duration": 183,
    "start_time": "2023-05-27T13:22:02.740Z"
   },
   {
    "duration": 9,
    "start_time": "2023-05-27T13:22:02.928Z"
   },
   {
    "duration": 8,
    "start_time": "2023-05-27T13:22:02.939Z"
   },
   {
    "duration": 158,
    "start_time": "2023-05-27T13:22:02.949Z"
   },
   {
    "duration": 3,
    "start_time": "2023-05-27T13:22:03.118Z"
   },
   {
    "duration": 10,
    "start_time": "2023-05-27T13:22:03.123Z"
   },
   {
    "duration": 13,
    "start_time": "2023-05-27T13:22:03.135Z"
   },
   {
    "duration": 7,
    "start_time": "2023-05-27T13:22:03.150Z"
   },
   {
    "duration": 167,
    "start_time": "2023-05-27T13:22:03.159Z"
   },
   {
    "duration": 3,
    "start_time": "2023-05-27T13:22:03.328Z"
   },
   {
    "duration": 34,
    "start_time": "2023-05-27T13:22:03.333Z"
   },
   {
    "duration": 23,
    "start_time": "2023-05-27T13:22:03.369Z"
   },
   {
    "duration": 8,
    "start_time": "2023-05-27T13:22:03.394Z"
   },
   {
    "duration": 167,
    "start_time": "2023-05-27T13:22:03.404Z"
   },
   {
    "duration": 10,
    "start_time": "2023-05-27T13:22:03.577Z"
   },
   {
    "duration": 14,
    "start_time": "2023-05-27T13:22:06.714Z"
   },
   {
    "duration": 11,
    "start_time": "2023-05-27T13:22:08.556Z"
   },
   {
    "duration": 7,
    "start_time": "2023-05-27T13:22:10.220Z"
   },
   {
    "duration": 183,
    "start_time": "2023-05-27T13:22:37.645Z"
   },
   {
    "duration": 72,
    "start_time": "2023-05-27T18:03:21.247Z"
   },
   {
    "duration": 444,
    "start_time": "2023-05-27T18:03:28.806Z"
   },
   {
    "duration": 170,
    "start_time": "2023-05-27T18:03:29.251Z"
   },
   {
    "duration": 19,
    "start_time": "2023-05-27T18:03:29.423Z"
   },
   {
    "duration": 11,
    "start_time": "2023-05-27T18:03:29.444Z"
   },
   {
    "duration": 12,
    "start_time": "2023-05-27T18:03:29.458Z"
   },
   {
    "duration": 26,
    "start_time": "2023-05-27T18:03:29.472Z"
   },
   {
    "duration": 851,
    "start_time": "2023-05-27T18:03:29.499Z"
   },
   {
    "duration": 573,
    "start_time": "2023-05-27T18:03:30.354Z"
   },
   {
    "duration": 11,
    "start_time": "2023-05-27T18:03:30.929Z"
   },
   {
    "duration": 46,
    "start_time": "2023-05-27T18:03:30.942Z"
   },
   {
    "duration": 32,
    "start_time": "2023-05-27T18:03:30.990Z"
   },
   {
    "duration": 35,
    "start_time": "2023-05-27T18:03:31.027Z"
   },
   {
    "duration": 368,
    "start_time": "2023-05-27T18:03:31.063Z"
   },
   {
    "duration": 373,
    "start_time": "2023-05-27T18:03:31.434Z"
   },
   {
    "duration": 114,
    "start_time": "2023-05-27T18:03:31.809Z"
   },
   {
    "duration": 16,
    "start_time": "2023-05-27T18:03:31.925Z"
   },
   {
    "duration": 9,
    "start_time": "2023-05-27T18:03:31.944Z"
   },
   {
    "duration": 35,
    "start_time": "2023-05-27T18:03:31.956Z"
   },
   {
    "duration": 21,
    "start_time": "2023-05-27T18:03:31.992Z"
   },
   {
    "duration": 15,
    "start_time": "2023-05-27T18:03:32.015Z"
   },
   {
    "duration": 303,
    "start_time": "2023-05-27T18:03:32.035Z"
   },
   {
    "duration": 8,
    "start_time": "2023-05-27T18:03:32.346Z"
   },
   {
    "duration": 37,
    "start_time": "2023-05-27T18:03:32.356Z"
   },
   {
    "duration": 19,
    "start_time": "2023-05-27T18:03:32.395Z"
   },
   {
    "duration": 320,
    "start_time": "2023-05-27T18:03:32.416Z"
   },
   {
    "duration": 6,
    "start_time": "2023-05-27T18:03:32.738Z"
   },
   {
    "duration": 26,
    "start_time": "2023-05-27T18:03:32.745Z"
   },
   {
    "duration": 17,
    "start_time": "2023-05-27T18:03:32.772Z"
   },
   {
    "duration": 27,
    "start_time": "2023-05-27T18:03:32.791Z"
   },
   {
    "duration": 181,
    "start_time": "2023-05-27T18:03:32.820Z"
   },
   {
    "duration": 12,
    "start_time": "2023-05-27T18:03:33.003Z"
   },
   {
    "duration": 9,
    "start_time": "2023-05-27T18:03:33.017Z"
   },
   {
    "duration": 168,
    "start_time": "2023-05-27T18:03:33.028Z"
   },
   {
    "duration": 4,
    "start_time": "2023-05-27T18:03:33.198Z"
   },
   {
    "duration": 27,
    "start_time": "2023-05-27T18:03:33.203Z"
   },
   {
    "duration": 14,
    "start_time": "2023-05-27T18:03:33.231Z"
   },
   {
    "duration": 21,
    "start_time": "2023-05-27T18:03:33.247Z"
   },
   {
    "duration": 182,
    "start_time": "2023-05-27T18:03:33.270Z"
   },
   {
    "duration": 4,
    "start_time": "2023-05-27T18:03:33.454Z"
   },
   {
    "duration": 41,
    "start_time": "2023-05-27T18:03:33.459Z"
   },
   {
    "duration": 18,
    "start_time": "2023-05-27T18:03:33.505Z"
   },
   {
    "duration": 19,
    "start_time": "2023-05-27T18:03:33.524Z"
   },
   {
    "duration": 189,
    "start_time": "2023-05-27T18:03:33.545Z"
   },
   {
    "duration": 4,
    "start_time": "2023-05-27T18:03:33.736Z"
   },
   {
    "duration": 21,
    "start_time": "2023-05-27T18:03:33.742Z"
   },
   {
    "duration": 34,
    "start_time": "2023-05-27T18:03:33.764Z"
   },
   {
    "duration": 31,
    "start_time": "2023-05-27T18:03:33.800Z"
   },
   {
    "duration": 167,
    "start_time": "2023-05-27T18:03:33.833Z"
   },
   {
    "duration": 51,
    "start_time": "2023-05-27T18:04:26.158Z"
   },
   {
    "duration": 30,
    "start_time": "2023-05-27T18:16:10.065Z"
   },
   {
    "duration": 22,
    "start_time": "2023-05-27T18:16:23.264Z"
   },
   {
    "duration": 11,
    "start_time": "2023-05-27T18:21:55.747Z"
   },
   {
    "duration": 78,
    "start_time": "2023-05-27T18:22:01.781Z"
   },
   {
    "duration": 39,
    "start_time": "2023-05-27T18:22:13.710Z"
   },
   {
    "duration": 14,
    "start_time": "2023-05-27T18:27:07.425Z"
   },
   {
    "duration": 16,
    "start_time": "2023-05-27T18:29:02.899Z"
   },
   {
    "duration": 27,
    "start_time": "2023-05-27T18:29:14.173Z"
   },
   {
    "duration": 157,
    "start_time": "2023-05-27T18:29:24.740Z"
   },
   {
    "duration": 11,
    "start_time": "2023-05-27T18:31:17.315Z"
   },
   {
    "duration": 67,
    "start_time": "2023-05-27T18:31:48.089Z"
   },
   {
    "duration": 45,
    "start_time": "2023-05-27T18:31:58.819Z"
   },
   {
    "duration": 15,
    "start_time": "2023-05-27T18:38:25.094Z"
   },
   {
    "duration": 11,
    "start_time": "2023-05-27T18:38:51.842Z"
   },
   {
    "duration": 25,
    "start_time": "2023-05-27T18:39:22.270Z"
   },
   {
    "duration": 17,
    "start_time": "2023-05-27T18:39:37.304Z"
   },
   {
    "duration": 296,
    "start_time": "2023-05-27T18:43:29.202Z"
   },
   {
    "duration": 221,
    "start_time": "2023-05-27T18:43:34.518Z"
   },
   {
    "duration": 314,
    "start_time": "2023-05-27T18:43:39.788Z"
   },
   {
    "duration": 228,
    "start_time": "2023-05-27T18:43:52.223Z"
   },
   {
    "duration": 622,
    "start_time": "2023-05-27T18:44:13.128Z"
   },
   {
    "duration": 3,
    "start_time": "2023-05-27T18:47:05.518Z"
   },
   {
    "duration": 10,
    "start_time": "2023-05-27T18:47:48.863Z"
   },
   {
    "duration": 15,
    "start_time": "2023-05-27T18:47:54.824Z"
   },
   {
    "duration": 387,
    "start_time": "2023-05-27T18:50:48.701Z"
   },
   {
    "duration": 453,
    "start_time": "2023-05-27T18:51:55.374Z"
   },
   {
    "duration": 431,
    "start_time": "2023-05-27T18:52:30.634Z"
   },
   {
    "duration": 438,
    "start_time": "2023-05-27T18:53:57.812Z"
   },
   {
    "duration": 462,
    "start_time": "2023-05-27T18:56:05.939Z"
   },
   {
    "duration": 404,
    "start_time": "2023-05-27T18:56:30.198Z"
   },
   {
    "duration": 395,
    "start_time": "2023-05-27T18:56:33.171Z"
   },
   {
    "duration": 9,
    "start_time": "2023-05-27T19:33:20.422Z"
   },
   {
    "duration": 7,
    "start_time": "2023-05-27T19:33:25.594Z"
   },
   {
    "duration": 5,
    "start_time": "2023-05-27T19:33:55.864Z"
   },
   {
    "duration": 11,
    "start_time": "2023-05-27T19:34:11.715Z"
   },
   {
    "duration": 6,
    "start_time": "2023-05-27T19:50:09.791Z"
   },
   {
    "duration": 48,
    "start_time": "2023-05-27T19:52:33.163Z"
   },
   {
    "duration": 3,
    "start_time": "2023-05-27T19:52:41.555Z"
   },
   {
    "duration": 7,
    "start_time": "2023-05-27T19:52:48.674Z"
   },
   {
    "duration": 50026,
    "start_time": "2023-05-27T19:56:06.454Z"
   },
   {
    "duration": 7,
    "start_time": "2023-05-27T19:57:41.805Z"
   },
   {
    "duration": 15,
    "start_time": "2023-05-27T19:57:47.299Z"
   },
   {
    "duration": 14,
    "start_time": "2023-05-27T19:57:51.209Z"
   },
   {
    "duration": 50603,
    "start_time": "2023-05-27T20:06:50.112Z"
   },
   {
    "duration": 24,
    "start_time": "2023-05-27T20:10:02.955Z"
   },
   {
    "duration": 18,
    "start_time": "2023-05-27T20:10:17.396Z"
   },
   {
    "duration": 11,
    "start_time": "2023-05-27T20:13:36.507Z"
   },
   {
    "duration": 3,
    "start_time": "2023-05-27T20:25:51.582Z"
   },
   {
    "duration": 4,
    "start_time": "2023-05-27T20:39:13.443Z"
   },
   {
    "duration": 15,
    "start_time": "2023-05-27T20:39:20.539Z"
   },
   {
    "duration": 5,
    "start_time": "2023-05-27T20:44:35.803Z"
   },
   {
    "duration": 11,
    "start_time": "2023-05-27T20:44:43.532Z"
   },
   {
    "duration": 11,
    "start_time": "2023-05-27T20:45:04.717Z"
   },
   {
    "duration": 21,
    "start_time": "2023-05-27T20:48:45.430Z"
   },
   {
    "duration": 10,
    "start_time": "2023-05-27T20:48:47.230Z"
   },
   {
    "duration": 3,
    "start_time": "2023-05-27T20:48:54.741Z"
   },
   {
    "duration": 4,
    "start_time": "2023-05-27T20:48:57.422Z"
   },
   {
    "duration": 11,
    "start_time": "2023-05-27T20:49:03.197Z"
   },
   {
    "duration": 8,
    "start_time": "2023-05-27T20:55:24.210Z"
   },
   {
    "duration": 16,
    "start_time": "2023-05-27T20:56:49.806Z"
   },
   {
    "duration": 13,
    "start_time": "2023-05-27T20:56:58.209Z"
   },
   {
    "duration": 14,
    "start_time": "2023-05-27T20:59:03.153Z"
   },
   {
    "duration": 4,
    "start_time": "2023-05-27T20:59:15.711Z"
   },
   {
    "duration": 20,
    "start_time": "2023-05-27T20:59:25.301Z"
   },
   {
    "duration": 12,
    "start_time": "2023-05-27T21:06:54.802Z"
   },
   {
    "duration": 12,
    "start_time": "2023-05-27T21:10:07.619Z"
   },
   {
    "duration": 16,
    "start_time": "2023-05-27T21:10:16.894Z"
   },
   {
    "duration": 13,
    "start_time": "2023-05-27T21:11:26.652Z"
   },
   {
    "duration": 25,
    "start_time": "2023-05-27T21:12:20.828Z"
   },
   {
    "duration": 13,
    "start_time": "2023-05-27T21:12:36.851Z"
   },
   {
    "duration": 13,
    "start_time": "2023-05-27T21:12:39.556Z"
   },
   {
    "duration": 11,
    "start_time": "2023-05-27T21:13:16.836Z"
   },
   {
    "duration": 21,
    "start_time": "2023-05-27T21:13:20.595Z"
   },
   {
    "duration": 9,
    "start_time": "2023-05-27T21:13:25.132Z"
   },
   {
    "duration": 31,
    "start_time": "2023-05-27T21:14:30.999Z"
   },
   {
    "duration": 24,
    "start_time": "2023-05-27T21:15:01.797Z"
   },
   {
    "duration": 21,
    "start_time": "2023-05-27T21:15:07.508Z"
   },
   {
    "duration": 14,
    "start_time": "2023-05-27T21:15:33.895Z"
   },
   {
    "duration": 3,
    "start_time": "2023-05-27T21:16:07.611Z"
   },
   {
    "duration": 31,
    "start_time": "2023-05-27T21:16:07.617Z"
   },
   {
    "duration": 9,
    "start_time": "2023-05-27T21:16:07.650Z"
   },
   {
    "duration": 18,
    "start_time": "2023-05-27T21:16:07.661Z"
   },
   {
    "duration": 6,
    "start_time": "2023-05-27T21:16:07.682Z"
   },
   {
    "duration": 16,
    "start_time": "2023-05-27T21:16:07.690Z"
   },
   {
    "duration": 353,
    "start_time": "2023-05-27T21:16:07.708Z"
   },
   {
    "duration": 44,
    "start_time": "2023-05-27T21:16:08.063Z"
   },
   {
    "duration": 9,
    "start_time": "2023-05-27T21:16:08.109Z"
   },
   {
    "duration": 25,
    "start_time": "2023-05-27T21:16:08.120Z"
   },
   {
    "duration": 11,
    "start_time": "2023-05-27T21:16:08.149Z"
   },
   {
    "duration": 17,
    "start_time": "2023-05-27T21:16:08.162Z"
   },
   {
    "duration": 356,
    "start_time": "2023-05-27T21:16:08.181Z"
   },
   {
    "duration": 300,
    "start_time": "2023-05-27T21:16:08.539Z"
   },
   {
    "duration": 26,
    "start_time": "2023-05-27T21:16:08.843Z"
   },
   {
    "duration": 12,
    "start_time": "2023-05-27T21:16:08.871Z"
   },
   {
    "duration": 16,
    "start_time": "2023-05-27T21:16:08.884Z"
   },
   {
    "duration": 10,
    "start_time": "2023-05-27T21:16:08.902Z"
   },
   {
    "duration": 9,
    "start_time": "2023-05-27T21:16:08.914Z"
   },
   {
    "duration": 10,
    "start_time": "2023-05-27T21:16:08.925Z"
   },
   {
    "duration": 270,
    "start_time": "2023-05-27T21:16:08.937Z"
   },
   {
    "duration": 4,
    "start_time": "2023-05-27T21:16:09.209Z"
   },
   {
    "duration": 16,
    "start_time": "2023-05-27T21:16:09.215Z"
   },
   {
    "duration": 4,
    "start_time": "2023-05-27T21:16:09.233Z"
   },
   {
    "duration": 274,
    "start_time": "2023-05-27T21:16:09.239Z"
   },
   {
    "duration": 8,
    "start_time": "2023-05-27T21:16:09.515Z"
   },
   {
    "duration": 9,
    "start_time": "2023-05-27T21:16:09.525Z"
   },
   {
    "duration": 10,
    "start_time": "2023-05-27T21:16:09.536Z"
   },
   {
    "duration": 13,
    "start_time": "2023-05-27T21:16:09.583Z"
   },
   {
    "duration": 155,
    "start_time": "2023-05-27T21:16:09.601Z"
   },
   {
    "duration": 25,
    "start_time": "2023-05-27T21:16:09.759Z"
   },
   {
    "duration": 12,
    "start_time": "2023-05-27T21:16:09.787Z"
   },
   {
    "duration": 276,
    "start_time": "2023-05-27T21:16:09.801Z"
   },
   {
    "duration": 5,
    "start_time": "2023-05-27T21:16:10.082Z"
   },
   {
    "duration": 13,
    "start_time": "2023-05-27T21:16:10.094Z"
   },
   {
    "duration": 15,
    "start_time": "2023-05-27T21:16:10.109Z"
   },
   {
    "duration": 7,
    "start_time": "2023-05-27T21:16:10.126Z"
   },
   {
    "duration": 176,
    "start_time": "2023-05-27T21:16:10.135Z"
   },
   {
    "duration": 4,
    "start_time": "2023-05-27T21:16:10.314Z"
   },
   {
    "duration": 25,
    "start_time": "2023-05-27T21:16:10.320Z"
   },
   {
    "duration": 31,
    "start_time": "2023-05-27T21:16:10.347Z"
   },
   {
    "duration": 12,
    "start_time": "2023-05-27T21:16:10.380Z"
   },
   {
    "duration": 203,
    "start_time": "2023-05-27T21:16:10.394Z"
   },
   {
    "duration": 5,
    "start_time": "2023-05-27T21:16:10.602Z"
   },
   {
    "duration": 21,
    "start_time": "2023-05-27T21:16:10.609Z"
   },
   {
    "duration": 13,
    "start_time": "2023-05-27T21:16:10.632Z"
   },
   {
    "duration": 6,
    "start_time": "2023-05-27T21:16:10.649Z"
   },
   {
    "duration": 151,
    "start_time": "2023-05-27T21:16:10.656Z"
   },
   {
    "duration": 19,
    "start_time": "2023-05-27T21:16:10.810Z"
   },
   {
    "duration": 16,
    "start_time": "2023-05-27T21:16:10.831Z"
   },
   {
    "duration": 28,
    "start_time": "2023-05-27T21:16:10.850Z"
   },
   {
    "duration": 31,
    "start_time": "2023-05-27T21:16:10.880Z"
   },
   {
    "duration": 12,
    "start_time": "2023-05-27T21:16:10.912Z"
   },
   {
    "duration": 24,
    "start_time": "2023-05-27T21:16:10.926Z"
   },
   {
    "duration": 26,
    "start_time": "2023-05-27T21:16:10.952Z"
   },
   {
    "duration": 33,
    "start_time": "2023-05-27T21:16:10.980Z"
   },
   {
    "duration": 13,
    "start_time": "2023-05-27T21:16:11.015Z"
   },
   {
    "duration": 9,
    "start_time": "2023-05-27T21:16:11.029Z"
   },
   {
    "duration": 10,
    "start_time": "2023-05-27T21:16:11.039Z"
   },
   {
    "duration": 39,
    "start_time": "2023-05-27T21:16:11.051Z"
   },
   {
    "duration": 410,
    "start_time": "2023-05-27T21:16:11.092Z"
   },
   {
    "duration": 422,
    "start_time": "2023-05-27T21:16:11.504Z"
   },
   {
    "duration": 61711,
    "start_time": "2023-05-27T21:16:11.928Z"
   },
   {
    "duration": 52,
    "start_time": "2023-05-27T21:17:13.641Z"
   },
   {
    "duration": 15,
    "start_time": "2023-05-27T21:17:13.702Z"
   },
   {
    "duration": 5,
    "start_time": "2023-05-27T21:17:13.719Z"
   },
   {
    "duration": 7,
    "start_time": "2023-05-27T21:17:13.725Z"
   },
   {
    "duration": 3,
    "start_time": "2023-05-27T21:17:13.734Z"
   },
   {
    "duration": 16,
    "start_time": "2023-05-27T21:17:13.739Z"
   },
   {
    "duration": 25,
    "start_time": "2023-05-27T21:17:36.357Z"
   },
   {
    "duration": 15,
    "start_time": "2023-05-27T21:17:38.230Z"
   },
   {
    "duration": 14,
    "start_time": "2023-05-27T21:17:43.002Z"
   },
   {
    "duration": 29,
    "start_time": "2023-05-27T21:18:51.357Z"
   },
   {
    "duration": 19,
    "start_time": "2023-05-27T21:18:55.499Z"
   },
   {
    "duration": 9,
    "start_time": "2023-05-27T21:23:05.638Z"
   },
   {
    "duration": 13,
    "start_time": "2023-05-27T21:23:46.475Z"
   },
   {
    "duration": 27,
    "start_time": "2023-05-27T21:24:00.174Z"
   },
   {
    "duration": 8,
    "start_time": "2023-05-27T21:26:35.309Z"
   },
   {
    "duration": 15,
    "start_time": "2023-05-27T21:27:56.144Z"
   },
   {
    "duration": 51,
    "start_time": "2023-05-28T09:03:50.136Z"
   },
   {
    "duration": 785,
    "start_time": "2023-05-28T09:04:14.650Z"
   },
   {
    "duration": 77,
    "start_time": "2023-05-28T09:04:15.437Z"
   },
   {
    "duration": 12,
    "start_time": "2023-05-28T09:04:15.516Z"
   },
   {
    "duration": 11,
    "start_time": "2023-05-28T09:04:15.530Z"
   },
   {
    "duration": 8,
    "start_time": "2023-05-28T09:04:15.542Z"
   },
   {
    "duration": 7,
    "start_time": "2023-05-28T09:04:15.551Z"
   },
   {
    "duration": 252,
    "start_time": "2023-05-28T09:04:15.559Z"
   },
   {
    "duration": 67,
    "start_time": "2023-05-28T09:04:15.813Z"
   },
   {
    "duration": 9,
    "start_time": "2023-05-28T09:04:15.882Z"
   },
   {
    "duration": 14,
    "start_time": "2023-05-28T09:04:15.893Z"
   },
   {
    "duration": 7,
    "start_time": "2023-05-28T09:04:15.908Z"
   },
   {
    "duration": 14,
    "start_time": "2023-05-28T09:04:15.917Z"
   },
   {
    "duration": 241,
    "start_time": "2023-05-28T09:04:15.933Z"
   },
   {
    "duration": 262,
    "start_time": "2023-05-28T09:04:16.176Z"
   },
   {
    "duration": 53,
    "start_time": "2023-05-28T09:04:16.440Z"
   },
   {
    "duration": 8,
    "start_time": "2023-05-28T09:04:16.494Z"
   },
   {
    "duration": 10,
    "start_time": "2023-05-28T09:04:16.503Z"
   },
   {
    "duration": 21,
    "start_time": "2023-05-28T09:04:16.515Z"
   },
   {
    "duration": 9,
    "start_time": "2023-05-28T09:04:16.538Z"
   },
   {
    "duration": 14,
    "start_time": "2023-05-28T09:04:16.548Z"
   },
   {
    "duration": 196,
    "start_time": "2023-05-28T09:04:16.564Z"
   },
   {
    "duration": 5,
    "start_time": "2023-05-28T09:04:16.762Z"
   },
   {
    "duration": 11,
    "start_time": "2023-05-28T09:04:16.768Z"
   },
   {
    "duration": 4,
    "start_time": "2023-05-28T09:04:16.781Z"
   },
   {
    "duration": 231,
    "start_time": "2023-05-28T09:04:16.786Z"
   },
   {
    "duration": 5,
    "start_time": "2023-05-28T09:04:17.019Z"
   },
   {
    "duration": 6,
    "start_time": "2023-05-28T09:04:17.026Z"
   },
   {
    "duration": 17,
    "start_time": "2023-05-28T09:04:17.037Z"
   },
   {
    "duration": 26,
    "start_time": "2023-05-28T09:04:17.056Z"
   },
   {
    "duration": 133,
    "start_time": "2023-05-28T09:04:17.084Z"
   },
   {
    "duration": 8,
    "start_time": "2023-05-28T09:04:17.218Z"
   },
   {
    "duration": 8,
    "start_time": "2023-05-28T09:04:17.227Z"
   },
   {
    "duration": 130,
    "start_time": "2023-05-28T09:04:17.236Z"
   },
   {
    "duration": 3,
    "start_time": "2023-05-28T09:04:17.368Z"
   },
   {
    "duration": 6,
    "start_time": "2023-05-28T09:04:17.373Z"
   },
   {
    "duration": 12,
    "start_time": "2023-05-28T09:04:17.381Z"
   },
   {
    "duration": 6,
    "start_time": "2023-05-28T09:04:17.395Z"
   },
   {
    "duration": 141,
    "start_time": "2023-05-28T09:04:17.402Z"
   },
   {
    "duration": 3,
    "start_time": "2023-05-28T09:04:17.545Z"
   },
   {
    "duration": 13,
    "start_time": "2023-05-28T09:04:17.549Z"
   },
   {
    "duration": 14,
    "start_time": "2023-05-28T09:04:17.564Z"
   },
   {
    "duration": 8,
    "start_time": "2023-05-28T09:04:17.580Z"
   },
   {
    "duration": 164,
    "start_time": "2023-05-28T09:04:17.589Z"
   },
   {
    "duration": 3,
    "start_time": "2023-05-28T09:04:17.755Z"
   },
   {
    "duration": 10,
    "start_time": "2023-05-28T09:04:17.760Z"
   },
   {
    "duration": 16,
    "start_time": "2023-05-28T09:04:17.771Z"
   },
   {
    "duration": 24,
    "start_time": "2023-05-28T09:04:17.789Z"
   },
   {
    "duration": 128,
    "start_time": "2023-05-28T09:04:17.815Z"
   },
   {
    "duration": 11,
    "start_time": "2023-05-28T09:04:17.945Z"
   },
   {
    "duration": 28,
    "start_time": "2023-05-28T09:04:17.957Z"
   },
   {
    "duration": 11,
    "start_time": "2023-05-28T09:04:17.986Z"
   },
   {
    "duration": 26,
    "start_time": "2023-05-28T09:04:17.999Z"
   },
   {
    "duration": 13,
    "start_time": "2023-05-28T09:04:18.027Z"
   },
   {
    "duration": 18,
    "start_time": "2023-05-28T09:04:18.041Z"
   },
   {
    "duration": 7,
    "start_time": "2023-05-28T09:04:18.061Z"
   },
   {
    "duration": 91,
    "start_time": "2023-05-28T09:04:18.069Z"
   },
   {
    "duration": 8,
    "start_time": "2023-05-28T09:04:18.162Z"
   },
   {
    "duration": 8,
    "start_time": "2023-05-28T09:04:18.171Z"
   },
   {
    "duration": 9,
    "start_time": "2023-05-28T09:04:18.180Z"
   },
   {
    "duration": 30,
    "start_time": "2023-05-28T09:04:18.190Z"
   },
   {
    "duration": 292,
    "start_time": "2023-05-28T09:04:18.221Z"
   },
   {
    "duration": 303,
    "start_time": "2023-05-28T09:04:18.516Z"
   },
   {
    "duration": 39354,
    "start_time": "2023-05-28T09:04:18.821Z"
   },
   {
    "duration": 20,
    "start_time": "2023-05-28T09:04:58.176Z"
   },
   {
    "duration": 24,
    "start_time": "2023-05-28T09:04:58.198Z"
   },
   {
    "duration": 12,
    "start_time": "2023-05-28T09:04:58.223Z"
   },
   {
    "duration": 6,
    "start_time": "2023-05-28T09:04:58.237Z"
   },
   {
    "duration": 6,
    "start_time": "2023-05-28T09:04:58.245Z"
   },
   {
    "duration": 10,
    "start_time": "2023-05-28T09:04:58.252Z"
   },
   {
    "duration": 27,
    "start_time": "2023-05-28T09:04:58.263Z"
   },
   {
    "duration": 10,
    "start_time": "2023-05-28T09:04:58.291Z"
   },
   {
    "duration": 10,
    "start_time": "2023-05-28T09:04:58.303Z"
   },
   {
    "duration": 18,
    "start_time": "2023-05-28T09:04:58.316Z"
   },
   {
    "duration": 8,
    "start_time": "2023-05-28T09:04:58.336Z"
   },
   {
    "duration": 18,
    "start_time": "2023-05-28T09:04:58.346Z"
   },
   {
    "duration": 426,
    "start_time": "2023-05-28T10:23:04.893Z"
   },
   {
    "duration": 11,
    "start_time": "2023-05-28T10:23:46.150Z"
   },
   {
    "duration": 7,
    "start_time": "2023-05-28T10:23:58.694Z"
   },
   {
    "duration": 1395,
    "start_time": "2023-05-28T10:24:16.183Z"
   },
   {
    "duration": 6,
    "start_time": "2023-05-28T10:24:32.195Z"
   },
   {
    "duration": 4,
    "start_time": "2023-05-28T10:24:41.250Z"
   },
   {
    "duration": 4,
    "start_time": "2023-05-28T10:24:47.754Z"
   },
   {
    "duration": 3,
    "start_time": "2023-05-28T10:24:56.297Z"
   },
   {
    "duration": 5,
    "start_time": "2023-05-28T10:29:24.318Z"
   },
   {
    "duration": 5,
    "start_time": "2023-05-28T10:30:02.631Z"
   },
   {
    "duration": 5,
    "start_time": "2023-05-28T10:30:11.156Z"
   },
   {
    "duration": 4,
    "start_time": "2023-05-28T10:38:56.023Z"
   },
   {
    "duration": 5,
    "start_time": "2023-05-28T10:49:01.013Z"
   },
   {
    "duration": 5,
    "start_time": "2023-05-28T10:49:37.154Z"
   },
   {
    "duration": 5,
    "start_time": "2023-05-28T10:50:05.661Z"
   },
   {
    "duration": 2,
    "start_time": "2023-05-28T10:54:36.992Z"
   },
   {
    "duration": 40,
    "start_time": "2023-05-28T10:54:36.997Z"
   },
   {
    "duration": 8,
    "start_time": "2023-05-28T10:54:37.039Z"
   },
   {
    "duration": 11,
    "start_time": "2023-05-28T10:54:37.049Z"
   },
   {
    "duration": 6,
    "start_time": "2023-05-28T10:54:37.062Z"
   },
   {
    "duration": 6,
    "start_time": "2023-05-28T10:54:37.070Z"
   },
   {
    "duration": 286,
    "start_time": "2023-05-28T10:54:37.077Z"
   },
   {
    "duration": 28,
    "start_time": "2023-05-28T10:54:37.365Z"
   },
   {
    "duration": 10,
    "start_time": "2023-05-28T10:54:37.395Z"
   },
   {
    "duration": 44,
    "start_time": "2023-05-28T10:54:37.407Z"
   },
   {
    "duration": 12,
    "start_time": "2023-05-28T10:54:37.453Z"
   },
   {
    "duration": 12,
    "start_time": "2023-05-28T10:54:37.467Z"
   },
   {
    "duration": 221,
    "start_time": "2023-05-28T10:54:37.481Z"
   },
   {
    "duration": 214,
    "start_time": "2023-05-28T10:54:37.703Z"
   },
   {
    "duration": 14,
    "start_time": "2023-05-28T10:54:37.919Z"
   },
   {
    "duration": 6,
    "start_time": "2023-05-28T10:54:37.935Z"
   },
   {
    "duration": 13,
    "start_time": "2023-05-28T10:54:37.942Z"
   },
   {
    "duration": 11,
    "start_time": "2023-05-28T10:54:37.956Z"
   },
   {
    "duration": 5,
    "start_time": "2023-05-28T10:54:37.969Z"
   },
   {
    "duration": 11,
    "start_time": "2023-05-28T10:54:37.975Z"
   },
   {
    "duration": 199,
    "start_time": "2023-05-28T10:54:37.987Z"
   },
   {
    "duration": 4,
    "start_time": "2023-05-28T10:54:38.187Z"
   },
   {
    "duration": 21,
    "start_time": "2023-05-28T10:54:38.192Z"
   },
   {
    "duration": 4,
    "start_time": "2023-05-28T10:54:38.218Z"
   },
   {
    "duration": 212,
    "start_time": "2023-05-28T10:54:38.223Z"
   },
   {
    "duration": 5,
    "start_time": "2023-05-28T10:54:38.437Z"
   },
   {
    "duration": 72,
    "start_time": "2023-05-28T10:54:38.443Z"
   },
   {
    "duration": 13,
    "start_time": "2023-05-28T10:54:38.517Z"
   },
   {
    "duration": 9,
    "start_time": "2023-05-28T10:54:38.531Z"
   },
   {
    "duration": 131,
    "start_time": "2023-05-28T10:54:38.542Z"
   },
   {
    "duration": 8,
    "start_time": "2023-05-28T10:54:38.674Z"
   },
   {
    "duration": 9,
    "start_time": "2023-05-28T10:54:38.684Z"
   },
   {
    "duration": 126,
    "start_time": "2023-05-28T10:54:38.694Z"
   },
   {
    "duration": 3,
    "start_time": "2023-05-28T10:54:38.822Z"
   },
   {
    "duration": 6,
    "start_time": "2023-05-28T10:54:38.826Z"
   },
   {
    "duration": 10,
    "start_time": "2023-05-28T10:54:38.834Z"
   },
   {
    "duration": 14,
    "start_time": "2023-05-28T10:54:38.846Z"
   },
   {
    "duration": 204,
    "start_time": "2023-05-28T10:54:38.861Z"
   },
   {
    "duration": 3,
    "start_time": "2023-05-28T10:54:39.066Z"
   },
   {
    "duration": 11,
    "start_time": "2023-05-28T10:54:39.070Z"
   },
   {
    "duration": 10,
    "start_time": "2023-05-28T10:54:39.083Z"
   },
   {
    "duration": 5,
    "start_time": "2023-05-28T10:54:39.094Z"
   },
   {
    "duration": 133,
    "start_time": "2023-05-28T10:54:39.118Z"
   },
   {
    "duration": 3,
    "start_time": "2023-05-28T10:54:39.252Z"
   },
   {
    "duration": 52,
    "start_time": "2023-05-28T10:54:39.256Z"
   },
   {
    "duration": 92,
    "start_time": "2023-05-28T10:54:39.309Z"
   },
   {
    "duration": 5,
    "start_time": "2023-05-28T10:54:39.402Z"
   },
   {
    "duration": 130,
    "start_time": "2023-05-28T10:54:39.409Z"
   },
   {
    "duration": 13,
    "start_time": "2023-05-28T10:54:39.540Z"
   },
   {
    "duration": 16,
    "start_time": "2023-05-28T10:54:39.555Z"
   },
   {
    "duration": 13,
    "start_time": "2023-05-28T10:54:39.572Z"
   },
   {
    "duration": 15,
    "start_time": "2023-05-28T10:54:39.586Z"
   },
   {
    "duration": 20,
    "start_time": "2023-05-28T10:54:39.603Z"
   },
   {
    "duration": 17,
    "start_time": "2023-05-28T10:54:39.625Z"
   },
   {
    "duration": 6,
    "start_time": "2023-05-28T10:54:39.644Z"
   },
   {
    "duration": 27,
    "start_time": "2023-05-28T10:54:39.652Z"
   },
   {
    "duration": 14,
    "start_time": "2023-05-28T10:54:39.680Z"
   },
   {
    "duration": 22,
    "start_time": "2023-05-28T10:54:39.695Z"
   },
   {
    "duration": 8,
    "start_time": "2023-05-28T10:54:39.719Z"
   },
   {
    "duration": 9,
    "start_time": "2023-05-28T10:54:39.728Z"
   },
   {
    "duration": 303,
    "start_time": "2023-05-28T10:54:39.738Z"
   },
   {
    "duration": 303,
    "start_time": "2023-05-28T10:54:40.042Z"
   },
   {
    "duration": 39655,
    "start_time": "2023-05-28T10:54:40.347Z"
   },
   {
    "duration": 21,
    "start_time": "2023-05-28T10:55:20.004Z"
   },
   {
    "duration": 36,
    "start_time": "2023-05-28T10:55:20.027Z"
   },
   {
    "duration": 6,
    "start_time": "2023-05-28T10:55:20.065Z"
   },
   {
    "duration": 23,
    "start_time": "2023-05-28T10:55:20.072Z"
   },
   {
    "duration": 14,
    "start_time": "2023-05-28T10:55:20.097Z"
   },
   {
    "duration": 9,
    "start_time": "2023-05-28T10:55:20.115Z"
   },
   {
    "duration": 27,
    "start_time": "2023-05-28T10:55:20.126Z"
   },
   {
    "duration": 13,
    "start_time": "2023-05-28T10:55:20.155Z"
   },
   {
    "duration": 25,
    "start_time": "2023-05-28T10:55:20.169Z"
   },
   {
    "duration": 22,
    "start_time": "2023-05-28T10:55:20.196Z"
   },
   {
    "duration": 8,
    "start_time": "2023-05-28T10:55:20.220Z"
   },
   {
    "duration": 20,
    "start_time": "2023-05-28T10:55:20.229Z"
   },
   {
    "duration": 25,
    "start_time": "2023-05-28T10:55:20.250Z"
   },
   {
    "duration": 12,
    "start_time": "2023-05-28T10:55:20.276Z"
   },
   {
    "duration": 9,
    "start_time": "2023-05-28T11:01:42.654Z"
   },
   {
    "duration": 9,
    "start_time": "2023-05-28T11:02:45.825Z"
   },
   {
    "duration": 4,
    "start_time": "2023-05-28T11:03:08.591Z"
   },
   {
    "duration": 5,
    "start_time": "2023-05-28T11:03:15.521Z"
   },
   {
    "duration": 1398,
    "start_time": "2023-05-28T13:35:35.993Z"
   },
   {
    "duration": 110,
    "start_time": "2023-05-28T13:35:37.394Z"
   },
   {
    "duration": 14,
    "start_time": "2023-05-28T13:35:37.506Z"
   },
   {
    "duration": 12,
    "start_time": "2023-05-28T13:35:37.522Z"
   },
   {
    "duration": 15,
    "start_time": "2023-05-28T13:35:37.535Z"
   },
   {
    "duration": 9,
    "start_time": "2023-05-28T13:35:37.552Z"
   },
   {
    "duration": 258,
    "start_time": "2023-05-28T13:35:37.563Z"
   },
   {
    "duration": 149,
    "start_time": "2023-05-28T13:35:37.822Z"
   },
   {
    "duration": 9,
    "start_time": "2023-05-28T13:35:37.973Z"
   },
   {
    "duration": 15,
    "start_time": "2023-05-28T13:35:37.985Z"
   },
   {
    "duration": 8,
    "start_time": "2023-05-28T13:35:38.002Z"
   },
   {
    "duration": 8,
    "start_time": "2023-05-28T13:35:38.011Z"
   },
   {
    "duration": 279,
    "start_time": "2023-05-28T13:35:38.021Z"
   },
   {
    "duration": 280,
    "start_time": "2023-05-28T13:35:38.301Z"
   },
   {
    "duration": 64,
    "start_time": "2023-05-28T13:35:38.583Z"
   },
   {
    "duration": 8,
    "start_time": "2023-05-28T13:35:38.649Z"
   },
   {
    "duration": 13,
    "start_time": "2023-05-28T13:35:38.659Z"
   },
   {
    "duration": 8,
    "start_time": "2023-05-28T13:35:38.674Z"
   },
   {
    "duration": 6,
    "start_time": "2023-05-28T13:35:38.684Z"
   },
   {
    "duration": 9,
    "start_time": "2023-05-28T13:35:38.691Z"
   },
   {
    "duration": 234,
    "start_time": "2023-05-28T13:35:38.702Z"
   },
   {
    "duration": 7,
    "start_time": "2023-05-28T13:35:38.938Z"
   },
   {
    "duration": 25,
    "start_time": "2023-05-28T13:35:38.947Z"
   },
   {
    "duration": 6,
    "start_time": "2023-05-28T13:35:38.974Z"
   },
   {
    "duration": 444,
    "start_time": "2023-05-28T13:35:38.982Z"
   },
   {
    "duration": 7,
    "start_time": "2023-05-28T13:35:39.428Z"
   },
   {
    "duration": 24,
    "start_time": "2023-05-28T13:35:39.436Z"
   },
   {
    "duration": 9,
    "start_time": "2023-05-28T13:35:39.465Z"
   },
   {
    "duration": 9,
    "start_time": "2023-05-28T13:35:39.477Z"
   },
   {
    "duration": 175,
    "start_time": "2023-05-28T13:35:39.488Z"
   },
   {
    "duration": 10,
    "start_time": "2023-05-28T13:35:39.664Z"
   },
   {
    "duration": 11,
    "start_time": "2023-05-28T13:35:39.675Z"
   },
   {
    "duration": 138,
    "start_time": "2023-05-28T13:35:39.688Z"
   },
   {
    "duration": 3,
    "start_time": "2023-05-28T13:35:39.828Z"
   },
   {
    "duration": 7,
    "start_time": "2023-05-28T13:35:39.833Z"
   },
   {
    "duration": 21,
    "start_time": "2023-05-28T13:35:39.842Z"
   },
   {
    "duration": 6,
    "start_time": "2023-05-28T13:35:39.864Z"
   },
   {
    "duration": 140,
    "start_time": "2023-05-28T13:35:39.872Z"
   },
   {
    "duration": 4,
    "start_time": "2023-05-28T13:35:40.013Z"
   },
   {
    "duration": 30,
    "start_time": "2023-05-28T13:35:40.018Z"
   },
   {
    "duration": 19,
    "start_time": "2023-05-28T13:35:40.049Z"
   },
   {
    "duration": 18,
    "start_time": "2023-05-28T13:35:40.069Z"
   },
   {
    "duration": 143,
    "start_time": "2023-05-28T13:35:40.089Z"
   },
   {
    "duration": 3,
    "start_time": "2023-05-28T13:35:40.234Z"
   },
   {
    "duration": 17,
    "start_time": "2023-05-28T13:35:40.239Z"
   },
   {
    "duration": 11,
    "start_time": "2023-05-28T13:35:40.258Z"
   },
   {
    "duration": 6,
    "start_time": "2023-05-28T13:35:40.271Z"
   },
   {
    "duration": 148,
    "start_time": "2023-05-28T13:35:40.279Z"
   },
   {
    "duration": 10,
    "start_time": "2023-05-28T13:35:40.429Z"
   },
   {
    "duration": 27,
    "start_time": "2023-05-28T13:35:40.441Z"
   },
   {
    "duration": 17,
    "start_time": "2023-05-28T13:35:40.470Z"
   },
   {
    "duration": 18,
    "start_time": "2023-05-28T13:35:40.489Z"
   },
   {
    "duration": 16,
    "start_time": "2023-05-28T13:35:40.508Z"
   },
   {
    "duration": 32,
    "start_time": "2023-05-28T13:35:40.526Z"
   },
   {
    "duration": 17,
    "start_time": "2023-05-28T13:35:40.559Z"
   },
   {
    "duration": 35,
    "start_time": "2023-05-28T13:35:40.578Z"
   },
   {
    "duration": 17,
    "start_time": "2023-05-28T13:35:40.615Z"
   },
   {
    "duration": 8,
    "start_time": "2023-05-28T13:35:40.633Z"
   },
   {
    "duration": 7,
    "start_time": "2023-05-28T13:35:40.642Z"
   },
   {
    "duration": 9,
    "start_time": "2023-05-28T13:35:40.651Z"
   },
   {
    "duration": 315,
    "start_time": "2023-05-28T13:35:40.661Z"
   },
   {
    "duration": 344,
    "start_time": "2023-05-28T13:35:40.977Z"
   },
   {
    "duration": 45805,
    "start_time": "2023-05-28T13:35:41.322Z"
   },
   {
    "duration": 32,
    "start_time": "2023-05-28T13:36:27.129Z"
   },
   {
    "duration": 18,
    "start_time": "2023-05-28T13:36:27.163Z"
   },
   {
    "duration": 8,
    "start_time": "2023-05-28T13:36:27.183Z"
   },
   {
    "duration": 5,
    "start_time": "2023-05-28T13:36:27.193Z"
   },
   {
    "duration": 3,
    "start_time": "2023-05-28T13:36:27.200Z"
   },
   {
    "duration": 12,
    "start_time": "2023-05-28T13:36:27.205Z"
   },
   {
    "duration": 38,
    "start_time": "2023-05-28T13:36:27.219Z"
   },
   {
    "duration": 10,
    "start_time": "2023-05-28T13:36:27.259Z"
   },
   {
    "duration": 11,
    "start_time": "2023-05-28T13:36:27.270Z"
   },
   {
    "duration": 14,
    "start_time": "2023-05-28T13:36:27.282Z"
   },
   {
    "duration": 15,
    "start_time": "2023-05-28T13:36:27.298Z"
   },
   {
    "duration": 18,
    "start_time": "2023-05-28T13:36:27.315Z"
   },
   {
    "duration": 22,
    "start_time": "2023-05-28T13:36:27.335Z"
   },
   {
    "duration": 6,
    "start_time": "2023-05-28T13:36:27.358Z"
   },
   {
    "duration": 14,
    "start_time": "2023-05-28T13:36:27.366Z"
   },
   {
    "duration": 10,
    "start_time": "2023-05-28T14:11:50.698Z"
   },
   {
    "duration": 5,
    "start_time": "2023-05-28T14:28:10.710Z"
   },
   {
    "duration": 7,
    "start_time": "2023-05-28T14:28:24.746Z"
   },
   {
    "duration": 55,
    "start_time": "2023-05-29T10:46:36.680Z"
   },
   {
    "duration": 1218,
    "start_time": "2023-05-29T10:46:45.637Z"
   },
   {
    "duration": 112,
    "start_time": "2023-05-29T10:46:46.857Z"
   },
   {
    "duration": 12,
    "start_time": "2023-05-29T10:46:46.970Z"
   },
   {
    "duration": 11,
    "start_time": "2023-05-29T10:46:46.983Z"
   },
   {
    "duration": 5,
    "start_time": "2023-05-29T10:46:46.996Z"
   },
   {
    "duration": 8,
    "start_time": "2023-05-29T10:46:47.003Z"
   },
   {
    "duration": 255,
    "start_time": "2023-05-29T10:46:47.012Z"
   },
   {
    "duration": 74,
    "start_time": "2023-05-29T10:46:47.268Z"
   },
   {
    "duration": 9,
    "start_time": "2023-05-29T10:46:47.343Z"
   },
   {
    "duration": 13,
    "start_time": "2023-05-29T10:46:47.354Z"
   },
   {
    "duration": 7,
    "start_time": "2023-05-29T10:46:47.368Z"
   },
   {
    "duration": 10,
    "start_time": "2023-05-29T10:46:47.376Z"
   },
   {
    "duration": 222,
    "start_time": "2023-05-29T10:46:47.387Z"
   },
   {
    "duration": 213,
    "start_time": "2023-05-29T10:46:47.611Z"
   },
   {
    "duration": 53,
    "start_time": "2023-05-29T10:46:47.826Z"
   },
   {
    "duration": 7,
    "start_time": "2023-05-29T10:46:47.880Z"
   },
   {
    "duration": 10,
    "start_time": "2023-05-29T10:46:47.889Z"
   },
   {
    "duration": 6,
    "start_time": "2023-05-29T10:46:47.900Z"
   },
   {
    "duration": 7,
    "start_time": "2023-05-29T10:46:47.907Z"
   },
   {
    "duration": 5,
    "start_time": "2023-05-29T10:47:56.950Z"
   },
   {
    "duration": 19,
    "start_time": "2023-05-29T10:47:58.924Z"
   },
   {
    "duration": 250,
    "start_time": "2023-05-29T10:50:04.002Z"
   },
   {
    "duration": 5,
    "start_time": "2023-05-29T10:50:50.739Z"
   },
   {
    "duration": 5,
    "start_time": "2023-05-29T10:50:53.696Z"
   },
   {
    "duration": 6,
    "start_time": "2023-05-29T10:52:42.739Z"
   },
   {
    "duration": 33,
    "start_time": "2023-05-29T10:52:42.746Z"
   },
   {
    "duration": 8,
    "start_time": "2023-05-29T10:52:42.781Z"
   },
   {
    "duration": 23,
    "start_time": "2023-05-29T10:52:42.790Z"
   },
   {
    "duration": 36,
    "start_time": "2023-05-29T10:52:42.814Z"
   },
   {
    "duration": 19,
    "start_time": "2023-05-29T10:52:42.852Z"
   },
   {
    "duration": 208,
    "start_time": "2023-05-29T10:52:42.872Z"
   },
   {
    "duration": 23,
    "start_time": "2023-05-29T10:52:43.081Z"
   },
   {
    "duration": 8,
    "start_time": "2023-05-29T10:52:43.106Z"
   },
   {
    "duration": 40,
    "start_time": "2023-05-29T10:52:43.132Z"
   },
   {
    "duration": 24,
    "start_time": "2023-05-29T10:52:43.174Z"
   },
   {
    "duration": 15,
    "start_time": "2023-05-29T10:52:43.199Z"
   },
   {
    "duration": 320,
    "start_time": "2023-05-29T10:52:43.225Z"
   },
   {
    "duration": 229,
    "start_time": "2023-05-29T10:52:43.547Z"
   },
   {
    "duration": 25,
    "start_time": "2023-05-29T10:52:43.777Z"
   },
   {
    "duration": 7,
    "start_time": "2023-05-29T10:52:43.803Z"
   },
   {
    "duration": 15,
    "start_time": "2023-05-29T10:52:43.812Z"
   },
   {
    "duration": 36,
    "start_time": "2023-05-29T10:52:43.830Z"
   },
   {
    "duration": 12,
    "start_time": "2023-05-29T10:52:43.867Z"
   },
   {
    "duration": 4,
    "start_time": "2023-05-29T10:52:43.881Z"
   },
   {
    "duration": 6,
    "start_time": "2023-05-29T10:52:43.886Z"
   },
   {
    "duration": 7,
    "start_time": "2023-05-29T10:52:43.894Z"
   },
   {
    "duration": 246,
    "start_time": "2023-05-29T10:52:43.903Z"
   },
   {
    "duration": 5,
    "start_time": "2023-05-29T10:52:44.150Z"
   },
   {
    "duration": 34,
    "start_time": "2023-05-29T10:52:44.156Z"
   },
   {
    "duration": 5,
    "start_time": "2023-05-29T10:52:44.191Z"
   },
   {
    "duration": 223,
    "start_time": "2023-05-29T10:52:44.198Z"
   },
   {
    "duration": 12,
    "start_time": "2023-05-29T10:52:44.422Z"
   },
   {
    "duration": 19,
    "start_time": "2023-05-29T10:52:44.441Z"
   },
   {
    "duration": 16,
    "start_time": "2023-05-29T10:52:44.462Z"
   },
   {
    "duration": 19,
    "start_time": "2023-05-29T10:52:44.480Z"
   },
   {
    "duration": 160,
    "start_time": "2023-05-29T10:52:44.501Z"
   },
   {
    "duration": 7,
    "start_time": "2023-05-29T10:52:44.663Z"
   },
   {
    "duration": 20,
    "start_time": "2023-05-29T10:52:44.671Z"
   },
   {
    "duration": 115,
    "start_time": "2023-05-29T10:52:47.878Z"
   },
   {
    "duration": 66,
    "start_time": "2023-05-29T10:54:12.646Z"
   },
   {
    "duration": 129,
    "start_time": "2023-05-29T10:55:28.680Z"
   },
   {
    "duration": 128,
    "start_time": "2023-05-29T10:55:38.303Z"
   },
   {
    "duration": 184,
    "start_time": "2023-05-29T10:56:33.587Z"
   },
   {
    "duration": 3,
    "start_time": "2023-05-29T10:57:28.931Z"
   },
   {
    "duration": 131,
    "start_time": "2023-05-29T10:57:41.728Z"
   },
   {
    "duration": 88,
    "start_time": "2023-05-29T11:02:31.505Z"
   },
   {
    "duration": 200,
    "start_time": "2023-05-29T11:02:54.127Z"
   },
   {
    "duration": 2,
    "start_time": "2023-05-29T11:04:35.807Z"
   },
   {
    "duration": 41,
    "start_time": "2023-05-29T11:04:35.813Z"
   },
   {
    "duration": 14,
    "start_time": "2023-05-29T11:04:35.855Z"
   },
   {
    "duration": 20,
    "start_time": "2023-05-29T11:04:35.870Z"
   },
   {
    "duration": 13,
    "start_time": "2023-05-29T11:04:35.892Z"
   },
   {
    "duration": 34,
    "start_time": "2023-05-29T11:04:35.906Z"
   },
   {
    "duration": 203,
    "start_time": "2023-05-29T11:04:35.942Z"
   },
   {
    "duration": 26,
    "start_time": "2023-05-29T11:04:36.147Z"
   },
   {
    "duration": 8,
    "start_time": "2023-05-29T11:04:36.174Z"
   },
   {
    "duration": 12,
    "start_time": "2023-05-29T11:04:36.184Z"
   },
   {
    "duration": 16,
    "start_time": "2023-05-29T11:04:36.199Z"
   },
   {
    "duration": 24,
    "start_time": "2023-05-29T11:04:36.217Z"
   },
   {
    "duration": 207,
    "start_time": "2023-05-29T11:04:36.242Z"
   },
   {
    "duration": 207,
    "start_time": "2023-05-29T11:04:36.450Z"
   },
   {
    "duration": 15,
    "start_time": "2023-05-29T11:04:36.658Z"
   },
   {
    "duration": 7,
    "start_time": "2023-05-29T11:04:36.674Z"
   },
   {
    "duration": 8,
    "start_time": "2023-05-29T11:04:36.682Z"
   },
   {
    "duration": 5,
    "start_time": "2023-05-29T11:04:36.692Z"
   },
   {
    "duration": 25,
    "start_time": "2023-05-29T11:04:36.698Z"
   },
   {
    "duration": 13,
    "start_time": "2023-05-29T11:04:36.724Z"
   },
   {
    "duration": 8,
    "start_time": "2023-05-29T11:04:36.738Z"
   },
   {
    "duration": 16,
    "start_time": "2023-05-29T11:04:36.747Z"
   },
   {
    "duration": 264,
    "start_time": "2023-05-29T11:04:36.764Z"
   },
   {
    "duration": 4,
    "start_time": "2023-05-29T11:04:37.030Z"
   },
   {
    "duration": 15,
    "start_time": "2023-05-29T11:04:37.035Z"
   },
   {
    "duration": 4,
    "start_time": "2023-05-29T11:04:37.051Z"
   },
   {
    "duration": 217,
    "start_time": "2023-05-29T11:04:37.056Z"
   },
   {
    "duration": 6,
    "start_time": "2023-05-29T11:04:37.274Z"
   },
   {
    "duration": 6,
    "start_time": "2023-05-29T11:04:37.284Z"
   },
   {
    "duration": 29,
    "start_time": "2023-05-29T11:04:37.292Z"
   },
   {
    "duration": 7,
    "start_time": "2023-05-29T11:04:37.322Z"
   },
   {
    "duration": 136,
    "start_time": "2023-05-29T11:04:37.330Z"
   },
   {
    "duration": 8,
    "start_time": "2023-05-29T11:04:37.468Z"
   },
   {
    "duration": 15,
    "start_time": "2023-05-29T11:04:37.477Z"
   },
   {
    "duration": 113,
    "start_time": "2023-05-29T11:04:37.493Z"
   },
   {
    "duration": 141,
    "start_time": "2023-05-29T11:04:37.608Z"
   },
   {
    "duration": 2,
    "start_time": "2023-05-29T11:04:37.751Z"
   },
   {
    "duration": 8,
    "start_time": "2023-05-29T11:04:37.755Z"
   },
   {
    "duration": 10,
    "start_time": "2023-05-29T11:04:37.764Z"
   },
   {
    "duration": 7,
    "start_time": "2023-05-29T11:04:37.775Z"
   },
   {
    "duration": 146,
    "start_time": "2023-05-29T11:04:37.783Z"
   },
   {
    "duration": 211,
    "start_time": "2023-05-29T11:04:37.930Z"
   },
   {
    "duration": 4,
    "start_time": "2023-05-29T11:04:38.143Z"
   },
   {
    "duration": 11,
    "start_time": "2023-05-29T11:04:38.149Z"
   },
   {
    "duration": 12,
    "start_time": "2023-05-29T11:04:38.162Z"
   },
   {
    "duration": 9,
    "start_time": "2023-05-29T11:04:38.175Z"
   },
   {
    "duration": 146,
    "start_time": "2023-05-29T11:04:38.185Z"
   },
   {
    "duration": 2,
    "start_time": "2023-05-29T11:04:38.333Z"
   },
   {
    "duration": 10,
    "start_time": "2023-05-29T11:04:38.337Z"
   },
   {
    "duration": 8,
    "start_time": "2023-05-29T11:04:38.349Z"
   },
   {
    "duration": 7,
    "start_time": "2023-05-29T11:04:38.358Z"
   },
   {
    "duration": 129,
    "start_time": "2023-05-29T11:04:38.366Z"
   },
   {
    "duration": 11,
    "start_time": "2023-05-29T11:04:38.496Z"
   },
   {
    "duration": 27,
    "start_time": "2023-05-29T11:04:38.508Z"
   },
   {
    "duration": 12,
    "start_time": "2023-05-29T11:04:38.536Z"
   },
   {
    "duration": 25,
    "start_time": "2023-05-29T11:04:41.408Z"
   },
   {
    "duration": 4,
    "start_time": "2023-05-29T11:06:59.696Z"
   },
   {
    "duration": 3,
    "start_time": "2023-05-29T11:09:02.885Z"
   },
   {
    "duration": 3,
    "start_time": "2023-05-29T11:09:59.501Z"
   },
   {
    "duration": 3,
    "start_time": "2023-05-29T11:10:26.700Z"
   },
   {
    "duration": 71,
    "start_time": "2023-05-29T11:11:10.687Z"
   },
   {
    "duration": 12,
    "start_time": "2023-05-29T11:12:44.845Z"
   },
   {
    "duration": 14,
    "start_time": "2023-05-29T11:12:50.700Z"
   },
   {
    "duration": 61,
    "start_time": "2023-05-29T11:12:55.707Z"
   },
   {
    "duration": 3,
    "start_time": "2023-05-29T11:13:04.128Z"
   },
   {
    "duration": 35,
    "start_time": "2023-05-29T11:13:04.135Z"
   },
   {
    "duration": 8,
    "start_time": "2023-05-29T11:13:04.172Z"
   },
   {
    "duration": 24,
    "start_time": "2023-05-29T11:13:04.182Z"
   },
   {
    "duration": 39,
    "start_time": "2023-05-29T11:13:04.208Z"
   },
   {
    "duration": 24,
    "start_time": "2023-05-29T11:13:04.248Z"
   },
   {
    "duration": 270,
    "start_time": "2023-05-29T11:13:04.273Z"
   },
   {
    "duration": 26,
    "start_time": "2023-05-29T11:13:04.544Z"
   },
   {
    "duration": 8,
    "start_time": "2023-05-29T11:13:04.571Z"
   },
   {
    "duration": 24,
    "start_time": "2023-05-29T11:13:04.581Z"
   },
   {
    "duration": 6,
    "start_time": "2023-05-29T11:13:04.609Z"
   },
   {
    "duration": 30,
    "start_time": "2023-05-29T11:13:04.616Z"
   },
   {
    "duration": 202,
    "start_time": "2023-05-29T11:13:04.648Z"
   },
   {
    "duration": 200,
    "start_time": "2023-05-29T11:13:04.852Z"
   },
   {
    "duration": 15,
    "start_time": "2023-05-29T11:13:05.054Z"
   },
   {
    "duration": 7,
    "start_time": "2023-05-29T11:13:05.071Z"
   },
   {
    "duration": 25,
    "start_time": "2023-05-29T11:13:05.079Z"
   },
   {
    "duration": 7,
    "start_time": "2023-05-29T11:13:05.105Z"
   },
   {
    "duration": 27,
    "start_time": "2023-05-29T11:13:05.113Z"
   },
   {
    "duration": 19,
    "start_time": "2023-05-29T11:13:05.141Z"
   },
   {
    "duration": 34,
    "start_time": "2023-05-29T11:13:05.162Z"
   },
   {
    "duration": 21,
    "start_time": "2023-05-29T11:13:05.197Z"
   },
   {
    "duration": 209,
    "start_time": "2023-05-29T11:13:05.219Z"
   },
   {
    "duration": 5,
    "start_time": "2023-05-29T11:13:05.429Z"
   },
   {
    "duration": 23,
    "start_time": "2023-05-29T11:13:05.435Z"
   },
   {
    "duration": 30,
    "start_time": "2023-05-29T11:13:05.460Z"
   },
   {
    "duration": 249,
    "start_time": "2023-05-29T11:13:05.491Z"
   },
   {
    "duration": 5,
    "start_time": "2023-05-29T11:13:05.741Z"
   },
   {
    "duration": 28,
    "start_time": "2023-05-29T11:13:05.749Z"
   },
   {
    "duration": 16,
    "start_time": "2023-05-29T11:13:05.779Z"
   },
   {
    "duration": 27,
    "start_time": "2023-05-29T11:13:05.796Z"
   },
   {
    "duration": 148,
    "start_time": "2023-05-29T11:13:05.824Z"
   },
   {
    "duration": 7,
    "start_time": "2023-05-29T11:13:05.974Z"
   },
   {
    "duration": 53,
    "start_time": "2023-05-29T11:13:05.982Z"
   },
   {
    "duration": 176,
    "start_time": "2023-05-29T11:13:06.036Z"
   },
   {
    "duration": 124,
    "start_time": "2023-05-29T11:13:06.213Z"
   },
   {
    "duration": 3,
    "start_time": "2023-05-29T11:13:06.338Z"
   },
   {
    "duration": 26,
    "start_time": "2023-05-29T11:13:06.342Z"
   },
   {
    "duration": 30,
    "start_time": "2023-05-29T11:13:06.369Z"
   },
   {
    "duration": 30,
    "start_time": "2023-05-29T11:13:06.401Z"
   },
   {
    "duration": 123,
    "start_time": "2023-05-29T11:13:06.433Z"
   },
   {
    "duration": 191,
    "start_time": "2023-05-29T11:13:06.558Z"
   },
   {
    "duration": 3,
    "start_time": "2023-05-29T11:13:06.751Z"
   },
   {
    "duration": 8,
    "start_time": "2023-05-29T11:13:06.756Z"
   },
   {
    "duration": 19,
    "start_time": "2023-05-29T11:13:06.766Z"
   },
   {
    "duration": 18,
    "start_time": "2023-05-29T11:13:06.786Z"
   },
   {
    "duration": 138,
    "start_time": "2023-05-29T11:13:06.805Z"
   },
   {
    "duration": 3,
    "start_time": "2023-05-29T11:13:06.944Z"
   },
   {
    "duration": 41,
    "start_time": "2023-05-29T11:13:06.948Z"
   },
   {
    "duration": 22,
    "start_time": "2023-05-29T11:13:06.990Z"
   },
   {
    "duration": 6,
    "start_time": "2023-05-29T11:13:07.014Z"
   },
   {
    "duration": 126,
    "start_time": "2023-05-29T11:13:07.022Z"
   },
   {
    "duration": 11,
    "start_time": "2023-05-29T11:13:07.149Z"
   },
   {
    "duration": 13,
    "start_time": "2023-05-29T11:13:07.162Z"
   },
   {
    "duration": 10,
    "start_time": "2023-05-29T11:13:07.177Z"
   },
   {
    "duration": 39,
    "start_time": "2023-05-29T11:13:07.188Z"
   },
   {
    "duration": 4,
    "start_time": "2023-05-29T11:13:07.229Z"
   },
   {
    "duration": 14,
    "start_time": "2023-05-29T11:13:07.234Z"
   },
   {
    "duration": 14,
    "start_time": "2023-05-29T11:13:09.972Z"
   },
   {
    "duration": 3,
    "start_time": "2023-05-29T11:13:22.079Z"
   },
   {
    "duration": 26,
    "start_time": "2023-05-29T11:13:22.094Z"
   },
   {
    "duration": 9,
    "start_time": "2023-05-29T11:13:22.122Z"
   },
   {
    "duration": 14,
    "start_time": "2023-05-29T11:13:22.132Z"
   },
   {
    "duration": 9,
    "start_time": "2023-05-29T11:13:22.148Z"
   },
   {
    "duration": 8,
    "start_time": "2023-05-29T11:13:22.159Z"
   },
   {
    "duration": 230,
    "start_time": "2023-05-29T11:13:22.168Z"
   },
   {
    "duration": 26,
    "start_time": "2023-05-29T11:13:22.400Z"
   },
   {
    "duration": 8,
    "start_time": "2023-05-29T11:13:22.427Z"
   },
   {
    "duration": 12,
    "start_time": "2023-05-29T11:13:22.436Z"
   },
   {
    "duration": 6,
    "start_time": "2023-05-29T11:13:22.450Z"
   },
   {
    "duration": 10,
    "start_time": "2023-05-29T11:13:22.457Z"
   },
   {
    "duration": 220,
    "start_time": "2023-05-29T11:13:22.468Z"
   },
   {
    "duration": 280,
    "start_time": "2023-05-29T11:13:22.690Z"
   },
   {
    "duration": 14,
    "start_time": "2023-05-29T11:13:22.973Z"
   },
   {
    "duration": 15,
    "start_time": "2023-05-29T11:13:22.989Z"
   },
   {
    "duration": 22,
    "start_time": "2023-05-29T11:13:23.006Z"
   },
   {
    "duration": 6,
    "start_time": "2023-05-29T11:13:23.029Z"
   },
   {
    "duration": 5,
    "start_time": "2023-05-29T11:13:23.036Z"
   },
   {
    "duration": 11,
    "start_time": "2023-05-29T11:13:23.043Z"
   },
   {
    "duration": 6,
    "start_time": "2023-05-29T11:13:23.056Z"
   },
   {
    "duration": 9,
    "start_time": "2023-05-29T11:13:23.063Z"
   },
   {
    "duration": 200,
    "start_time": "2023-05-29T11:13:23.073Z"
   },
   {
    "duration": 4,
    "start_time": "2023-05-29T11:13:23.274Z"
   },
   {
    "duration": 16,
    "start_time": "2023-05-29T11:13:23.280Z"
   },
   {
    "duration": 18,
    "start_time": "2023-05-29T11:13:23.298Z"
   },
   {
    "duration": 200,
    "start_time": "2023-05-29T11:13:23.317Z"
   },
   {
    "duration": 5,
    "start_time": "2023-05-29T11:13:23.518Z"
   },
   {
    "duration": 6,
    "start_time": "2023-05-29T11:13:23.525Z"
   },
   {
    "duration": 8,
    "start_time": "2023-05-29T11:13:23.533Z"
   },
   {
    "duration": 17,
    "start_time": "2023-05-29T11:13:23.542Z"
   },
   {
    "duration": 130,
    "start_time": "2023-05-29T11:13:23.560Z"
   },
   {
    "duration": 7,
    "start_time": "2023-05-29T11:13:23.691Z"
   },
   {
    "duration": 41,
    "start_time": "2023-05-29T11:13:23.699Z"
   },
   {
    "duration": 124,
    "start_time": "2023-05-29T11:13:23.741Z"
   },
   {
    "duration": 143,
    "start_time": "2023-05-29T11:13:23.867Z"
   },
   {
    "duration": 4,
    "start_time": "2023-05-29T11:13:24.011Z"
   },
   {
    "duration": 14,
    "start_time": "2023-05-29T11:13:24.017Z"
   },
   {
    "duration": 11,
    "start_time": "2023-05-29T11:13:24.032Z"
   },
   {
    "duration": 7,
    "start_time": "2023-05-29T11:13:24.045Z"
   },
   {
    "duration": 119,
    "start_time": "2023-05-29T11:13:24.054Z"
   },
   {
    "duration": 259,
    "start_time": "2023-05-29T11:13:24.177Z"
   },
   {
    "duration": 3,
    "start_time": "2023-05-29T11:13:24.437Z"
   },
   {
    "duration": 20,
    "start_time": "2023-05-29T11:13:24.442Z"
   },
   {
    "duration": 10,
    "start_time": "2023-05-29T11:13:24.464Z"
   },
   {
    "duration": 8,
    "start_time": "2023-05-29T11:13:24.476Z"
   },
   {
    "duration": 123,
    "start_time": "2023-05-29T11:13:24.485Z"
   },
   {
    "duration": 3,
    "start_time": "2023-05-29T11:13:24.615Z"
   },
   {
    "duration": 10,
    "start_time": "2023-05-29T11:13:24.619Z"
   },
   {
    "duration": 11,
    "start_time": "2023-05-29T11:13:24.631Z"
   },
   {
    "duration": 5,
    "start_time": "2023-05-29T11:13:24.644Z"
   },
   {
    "duration": 131,
    "start_time": "2023-05-29T11:13:24.651Z"
   },
   {
    "duration": 10,
    "start_time": "2023-05-29T11:13:24.783Z"
   },
   {
    "duration": 22,
    "start_time": "2023-05-29T11:13:24.795Z"
   },
   {
    "duration": 10,
    "start_time": "2023-05-29T11:13:24.818Z"
   },
   {
    "duration": 13,
    "start_time": "2023-05-29T11:13:24.829Z"
   },
   {
    "duration": 7,
    "start_time": "2023-05-29T11:13:24.844Z"
   },
   {
    "duration": 11,
    "start_time": "2023-05-29T11:13:24.852Z"
   },
   {
    "duration": 13,
    "start_time": "2023-05-29T11:13:24.865Z"
   },
   {
    "duration": 6,
    "start_time": "2023-05-29T11:13:24.880Z"
   },
   {
    "duration": 15,
    "start_time": "2023-05-29T11:13:27.637Z"
   },
   {
    "duration": 115,
    "start_time": "2023-05-29T11:14:20.479Z"
   },
   {
    "duration": 3,
    "start_time": "2023-05-29T11:15:02.636Z"
   },
   {
    "duration": 68,
    "start_time": "2023-05-29T11:15:02.647Z"
   },
   {
    "duration": 12,
    "start_time": "2023-05-29T11:15:02.717Z"
   },
   {
    "duration": 41,
    "start_time": "2023-05-29T11:15:02.730Z"
   },
   {
    "duration": 30,
    "start_time": "2023-05-29T11:15:02.772Z"
   },
   {
    "duration": 16,
    "start_time": "2023-05-29T11:15:02.804Z"
   },
   {
    "duration": 236,
    "start_time": "2023-05-29T11:15:02.821Z"
   },
   {
    "duration": 25,
    "start_time": "2023-05-29T11:15:03.059Z"
   },
   {
    "duration": 8,
    "start_time": "2023-05-29T11:15:03.086Z"
   },
   {
    "duration": 28,
    "start_time": "2023-05-29T11:15:03.095Z"
   },
   {
    "duration": 20,
    "start_time": "2023-05-29T11:15:03.124Z"
   },
   {
    "duration": 25,
    "start_time": "2023-05-29T11:15:03.145Z"
   },
   {
    "duration": 217,
    "start_time": "2023-05-29T11:15:03.172Z"
   },
   {
    "duration": 210,
    "start_time": "2023-05-29T11:15:03.390Z"
   },
   {
    "duration": 15,
    "start_time": "2023-05-29T11:15:03.603Z"
   },
   {
    "duration": 8,
    "start_time": "2023-05-29T11:15:03.619Z"
   },
   {
    "duration": 8,
    "start_time": "2023-05-29T11:15:03.629Z"
   },
   {
    "duration": 6,
    "start_time": "2023-05-29T11:15:03.639Z"
   },
   {
    "duration": 9,
    "start_time": "2023-05-29T11:15:03.647Z"
   },
   {
    "duration": 8,
    "start_time": "2023-05-29T11:15:03.658Z"
   },
   {
    "duration": 9,
    "start_time": "2023-05-29T11:15:03.667Z"
   },
   {
    "duration": 12,
    "start_time": "2023-05-29T11:15:03.677Z"
   },
   {
    "duration": 216,
    "start_time": "2023-05-29T11:15:03.691Z"
   },
   {
    "duration": 8,
    "start_time": "2023-05-29T11:15:03.909Z"
   },
   {
    "duration": 10,
    "start_time": "2023-05-29T11:15:03.918Z"
   },
   {
    "duration": 3,
    "start_time": "2023-05-29T11:15:03.930Z"
   },
   {
    "duration": 286,
    "start_time": "2023-05-29T11:15:03.935Z"
   },
   {
    "duration": 5,
    "start_time": "2023-05-29T11:15:04.222Z"
   },
   {
    "duration": 15,
    "start_time": "2023-05-29T11:15:04.228Z"
   },
   {
    "duration": 15,
    "start_time": "2023-05-29T11:15:04.244Z"
   },
   {
    "duration": 35,
    "start_time": "2023-05-29T11:15:04.260Z"
   },
   {
    "duration": 148,
    "start_time": "2023-05-29T11:15:04.296Z"
   },
   {
    "duration": 9,
    "start_time": "2023-05-29T11:15:04.446Z"
   },
   {
    "duration": 33,
    "start_time": "2023-05-29T11:15:04.456Z"
   },
   {
    "duration": 126,
    "start_time": "2023-05-29T11:15:04.491Z"
   },
   {
    "duration": 151,
    "start_time": "2023-05-29T11:15:04.620Z"
   },
   {
    "duration": 4,
    "start_time": "2023-05-29T11:15:04.773Z"
   },
   {
    "duration": 7,
    "start_time": "2023-05-29T11:15:04.779Z"
   },
   {
    "duration": 9,
    "start_time": "2023-05-29T11:15:04.787Z"
   },
   {
    "duration": 21,
    "start_time": "2023-05-29T11:15:04.797Z"
   },
   {
    "duration": 121,
    "start_time": "2023-05-29T11:15:04.820Z"
   },
   {
    "duration": 202,
    "start_time": "2023-05-29T11:15:04.947Z"
   },
   {
    "duration": 147,
    "start_time": "2023-05-29T11:15:05.151Z"
   },
   {
    "duration": 22,
    "start_time": "2023-05-29T11:15:05.299Z"
   },
   {
    "duration": 19,
    "start_time": "2023-05-29T11:15:05.323Z"
   },
   {
    "duration": 15,
    "start_time": "2023-05-29T11:15:05.344Z"
   },
   {
    "duration": 144,
    "start_time": "2023-05-29T11:15:05.361Z"
   },
   {
    "duration": 3,
    "start_time": "2023-05-29T11:15:05.507Z"
   },
   {
    "duration": 36,
    "start_time": "2023-05-29T11:15:05.516Z"
   },
   {
    "duration": 22,
    "start_time": "2023-05-29T11:15:05.554Z"
   },
   {
    "duration": 29,
    "start_time": "2023-05-29T11:15:05.578Z"
   },
   {
    "duration": 154,
    "start_time": "2023-05-29T11:15:05.610Z"
   },
   {
    "duration": 11,
    "start_time": "2023-05-29T11:15:05.766Z"
   },
   {
    "duration": 24,
    "start_time": "2023-05-29T11:15:05.779Z"
   },
   {
    "duration": 23,
    "start_time": "2023-05-29T11:15:05.804Z"
   },
   {
    "duration": 13,
    "start_time": "2023-05-29T11:15:05.828Z"
   },
   {
    "duration": 29,
    "start_time": "2023-05-29T11:15:05.843Z"
   },
   {
    "duration": 38,
    "start_time": "2023-05-29T11:15:05.874Z"
   },
   {
    "duration": 17,
    "start_time": "2023-05-29T11:15:05.913Z"
   },
   {
    "duration": 71,
    "start_time": "2023-05-29T11:15:05.932Z"
   },
   {
    "duration": 53,
    "start_time": "2023-05-29T11:15:06.005Z"
   },
   {
    "duration": 22,
    "start_time": "2023-05-29T11:15:06.059Z"
   },
   {
    "duration": 10,
    "start_time": "2023-05-29T11:15:06.082Z"
   },
   {
    "duration": 9,
    "start_time": "2023-05-29T11:15:06.093Z"
   },
   {
    "duration": 7,
    "start_time": "2023-05-29T11:15:06.103Z"
   },
   {
    "duration": 352,
    "start_time": "2023-05-29T11:15:06.111Z"
   },
   {
    "duration": 294,
    "start_time": "2023-05-29T11:15:06.465Z"
   },
   {
    "duration": 37358,
    "start_time": "2023-05-29T11:15:06.761Z"
   },
   {
    "duration": 19,
    "start_time": "2023-05-29T11:15:44.120Z"
   },
   {
    "duration": 27,
    "start_time": "2023-05-29T11:15:44.141Z"
   },
   {
    "duration": 21,
    "start_time": "2023-05-29T11:15:44.169Z"
   },
   {
    "duration": 37,
    "start_time": "2023-05-29T11:15:44.191Z"
   },
   {
    "duration": 21,
    "start_time": "2023-05-29T11:15:44.230Z"
   },
   {
    "duration": 15,
    "start_time": "2023-05-29T11:15:44.253Z"
   },
   {
    "duration": 30,
    "start_time": "2023-05-29T11:15:44.269Z"
   },
   {
    "duration": 9,
    "start_time": "2023-05-29T11:15:44.300Z"
   },
   {
    "duration": 18,
    "start_time": "2023-05-29T11:15:44.311Z"
   },
   {
    "duration": 25,
    "start_time": "2023-05-29T11:15:44.331Z"
   },
   {
    "duration": 12,
    "start_time": "2023-05-29T11:15:44.358Z"
   },
   {
    "duration": 24,
    "start_time": "2023-05-29T11:15:44.371Z"
   },
   {
    "duration": 25,
    "start_time": "2023-05-29T11:15:44.397Z"
   },
   {
    "duration": 17,
    "start_time": "2023-05-29T11:15:44.423Z"
   },
   {
    "duration": 30,
    "start_time": "2023-05-29T11:15:44.441Z"
   },
   {
    "duration": 147,
    "start_time": "2023-05-29T11:23:57.239Z"
   },
   {
    "duration": 114,
    "start_time": "2023-05-29T11:24:12.825Z"
   },
   {
    "duration": 115,
    "start_time": "2023-05-29T11:26:22.880Z"
   },
   {
    "duration": 121,
    "start_time": "2023-05-29T11:26:47.946Z"
   },
   {
    "duration": 133,
    "start_time": "2023-05-29T11:27:02.339Z"
   },
   {
    "duration": 133,
    "start_time": "2023-05-29T11:27:54.619Z"
   },
   {
    "duration": 98,
    "start_time": "2023-05-29T11:28:58.588Z"
   },
   {
    "duration": 109,
    "start_time": "2023-05-29T11:30:27.918Z"
   },
   {
    "duration": 180,
    "start_time": "2023-05-29T11:31:12.416Z"
   },
   {
    "duration": 111,
    "start_time": "2023-05-29T11:31:32.308Z"
   },
   {
    "duration": 114,
    "start_time": "2023-05-29T11:32:14.984Z"
   },
   {
    "duration": 109,
    "start_time": "2023-05-29T11:32:25.076Z"
   },
   {
    "duration": 127,
    "start_time": "2023-05-29T11:33:26.620Z"
   },
   {
    "duration": 119,
    "start_time": "2023-05-29T11:33:58.992Z"
   },
   {
    "duration": 126,
    "start_time": "2023-05-29T11:35:48.296Z"
   },
   {
    "duration": 2,
    "start_time": "2023-05-29T11:38:42.384Z"
   },
   {
    "duration": 34,
    "start_time": "2023-05-29T11:38:42.395Z"
   },
   {
    "duration": 10,
    "start_time": "2023-05-29T11:38:42.432Z"
   },
   {
    "duration": 30,
    "start_time": "2023-05-29T11:38:42.443Z"
   },
   {
    "duration": 7,
    "start_time": "2023-05-29T11:38:42.475Z"
   },
   {
    "duration": 10,
    "start_time": "2023-05-29T11:38:42.484Z"
   },
   {
    "duration": 226,
    "start_time": "2023-05-29T11:38:42.496Z"
   },
   {
    "duration": 24,
    "start_time": "2023-05-29T11:38:42.723Z"
   },
   {
    "duration": 7,
    "start_time": "2023-05-29T11:38:42.748Z"
   },
   {
    "duration": 19,
    "start_time": "2023-05-29T11:38:42.757Z"
   },
   {
    "duration": 5,
    "start_time": "2023-05-29T11:38:42.777Z"
   },
   {
    "duration": 12,
    "start_time": "2023-05-29T11:38:42.784Z"
   },
   {
    "duration": 212,
    "start_time": "2023-05-29T11:38:42.797Z"
   },
   {
    "duration": 264,
    "start_time": "2023-05-29T11:38:43.010Z"
   },
   {
    "duration": 14,
    "start_time": "2023-05-29T11:38:43.277Z"
   },
   {
    "duration": 6,
    "start_time": "2023-05-29T11:38:43.292Z"
   },
   {
    "duration": 7,
    "start_time": "2023-05-29T11:38:43.300Z"
   },
   {
    "duration": 10,
    "start_time": "2023-05-29T11:38:43.308Z"
   },
   {
    "duration": 11,
    "start_time": "2023-05-29T11:38:43.319Z"
   },
   {
    "duration": 4,
    "start_time": "2023-05-29T11:38:43.331Z"
   },
   {
    "duration": 6,
    "start_time": "2023-05-29T11:38:43.337Z"
   },
   {
    "duration": 12,
    "start_time": "2023-05-29T11:38:43.344Z"
   },
   {
    "duration": 184,
    "start_time": "2023-05-29T11:38:43.357Z"
   },
   {
    "duration": 3,
    "start_time": "2023-05-29T11:38:43.543Z"
   },
   {
    "duration": 13,
    "start_time": "2023-05-29T11:38:43.547Z"
   },
   {
    "duration": 3,
    "start_time": "2023-05-29T11:38:43.562Z"
   },
   {
    "duration": 207,
    "start_time": "2023-05-29T11:38:43.566Z"
   },
   {
    "duration": 4,
    "start_time": "2023-05-29T11:38:43.775Z"
   },
   {
    "duration": 6,
    "start_time": "2023-05-29T11:38:43.781Z"
   },
   {
    "duration": 12,
    "start_time": "2023-05-29T11:38:43.789Z"
   },
   {
    "duration": 14,
    "start_time": "2023-05-29T11:38:43.802Z"
   },
   {
    "duration": 144,
    "start_time": "2023-05-29T11:38:43.818Z"
   },
   {
    "duration": 7,
    "start_time": "2023-05-29T11:38:43.964Z"
   },
   {
    "duration": 6,
    "start_time": "2023-05-29T11:38:43.973Z"
   },
   {
    "duration": 120,
    "start_time": "2023-05-29T11:38:43.980Z"
   },
   {
    "duration": 145,
    "start_time": "2023-05-29T11:38:44.101Z"
   },
   {
    "duration": 3,
    "start_time": "2023-05-29T11:38:44.247Z"
   },
   {
    "duration": 12,
    "start_time": "2023-05-29T11:38:44.251Z"
   },
   {
    "duration": 12,
    "start_time": "2023-05-29T11:38:44.265Z"
   },
   {
    "duration": 9,
    "start_time": "2023-05-29T11:38:44.279Z"
   },
   {
    "duration": 119,
    "start_time": "2023-05-29T11:38:44.289Z"
   },
   {
    "duration": 253,
    "start_time": "2023-05-29T11:38:44.415Z"
   },
   {
    "duration": 3,
    "start_time": "2023-05-29T11:38:44.670Z"
   },
   {
    "duration": 10,
    "start_time": "2023-05-29T11:38:44.674Z"
   },
   {
    "duration": 12,
    "start_time": "2023-05-29T11:38:44.685Z"
   },
   {
    "duration": 8,
    "start_time": "2023-05-29T11:38:44.698Z"
   },
   {
    "duration": 120,
    "start_time": "2023-05-29T11:38:44.715Z"
   },
   {
    "duration": 3,
    "start_time": "2023-05-29T11:38:44.836Z"
   },
   {
    "duration": 20,
    "start_time": "2023-05-29T11:38:44.840Z"
   },
   {
    "duration": 13,
    "start_time": "2023-05-29T11:38:44.861Z"
   },
   {
    "duration": 11,
    "start_time": "2023-05-29T11:38:44.875Z"
   },
   {
    "duration": 119,
    "start_time": "2023-05-29T11:38:44.887Z"
   },
   {
    "duration": 12,
    "start_time": "2023-05-29T11:38:45.007Z"
   },
   {
    "duration": 46,
    "start_time": "2023-05-29T11:38:45.020Z"
   },
   {
    "duration": 40,
    "start_time": "2023-05-29T11:38:45.068Z"
   },
   {
    "duration": 22,
    "start_time": "2023-05-29T11:38:45.109Z"
   },
   {
    "duration": 18,
    "start_time": "2023-05-29T11:38:45.132Z"
   },
   {
    "duration": 31,
    "start_time": "2023-05-29T11:38:45.151Z"
   },
   {
    "duration": 37,
    "start_time": "2023-05-29T11:38:45.184Z"
   },
   {
    "duration": 19,
    "start_time": "2023-05-29T11:38:45.222Z"
   },
   {
    "duration": 57,
    "start_time": "2023-05-29T11:38:45.242Z"
   },
   {
    "duration": 24,
    "start_time": "2023-05-29T11:38:45.301Z"
   },
   {
    "duration": 27,
    "start_time": "2023-05-29T11:38:45.327Z"
   },
   {
    "duration": 20,
    "start_time": "2023-05-29T11:38:45.356Z"
   },
   {
    "duration": 19,
    "start_time": "2023-05-29T11:38:45.378Z"
   },
   {
    "duration": 283,
    "start_time": "2023-05-29T11:38:45.398Z"
   },
   {
    "duration": 289,
    "start_time": "2023-05-29T11:38:45.683Z"
   },
   {
    "duration": 38262,
    "start_time": "2023-05-29T11:38:45.974Z"
   },
   {
    "duration": 20,
    "start_time": "2023-05-29T11:39:24.237Z"
   },
   {
    "duration": 30,
    "start_time": "2023-05-29T11:39:24.259Z"
   },
   {
    "duration": 15,
    "start_time": "2023-05-29T11:39:24.290Z"
   },
   {
    "duration": 23,
    "start_time": "2023-05-29T11:39:24.307Z"
   },
   {
    "duration": 10,
    "start_time": "2023-05-29T11:39:24.331Z"
   },
   {
    "duration": 24,
    "start_time": "2023-05-29T11:39:24.342Z"
   },
   {
    "duration": 45,
    "start_time": "2023-05-29T11:39:24.368Z"
   },
   {
    "duration": 10,
    "start_time": "2023-05-29T11:39:24.415Z"
   },
   {
    "duration": 17,
    "start_time": "2023-05-29T11:39:24.426Z"
   },
   {
    "duration": 33,
    "start_time": "2023-05-29T11:39:24.444Z"
   },
   {
    "duration": 14,
    "start_time": "2023-05-29T11:39:24.478Z"
   },
   {
    "duration": 17,
    "start_time": "2023-05-29T11:39:24.493Z"
   },
   {
    "duration": 27,
    "start_time": "2023-05-29T11:39:24.511Z"
   },
   {
    "duration": 21,
    "start_time": "2023-05-29T11:39:24.539Z"
   },
   {
    "duration": 27,
    "start_time": "2023-05-29T11:39:24.561Z"
   },
   {
    "duration": 1139,
    "start_time": "2023-05-29T16:29:22.596Z"
   },
   {
    "duration": 29,
    "start_time": "2023-05-29T16:29:23.737Z"
   },
   {
    "duration": 16,
    "start_time": "2023-05-29T16:29:23.768Z"
   },
   {
    "duration": 29,
    "start_time": "2023-05-29T16:29:23.786Z"
   },
   {
    "duration": 9,
    "start_time": "2023-05-29T16:29:23.817Z"
   },
   {
    "duration": 14,
    "start_time": "2023-05-29T16:29:23.828Z"
   },
   {
    "duration": 322,
    "start_time": "2023-05-29T16:29:23.844Z"
   },
   {
    "duration": 29,
    "start_time": "2023-05-29T16:29:24.168Z"
   },
   {
    "duration": 11,
    "start_time": "2023-05-29T16:29:24.200Z"
   },
   {
    "duration": 21,
    "start_time": "2023-05-29T16:29:24.215Z"
   },
   {
    "duration": 28,
    "start_time": "2023-05-29T16:29:24.238Z"
   },
   {
    "duration": 13,
    "start_time": "2023-05-29T16:29:24.267Z"
   },
   {
    "duration": 277,
    "start_time": "2023-05-29T16:29:24.282Z"
   },
   {
    "duration": 249,
    "start_time": "2023-05-29T16:29:24.561Z"
   },
   {
    "duration": 26,
    "start_time": "2023-05-29T16:29:24.812Z"
   },
   {
    "duration": 7,
    "start_time": "2023-05-29T16:29:24.840Z"
   },
   {
    "duration": 10,
    "start_time": "2023-05-29T16:29:24.849Z"
   },
   {
    "duration": 14,
    "start_time": "2023-05-29T16:29:24.861Z"
   },
   {
    "duration": 11,
    "start_time": "2023-05-29T16:29:24.877Z"
   },
   {
    "duration": 11,
    "start_time": "2023-05-29T16:29:24.890Z"
   },
   {
    "duration": 6,
    "start_time": "2023-05-29T16:29:24.903Z"
   },
   {
    "duration": 11,
    "start_time": "2023-05-29T16:29:24.911Z"
   },
   {
    "duration": 231,
    "start_time": "2023-05-29T16:29:24.923Z"
   },
   {
    "duration": 6,
    "start_time": "2023-05-29T16:29:25.157Z"
   },
   {
    "duration": 24,
    "start_time": "2023-05-29T16:29:25.165Z"
   },
   {
    "duration": 4,
    "start_time": "2023-05-29T16:29:25.190Z"
   },
   {
    "duration": 343,
    "start_time": "2023-05-29T16:29:25.195Z"
   },
   {
    "duration": 6,
    "start_time": "2023-05-29T16:29:25.543Z"
   },
   {
    "duration": 7,
    "start_time": "2023-05-29T16:29:25.558Z"
   },
   {
    "duration": 9,
    "start_time": "2023-05-29T16:29:25.566Z"
   },
   {
    "duration": 10,
    "start_time": "2023-05-29T16:29:25.577Z"
   },
   {
    "duration": 185,
    "start_time": "2023-05-29T16:29:25.589Z"
   },
   {
    "duration": 9,
    "start_time": "2023-05-29T16:29:25.776Z"
   },
   {
    "duration": 23,
    "start_time": "2023-05-29T16:29:25.787Z"
   },
   {
    "duration": 129,
    "start_time": "2023-05-29T16:29:25.812Z"
   },
   {
    "duration": 150,
    "start_time": "2023-05-29T16:29:25.943Z"
   },
   {
    "duration": 3,
    "start_time": "2023-05-29T16:29:26.095Z"
   },
   {
    "duration": 7,
    "start_time": "2023-05-29T16:29:26.100Z"
   },
   {
    "duration": 10,
    "start_time": "2023-05-29T16:29:26.108Z"
   },
   {
    "duration": 6,
    "start_time": "2023-05-29T16:29:26.120Z"
   },
   {
    "duration": 154,
    "start_time": "2023-05-29T16:29:26.156Z"
   },
   {
    "duration": 245,
    "start_time": "2023-05-29T16:29:26.312Z"
   },
   {
    "duration": 3,
    "start_time": "2023-05-29T16:29:26.559Z"
   },
   {
    "duration": 16,
    "start_time": "2023-05-29T16:29:26.564Z"
   },
   {
    "duration": 38,
    "start_time": "2023-05-29T16:29:26.582Z"
   },
   {
    "duration": 12,
    "start_time": "2023-05-29T16:29:26.622Z"
   },
   {
    "duration": 139,
    "start_time": "2023-05-29T16:29:26.636Z"
   },
   {
    "duration": 4,
    "start_time": "2023-05-29T16:29:26.777Z"
   },
   {
    "duration": 10,
    "start_time": "2023-05-29T16:29:26.782Z"
   },
   {
    "duration": 12,
    "start_time": "2023-05-29T16:29:26.793Z"
   },
   {
    "duration": 6,
    "start_time": "2023-05-29T16:29:26.806Z"
   },
   {
    "duration": 163,
    "start_time": "2023-05-29T16:29:26.814Z"
   },
   {
    "duration": 11,
    "start_time": "2023-05-29T16:29:26.978Z"
   },
   {
    "duration": 14,
    "start_time": "2023-05-29T16:29:26.991Z"
   },
   {
    "duration": 13,
    "start_time": "2023-05-29T16:29:27.006Z"
   },
   {
    "duration": 42,
    "start_time": "2023-05-29T16:29:27.021Z"
   },
   {
    "duration": 4,
    "start_time": "2023-05-29T16:29:27.064Z"
   },
   {
    "duration": 12,
    "start_time": "2023-05-29T16:29:27.070Z"
   },
   {
    "duration": 15,
    "start_time": "2023-05-29T16:29:27.084Z"
   },
   {
    "duration": 9,
    "start_time": "2023-05-29T16:29:27.100Z"
   },
   {
    "duration": 47,
    "start_time": "2023-05-29T16:29:27.111Z"
   },
   {
    "duration": 10,
    "start_time": "2023-05-29T16:29:27.160Z"
   },
   {
    "duration": 9,
    "start_time": "2023-05-29T16:29:27.171Z"
   },
   {
    "duration": 8,
    "start_time": "2023-05-29T16:29:27.182Z"
   },
   {
    "duration": 8,
    "start_time": "2023-05-29T16:29:27.192Z"
   },
   {
    "duration": 370,
    "start_time": "2023-05-29T16:29:27.202Z"
   },
   {
    "duration": 449,
    "start_time": "2023-05-29T16:29:27.574Z"
   },
   {
    "duration": 47769,
    "start_time": "2023-05-29T16:29:28.025Z"
   },
   {
    "duration": 22,
    "start_time": "2023-05-29T16:30:15.796Z"
   },
   {
    "duration": 30,
    "start_time": "2023-05-29T16:30:15.820Z"
   },
   {
    "duration": 7,
    "start_time": "2023-05-29T16:30:15.852Z"
   },
   {
    "duration": 21,
    "start_time": "2023-05-29T16:30:15.861Z"
   },
   {
    "duration": 18,
    "start_time": "2023-05-29T16:30:15.884Z"
   },
   {
    "duration": 23,
    "start_time": "2023-05-29T16:30:15.904Z"
   },
   {
    "duration": 27,
    "start_time": "2023-05-29T16:30:15.928Z"
   },
   {
    "duration": 14,
    "start_time": "2023-05-29T16:30:15.956Z"
   },
   {
    "duration": 13,
    "start_time": "2023-05-29T16:30:15.971Z"
   },
   {
    "duration": 19,
    "start_time": "2023-05-29T16:30:15.986Z"
   },
   {
    "duration": 9,
    "start_time": "2023-05-29T16:30:16.007Z"
   },
   {
    "duration": 19,
    "start_time": "2023-05-29T16:30:16.018Z"
   },
   {
    "duration": 14,
    "start_time": "2023-05-29T16:30:16.056Z"
   },
   {
    "duration": 29,
    "start_time": "2023-05-29T16:30:16.075Z"
   },
   {
    "duration": 37,
    "start_time": "2023-05-29T16:30:16.106Z"
   },
   {
    "duration": 48,
    "start_time": "2023-05-29T16:55:21.683Z"
   },
   {
    "duration": 44,
    "start_time": "2023-05-29T16:56:47.741Z"
   },
   {
    "duration": 1303,
    "start_time": "2023-05-29T16:56:54.035Z"
   },
   {
    "duration": 100,
    "start_time": "2023-05-29T16:56:55.340Z"
   },
   {
    "duration": 15,
    "start_time": "2023-05-29T16:56:55.443Z"
   },
   {
    "duration": 12,
    "start_time": "2023-05-29T16:56:55.460Z"
   },
   {
    "duration": 8,
    "start_time": "2023-05-29T16:56:55.474Z"
   },
   {
    "duration": 8,
    "start_time": "2023-05-29T16:56:55.484Z"
   },
   {
    "duration": 338,
    "start_time": "2023-05-29T16:56:55.495Z"
   },
   {
    "duration": 162,
    "start_time": "2023-05-29T16:56:55.835Z"
   },
   {
    "duration": 10,
    "start_time": "2023-05-29T16:56:55.999Z"
   },
   {
    "duration": 18,
    "start_time": "2023-05-29T16:56:56.013Z"
   },
   {
    "duration": 9,
    "start_time": "2023-05-29T16:56:56.033Z"
   },
   {
    "duration": 17,
    "start_time": "2023-05-29T16:56:56.044Z"
   },
   {
    "duration": 250,
    "start_time": "2023-05-29T16:56:56.062Z"
   },
   {
    "duration": 286,
    "start_time": "2023-05-29T16:56:56.315Z"
   },
   {
    "duration": 65,
    "start_time": "2023-05-29T16:56:56.603Z"
   },
   {
    "duration": 8,
    "start_time": "2023-05-29T16:56:56.669Z"
   },
   {
    "duration": 10,
    "start_time": "2023-05-29T16:56:56.679Z"
   },
   {
    "duration": 7,
    "start_time": "2023-05-29T16:56:56.691Z"
   },
   {
    "duration": 7,
    "start_time": "2023-05-29T16:56:56.700Z"
   },
   {
    "duration": 6,
    "start_time": "2023-05-29T16:56:56.709Z"
   },
   {
    "duration": 10,
    "start_time": "2023-05-29T16:56:56.722Z"
   },
   {
    "duration": 32,
    "start_time": "2023-05-29T16:56:56.734Z"
   },
   {
    "duration": 255,
    "start_time": "2023-05-29T16:56:56.768Z"
   },
   {
    "duration": 6,
    "start_time": "2023-05-29T16:56:57.024Z"
   },
   {
    "duration": 32,
    "start_time": "2023-05-29T16:56:57.032Z"
   },
   {
    "duration": 5,
    "start_time": "2023-05-29T16:56:57.067Z"
   },
   {
    "duration": 357,
    "start_time": "2023-05-29T16:56:57.074Z"
   },
   {
    "duration": 6,
    "start_time": "2023-05-29T16:56:57.435Z"
   },
   {
    "duration": 18,
    "start_time": "2023-05-29T16:56:57.442Z"
   },
   {
    "duration": 13,
    "start_time": "2023-05-29T16:56:57.462Z"
   },
   {
    "duration": 7,
    "start_time": "2023-05-29T16:56:57.476Z"
   },
   {
    "duration": 179,
    "start_time": "2023-05-29T16:56:57.485Z"
   },
   {
    "duration": 10,
    "start_time": "2023-05-29T16:56:57.666Z"
   },
   {
    "duration": 9,
    "start_time": "2023-05-29T16:56:57.679Z"
   },
   {
    "duration": 156,
    "start_time": "2023-05-29T16:57:01.472Z"
   },
   {
    "duration": 3,
    "start_time": "2023-05-29T16:58:21.729Z"
   },
   {
    "duration": 31,
    "start_time": "2023-05-29T16:58:21.738Z"
   },
   {
    "duration": 13,
    "start_time": "2023-05-29T16:58:21.771Z"
   },
   {
    "duration": 16,
    "start_time": "2023-05-29T16:58:21.786Z"
   },
   {
    "duration": 31,
    "start_time": "2023-05-29T16:58:21.805Z"
   },
   {
    "duration": 18,
    "start_time": "2023-05-29T16:58:21.839Z"
   },
   {
    "duration": 270,
    "start_time": "2023-05-29T16:58:21.859Z"
   },
   {
    "duration": 28,
    "start_time": "2023-05-29T16:58:22.130Z"
   },
   {
    "duration": 13,
    "start_time": "2023-05-29T16:58:22.161Z"
   },
   {
    "duration": 17,
    "start_time": "2023-05-29T16:58:22.177Z"
   },
   {
    "duration": 10,
    "start_time": "2023-05-29T16:58:22.197Z"
   },
   {
    "duration": 14,
    "start_time": "2023-05-29T16:58:22.209Z"
   },
   {
    "duration": 265,
    "start_time": "2023-05-29T16:58:22.257Z"
   },
   {
    "duration": 255,
    "start_time": "2023-05-29T16:58:22.524Z"
   },
   {
    "duration": 26,
    "start_time": "2023-05-29T16:58:22.783Z"
   },
   {
    "duration": 8,
    "start_time": "2023-05-29T16:58:22.810Z"
   },
   {
    "duration": 10,
    "start_time": "2023-05-29T16:58:22.820Z"
   },
   {
    "duration": 6,
    "start_time": "2023-05-29T16:58:22.831Z"
   },
   {
    "duration": 18,
    "start_time": "2023-05-29T16:58:22.839Z"
   },
   {
    "duration": 4,
    "start_time": "2023-05-29T16:58:22.859Z"
   },
   {
    "duration": 5,
    "start_time": "2023-05-29T16:58:22.865Z"
   },
   {
    "duration": 15,
    "start_time": "2023-05-29T16:58:22.871Z"
   },
   {
    "duration": 272,
    "start_time": "2023-05-29T16:58:22.888Z"
   },
   {
    "duration": 6,
    "start_time": "2023-05-29T16:58:23.162Z"
   },
   {
    "duration": 17,
    "start_time": "2023-05-29T16:58:23.170Z"
   },
   {
    "duration": 13,
    "start_time": "2023-05-29T16:58:23.189Z"
   },
   {
    "duration": 406,
    "start_time": "2023-05-29T16:58:23.205Z"
   },
   {
    "duration": 8,
    "start_time": "2023-05-29T16:58:23.614Z"
   },
   {
    "duration": 8,
    "start_time": "2023-05-29T16:58:23.623Z"
   },
   {
    "duration": 32,
    "start_time": "2023-05-29T16:58:23.633Z"
   },
   {
    "duration": 14,
    "start_time": "2023-05-29T16:58:23.667Z"
   },
   {
    "duration": 180,
    "start_time": "2023-05-29T16:58:23.683Z"
   },
   {
    "duration": 10,
    "start_time": "2023-05-29T16:58:23.867Z"
   },
   {
    "duration": 23,
    "start_time": "2023-05-29T16:58:23.880Z"
   },
   {
    "duration": 204,
    "start_time": "2023-05-29T16:58:23.905Z"
   },
   {
    "duration": 191,
    "start_time": "2023-05-29T16:58:24.112Z"
   },
   {
    "duration": 4,
    "start_time": "2023-05-29T16:58:24.305Z"
   },
   {
    "duration": 6,
    "start_time": "2023-05-29T16:58:24.311Z"
   },
   {
    "duration": 10,
    "start_time": "2023-05-29T16:58:24.319Z"
   },
   {
    "duration": 28,
    "start_time": "2023-05-29T16:58:24.331Z"
   },
   {
    "duration": 158,
    "start_time": "2023-05-29T16:58:24.360Z"
   },
   {
    "duration": 318,
    "start_time": "2023-05-29T16:58:29.553Z"
   },
   {
    "duration": 366,
    "start_time": "2023-05-29T17:02:10.835Z"
   },
   {
    "duration": 403,
    "start_time": "2023-05-29T17:05:01.828Z"
   },
   {
    "duration": 332,
    "start_time": "2023-05-29T17:07:34.013Z"
   },
   {
    "duration": 250,
    "start_time": "2023-05-29T17:08:40.773Z"
   },
   {
    "duration": 305,
    "start_time": "2023-05-29T17:08:49.964Z"
   },
   {
    "duration": 3,
    "start_time": "2023-05-29T17:11:13.534Z"
   },
   {
    "duration": 30,
    "start_time": "2023-05-29T17:11:13.540Z"
   },
   {
    "duration": 10,
    "start_time": "2023-05-29T17:11:13.573Z"
   },
   {
    "duration": 22,
    "start_time": "2023-05-29T17:11:13.585Z"
   },
   {
    "duration": 7,
    "start_time": "2023-05-29T17:11:13.610Z"
   },
   {
    "duration": 15,
    "start_time": "2023-05-29T17:11:13.620Z"
   },
   {
    "duration": 356,
    "start_time": "2023-05-29T17:11:13.656Z"
   },
   {
    "duration": 36,
    "start_time": "2023-05-29T17:11:14.015Z"
   },
   {
    "duration": 20,
    "start_time": "2023-05-29T17:11:14.053Z"
   },
   {
    "duration": 17,
    "start_time": "2023-05-29T17:11:14.078Z"
   },
   {
    "duration": 9,
    "start_time": "2023-05-29T17:11:14.100Z"
   },
   {
    "duration": 47,
    "start_time": "2023-05-29T17:11:14.112Z"
   },
   {
    "duration": 309,
    "start_time": "2023-05-29T17:11:14.161Z"
   },
   {
    "duration": 388,
    "start_time": "2023-05-29T17:11:14.472Z"
   },
   {
    "duration": 26,
    "start_time": "2023-05-29T17:11:14.863Z"
   },
   {
    "duration": 11,
    "start_time": "2023-05-29T17:11:14.891Z"
   },
   {
    "duration": 19,
    "start_time": "2023-05-29T17:11:14.904Z"
   },
   {
    "duration": 17,
    "start_time": "2023-05-29T17:11:14.926Z"
   },
   {
    "duration": 15,
    "start_time": "2023-05-29T17:11:14.946Z"
   },
   {
    "duration": 22,
    "start_time": "2023-05-29T17:11:14.963Z"
   },
   {
    "duration": 19,
    "start_time": "2023-05-29T17:11:14.987Z"
   },
   {
    "duration": 39,
    "start_time": "2023-05-29T17:11:15.008Z"
   },
   {
    "duration": 257,
    "start_time": "2023-05-29T17:11:15.049Z"
   },
   {
    "duration": 5,
    "start_time": "2023-05-29T17:11:15.308Z"
   },
   {
    "duration": 28,
    "start_time": "2023-05-29T17:11:15.315Z"
   },
   {
    "duration": 15,
    "start_time": "2023-05-29T17:11:15.345Z"
   },
   {
    "duration": 301,
    "start_time": "2023-05-29T17:11:15.362Z"
   },
   {
    "duration": 7,
    "start_time": "2023-05-29T17:11:15.666Z"
   },
   {
    "duration": 8,
    "start_time": "2023-05-29T17:11:15.680Z"
   },
   {
    "duration": 11,
    "start_time": "2023-05-29T17:11:15.690Z"
   },
   {
    "duration": 14,
    "start_time": "2023-05-29T17:11:15.702Z"
   },
   {
    "duration": 210,
    "start_time": "2023-05-29T17:11:15.718Z"
   },
   {
    "duration": 10,
    "start_time": "2023-05-29T17:11:15.930Z"
   },
   {
    "duration": 20,
    "start_time": "2023-05-29T17:11:15.942Z"
   },
   {
    "duration": 159,
    "start_time": "2023-05-29T17:11:15.964Z"
   },
   {
    "duration": 169,
    "start_time": "2023-05-29T17:11:16.125Z"
   },
   {
    "duration": 4,
    "start_time": "2023-05-29T17:11:16.297Z"
   },
   {
    "duration": 7,
    "start_time": "2023-05-29T17:11:16.303Z"
   },
   {
    "duration": 10,
    "start_time": "2023-05-29T17:11:16.312Z"
   },
   {
    "duration": 35,
    "start_time": "2023-05-29T17:11:16.324Z"
   },
   {
    "duration": 166,
    "start_time": "2023-05-29T17:11:16.361Z"
   },
   {
    "duration": 411,
    "start_time": "2023-05-29T17:11:16.528Z"
   },
   {
    "duration": 3,
    "start_time": "2023-05-29T17:11:16.941Z"
   },
   {
    "duration": 20,
    "start_time": "2023-05-29T17:11:16.946Z"
   },
   {
    "duration": 16,
    "start_time": "2023-05-29T17:11:16.968Z"
   },
   {
    "duration": 8,
    "start_time": "2023-05-29T17:11:16.986Z"
   },
   {
    "duration": 178,
    "start_time": "2023-05-29T17:11:16.996Z"
   },
   {
    "duration": 3,
    "start_time": "2023-05-29T17:11:17.176Z"
   },
   {
    "duration": 24,
    "start_time": "2023-05-29T17:11:17.181Z"
   },
   {
    "duration": 27,
    "start_time": "2023-05-29T17:11:17.208Z"
   },
   {
    "duration": 7,
    "start_time": "2023-05-29T17:11:17.238Z"
   },
   {
    "duration": 149,
    "start_time": "2023-05-29T17:11:17.247Z"
   },
   {
    "duration": 14,
    "start_time": "2023-05-29T17:11:17.398Z"
   },
   {
    "duration": 42,
    "start_time": "2023-05-29T17:11:17.414Z"
   },
   {
    "duration": 15,
    "start_time": "2023-05-29T17:11:17.458Z"
   },
   {
    "duration": 29,
    "start_time": "2023-05-29T17:11:17.475Z"
   },
   {
    "duration": 13,
    "start_time": "2023-05-29T17:11:17.506Z"
   },
   {
    "duration": 26,
    "start_time": "2023-05-29T17:11:17.522Z"
   },
   {
    "duration": 27,
    "start_time": "2023-05-29T17:11:17.552Z"
   },
   {
    "duration": 7,
    "start_time": "2023-05-29T17:11:17.581Z"
   },
   {
    "duration": 24,
    "start_time": "2023-05-29T17:11:17.591Z"
   },
   {
    "duration": 23,
    "start_time": "2023-05-29T17:11:17.617Z"
   },
   {
    "duration": 25,
    "start_time": "2023-05-29T17:11:17.642Z"
   },
   {
    "duration": 29,
    "start_time": "2023-05-29T17:11:17.669Z"
   },
   {
    "duration": 29,
    "start_time": "2023-05-29T17:11:17.700Z"
   },
   {
    "duration": 196,
    "start_time": "2023-05-29T17:11:19.299Z"
   },
   {
    "duration": 383,
    "start_time": "2023-05-29T17:12:16.304Z"
   },
   {
    "duration": 407,
    "start_time": "2023-05-29T17:12:50.590Z"
   },
   {
    "duration": 48,
    "start_time": "2023-05-29T17:13:34.262Z"
   },
   {
    "duration": 66,
    "start_time": "2023-05-29T17:14:13.557Z"
   },
   {
    "duration": 510,
    "start_time": "2023-05-29T17:16:24.049Z"
   },
   {
    "duration": 593,
    "start_time": "2023-05-29T17:17:03.496Z"
   },
   {
    "duration": 380,
    "start_time": "2023-05-29T17:17:18.087Z"
   }
  ],
  "kernelspec": {
   "display_name": "Python 3 (ipykernel)",
   "language": "python",
   "name": "python3"
  },
  "language_info": {
   "codemirror_mode": {
    "name": "ipython",
    "version": 3
   },
   "file_extension": ".py",
   "mimetype": "text/x-python",
   "name": "python",
   "nbconvert_exporter": "python",
   "pygments_lexer": "ipython3",
   "version": "3.9.18"
  },
  "toc": {
   "base_numbering": 1,
   "nav_menu": {},
   "number_sections": true,
   "sideBar": true,
   "skip_h1_title": true,
   "title_cell": "Table of Contents",
   "title_sidebar": "Contents",
   "toc_cell": false,
   "toc_position": {
    "height": "calc(100% - 180px)",
    "left": "10px",
    "top": "150px",
    "width": "316.179px"
   },
   "toc_section_display": true,
   "toc_window_display": true
  }
 },
 "nbformat": 4,
 "nbformat_minor": 5
}
