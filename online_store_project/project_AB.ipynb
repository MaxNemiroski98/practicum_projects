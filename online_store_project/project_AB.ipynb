{
 "cells": [
  {
   "cell_type": "markdown",
   "metadata": {},
   "source": [
    "# Проект. Проверка гипотез для увеличения выручки интернет-магазина и анализ A/B тестирования"
   ]
  },
  {
   "cell_type": "markdown",
   "metadata": {},
   "source": [
    "# Описание проекта"
   ]
  },
  {
   "cell_type": "markdown",
   "metadata": {},
   "source": [
    "У нас в распоряжении есть данные о гипотезах для увеличения выручки интернет магазина, а также данные о заказах и количестве пользователей для двух групп A/B теста. Необходимо приоретизировать гипотезы и проанализировать результаты A/B теста.  "
   ]
  },
  {
   "cell_type": "markdown",
   "metadata": {},
   "source": [
    "# Описание данных"
   ]
  },
  {
   "cell_type": "markdown",
   "metadata": {},
   "source": [
    "Файл `hypothesis.csv` содержит данные о гипотезах."
   ]
  },
  {
   "cell_type": "markdown",
   "metadata": {},
   "source": [
    "Структура данных в файле:\n",
    "* Hypothesis — краткое описание гипотезы;\n",
    "* Reach — охват пользователей по 10-балльной шкале;\n",
    "* Impact — влияние на пользователей по 10-балльной шкале;\n",
    "* Confidence — уверенность в гипотезе по 10-балльной шкале;\n",
    "* Efforts — затраты ресурсов на проверку гипотезы по 10-балльной шкале. Чем больше значение Efforts, тем дороже проверка гипотезы."
   ]
  },
  {
   "cell_type": "markdown",
   "metadata": {},
   "source": [
    "Файл `orders.csv` содержит данные о заказах."
   ]
  },
  {
   "cell_type": "markdown",
   "metadata": {},
   "source": [
    "Стуктура данных в файле:\n",
    "* transactionId — идентификатор заказа;\n",
    "* visitorId — идентификатор пользователя, совершившего заказ;\n",
    "* date — дата, когда был совершён заказ;\n",
    "* revenue — выручка заказа;\n",
    "* group — группа A/B-теста, в которую попал заказ."
   ]
  },
  {
   "cell_type": "markdown",
   "metadata": {},
   "source": [
    "Файл `hypothesis.csv` содержит данные о количестве пользователей."
   ]
  },
  {
   "cell_type": "markdown",
   "metadata": {},
   "source": [
    "Стуктура данных в файле:\n",
    "* date — дата;\n",
    "* group — группа A/B-теста;\n",
    "* visitors — количество пользователей в указанную дату в указанной группе A/B-теста."
   ]
  },
  {
   "cell_type": "markdown",
   "metadata": {},
   "source": [
    "# Этапы проекта "
   ]
  },
  {
   "cell_type": "markdown",
   "metadata": {},
   "source": [
    " 1. Обзор данных\n",
    " 2. Подготовка данных к анализу\n",
    " 3. Исследовательский анализ\n",
    "* 3.1 Приоритизация гипотез\n",
    "* 3.2 Анализ A/B-теста\n",
    " 4. Выводы и рекомендации"
   ]
  },
  {
   "cell_type": "markdown",
   "metadata": {},
   "source": [
    "## Обзор данных"
   ]
  },
  {
   "cell_type": "markdown",
   "metadata": {},
   "source": [
    "Импортируем необходимые библиотеки."
   ]
  },
  {
   "cell_type": "code",
   "execution_count": 1,
   "metadata": {},
   "outputs": [],
   "source": [
    "import pandas as pd\n",
    "import matplotlib.pyplot as plt\n",
    "%matplotlib inline\n",
    "import datetime as dt\n",
    "from scipy import stats as st\n",
    "import numpy as np"
   ]
  },
  {
   "cell_type": "markdown",
   "metadata": {},
   "source": [
    "Сделаем количество отображаемых столбцов таблиц неограниченным."
   ]
  },
  {
   "cell_type": "code",
   "execution_count": 2,
   "metadata": {},
   "outputs": [],
   "source": [
    "pd.set_option('display.max_columns', None)"
   ]
  },
  {
   "cell_type": "markdown",
   "metadata": {},
   "source": [
    "Сделаем длину отображаемых ячеек в таблицах неограниченной."
   ]
  },
  {
   "cell_type": "code",
   "execution_count": 3,
   "metadata": {},
   "outputs": [],
   "source": [
    "pd.set_option('display.max_colwidth', None)"
   ]
  },
  {
   "cell_type": "markdown",
   "metadata": {},
   "source": [
    "Откроем и сохраним в переменные данные из файлов."
   ]
  },
  {
   "cell_type": "code",
   "execution_count": 4,
   "metadata": {},
   "outputs": [],
   "source": [
    "hypothesis, orders, visitors = (\n",
    "                            pd.read_csv('hypothesis.csv'),\n",
    "                            pd.read_csv('orders.csv'),\n",
    "                            pd.read_csv('visitors.csv')\n",
    "                            )"
   ]
  },
  {
   "cell_type": "markdown",
   "metadata": {},
   "source": [
    "Определим функции для обзора информации, содержащейся в таблицах."
   ]
  },
  {
   "cell_type": "markdown",
   "metadata": {},
   "source": [
    "Зададим функцию для определения количества пропусков и их доли."
   ]
  },
  {
   "cell_type": "code",
   "execution_count": 5,
   "metadata": {},
   "outputs": [],
   "source": [
    "def nan_values(table):\n",
    "    nan_count = table.isna().sum()\n",
    "    nan_percent = round(100 * nan_count / len(table), 2) \n",
    "    duplicates_count = table.duplicated().sum()\n",
    "    \n",
    "    \n",
    "    nan_values_table = pd.DataFrame({'Столбец': table.columns, \n",
    "                                     'Количество пропусков': nan_count,\n",
    "                                     'Доля пропусков, %': nan_percent}).reset_index(drop=True)\n",
    "    return nan_values_table                                            "
   ]
  },
  {
   "cell_type": "markdown",
   "metadata": {},
   "source": [
    "Зададим функцию для обзора информации, содержащейся в таблице."
   ]
  },
  {
   "cell_type": "code",
   "execution_count": 6,
   "metadata": {},
   "outputs": [],
   "source": [
    "def get_table_info(table):\n",
    "    print('Общая информация о таблице:')\n",
    "    print()\n",
    "    display(table.info())\n",
    "    print()\n",
    "    print('Первые пять строк таблицы:')\n",
    "    display(table.head())\n",
    "    print()\n",
    "    print('Информация о пропусках и дубликатах:')\n",
    "    display(nan_values(table))\n",
    "    print()\n",
    "    print('Количество строк-дубликатов:', table.duplicated().sum())"
   ]
  },
  {
   "cell_type": "markdown",
   "metadata": {},
   "source": [
    "Получим информацию о данных из таблицы `hypothesis`."
   ]
  },
  {
   "cell_type": "code",
   "execution_count": 7,
   "metadata": {},
   "outputs": [
    {
     "name": "stdout",
     "output_type": "stream",
     "text": [
      "Общая информация о таблице:\n",
      "\n",
      "<class 'pandas.core.frame.DataFrame'>\n",
      "RangeIndex: 9 entries, 0 to 8\n",
      "Data columns (total 5 columns):\n",
      " #   Column      Non-Null Count  Dtype \n",
      "---  ------      --------------  ----- \n",
      " 0   Hypothesis  9 non-null      object\n",
      " 1   Reach       9 non-null      int64 \n",
      " 2   Impact      9 non-null      int64 \n",
      " 3   Confidence  9 non-null      int64 \n",
      " 4   Efforts     9 non-null      int64 \n",
      "dtypes: int64(4), object(1)\n",
      "memory usage: 488.0+ bytes\n"
     ]
    },
    {
     "data": {
      "text/plain": [
       "None"
      ]
     },
     "metadata": {},
     "output_type": "display_data"
    },
    {
     "name": "stdout",
     "output_type": "stream",
     "text": [
      "\n",
      "Первые пять строк таблицы:\n"
     ]
    },
    {
     "data": {
      "text/html": [
       "<div>\n",
       "<style scoped>\n",
       "    .dataframe tbody tr th:only-of-type {\n",
       "        vertical-align: middle;\n",
       "    }\n",
       "\n",
       "    .dataframe tbody tr th {\n",
       "        vertical-align: top;\n",
       "    }\n",
       "\n",
       "    .dataframe thead th {\n",
       "        text-align: right;\n",
       "    }\n",
       "</style>\n",
       "<table border=\"1\" class=\"dataframe\">\n",
       "  <thead>\n",
       "    <tr style=\"text-align: right;\">\n",
       "      <th></th>\n",
       "      <th>Hypothesis</th>\n",
       "      <th>Reach</th>\n",
       "      <th>Impact</th>\n",
       "      <th>Confidence</th>\n",
       "      <th>Efforts</th>\n",
       "    </tr>\n",
       "  </thead>\n",
       "  <tbody>\n",
       "    <tr>\n",
       "      <th>0</th>\n",
       "      <td>Добавить два новых канала привлечения трафика, что позволит привлекать на 30% больше пользователей</td>\n",
       "      <td>3</td>\n",
       "      <td>10</td>\n",
       "      <td>8</td>\n",
       "      <td>6</td>\n",
       "    </tr>\n",
       "    <tr>\n",
       "      <th>1</th>\n",
       "      <td>Запустить собственную службу доставки, что сократит срок доставки заказов</td>\n",
       "      <td>2</td>\n",
       "      <td>5</td>\n",
       "      <td>4</td>\n",
       "      <td>10</td>\n",
       "    </tr>\n",
       "    <tr>\n",
       "      <th>2</th>\n",
       "      <td>Добавить блоки рекомендаций товаров на сайт интернет магазина, чтобы повысить конверсию и средний чек заказа</td>\n",
       "      <td>8</td>\n",
       "      <td>3</td>\n",
       "      <td>7</td>\n",
       "      <td>3</td>\n",
       "    </tr>\n",
       "    <tr>\n",
       "      <th>3</th>\n",
       "      <td>Изменить структура категорий, что увеличит конверсию, т.к. пользователи быстрее найдут нужный товар</td>\n",
       "      <td>8</td>\n",
       "      <td>3</td>\n",
       "      <td>3</td>\n",
       "      <td>8</td>\n",
       "    </tr>\n",
       "    <tr>\n",
       "      <th>4</th>\n",
       "      <td>Изменить цвет фона главной страницы, чтобы увеличить вовлеченность пользователей</td>\n",
       "      <td>3</td>\n",
       "      <td>1</td>\n",
       "      <td>1</td>\n",
       "      <td>1</td>\n",
       "    </tr>\n",
       "  </tbody>\n",
       "</table>\n",
       "</div>"
      ],
      "text/plain": [
       "                                                                                                     Hypothesis  \\\n",
       "0            Добавить два новых канала привлечения трафика, что позволит привлекать на 30% больше пользователей   \n",
       "1                                     Запустить собственную службу доставки, что сократит срок доставки заказов   \n",
       "2  Добавить блоки рекомендаций товаров на сайт интернет магазина, чтобы повысить конверсию и средний чек заказа   \n",
       "3           Изменить структура категорий, что увеличит конверсию, т.к. пользователи быстрее найдут нужный товар   \n",
       "4                              Изменить цвет фона главной страницы, чтобы увеличить вовлеченность пользователей   \n",
       "\n",
       "   Reach  Impact  Confidence  Efforts  \n",
       "0      3      10           8        6  \n",
       "1      2       5           4       10  \n",
       "2      8       3           7        3  \n",
       "3      8       3           3        8  \n",
       "4      3       1           1        1  "
      ]
     },
     "metadata": {},
     "output_type": "display_data"
    },
    {
     "name": "stdout",
     "output_type": "stream",
     "text": [
      "\n",
      "Информация о пропусках и дубликатах:\n"
     ]
    },
    {
     "data": {
      "text/html": [
       "<div>\n",
       "<style scoped>\n",
       "    .dataframe tbody tr th:only-of-type {\n",
       "        vertical-align: middle;\n",
       "    }\n",
       "\n",
       "    .dataframe tbody tr th {\n",
       "        vertical-align: top;\n",
       "    }\n",
       "\n",
       "    .dataframe thead th {\n",
       "        text-align: right;\n",
       "    }\n",
       "</style>\n",
       "<table border=\"1\" class=\"dataframe\">\n",
       "  <thead>\n",
       "    <tr style=\"text-align: right;\">\n",
       "      <th></th>\n",
       "      <th>Столбец</th>\n",
       "      <th>Количество пропусков</th>\n",
       "      <th>Доля пропусков, %</th>\n",
       "    </tr>\n",
       "  </thead>\n",
       "  <tbody>\n",
       "    <tr>\n",
       "      <th>0</th>\n",
       "      <td>Hypothesis</td>\n",
       "      <td>0</td>\n",
       "      <td>0.0</td>\n",
       "    </tr>\n",
       "    <tr>\n",
       "      <th>1</th>\n",
       "      <td>Reach</td>\n",
       "      <td>0</td>\n",
       "      <td>0.0</td>\n",
       "    </tr>\n",
       "    <tr>\n",
       "      <th>2</th>\n",
       "      <td>Impact</td>\n",
       "      <td>0</td>\n",
       "      <td>0.0</td>\n",
       "    </tr>\n",
       "    <tr>\n",
       "      <th>3</th>\n",
       "      <td>Confidence</td>\n",
       "      <td>0</td>\n",
       "      <td>0.0</td>\n",
       "    </tr>\n",
       "    <tr>\n",
       "      <th>4</th>\n",
       "      <td>Efforts</td>\n",
       "      <td>0</td>\n",
       "      <td>0.0</td>\n",
       "    </tr>\n",
       "  </tbody>\n",
       "</table>\n",
       "</div>"
      ],
      "text/plain": [
       "      Столбец  Количество пропусков  Доля пропусков, %\n",
       "0  Hypothesis                     0                0.0\n",
       "1       Reach                     0                0.0\n",
       "2      Impact                     0                0.0\n",
       "3  Confidence                     0                0.0\n",
       "4     Efforts                     0                0.0"
      ]
     },
     "metadata": {},
     "output_type": "display_data"
    },
    {
     "name": "stdout",
     "output_type": "stream",
     "text": [
      "\n",
      "Количество строк-дубликатов: 0\n"
     ]
    }
   ],
   "source": [
    "get_table_info(hypothesis)"
   ]
  },
  {
   "cell_type": "markdown",
   "metadata": {},
   "source": [
    "**Таблица `hypothesis` содержит 9 различных гипотез для увеличения выручки интернет магазина. Для каждой из них есть оценки RICE.**"
   ]
  },
  {
   "cell_type": "markdown",
   "metadata": {},
   "source": [
    "**Пропусков и строк-дубликатов в этой таблице нет. В дальнейшем стоит привести названия столбцов к нижнему регистру.**"
   ]
  },
  {
   "cell_type": "markdown",
   "metadata": {},
   "source": [
    "Получим информацию о данных из таблицы `orders`."
   ]
  },
  {
   "cell_type": "code",
   "execution_count": 8,
   "metadata": {},
   "outputs": [
    {
     "name": "stdout",
     "output_type": "stream",
     "text": [
      "Общая информация о таблице:\n",
      "\n",
      "<class 'pandas.core.frame.DataFrame'>\n",
      "RangeIndex: 1197 entries, 0 to 1196\n",
      "Data columns (total 5 columns):\n",
      " #   Column         Non-Null Count  Dtype \n",
      "---  ------         --------------  ----- \n",
      " 0   transactionId  1197 non-null   int64 \n",
      " 1   visitorId      1197 non-null   int64 \n",
      " 2   date           1197 non-null   object\n",
      " 3   revenue        1197 non-null   int64 \n",
      " 4   group          1197 non-null   object\n",
      "dtypes: int64(3), object(2)\n",
      "memory usage: 46.9+ KB\n"
     ]
    },
    {
     "data": {
      "text/plain": [
       "None"
      ]
     },
     "metadata": {},
     "output_type": "display_data"
    },
    {
     "name": "stdout",
     "output_type": "stream",
     "text": [
      "\n",
      "Первые пять строк таблицы:\n"
     ]
    },
    {
     "data": {
      "text/html": [
       "<div>\n",
       "<style scoped>\n",
       "    .dataframe tbody tr th:only-of-type {\n",
       "        vertical-align: middle;\n",
       "    }\n",
       "\n",
       "    .dataframe tbody tr th {\n",
       "        vertical-align: top;\n",
       "    }\n",
       "\n",
       "    .dataframe thead th {\n",
       "        text-align: right;\n",
       "    }\n",
       "</style>\n",
       "<table border=\"1\" class=\"dataframe\">\n",
       "  <thead>\n",
       "    <tr style=\"text-align: right;\">\n",
       "      <th></th>\n",
       "      <th>transactionId</th>\n",
       "      <th>visitorId</th>\n",
       "      <th>date</th>\n",
       "      <th>revenue</th>\n",
       "      <th>group</th>\n",
       "    </tr>\n",
       "  </thead>\n",
       "  <tbody>\n",
       "    <tr>\n",
       "      <th>0</th>\n",
       "      <td>3667963787</td>\n",
       "      <td>3312258926</td>\n",
       "      <td>2019-08-15</td>\n",
       "      <td>1650</td>\n",
       "      <td>B</td>\n",
       "    </tr>\n",
       "    <tr>\n",
       "      <th>1</th>\n",
       "      <td>2804400009</td>\n",
       "      <td>3642806036</td>\n",
       "      <td>2019-08-15</td>\n",
       "      <td>730</td>\n",
       "      <td>B</td>\n",
       "    </tr>\n",
       "    <tr>\n",
       "      <th>2</th>\n",
       "      <td>2961555356</td>\n",
       "      <td>4069496402</td>\n",
       "      <td>2019-08-15</td>\n",
       "      <td>400</td>\n",
       "      <td>A</td>\n",
       "    </tr>\n",
       "    <tr>\n",
       "      <th>3</th>\n",
       "      <td>3797467345</td>\n",
       "      <td>1196621759</td>\n",
       "      <td>2019-08-15</td>\n",
       "      <td>9759</td>\n",
       "      <td>B</td>\n",
       "    </tr>\n",
       "    <tr>\n",
       "      <th>4</th>\n",
       "      <td>2282983706</td>\n",
       "      <td>2322279887</td>\n",
       "      <td>2019-08-15</td>\n",
       "      <td>2308</td>\n",
       "      <td>B</td>\n",
       "    </tr>\n",
       "  </tbody>\n",
       "</table>\n",
       "</div>"
      ],
      "text/plain": [
       "   transactionId   visitorId        date  revenue group\n",
       "0     3667963787  3312258926  2019-08-15     1650     B\n",
       "1     2804400009  3642806036  2019-08-15      730     B\n",
       "2     2961555356  4069496402  2019-08-15      400     A\n",
       "3     3797467345  1196621759  2019-08-15     9759     B\n",
       "4     2282983706  2322279887  2019-08-15     2308     B"
      ]
     },
     "metadata": {},
     "output_type": "display_data"
    },
    {
     "name": "stdout",
     "output_type": "stream",
     "text": [
      "\n",
      "Информация о пропусках и дубликатах:\n"
     ]
    },
    {
     "data": {
      "text/html": [
       "<div>\n",
       "<style scoped>\n",
       "    .dataframe tbody tr th:only-of-type {\n",
       "        vertical-align: middle;\n",
       "    }\n",
       "\n",
       "    .dataframe tbody tr th {\n",
       "        vertical-align: top;\n",
       "    }\n",
       "\n",
       "    .dataframe thead th {\n",
       "        text-align: right;\n",
       "    }\n",
       "</style>\n",
       "<table border=\"1\" class=\"dataframe\">\n",
       "  <thead>\n",
       "    <tr style=\"text-align: right;\">\n",
       "      <th></th>\n",
       "      <th>Столбец</th>\n",
       "      <th>Количество пропусков</th>\n",
       "      <th>Доля пропусков, %</th>\n",
       "    </tr>\n",
       "  </thead>\n",
       "  <tbody>\n",
       "    <tr>\n",
       "      <th>0</th>\n",
       "      <td>transactionId</td>\n",
       "      <td>0</td>\n",
       "      <td>0.0</td>\n",
       "    </tr>\n",
       "    <tr>\n",
       "      <th>1</th>\n",
       "      <td>visitorId</td>\n",
       "      <td>0</td>\n",
       "      <td>0.0</td>\n",
       "    </tr>\n",
       "    <tr>\n",
       "      <th>2</th>\n",
       "      <td>date</td>\n",
       "      <td>0</td>\n",
       "      <td>0.0</td>\n",
       "    </tr>\n",
       "    <tr>\n",
       "      <th>3</th>\n",
       "      <td>revenue</td>\n",
       "      <td>0</td>\n",
       "      <td>0.0</td>\n",
       "    </tr>\n",
       "    <tr>\n",
       "      <th>4</th>\n",
       "      <td>group</td>\n",
       "      <td>0</td>\n",
       "      <td>0.0</td>\n",
       "    </tr>\n",
       "  </tbody>\n",
       "</table>\n",
       "</div>"
      ],
      "text/plain": [
       "         Столбец  Количество пропусков  Доля пропусков, %\n",
       "0  transactionId                     0                0.0\n",
       "1      visitorId                     0                0.0\n",
       "2           date                     0                0.0\n",
       "3        revenue                     0                0.0\n",
       "4          group                     0                0.0"
      ]
     },
     "metadata": {},
     "output_type": "display_data"
    },
    {
     "name": "stdout",
     "output_type": "stream",
     "text": [
      "\n",
      "Количество строк-дубликатов: 0\n"
     ]
    }
   ],
   "source": [
    "get_table_info(orders)"
   ]
  },
  {
   "cell_type": "markdown",
   "metadata": {},
   "source": [
    "Определим также когда проводилось A/B тестирование."
   ]
  },
  {
   "cell_type": "code",
   "execution_count": 9,
   "metadata": {},
   "outputs": [
    {
     "name": "stdout",
     "output_type": "stream",
     "text": [
      "Минимальная дата проведения тестирования: 2019-08-01\n",
      "Максимальная дата проведения тестирования: 2019-08-31\n"
     ]
    }
   ],
   "source": [
    "print('Минимальная дата проведения тестирования:', orders['date'].min())\n",
    "print('Максимальная дата проведения тестирования:',orders['date'].max())"
   ]
  },
  {
   "cell_type": "markdown",
   "metadata": {},
   "source": [
    "Проверим как разбиты транзакции по группам."
   ]
  },
  {
   "cell_type": "code",
   "execution_count": 10,
   "metadata": {},
   "outputs": [
    {
     "data": {
      "text/html": [
       "<div>\n",
       "<style scoped>\n",
       "    .dataframe tbody tr th:only-of-type {\n",
       "        vertical-align: middle;\n",
       "    }\n",
       "\n",
       "    .dataframe tbody tr th {\n",
       "        vertical-align: top;\n",
       "    }\n",
       "\n",
       "    .dataframe thead th {\n",
       "        text-align: right;\n",
       "    }\n",
       "</style>\n",
       "<table border=\"1\" class=\"dataframe\">\n",
       "  <thead>\n",
       "    <tr style=\"text-align: right;\">\n",
       "      <th></th>\n",
       "      <th>Группа</th>\n",
       "      <th>Количество транзакций</th>\n",
       "    </tr>\n",
       "  </thead>\n",
       "  <tbody>\n",
       "    <tr>\n",
       "      <th>0</th>\n",
       "      <td>B</td>\n",
       "      <td>640</td>\n",
       "    </tr>\n",
       "    <tr>\n",
       "      <th>1</th>\n",
       "      <td>A</td>\n",
       "      <td>557</td>\n",
       "    </tr>\n",
       "  </tbody>\n",
       "</table>\n",
       "</div>"
      ],
      "text/plain": [
       "  Группа  Количество транзакций\n",
       "0      B                    640\n",
       "1      A                    557"
      ]
     },
     "execution_count": 10,
     "metadata": {},
     "output_type": "execute_result"
    }
   ],
   "source": [
    "orders['group'].value_counts().reset_index().rename(columns={'group':'Количество транзакций','index':'Группа'})"
   ]
  },
  {
   "cell_type": "markdown",
   "metadata": {},
   "source": [
    "**Итак, таблица `orders` содержит данные о 1197 транзакциях двух приблизительно одинаковых по их количеству групп за август 2019 года.**"
   ]
  },
  {
   "cell_type": "markdown",
   "metadata": {},
   "source": [
    "**Пропусков и строк-дубликатов в этой таблице нет. В дальнейшем стоит привести названия столбцов к нижнему регистру, а затем привести некоторые из них к змеиному регистру, а также привести тип данных в столбце `date` к `datetime`.**"
   ]
  },
  {
   "cell_type": "markdown",
   "metadata": {},
   "source": [
    "Получим информацию о данных из таблицы `visitors`."
   ]
  },
  {
   "cell_type": "code",
   "execution_count": 11,
   "metadata": {},
   "outputs": [
    {
     "name": "stdout",
     "output_type": "stream",
     "text": [
      "Общая информация о таблице:\n",
      "\n",
      "<class 'pandas.core.frame.DataFrame'>\n",
      "RangeIndex: 62 entries, 0 to 61\n",
      "Data columns (total 3 columns):\n",
      " #   Column    Non-Null Count  Dtype \n",
      "---  ------    --------------  ----- \n",
      " 0   date      62 non-null     object\n",
      " 1   group     62 non-null     object\n",
      " 2   visitors  62 non-null     int64 \n",
      "dtypes: int64(1), object(2)\n",
      "memory usage: 1.6+ KB\n"
     ]
    },
    {
     "data": {
      "text/plain": [
       "None"
      ]
     },
     "metadata": {},
     "output_type": "display_data"
    },
    {
     "name": "stdout",
     "output_type": "stream",
     "text": [
      "\n",
      "Первые пять строк таблицы:\n"
     ]
    },
    {
     "data": {
      "text/html": [
       "<div>\n",
       "<style scoped>\n",
       "    .dataframe tbody tr th:only-of-type {\n",
       "        vertical-align: middle;\n",
       "    }\n",
       "\n",
       "    .dataframe tbody tr th {\n",
       "        vertical-align: top;\n",
       "    }\n",
       "\n",
       "    .dataframe thead th {\n",
       "        text-align: right;\n",
       "    }\n",
       "</style>\n",
       "<table border=\"1\" class=\"dataframe\">\n",
       "  <thead>\n",
       "    <tr style=\"text-align: right;\">\n",
       "      <th></th>\n",
       "      <th>date</th>\n",
       "      <th>group</th>\n",
       "      <th>visitors</th>\n",
       "    </tr>\n",
       "  </thead>\n",
       "  <tbody>\n",
       "    <tr>\n",
       "      <th>0</th>\n",
       "      <td>2019-08-01</td>\n",
       "      <td>A</td>\n",
       "      <td>719</td>\n",
       "    </tr>\n",
       "    <tr>\n",
       "      <th>1</th>\n",
       "      <td>2019-08-02</td>\n",
       "      <td>A</td>\n",
       "      <td>619</td>\n",
       "    </tr>\n",
       "    <tr>\n",
       "      <th>2</th>\n",
       "      <td>2019-08-03</td>\n",
       "      <td>A</td>\n",
       "      <td>507</td>\n",
       "    </tr>\n",
       "    <tr>\n",
       "      <th>3</th>\n",
       "      <td>2019-08-04</td>\n",
       "      <td>A</td>\n",
       "      <td>717</td>\n",
       "    </tr>\n",
       "    <tr>\n",
       "      <th>4</th>\n",
       "      <td>2019-08-05</td>\n",
       "      <td>A</td>\n",
       "      <td>756</td>\n",
       "    </tr>\n",
       "  </tbody>\n",
       "</table>\n",
       "</div>"
      ],
      "text/plain": [
       "         date group  visitors\n",
       "0  2019-08-01     A       719\n",
       "1  2019-08-02     A       619\n",
       "2  2019-08-03     A       507\n",
       "3  2019-08-04     A       717\n",
       "4  2019-08-05     A       756"
      ]
     },
     "metadata": {},
     "output_type": "display_data"
    },
    {
     "name": "stdout",
     "output_type": "stream",
     "text": [
      "\n",
      "Информация о пропусках и дубликатах:\n"
     ]
    },
    {
     "data": {
      "text/html": [
       "<div>\n",
       "<style scoped>\n",
       "    .dataframe tbody tr th:only-of-type {\n",
       "        vertical-align: middle;\n",
       "    }\n",
       "\n",
       "    .dataframe tbody tr th {\n",
       "        vertical-align: top;\n",
       "    }\n",
       "\n",
       "    .dataframe thead th {\n",
       "        text-align: right;\n",
       "    }\n",
       "</style>\n",
       "<table border=\"1\" class=\"dataframe\">\n",
       "  <thead>\n",
       "    <tr style=\"text-align: right;\">\n",
       "      <th></th>\n",
       "      <th>Столбец</th>\n",
       "      <th>Количество пропусков</th>\n",
       "      <th>Доля пропусков, %</th>\n",
       "    </tr>\n",
       "  </thead>\n",
       "  <tbody>\n",
       "    <tr>\n",
       "      <th>0</th>\n",
       "      <td>date</td>\n",
       "      <td>0</td>\n",
       "      <td>0.0</td>\n",
       "    </tr>\n",
       "    <tr>\n",
       "      <th>1</th>\n",
       "      <td>group</td>\n",
       "      <td>0</td>\n",
       "      <td>0.0</td>\n",
       "    </tr>\n",
       "    <tr>\n",
       "      <th>2</th>\n",
       "      <td>visitors</td>\n",
       "      <td>0</td>\n",
       "      <td>0.0</td>\n",
       "    </tr>\n",
       "  </tbody>\n",
       "</table>\n",
       "</div>"
      ],
      "text/plain": [
       "    Столбец  Количество пропусков  Доля пропусков, %\n",
       "0      date                     0                0.0\n",
       "1     group                     0                0.0\n",
       "2  visitors                     0                0.0"
      ]
     },
     "metadata": {},
     "output_type": "display_data"
    },
    {
     "name": "stdout",
     "output_type": "stream",
     "text": [
      "\n",
      "Количество строк-дубликатов: 0\n"
     ]
    }
   ],
   "source": [
    "get_table_info(visitors)"
   ]
  },
  {
   "cell_type": "markdown",
   "metadata": {},
   "source": [
    "Проверим, за какой период представлены данные в таблице `visitors`."
   ]
  },
  {
   "cell_type": "code",
   "execution_count": 12,
   "metadata": {},
   "outputs": [
    {
     "name": "stdout",
     "output_type": "stream",
     "text": [
      "Минимальная дата проведения тестирования: 2019-08-01\n",
      "Максимальная дата проведения тестирования: 2019-08-31\n"
     ]
    }
   ],
   "source": [
    "print('Минимальная дата проведения тестирования:', visitors['date'].min())\n",
    "print('Максимальная дата проведения тестирования:',visitors['date'].max())"
   ]
  },
  {
   "cell_type": "markdown",
   "metadata": {},
   "source": [
    "Этот период соответствует периоду в таблице `orders`."
   ]
  },
  {
   "cell_type": "markdown",
   "metadata": {},
   "source": [
    "Проверим как разбиты данные о количестве пользователей по группам."
   ]
  },
  {
   "cell_type": "code",
   "execution_count": 13,
   "metadata": {},
   "outputs": [
    {
     "data": {
      "text/html": [
       "<div>\n",
       "<style scoped>\n",
       "    .dataframe tbody tr th:only-of-type {\n",
       "        vertical-align: middle;\n",
       "    }\n",
       "\n",
       "    .dataframe tbody tr th {\n",
       "        vertical-align: top;\n",
       "    }\n",
       "\n",
       "    .dataframe thead th {\n",
       "        text-align: right;\n",
       "    }\n",
       "</style>\n",
       "<table border=\"1\" class=\"dataframe\">\n",
       "  <thead>\n",
       "    <tr style=\"text-align: right;\">\n",
       "      <th></th>\n",
       "      <th>Группа</th>\n",
       "      <th>Количество записей</th>\n",
       "    </tr>\n",
       "  </thead>\n",
       "  <tbody>\n",
       "    <tr>\n",
       "      <th>0</th>\n",
       "      <td>B</td>\n",
       "      <td>31</td>\n",
       "    </tr>\n",
       "    <tr>\n",
       "      <th>1</th>\n",
       "      <td>A</td>\n",
       "      <td>31</td>\n",
       "    </tr>\n",
       "  </tbody>\n",
       "</table>\n",
       "</div>"
      ],
      "text/plain": [
       "  Группа  Количество записей\n",
       "0      B                  31\n",
       "1      A                  31"
      ]
     },
     "execution_count": 13,
     "metadata": {},
     "output_type": "execute_result"
    }
   ],
   "source": [
    "visitors['group'].value_counts().reset_index().rename(columns={'group':'Количество записей','index':'Группа'})"
   ]
  },
  {
   "cell_type": "markdown",
   "metadata": {},
   "source": [
    "**Таблица `visitors` содержит данные о количестве пользователей за каждый день августа 2019 года для двух групп тестирования.**"
   ]
  },
  {
   "cell_type": "markdown",
   "metadata": {},
   "source": [
    "**Пропусков и строк-дубликатов в этой таблице нет. В дальнейшем стоит привести тип данных в столбце `date` к типу `datetime`.**"
   ]
  },
  {
   "cell_type": "markdown",
   "metadata": {},
   "source": [
    "## Подготовка данных к анализу"
   ]
  },
  {
   "cell_type": "markdown",
   "metadata": {},
   "source": [
    "Приведем названия столбцов в таблицах `hypothesis` и `orders` к нижнему регистру."
   ]
  },
  {
   "cell_type": "code",
   "execution_count": 14,
   "metadata": {},
   "outputs": [],
   "source": [
    "hypothesis.columns = hypothesis.columns.str.lower()\n",
    "orders.columns = orders.columns.str.lower()"
   ]
  },
  {
   "cell_type": "markdown",
   "metadata": {},
   "source": [
    "Приведем к змеиному регистру столбцы `transactionid` и `visitorid` таблицы `orders`."
   ]
  },
  {
   "cell_type": "code",
   "execution_count": 15,
   "metadata": {},
   "outputs": [],
   "source": [
    "orders = orders.rename(columns={'transactionid':'transaction_id', 'visitorid':'visitor_id'})"
   ]
  },
  {
   "cell_type": "markdown",
   "metadata": {},
   "source": [
    "Заменим тип данных в столбцах `date` таблиц `orders` и `visitors` на `datetime` для корректной дальнейшей работы с датой из них."
   ]
  },
  {
   "cell_type": "code",
   "execution_count": 16,
   "metadata": {},
   "outputs": [],
   "source": [
    "orders['date'] = pd.to_datetime(orders['date'])\n",
    "visitors['date'] = pd.to_datetime(visitors['date'])"
   ]
  },
  {
   "cell_type": "markdown",
   "metadata": {},
   "source": [
    "Проверим изменения."
   ]
  },
  {
   "cell_type": "code",
   "execution_count": 17,
   "metadata": {},
   "outputs": [
    {
     "name": "stdout",
     "output_type": "stream",
     "text": [
      "<class 'pandas.core.frame.DataFrame'>\n",
      "RangeIndex: 9 entries, 0 to 8\n",
      "Data columns (total 5 columns):\n",
      " #   Column      Non-Null Count  Dtype \n",
      "---  ------      --------------  ----- \n",
      " 0   hypothesis  9 non-null      object\n",
      " 1   reach       9 non-null      int64 \n",
      " 2   impact      9 non-null      int64 \n",
      " 3   confidence  9 non-null      int64 \n",
      " 4   efforts     9 non-null      int64 \n",
      "dtypes: int64(4), object(1)\n",
      "memory usage: 488.0+ bytes\n"
     ]
    }
   ],
   "source": [
    "hypothesis.info()"
   ]
  },
  {
   "cell_type": "markdown",
   "metadata": {},
   "source": [
    "Названия столбцов приведены к нижнему регистру."
   ]
  },
  {
   "cell_type": "code",
   "execution_count": 18,
   "metadata": {},
   "outputs": [
    {
     "name": "stdout",
     "output_type": "stream",
     "text": [
      "<class 'pandas.core.frame.DataFrame'>\n",
      "RangeIndex: 1197 entries, 0 to 1196\n",
      "Data columns (total 5 columns):\n",
      " #   Column          Non-Null Count  Dtype         \n",
      "---  ------          --------------  -----         \n",
      " 0   transaction_id  1197 non-null   int64         \n",
      " 1   visitor_id      1197 non-null   int64         \n",
      " 2   date            1197 non-null   datetime64[ns]\n",
      " 3   revenue         1197 non-null   int64         \n",
      " 4   group           1197 non-null   object        \n",
      "dtypes: datetime64[ns](1), int64(3), object(1)\n",
      "memory usage: 46.9+ KB\n"
     ]
    }
   ],
   "source": [
    "orders.info()"
   ]
  },
  {
   "cell_type": "markdown",
   "metadata": {},
   "source": [
    "Названия столбцов приведены к нижнему и змеиному регистру. Тип данных в столбце `date` изменён на `datetime`."
   ]
  },
  {
   "cell_type": "code",
   "execution_count": 19,
   "metadata": {},
   "outputs": [
    {
     "name": "stdout",
     "output_type": "stream",
     "text": [
      "<class 'pandas.core.frame.DataFrame'>\n",
      "RangeIndex: 62 entries, 0 to 61\n",
      "Data columns (total 3 columns):\n",
      " #   Column    Non-Null Count  Dtype         \n",
      "---  ------    --------------  -----         \n",
      " 0   date      62 non-null     datetime64[ns]\n",
      " 1   group     62 non-null     object        \n",
      " 2   visitors  62 non-null     int64         \n",
      "dtypes: datetime64[ns](1), int64(1), object(1)\n",
      "memory usage: 1.6+ KB\n"
     ]
    }
   ],
   "source": [
    "visitors.info()"
   ]
  },
  {
   "cell_type": "markdown",
   "metadata": {},
   "source": [
    "Тип данных в столбце `date` изменён на `datetime`."
   ]
  },
  {
   "cell_type": "markdown",
   "metadata": {},
   "source": [
    "**При подготовке данных к анализу было исправлено нарушение стиля в названии столбцов таблиц и были изменены типы данных в столбцах, в которых была указана дата.**"
   ]
  },
  {
   "cell_type": "markdown",
   "metadata": {},
   "source": [
    "**Данные готовы для исследовательского анализа.**"
   ]
  },
  {
   "cell_type": "markdown",
   "metadata": {},
   "source": [
    "## Исследовательский анализ"
   ]
  },
  {
   "cell_type": "markdown",
   "metadata": {},
   "source": [
    "### Приоритизация гипотез"
   ]
  },
  {
   "cell_type": "markdown",
   "metadata": {},
   "source": [
    "Применим фреймворк `ICE` для приоритизации гипотез."
   ]
  },
  {
   "cell_type": "markdown",
   "metadata": {},
   "source": [
    "Рассчитаем для каждой из гипотез показатель `ICE`."
   ]
  },
  {
   "cell_type": "code",
   "execution_count": 20,
   "metadata": {},
   "outputs": [],
   "source": [
    "hypothesis['ice'] = hypothesis['impact'] * hypothesis['confidence'] / hypothesis['efforts']"
   ]
  },
  {
   "cell_type": "markdown",
   "metadata": {},
   "source": [
    "Отстортируем гипотезы по убыванию значения показателя `ICE`."
   ]
  },
  {
   "cell_type": "code",
   "execution_count": 21,
   "metadata": {},
   "outputs": [
    {
     "data": {
      "text/html": [
       "<div>\n",
       "<style scoped>\n",
       "    .dataframe tbody tr th:only-of-type {\n",
       "        vertical-align: middle;\n",
       "    }\n",
       "\n",
       "    .dataframe tbody tr th {\n",
       "        vertical-align: top;\n",
       "    }\n",
       "\n",
       "    .dataframe thead th {\n",
       "        text-align: right;\n",
       "    }\n",
       "</style>\n",
       "<table border=\"1\" class=\"dataframe\">\n",
       "  <thead>\n",
       "    <tr style=\"text-align: right;\">\n",
       "      <th></th>\n",
       "      <th>Гипотеза</th>\n",
       "      <th>ICE</th>\n",
       "    </tr>\n",
       "  </thead>\n",
       "  <tbody>\n",
       "    <tr>\n",
       "      <th>8</th>\n",
       "      <td>Запустить акцию, дающую скидку на товар в день рождения</td>\n",
       "      <td>16.20</td>\n",
       "    </tr>\n",
       "    <tr>\n",
       "      <th>0</th>\n",
       "      <td>Добавить два новых канала привлечения трафика, что позволит привлекать на 30% больше пользователей</td>\n",
       "      <td>13.33</td>\n",
       "    </tr>\n",
       "    <tr>\n",
       "      <th>7</th>\n",
       "      <td>Добавить форму подписки на все основные страницы, чтобы собрать базу клиентов для email-рассылок</td>\n",
       "      <td>11.20</td>\n",
       "    </tr>\n",
       "    <tr>\n",
       "      <th>6</th>\n",
       "      <td>Показать на главной странице баннеры с актуальными акциями и распродажами, чтобы увеличить конверсию</td>\n",
       "      <td>8.00</td>\n",
       "    </tr>\n",
       "    <tr>\n",
       "      <th>2</th>\n",
       "      <td>Добавить блоки рекомендаций товаров на сайт интернет магазина, чтобы повысить конверсию и средний чек заказа</td>\n",
       "      <td>7.00</td>\n",
       "    </tr>\n",
       "    <tr>\n",
       "      <th>1</th>\n",
       "      <td>Запустить собственную службу доставки, что сократит срок доставки заказов</td>\n",
       "      <td>2.00</td>\n",
       "    </tr>\n",
       "    <tr>\n",
       "      <th>5</th>\n",
       "      <td>Добавить страницу отзывов клиентов о магазине, что позволит увеличить количество заказов</td>\n",
       "      <td>1.33</td>\n",
       "    </tr>\n",
       "    <tr>\n",
       "      <th>3</th>\n",
       "      <td>Изменить структура категорий, что увеличит конверсию, т.к. пользователи быстрее найдут нужный товар</td>\n",
       "      <td>1.12</td>\n",
       "    </tr>\n",
       "    <tr>\n",
       "      <th>4</th>\n",
       "      <td>Изменить цвет фона главной страницы, чтобы увеличить вовлеченность пользователей</td>\n",
       "      <td>1.00</td>\n",
       "    </tr>\n",
       "  </tbody>\n",
       "</table>\n",
       "</div>"
      ],
      "text/plain": [
       "                                                                                                       Гипотеза  \\\n",
       "8                                                       Запустить акцию, дающую скидку на товар в день рождения   \n",
       "0            Добавить два новых канала привлечения трафика, что позволит привлекать на 30% больше пользователей   \n",
       "7              Добавить форму подписки на все основные страницы, чтобы собрать базу клиентов для email-рассылок   \n",
       "6          Показать на главной странице баннеры с актуальными акциями и распродажами, чтобы увеличить конверсию   \n",
       "2  Добавить блоки рекомендаций товаров на сайт интернет магазина, чтобы повысить конверсию и средний чек заказа   \n",
       "1                                     Запустить собственную службу доставки, что сократит срок доставки заказов   \n",
       "5                      Добавить страницу отзывов клиентов о магазине, что позволит увеличить количество заказов   \n",
       "3           Изменить структура категорий, что увеличит конверсию, т.к. пользователи быстрее найдут нужный товар   \n",
       "4                              Изменить цвет фона главной страницы, чтобы увеличить вовлеченность пользователей   \n",
       "\n",
       "     ICE  \n",
       "8  16.20  \n",
       "0  13.33  \n",
       "7  11.20  \n",
       "6   8.00  \n",
       "2   7.00  \n",
       "1   2.00  \n",
       "5   1.33  \n",
       "3   1.12  \n",
       "4   1.00  "
      ]
     },
     "execution_count": 21,
     "metadata": {},
     "output_type": "execute_result"
    }
   ],
   "source": [
    "ice_table = (hypothesis[['hypothesis','ice']]\n",
    " .sort_values(by = 'ice', ascending=False)\n",
    " .rename(columns={'hypothesis':'Гипотеза','ice':'ICE'})\n",
    ")\n",
    "ice_table['ICE'] = round(ice_table['ICE'], 2)\n",
    "ice_table"
   ]
  },
  {
   "cell_type": "markdown",
   "metadata": {},
   "source": [
    "**Гипотеза` `\"Запустить акцию, дающую скидку на товар в день рождения\"` `имеет наибольший показатель `ICE`.**"
   ]
  },
  {
   "cell_type": "markdown",
   "metadata": {},
   "source": [
    "Применим фреймворк `RICE` для приоритизации гипотез."
   ]
  },
  {
   "cell_type": "markdown",
   "metadata": {},
   "source": [
    "Рассчитаем для каждой из гипотез показатель `RICE`"
   ]
  },
  {
   "cell_type": "code",
   "execution_count": 22,
   "metadata": {},
   "outputs": [],
   "source": [
    "hypothesis['rice'] = hypothesis['ice'] * hypothesis['reach']"
   ]
  },
  {
   "cell_type": "markdown",
   "metadata": {},
   "source": [
    "Отстортируем гипотезы по убыванию значения показателя `RICE`."
   ]
  },
  {
   "cell_type": "code",
   "execution_count": 23,
   "metadata": {},
   "outputs": [
    {
     "data": {
      "text/html": [
       "<div>\n",
       "<style scoped>\n",
       "    .dataframe tbody tr th:only-of-type {\n",
       "        vertical-align: middle;\n",
       "    }\n",
       "\n",
       "    .dataframe tbody tr th {\n",
       "        vertical-align: top;\n",
       "    }\n",
       "\n",
       "    .dataframe thead th {\n",
       "        text-align: right;\n",
       "    }\n",
       "</style>\n",
       "<table border=\"1\" class=\"dataframe\">\n",
       "  <thead>\n",
       "    <tr style=\"text-align: right;\">\n",
       "      <th></th>\n",
       "      <th>Гипотеза</th>\n",
       "      <th>RICE</th>\n",
       "    </tr>\n",
       "  </thead>\n",
       "  <tbody>\n",
       "    <tr>\n",
       "      <th>7</th>\n",
       "      <td>Добавить форму подписки на все основные страницы, чтобы собрать базу клиентов для email-рассылок</td>\n",
       "      <td>112.0</td>\n",
       "    </tr>\n",
       "    <tr>\n",
       "      <th>2</th>\n",
       "      <td>Добавить блоки рекомендаций товаров на сайт интернет магазина, чтобы повысить конверсию и средний чек заказа</td>\n",
       "      <td>56.0</td>\n",
       "    </tr>\n",
       "    <tr>\n",
       "      <th>0</th>\n",
       "      <td>Добавить два новых канала привлечения трафика, что позволит привлекать на 30% больше пользователей</td>\n",
       "      <td>40.0</td>\n",
       "    </tr>\n",
       "    <tr>\n",
       "      <th>6</th>\n",
       "      <td>Показать на главной странице баннеры с актуальными акциями и распродажами, чтобы увеличить конверсию</td>\n",
       "      <td>40.0</td>\n",
       "    </tr>\n",
       "    <tr>\n",
       "      <th>8</th>\n",
       "      <td>Запустить акцию, дающую скидку на товар в день рождения</td>\n",
       "      <td>16.2</td>\n",
       "    </tr>\n",
       "    <tr>\n",
       "      <th>3</th>\n",
       "      <td>Изменить структура категорий, что увеличит конверсию, т.к. пользователи быстрее найдут нужный товар</td>\n",
       "      <td>9.0</td>\n",
       "    </tr>\n",
       "    <tr>\n",
       "      <th>1</th>\n",
       "      <td>Запустить собственную службу доставки, что сократит срок доставки заказов</td>\n",
       "      <td>4.0</td>\n",
       "    </tr>\n",
       "    <tr>\n",
       "      <th>5</th>\n",
       "      <td>Добавить страницу отзывов клиентов о магазине, что позволит увеличить количество заказов</td>\n",
       "      <td>4.0</td>\n",
       "    </tr>\n",
       "    <tr>\n",
       "      <th>4</th>\n",
       "      <td>Изменить цвет фона главной страницы, чтобы увеличить вовлеченность пользователей</td>\n",
       "      <td>3.0</td>\n",
       "    </tr>\n",
       "  </tbody>\n",
       "</table>\n",
       "</div>"
      ],
      "text/plain": [
       "                                                                                                       Гипотеза  \\\n",
       "7              Добавить форму подписки на все основные страницы, чтобы собрать базу клиентов для email-рассылок   \n",
       "2  Добавить блоки рекомендаций товаров на сайт интернет магазина, чтобы повысить конверсию и средний чек заказа   \n",
       "0            Добавить два новых канала привлечения трафика, что позволит привлекать на 30% больше пользователей   \n",
       "6          Показать на главной странице баннеры с актуальными акциями и распродажами, чтобы увеличить конверсию   \n",
       "8                                                       Запустить акцию, дающую скидку на товар в день рождения   \n",
       "3           Изменить структура категорий, что увеличит конверсию, т.к. пользователи быстрее найдут нужный товар   \n",
       "1                                     Запустить собственную службу доставки, что сократит срок доставки заказов   \n",
       "5                      Добавить страницу отзывов клиентов о магазине, что позволит увеличить количество заказов   \n",
       "4                              Изменить цвет фона главной страницы, чтобы увеличить вовлеченность пользователей   \n",
       "\n",
       "    RICE  \n",
       "7  112.0  \n",
       "2   56.0  \n",
       "0   40.0  \n",
       "6   40.0  \n",
       "8   16.2  \n",
       "3    9.0  \n",
       "1    4.0  \n",
       "5    4.0  \n",
       "4    3.0  "
      ]
     },
     "execution_count": 23,
     "metadata": {},
     "output_type": "execute_result"
    }
   ],
   "source": [
    "(hypothesis[['hypothesis','rice']]\n",
    " .sort_values(by = 'rice', ascending=False)\n",
    " .rename(columns={'hypothesis':'Гипотеза','rice':'RICE'})\n",
    ")"
   ]
  },
  {
   "cell_type": "markdown",
   "metadata": {},
   "source": [
    "**Гипотеза` `\"Добавить форму подписки на все основные страницы, чтобы собрать базу клиентов для email-рассылок\t\"` ` оказалась наиболее приоритетной по показателю `RICE`.**"
   ]
  },
  {
   "cell_type": "markdown",
   "metadata": {},
   "source": [
    "**Приоритизация при применении фреймворка `RICE` изменилась, ввиду того, что стал учитываться показатель `reach`, отражающий оценку количества пользователей, которых затронет изменение. Так, например, гипотеза ` `\"Запустить акцию, дающую скидку на товар в день рождения\"` ` из-за низкого значения оценки `reach = 1` оказалась менее приоритетной по показателю `RICE`.**"
   ]
  },
  {
   "cell_type": "markdown",
   "metadata": {},
   "source": [
    "**В качестве наиболее приоритетной возьмем гипотезу `-`\"Добавить форму подписки на все основные страницы, чтобы собрать базу клиентов для email-рассылок\", выбранную с применением фреймворка RICE.**"
   ]
  },
  {
   "cell_type": "markdown",
   "metadata": {},
   "source": [
    "### Анализ A/B-теста"
   ]
  },
  {
   "cell_type": "markdown",
   "metadata": {},
   "source": [
    "Проведём анализ полученных данных A/B-тестирования."
   ]
  },
  {
   "cell_type": "markdown",
   "metadata": {},
   "source": [
    "Рассчитаем кумулятивные метрики в разрезе групп тестирования: суммарное число заказов, суммарную выручку, количество пользователей до выбранной даты включительно."
   ]
  },
  {
   "cell_type": "code",
   "execution_count": 24,
   "metadata": {},
   "outputs": [],
   "source": [
    "visitorsADaily = visitors[visitors['group'] == 'A'][['date', 'visitors']]\n",
    "visitorsADaily.columns = ['date', 'visitorsPerDateA']\n",
    "\n",
    "visitorsACummulative = visitorsADaily.apply(\n",
    "    lambda x: visitorsADaily[visitorsADaily['date'] <= x['date']].agg(\n",
    "        {'date': 'max', 'visitorsPerDateA': 'sum'}\n",
    "    ),\n",
    "    axis=1,\n",
    ")\n",
    "visitorsACummulative.columns = ['date', 'visitorsCummulativeA']\n",
    "\n",
    "\n",
    "visitorsBDaily = visitors[visitors['group'] == 'B'][['date', 'visitors']]\n",
    "visitorsBDaily.columns = ['date', 'visitorsPerDateB']\n",
    "\n",
    "visitorsBCummulative = visitorsBDaily.apply(\n",
    "    lambda x: visitorsBDaily[visitorsBDaily['date'] <= x['date']].agg(\n",
    "        {'date': 'max', 'visitorsPerDateB': 'sum'}\n",
    "    ),\n",
    "    axis=1,\n",
    ")\n",
    "visitorsBCummulative.columns = ['date', 'visitorsCummulativeB']\n",
    "\n",
    "\n",
    "ordersADaily = (\n",
    "    orders[orders['group'] == 'A'][['date', 'transaction_id', 'visitor_id', 'revenue']]\n",
    "    .groupby('date', as_index=False)\n",
    "    .agg({'transaction_id': pd.Series.nunique, 'revenue': 'sum'})\n",
    ")\n",
    "ordersADaily.columns = ['date', 'ordersPerDateA', 'revenuePerDateA']\n",
    "\n",
    "ordersACummulative = ordersADaily.apply(\n",
    "    lambda x: ordersADaily[ordersADaily['date'] <= x['date']].agg(\n",
    "        {'date': 'max', 'ordersPerDateA': 'sum', 'revenuePerDateA': 'sum'}\n",
    "    ),\n",
    "    axis=1,\n",
    ").sort_values(by=['date'])\n",
    "ordersACummulative.columns = [\n",
    "    'date',\n",
    "    'ordersCummulativeA',\n",
    "    'revenueCummulativeA',\n",
    "]\n",
    "\n",
    "ordersBDaily = (\n",
    "    orders[orders['group'] == 'B'][['date', 'transaction_id', 'visitor_id', 'revenue']]\n",
    "    .groupby('date', as_index=False)\n",
    "    .agg({'transaction_id': pd.Series.nunique, 'revenue': 'sum'})\n",
    ")\n",
    "ordersBDaily.columns = ['date', 'ordersPerDateB', 'revenuePerDateB']\n",
    "\n",
    "ordersBCummulative = ordersBDaily.apply(\n",
    "    lambda x: ordersBDaily[ordersBDaily['date'] <= x['date']].agg(\n",
    "        {'date': 'max', 'ordersPerDateB': 'sum', 'revenuePerDateB': 'sum'}\n",
    "    ),\n",
    "    axis=1,\n",
    ").sort_values(by=['date'])\n",
    "ordersBCummulative.columns = [\n",
    "    'date',\n",
    "    'ordersCummulativeB',\n",
    "    'revenueCummulativeB',\n",
    "]\n",
    "\n",
    "data = (\n",
    "    ordersADaily.merge(\n",
    "        ordersBDaily, left_on='date', right_on='date', how='left'\n",
    "    )\n",
    "    .merge(ordersACummulative, left_on='date', right_on='date', how='left')\n",
    "    .merge(ordersBCummulative, left_on='date', right_on='date', how='left')\n",
    "    .merge(visitorsADaily, left_on='date', right_on='date', how='left')\n",
    "    .merge(visitorsBDaily, left_on='date', right_on='date', how='left')\n",
    "    .merge(visitorsACummulative, left_on='date', right_on='date', how='left')\n",
    "    .merge(visitorsBCummulative, left_on='date', right_on='date', how='left')\n",
    ")"
   ]
  },
  {
   "cell_type": "markdown",
   "metadata": {},
   "source": [
    "Проверим, не попадают ли какие-либо пользователи в обе группы тестирования."
   ]
  },
  {
   "cell_type": "markdown",
   "metadata": {},
   "source": [
    "Создадим таблицу с идентификаторами пользователей, попавших сразу в обе группы тестирования."
   ]
  },
  {
   "cell_type": "code",
   "execution_count": 25,
   "metadata": {},
   "outputs": [],
   "source": [
    "two_group_users = orders.groupby('visitor_id').agg({'group':'nunique'}).rename(columns={'group':'groups_count'})\n",
    "two_group_users = two_group_users.query('groups_count > 1')"
   ]
  },
  {
   "cell_type": "code",
   "execution_count": 26,
   "metadata": {},
   "outputs": [
    {
     "data": {
      "text/html": [
       "<div>\n",
       "<style scoped>\n",
       "    .dataframe tbody tr th:only-of-type {\n",
       "        vertical-align: middle;\n",
       "    }\n",
       "\n",
       "    .dataframe tbody tr th {\n",
       "        vertical-align: top;\n",
       "    }\n",
       "\n",
       "    .dataframe thead th {\n",
       "        text-align: right;\n",
       "    }\n",
       "</style>\n",
       "<table border=\"1\" class=\"dataframe\">\n",
       "  <thead>\n",
       "    <tr style=\"text-align: right;\">\n",
       "      <th></th>\n",
       "      <th>groups_count</th>\n",
       "    </tr>\n",
       "    <tr>\n",
       "      <th>visitor_id</th>\n",
       "      <th></th>\n",
       "    </tr>\n",
       "  </thead>\n",
       "  <tbody>\n",
       "    <tr>\n",
       "      <th>8300375</th>\n",
       "      <td>2</td>\n",
       "    </tr>\n",
       "    <tr>\n",
       "      <th>199603092</th>\n",
       "      <td>2</td>\n",
       "    </tr>\n",
       "    <tr>\n",
       "      <th>232979603</th>\n",
       "      <td>2</td>\n",
       "    </tr>\n",
       "    <tr>\n",
       "      <th>237748145</th>\n",
       "      <td>2</td>\n",
       "    </tr>\n",
       "    <tr>\n",
       "      <th>276558944</th>\n",
       "      <td>2</td>\n",
       "    </tr>\n",
       "  </tbody>\n",
       "</table>\n",
       "</div>"
      ],
      "text/plain": [
       "            groups_count\n",
       "visitor_id              \n",
       "8300375                2\n",
       "199603092              2\n",
       "232979603              2\n",
       "237748145              2\n",
       "276558944              2"
      ]
     },
     "execution_count": 26,
     "metadata": {},
     "output_type": "execute_result"
    }
   ],
   "source": [
    "two_group_users.head()"
   ]
  },
  {
   "cell_type": "markdown",
   "metadata": {},
   "source": [
    "Посчитаем количество таких пользователей."
   ]
  },
  {
   "cell_type": "code",
   "execution_count": 27,
   "metadata": {},
   "outputs": [
    {
     "name": "stdout",
     "output_type": "stream",
     "text": [
      "Количество пользователей, попавших сразу в две группы тестирования: 58\n"
     ]
    }
   ],
   "source": [
    "print('Количество пользователей, попавших сразу в две группы тестирования:', len(two_group_users))"
   ]
  },
  {
   "cell_type": "markdown",
   "metadata": {},
   "source": [
    "Определим количество пользователей в обеих группах и общее количество пользователей с учетом того, что некоторые из них попадают в обе группы сразу."
   ]
  },
  {
   "cell_type": "code",
   "execution_count": 28,
   "metadata": {},
   "outputs": [
    {
     "name": "stdout",
     "output_type": "stream",
     "text": [
      "Общее количество пользователей - 1031\n",
      "Количество пользователей в группе А - 503\n",
      "Количество пользователей в группе В - 586\n"
     ]
    }
   ],
   "source": [
    "print('Общее количество пользователей -', orders['visitor_id'].nunique())\n",
    "print('Количество пользователей в группе А -', orders.query('group == \"A\"')['visitor_id'].nunique())\n",
    "print('Количество пользователей в группе В -', orders.query('group == \"B\"')['visitor_id'].nunique())"
   ]
  },
  {
   "cell_type": "markdown",
   "metadata": {},
   "source": [
    "Доля пользователей, попавших в обе группы, для каждой из групп приблизительно равна одной десятой. Участие этих пользователей сразу в обеих группах может исказить результаты. Но известны только идентификаторы пользователей, совершивших хотя бы один платеж, а идентификаторы не совершивших платёж - неизвестны, поэтому удаление таких пользователей может также исказить результаты в сторону \"неплатящих\" пользователей. Лучше оставить таких пользователей в анализируемых данных."
   ]
  },
  {
   "cell_type": "markdown",
   "metadata": {},
   "source": [
    "Выведем первые 5 строк таблицы, содержащей данные о кумулятивных метриках двух групп."
   ]
  },
  {
   "cell_type": "code",
   "execution_count": 29,
   "metadata": {},
   "outputs": [
    {
     "data": {
      "text/html": [
       "<div>\n",
       "<style scoped>\n",
       "    .dataframe tbody tr th:only-of-type {\n",
       "        vertical-align: middle;\n",
       "    }\n",
       "\n",
       "    .dataframe tbody tr th {\n",
       "        vertical-align: top;\n",
       "    }\n",
       "\n",
       "    .dataframe thead th {\n",
       "        text-align: right;\n",
       "    }\n",
       "</style>\n",
       "<table border=\"1\" class=\"dataframe\">\n",
       "  <thead>\n",
       "    <tr style=\"text-align: right;\">\n",
       "      <th></th>\n",
       "      <th>date</th>\n",
       "      <th>ordersPerDateA</th>\n",
       "      <th>revenuePerDateA</th>\n",
       "      <th>ordersPerDateB</th>\n",
       "      <th>revenuePerDateB</th>\n",
       "      <th>ordersCummulativeA</th>\n",
       "      <th>revenueCummulativeA</th>\n",
       "      <th>ordersCummulativeB</th>\n",
       "      <th>revenueCummulativeB</th>\n",
       "      <th>visitorsPerDateA</th>\n",
       "      <th>visitorsPerDateB</th>\n",
       "      <th>visitorsCummulativeA</th>\n",
       "      <th>visitorsCummulativeB</th>\n",
       "    </tr>\n",
       "  </thead>\n",
       "  <tbody>\n",
       "    <tr>\n",
       "      <th>0</th>\n",
       "      <td>2019-08-01</td>\n",
       "      <td>24</td>\n",
       "      <td>148579</td>\n",
       "      <td>21</td>\n",
       "      <td>101217</td>\n",
       "      <td>24</td>\n",
       "      <td>148579</td>\n",
       "      <td>21</td>\n",
       "      <td>101217</td>\n",
       "      <td>719</td>\n",
       "      <td>713</td>\n",
       "      <td>719</td>\n",
       "      <td>713</td>\n",
       "    </tr>\n",
       "    <tr>\n",
       "      <th>1</th>\n",
       "      <td>2019-08-02</td>\n",
       "      <td>20</td>\n",
       "      <td>93822</td>\n",
       "      <td>24</td>\n",
       "      <td>165531</td>\n",
       "      <td>44</td>\n",
       "      <td>242401</td>\n",
       "      <td>45</td>\n",
       "      <td>266748</td>\n",
       "      <td>619</td>\n",
       "      <td>581</td>\n",
       "      <td>1338</td>\n",
       "      <td>1294</td>\n",
       "    </tr>\n",
       "    <tr>\n",
       "      <th>2</th>\n",
       "      <td>2019-08-03</td>\n",
       "      <td>24</td>\n",
       "      <td>112473</td>\n",
       "      <td>16</td>\n",
       "      <td>114248</td>\n",
       "      <td>68</td>\n",
       "      <td>354874</td>\n",
       "      <td>61</td>\n",
       "      <td>380996</td>\n",
       "      <td>507</td>\n",
       "      <td>509</td>\n",
       "      <td>1845</td>\n",
       "      <td>1803</td>\n",
       "    </tr>\n",
       "    <tr>\n",
       "      <th>3</th>\n",
       "      <td>2019-08-04</td>\n",
       "      <td>16</td>\n",
       "      <td>70825</td>\n",
       "      <td>17</td>\n",
       "      <td>108571</td>\n",
       "      <td>84</td>\n",
       "      <td>425699</td>\n",
       "      <td>78</td>\n",
       "      <td>489567</td>\n",
       "      <td>717</td>\n",
       "      <td>770</td>\n",
       "      <td>2562</td>\n",
       "      <td>2573</td>\n",
       "    </tr>\n",
       "    <tr>\n",
       "      <th>4</th>\n",
       "      <td>2019-08-05</td>\n",
       "      <td>25</td>\n",
       "      <td>124218</td>\n",
       "      <td>23</td>\n",
       "      <td>92428</td>\n",
       "      <td>109</td>\n",
       "      <td>549917</td>\n",
       "      <td>101</td>\n",
       "      <td>581995</td>\n",
       "      <td>756</td>\n",
       "      <td>707</td>\n",
       "      <td>3318</td>\n",
       "      <td>3280</td>\n",
       "    </tr>\n",
       "  </tbody>\n",
       "</table>\n",
       "</div>"
      ],
      "text/plain": [
       "        date  ordersPerDateA  revenuePerDateA  ordersPerDateB  \\\n",
       "0 2019-08-01              24           148579              21   \n",
       "1 2019-08-02              20            93822              24   \n",
       "2 2019-08-03              24           112473              16   \n",
       "3 2019-08-04              16            70825              17   \n",
       "4 2019-08-05              25           124218              23   \n",
       "\n",
       "   revenuePerDateB  ordersCummulativeA  revenueCummulativeA  \\\n",
       "0           101217                  24               148579   \n",
       "1           165531                  44               242401   \n",
       "2           114248                  68               354874   \n",
       "3           108571                  84               425699   \n",
       "4            92428                 109               549917   \n",
       "\n",
       "   ordersCummulativeB  revenueCummulativeB  visitorsPerDateA  \\\n",
       "0                  21               101217               719   \n",
       "1                  45               266748               619   \n",
       "2                  61               380996               507   \n",
       "3                  78               489567               717   \n",
       "4                 101               581995               756   \n",
       "\n",
       "   visitorsPerDateB  visitorsCummulativeA  visitorsCummulativeB  \n",
       "0               713                   719                   713  \n",
       "1               581                  1338                  1294  \n",
       "2               509                  1845                  1803  \n",
       "3               770                  2562                  2573  \n",
       "4               707                  3318                  3280  "
      ]
     },
     "execution_count": 29,
     "metadata": {},
     "output_type": "execute_result"
    }
   ],
   "source": [
    "data.head()"
   ]
  },
  {
   "cell_type": "markdown",
   "metadata": {},
   "source": [
    "Описание данных в таблице `data`:\n",
    "* ordersPerDateA — количество заказов в выбранную дату в группе A;\n",
    "* revenuePerDateA — суммарная выручка в выбранную дату в группе A;\n",
    "* ordersPerDateB — количество заказов в выбранную дату в группе B;\n",
    "* revenuePerDateB — суммарная выручка в выбранную дату в группе B;\n",
    "* ordersCummulativeA — суммарное число заказов до выбранной даты включительно в группе A;\n",
    "* revenueCummulativeA — суммарная выручка до выбранной даты включительно в группе A;\n",
    "* ordersCummulativeB — суммарное количество заказов до выбранной даты включительно в группе B;\n",
    "* revenueCummulativeB — суммарная выручка до выбранной даты включительно в группе B;\n",
    "* visitorsPerDateA — количество пользователей в выбранную дату в группе A;\n",
    "* visitorsPerDateB — количество пользователей в выбранную дату в группе B;\n",
    "* visitorsCummulativeA — количество пользователей до выбранной даты включительно в группе A;\n",
    "* visitorsCummulativeB — количество пользователей до выбранной даты включительно в группе B."
   ]
  },
  {
   "cell_type": "markdown",
   "metadata": {},
   "source": [
    "Построим график кумулятивной выручки по группам."
   ]
  },
  {
   "cell_type": "code",
   "execution_count": 30,
   "metadata": {},
   "outputs": [
    {
     "data": {
      "image/png": "[encoded data removed]",
      "text/plain": [
       "<Figure size 1600x800 with 1 Axes>"
      ]
     },
     "metadata": {},
     "output_type": "display_data"
    }
   ],
   "source": [
    "(data[['date','revenueCummulativeA', 'revenueCummulativeB']]\n",
    " .rename(columns={'revenueCummulativeA':'Группа A', 'revenueCummulativeB':'Группа B'})\n",
    " .plot(x = 'date', grid=True, title = \"Кумулятивная выручка\", figsize=(16,8))\n",
    " .set(xlabel = 'Дата', ylabel = 'Выручка, руб.')\n",
    ");"
   ]
  },
  {
   "cell_type": "markdown",
   "metadata": {},
   "source": [
    "**Кумулятивная выручка группы B после 2 августа стабильно выше кумулятивной выручки группы А. На конец августа этот показатель для группы B оказался в полтора раза выше. Заметен также резкий скачок кумулятивной выручки в группе B с 18 на 19 августа, который связан, скорее всего, с крупным/крупными заказами в этот день.**"
   ]
  },
  {
   "cell_type": "markdown",
   "metadata": {},
   "source": [
    "Построим график кумулятивного среднего чека по группам."
   ]
  },
  {
   "cell_type": "code",
   "execution_count": 31,
   "metadata": {},
   "outputs": [
    {
     "data": {
      "image/png": "[encoded data removed]",
      "text/plain": [
       "<Figure size 1600x800 with 1 Axes>"
      ]
     },
     "metadata": {},
     "output_type": "display_data"
    }
   ],
   "source": [
    "data['cumulative_average_check_A'] = data['revenueCummulativeA'] / data['ordersCummulativeA']\n",
    "data['cumulative_average_check_B'] = data['revenueCummulativeB'] / data['ordersCummulativeB']\n",
    "\n",
    "(data[['date','cumulative_average_check_A', 'cumulative_average_check_B']]\n",
    " .rename(columns={'cumulative_average_check_A':'Группа A', 'cumulative_average_check_B':'Группа B'})\n",
    " .plot(x = 'date', grid=True, title = \"Кумулятивный средний чек\", figsize=(16,8))\n",
    " .set(xlabel = 'Дата', ylabel = 'Средний чек, руб.')\n",
    ");"
   ]
  },
  {
   "cell_type": "markdown",
   "metadata": {},
   "source": [
    "**Кумулятивный средний чек группы В в период с 11 по 15 августа падает ниже уровня группы А, но затем резко растет, что еще раз подтверждает, что в группе В в период 18-19 августа была крупная покупка, которая увеличила размер кумулятивного среднего чека.**"
   ]
  },
  {
   "cell_type": "markdown",
   "metadata": {},
   "source": [
    "Построим график относительного изменения кумулятивного среднего чека группы B к группе A."
   ]
  },
  {
   "cell_type": "code",
   "execution_count": 32,
   "metadata": {},
   "outputs": [
    {
     "data": {
      "image/png": "[encoded data removed]",
      "text/plain": [
       "<Figure size 1600x800 with 1 Axes>"
      ]
     },
     "metadata": {},
     "output_type": "display_data"
    }
   ],
   "source": [
    "data['rel_cumulative_average_check'] = (data['cumulative_average_check_B'] / data['cumulative_average_check_A']) - 1\n",
    "\n",
    "(data[['date','rel_cumulative_average_check']]\n",
    " .plot(x = 'date',grid=True, title = \"Относительное изменение кумулятивного среднего чека\",legend=False,figsize=(16,8))\n",
    " .set(xlabel = 'Дата')\n",
    ");\n",
    "plt.axhline(y=0, color='black', linestyle='--');"
   ]
  },
  {
   "cell_type": "markdown",
   "metadata": {},
   "source": [
    "**Относительная разница кумулятивных средних чеков колеблется: наблюдается её относительный рост примерно до 8 августа, затем спад до 13 августа включительно, снова подъем до 19 августа, и вновь уменьшение, но не ниже нулевого уровня.**"
   ]
  },
  {
   "cell_type": "markdown",
   "metadata": {},
   "source": [
    "Построим график кумулятивного среднего количества заказов на посетителя по группам."
   ]
  },
  {
   "cell_type": "code",
   "execution_count": 33,
   "metadata": {},
   "outputs": [
    {
     "data": {
      "image/png": "[encoded data removed]",
      "text/plain": [
       "<Figure size 1600x800 with 1 Axes>"
      ]
     },
     "metadata": {},
     "output_type": "display_data"
    }
   ],
   "source": [
    "data['cumulative_conversionA'] = data['ordersCummulativeA'] / data['visitorsCummulativeA']\n",
    "data['cumulative_conversionB'] = data['ordersCummulativeB'] / data['visitorsCummulativeB']\n",
    "\n",
    "(data[['date','cumulative_conversionA', 'cumulative_conversionB']]\n",
    " .rename(columns={'cumulative_conversionA':'Группа A', 'cumulative_conversionB':'Группа B'})\n",
    " .plot(x = 'date', grid=True, title = \"Кумулятивное среднее количество заказов на посетителя\", figsize=(16,8))\n",
    " .set(xlabel = 'Дата')\n",
    ");"
   ]
  },
  {
   "cell_type": "markdown",
   "metadata": {},
   "source": [
    "**Начиная с 6 августа кумулятивное среднее количество заказов на посетителя в группе B оказывается больше.**"
   ]
  },
  {
   "cell_type": "markdown",
   "metadata": {},
   "source": [
    "Построим график относительного изменения кумулятивного среднего количества заказов на посетителя группы B к группе A."
   ]
  },
  {
   "cell_type": "code",
   "execution_count": 34,
   "metadata": {},
   "outputs": [
    {
     "data": {
      "image/png": "[encoded data removed]",
      "text/plain": [
       "<Figure size 1600x800 with 1 Axes>"
      ]
     },
     "metadata": {},
     "output_type": "display_data"
    }
   ],
   "source": [
    "data['rel_cumulative_conversion'] = (data['cumulative_conversionB'] / data['cumulative_conversionA']) - 1\n",
    "\n",
    "(data[['date','rel_cumulative_conversion']] \n",
    " .plot(x = 'date', grid=True, \n",
    "       title = \"Относительное изменение кумулятивного среднего количества заказов на посетителя группы B к группе A\",\n",
    "       figsize=(16,8), legend=False)\n",
    " .set(xlabel = 'Дата')\n",
    ");\n",
    "plt.axhline(y=0, color='black', linestyle='--');"
   ]
  },
  {
   "cell_type": "markdown",
   "metadata": {},
   "source": [
    "**Данный график в дополнение к предыдущему показывает, что у кумулятивного среднего количества заказов на посетителя группы B по отношению к этому показателю группы А есть тенденция к уменьшению.**  "
   ]
  },
  {
   "cell_type": "markdown",
   "metadata": {},
   "source": [
    "Построим точечный график количества заказов по пользователям."
   ]
  },
  {
   "cell_type": "code",
   "execution_count": 35,
   "metadata": {},
   "outputs": [
    {
     "data": {
      "image/png": "[encoded data removed]",
      "text/plain": [
       "<Figure size 1800x600 with 2 Axes>"
      ]
     },
     "metadata": {},
     "output_type": "display_data"
    }
   ],
   "source": [
    "ordersByUsersA = orders.query('group == \"A\"').groupby('visitor_id',as_index=False)['transaction_id'].count()\n",
    "ordersByUsersA.columns = ['visitor_id', 'order_count']\n",
    "\n",
    "ordersByUsersB = orders.query('group == \"B\"').groupby('visitor_id',as_index=False)['transaction_id'].count()\n",
    "ordersByUsersB.columns = ['visitor_id', 'order_count']\n",
    "\n",
    "plt.figure(figsize=(18,6))\n",
    "\n",
    "plt.subplot(1, 2, 1)\n",
    "x_values = pd.Series(range(0,len(ordersByUsersA)))\n",
    "plt.scatter(x_values, ordersByUsersA['order_count']) \n",
    "plt.title(\"Количество заказов пользователей группы А\")\n",
    "plt.ylim(0,8)\n",
    "\n",
    "plt.subplot(1, 2, 2)\n",
    "x_values = pd.Series(range(0,len(ordersByUsersB)))\n",
    "plt.scatter(x_values, ordersByUsersB['order_count'] ) \n",
    "plt.title(\"Количество заказов пользователей группы В\")\n",
    "plt.ylim(0,8)\n",
    "\n",
    "plt.show()"
   ]
  },
  {
   "cell_type": "markdown",
   "metadata": {},
   "source": [
    "**Заметно, что в обеих группах подавляющее большинство пользователей сделали по одному заказу, некоторые - по два, и очень редко большее число раз.**"
   ]
  },
  {
   "cell_type": "markdown",
   "metadata": {},
   "source": [
    "Посчитаем 95-й и 99-й перцентили количества заказов на пользователя."
   ]
  },
  {
   "cell_type": "code",
   "execution_count": 36,
   "metadata": {},
   "outputs": [
    {
     "name": "stdout",
     "output_type": "stream",
     "text": [
      "[2.   3.98]\n"
     ]
    }
   ],
   "source": [
    "print(np.percentile(ordersByUsersA['order_count'], [95, 99]))"
   ]
  },
  {
   "cell_type": "markdown",
   "metadata": {},
   "source": [
    "В группе А не более 5% клиентов, которые оформили более 2 заказов, и не более 1% оформивших более 4 заказов."
   ]
  },
  {
   "cell_type": "code",
   "execution_count": 37,
   "metadata": {},
   "outputs": [
    {
     "name": "stdout",
     "output_type": "stream",
     "text": [
      "[2.   3.15]\n"
     ]
    }
   ],
   "source": [
    "print(np.percentile(ordersByUsersB['order_count'], [95, 99])) "
   ]
  },
  {
   "cell_type": "markdown",
   "metadata": {},
   "source": [
    "В группе B не более 5% клиентов, которые оформили более 2 заказов, и не более 1% оформивших более 3 заказов."
   ]
  },
  {
   "cell_type": "markdown",
   "metadata": {},
   "source": [
    "**95-й и 99-й перцентили количества заказов на одного пользователя соответственно:**\n",
    "* **для группы А: 2 и 3.98 заказа на пользователя;**\n",
    "* **для группы В: 2 и 3.15 заказа на пользователя.**"
   ]
  },
  {
   "cell_type": "markdown",
   "metadata": {},
   "source": [
    "**Примем за аномальных пользователей в обеих группах тех, кто совершил от 3 заказов и более. Так мы уберём пользователей с наибольшим числом заказов.**"
   ]
  },
  {
   "cell_type": "markdown",
   "metadata": {},
   "source": [
    "Построим точечный график стоимостей заказов."
   ]
  },
  {
   "cell_type": "code",
   "execution_count": 38,
   "metadata": {},
   "outputs": [
    {
     "data": {
      "image/png": "[encoded data removed]",
      "text/plain": [
       "<Figure size 1800x600 with 2 Axes>"
      ]
     },
     "metadata": {},
     "output_type": "display_data"
    }
   ],
   "source": [
    "revenue_per_ordersA = orders.query('group == \"A\"')['revenue']\n",
    "revenue_per_ordersB = orders.query('group == \"B\"')['revenue']\n",
    "\n",
    "plt.figure(figsize=(18,6))\n",
    "\n",
    "plt.subplot(1, 2, 1)\n",
    "x_values = pd.Series(range(0,len(revenue_per_ordersA)))\n",
    "plt.scatter(x_values, revenue_per_ordersA ) \n",
    "plt.title(\"Стоимость заказов пользователей группы А \")\n",
    "plt.ylim(0,14e5)\n",
    "\n",
    "plt.subplot(1, 2, 2)\n",
    "x_values = pd.Series(range(0,len(revenue_per_ordersB)))\n",
    "plt.scatter(x_values, revenue_per_ordersB ) \n",
    "plt.title(\"Стоимость заказов пользователей группы В\")\n",
    "plt.ylim(0,14e5)\n",
    "\n",
    "plt.show()"
   ]
  },
  {
   "cell_type": "markdown",
   "metadata": {},
   "source": [
    "Рассмотрим часть графиков со значением стоимости заказов до 100 тыс. рублей:"
   ]
  },
  {
   "cell_type": "code",
   "execution_count": 39,
   "metadata": {},
   "outputs": [
    {
     "data": {
      "image/png": "[encoded data removed]",
      "text/plain": [
       "<Figure size 1800x600 with 2 Axes>"
      ]
     },
     "metadata": {},
     "output_type": "display_data"
    }
   ],
   "source": [
    "plt.figure(figsize=(18,6))\n",
    "\n",
    "plt.subplot(1, 2, 1)\n",
    "x_values = pd.Series(range(0,len(revenue_per_ordersA)))\n",
    "plt.scatter(x_values, revenue_per_ordersA ) \n",
    "plt.title(\"Стоимость заказов пользователей группы А \")\n",
    "plt.ylim(0,1e5)\n",
    "\n",
    "plt.subplot(1, 2, 2)\n",
    "x_values = pd.Series(range(0,len(revenue_per_ordersB)))\n",
    "plt.scatter(x_values, revenue_per_ordersB ) \n",
    "plt.title(\"Стоимость заказов пользователей группы В\")\n",
    "plt.ylim(0,1e5)\n",
    "\n",
    "plt.show()"
   ]
  },
  {
   "cell_type": "markdown",
   "metadata": {},
   "source": [
    "**У большинства пользователей обеих групп сумма заказа не превышает 10 тысяч рублей, максимальная сумма заказа не превышает 100 тысяч руб. Однако на графике группы В можно заметить один невероятно большой заказ, превышающий 1,2 млн. рублей и еще один крупный заказ на 200 тысяч рублей. Судя по всему это и есть причина резкого скачка кумулятивного среднего чека 19 августа. В остальном группы очень похожи между собой.**"
   ]
  },
  {
   "cell_type": "markdown",
   "metadata": {},
   "source": [
    "Посчитаем 95-й и 99-й перцентили стоимости заказов."
   ]
  },
  {
   "cell_type": "code",
   "execution_count": 40,
   "metadata": {},
   "outputs": [
    {
     "name": "stdout",
     "output_type": "stream",
     "text": [
      "[26718.  62764.4]\n"
     ]
    }
   ],
   "source": [
    "print(np.percentile(revenue_per_ordersA, [95, 99])) "
   ]
  },
  {
   "cell_type": "markdown",
   "metadata": {},
   "source": [
    "В группе А не более 5% заказов на сумму свыше 26718 руб и не более 1% - на сумму свыше 62764 руб."
   ]
  },
  {
   "cell_type": "code",
   "execution_count": 41,
   "metadata": {},
   "outputs": [
    {
     "name": "stdout",
     "output_type": "stream",
     "text": [
      "[28787.45 55579.06]\n"
     ]
    }
   ],
   "source": [
    "print(np.percentile(revenue_per_ordersB, [95, 99])) "
   ]
  },
  {
   "cell_type": "markdown",
   "metadata": {},
   "source": [
    "В группе В не более 5% заказов на сумму свыше 28787 руб и не более 1% - на сумму свыше 55579 руб."
   ]
  },
  {
   "cell_type": "markdown",
   "metadata": {},
   "source": [
    "**95-й и 99-й перцентили стоимости заказов равны:**\n",
    "* **для группы А: 26718 и 62764 рублей;**\n",
    "* **для группы В: 28787 и 55579 рублей.**"
   ]
  },
  {
   "cell_type": "markdown",
   "metadata": {},
   "source": [
    "**Примем за аномальных пользователей в группе А тех, кто совершил заказ дороже 27000 рублей, а для группы В - тех, кто совершил заказ дороже 29 000 рублей. Так мы уберем пользователей с крупными заказами.**"
   ]
  },
  {
   "cell_type": "markdown",
   "metadata": {},
   "source": [
    "Посчитаем статистическую значимость различий в среднем количестве заказов на посетителя между группами по «сырым» данным."
   ]
  },
  {
   "cell_type": "markdown",
   "metadata": {},
   "source": [
    "Объявим переменные sampleA и sampleB, в которых пользователям из разных групп будет соответствовать определённое количество заказов. Тем, кто ничего не заказал, будут соответствовать нули. Это нужно, чтобы подготовить выборки к проверке критерием Манна-Уитни."
   ]
  },
  {
   "cell_type": "code",
   "execution_count": 42,
   "metadata": {},
   "outputs": [],
   "source": [
    "sampleA = pd.concat([\n",
    "                     ordersByUsersA['order_count'],\n",
    "                     pd.Series(0, index=np.arange(data['visitorsPerDateA'].sum() - len(ordersByUsersA['order_count'])),\n",
    "                     name='order_count')\n",
    "                     ],axis=0)\n",
    "\n",
    "sampleB = pd.concat([\n",
    "                     ordersByUsersB['order_count'],\n",
    "                     pd.Series(0, index=np.arange(data['visitorsPerDateB'].sum() - len(ordersByUsersB['order_count'])),\n",
    "                     name='order_count')\n",
    "                    ],axis=0)"
   ]
  },
  {
   "cell_type": "markdown",
   "metadata": {},
   "source": [
    "Сформулируем гипотезы."
   ]
  },
  {
   "cell_type": "markdown",
   "metadata": {},
   "source": [
    "* Нулевая гипотеза : статистически значимых различий в среднем количестве заказов на посетителя между группами нет;\n",
    "* Альтернативная гипотеза : статистически значимые различия в среднем количестве заказов на посетителя между группами есть."
   ]
  },
  {
   "cell_type": "markdown",
   "metadata": {},
   "source": [
    "Для тестирования воспользуемся критерием Манна-Уитни, уровень статистической значимости примем равным 5%."
   ]
  },
  {
   "cell_type": "code",
   "execution_count": 43,
   "metadata": {},
   "outputs": [
    {
     "name": "stdout",
     "output_type": "stream",
     "text": [
      "0.05 - уровень статистической значимости\n",
      "0.017 - p-значение\n",
      "0.138 - относительная разница среднего количества заказов на посетителя группы В и этого же показателя группы А\n",
      "Cтатистически значимые различия в среднем количестве заказов на посетителя между группами есть\n"
     ]
    }
   ],
   "source": [
    "alpha = 0.05\n",
    "print(alpha, '- уровень статистической значимости')\n",
    "p_value = st.mannwhitneyu(sampleA, sampleB, True, 'two-sided')[1]\n",
    "print(\"{0:.3f}\".format(p_value), '- p-значение')\n",
    "print(\"{0:.3f}\".format(sampleB.mean() / sampleA.mean() - 1),\n",
    "      '- относительная разница среднего количества заказов на посетителя группы В и этого же показателя группы А') \n",
    "if p_value > alpha:\n",
    "    print('Cтатистически значимых различий в среднем количестве заказов на посетителя между группами нет')\n",
    "else:\n",
    "    print('Cтатистически значимые различия в среднем количестве заказов на посетителя между группами есть')"
   ]
  },
  {
   "cell_type": "markdown",
   "metadata": {},
   "source": [
    "**Нулевая гипотеза отвергнута в сторону альтернативной. Cтатистически значимые различия в среднем количестве заказов на посетителя между группами есть. Относительная разница среднего количества заказов на посетителя группы В на 13.8% больше, чем в группе А.**"
   ]
  },
  {
   "cell_type": "markdown",
   "metadata": {},
   "source": [
    "Посчитаем статистическую значимость различий в среднем чеке заказа между группами по «сырым» данным."
   ]
  },
  {
   "cell_type": "markdown",
   "metadata": {},
   "source": [
    "Сформулируем гипотезы."
   ]
  },
  {
   "cell_type": "markdown",
   "metadata": {},
   "source": [
    "* Нулевая гипотеза : статистически значимых различий в в среднем чеке заказа между группами нет;\n",
    "* Альтернативная гипотеза : статистически значимые различия в в среднем чеке заказа между группами есть."
   ]
  },
  {
   "cell_type": "markdown",
   "metadata": {},
   "source": [
    "Для тестирования воспользуемся критерием Манна-Уитни, уровень статистической значимости примем равным 5%."
   ]
  },
  {
   "cell_type": "code",
   "execution_count": 44,
   "metadata": {},
   "outputs": [
    {
     "name": "stdout",
     "output_type": "stream",
     "text": [
      "0.05 - уровень статистической значимости\n",
      "0.729 - p-значение\n",
      "0.259 - относительная разница среднего чека группы В и среднего чека группы А\n",
      "Cтатистически значимых различий  в среднем чеке заказа между группами нет\n"
     ]
    }
   ],
   "source": [
    "sampleC = orders[orders['group']=='A']['revenue']\n",
    "sampleD = orders[orders['group']=='B']['revenue']\n",
    "alpha = 0.05\n",
    "print(alpha, '- уровень статистической значимости')\n",
    "p_value = st.mannwhitneyu(sampleC, sampleD, True, 'two-sided')[1]\n",
    "print(\"{0:.3f}\".format(p_value), '- p-значение')\n",
    "print(\"{0:.3f}\".format(sampleD.mean() / sampleC.mean() - 1),\n",
    "      '- относительная разница среднего чека группы В и среднего чека группы А') \n",
    "if p_value > alpha:\n",
    "    print('Cтатистически значимых различий  в среднем чеке заказа между группами нет')\n",
    "else:\n",
    "    print('Cтатистически значимые различия  в среднем чеке заказа между группами есть')"
   ]
  },
  {
   "cell_type": "markdown",
   "metadata": {},
   "source": [
    "**Нулевая гипотеза не отвергается в сторону альтернативной. Cтатистически значимых различий  в среднем чеке заказа между группами нет, хотя относительная разница среднего чего группы В и среднего чека группы А равна 26%. Причина такого результата статистической проверки, скорее всего, заключается в выбросах.**"
   ]
  },
  {
   "cell_type": "markdown",
   "metadata": {},
   "source": [
    "Посчитаем статистическую значимость различий в среднем количестве заказов на посетителя между группами по «очищенным» данным."
   ]
  },
  {
   "cell_type": "markdown",
   "metadata": {},
   "source": [
    "Ранее мы определили за аномальных пользователей в группе А тех, кто совершил от 3 заказов или совершил заказ дороже 27000 рублей, а для группы В - тех, кто совершил от 3 заказов или совершил заказ дороже 29 000 рублей."
   ]
  },
  {
   "cell_type": "markdown",
   "metadata": {},
   "source": [
    "Сделаем срезы пользователей с числом заказов больше 2 — usersWithManyOrders и пользователей, совершивших заказы дороже 27 000 рублей для группы А и 29 000 рублей для группы В — usersWithExpensiveOrders. Объединим их в таблице abnormalUsers. Таблицы изначально поделим на группы."
   ]
  },
  {
   "cell_type": "code",
   "execution_count": 45,
   "metadata": {},
   "outputs": [],
   "source": [
    "usersWithManyOrdersA = ordersByUsersA[ordersByUsersA['order_count'] > 2]['visitor_id']\n",
    "  \n",
    "usersWithExpensiveOrdersA = orders[orders['revenue'] > 27000]['visitor_id']\n",
    "\n",
    "abnormalUsersA = (\n",
    "    pd.concat([usersWithManyOrdersA, usersWithExpensiveOrdersA], axis=0)\n",
    "    .drop_duplicates()\n",
    "    .sort_values()\n",
    ")\n",
    "\n",
    "\n",
    "usersWithManyOrdersB = ordersByUsersB[ordersByUsersB['order_count'] > 2]['visitor_id']\n",
    "  \n",
    "usersWithExpensiveOrdersB = orders[orders['revenue'] > 29000]['visitor_id']\n",
    "\n",
    "abnormalUsersB = (\n",
    "    pd.concat([usersWithManyOrdersB, usersWithExpensiveOrdersB], axis=0)\n",
    "    .drop_duplicates()\n",
    "    .sort_values()\n",
    ")"
   ]
  },
  {
   "cell_type": "markdown",
   "metadata": {},
   "source": [
    "Узнаем, как действия аномальных пользователей повлияли на результаты теста. Посчитаем статистическую значимость различий в среднем количестве заказов на посетителя между группами теста по очищенным данным. Сначала подготовим выборки количества заказов по пользователям по группам теста."
   ]
  },
  {
   "cell_type": "code",
   "execution_count": 46,
   "metadata": {},
   "outputs": [],
   "source": [
    "sampleAFiltered = pd.concat(\n",
    "    [\n",
    "        ordersByUsersA[\n",
    "            np.logical_not(ordersByUsersA['visitor_id'].isin(abnormalUsersA))\n",
    "        ]['order_count'],\n",
    "        pd.Series(\n",
    "            0,\n",
    "            index=np.arange(\n",
    "                data['visitorsPerDateA'].sum() - len(ordersByUsersA['order_count'])\n",
    "            ),\n",
    "            name='order_count',\n",
    "        ),\n",
    "    ],\n",
    "    axis=0,\n",
    ")\n",
    "\n",
    "sampleBFiltered = pd.concat(\n",
    "    [\n",
    "        ordersByUsersB[\n",
    "            np.logical_not(ordersByUsersB['visitor_id'].isin(abnormalUsersB))\n",
    "        ]['order_count'],\n",
    "        pd.Series(\n",
    "            0,\n",
    "            index=np.arange(\n",
    "                data['visitorsPerDateB'].sum() - len(ordersByUsersB['order_count'])\n",
    "            ),\n",
    "            name='order_count',\n",
    "        ),\n",
    "    ],\n",
    "    axis=0,\n",
    ") "
   ]
  },
  {
   "cell_type": "markdown",
   "metadata": {},
   "source": [
    "Применим статистический критерий Манна-Уитни к полученным выборкам с \"очищенными\" от выбросов данными."
   ]
  },
  {
   "cell_type": "markdown",
   "metadata": {},
   "source": [
    "Сформулируем гипотезы:\n",
    "* Нулевая гипотеза : статистически значимых различий в среднем количестве заказов на посетителя между группами нет;\n",
    "* Альтернативная гипотеза : статистически значимые различия в среднем количестве заказов на посетителя между группами есть."
   ]
  },
  {
   "cell_type": "markdown",
   "metadata": {},
   "source": [
    "Уровень статистической значимости примем равным 5%."
   ]
  },
  {
   "cell_type": "code",
   "execution_count": 47,
   "metadata": {},
   "outputs": [
    {
     "name": "stdout",
     "output_type": "stream",
     "text": [
      "0.05 - уровень статистической значимости\n",
      "0.009 - p-значение\n",
      "0.185 - относительная разница среднего количества заказов на посетителя группы В и этого же показателя группы А\n",
      "Cтатистически значимые различия в среднем количестве заказов на посетителя между группами есть\n"
     ]
    }
   ],
   "source": [
    "alpha = 0.05\n",
    "print(alpha, '- уровень статистической значимости')\n",
    "p_value = st.mannwhitneyu(sampleAFiltered, sampleBFiltered, True, 'two-sided')[1]\n",
    "print(\"{0:.3f}\".format(p_value), '- p-значение')\n",
    "print(\"{0:.3f}\".format(sampleBFiltered.mean() / sampleAFiltered.mean() - 1),\n",
    "      '- относительная разница среднего количества заказов на посетителя группы В и этого же показателя группы А') \n",
    "if p_value > alpha:\n",
    "    print('Cтатистически значимых различий в среднем количестве заказов на посетителя между группами нет')\n",
    "else:\n",
    "    print('Cтатистически значимые различия в среднем количестве заказов на посетителя между группами есть')"
   ]
  },
  {
   "cell_type": "markdown",
   "metadata": {},
   "source": [
    "**По \"очищенным\" данным p-значение = 0.9% (против 1.7% по \"сырым\" данным), что меньше уровня статистической значимости, следовательно гипотезу о том, что различий в среднем количестве заказов на посетителя между группами нет, отвергаем. Относительная разница в среднем количестве заказов на посетителя между группами составила 18.5%- на столько этот показатель группы В больше показателя группы А (против 13.8% по \"сырым\" данным).**"
   ]
  },
  {
   "cell_type": "markdown",
   "metadata": {},
   "source": [
    "Расчет статистической значимости различий в среднем чеке заказа между группами по «очищенным» данным."
   ]
  },
  {
   "cell_type": "markdown",
   "metadata": {},
   "source": [
    "Результаты по среднему количеству заказов на посетителя практически не изменились. Проверим как изменились результаты по среднему чеку."
   ]
  },
  {
   "cell_type": "markdown",
   "metadata": {},
   "source": [
    "Сформулируем гипотезы."
   ]
  },
  {
   "cell_type": "markdown",
   "metadata": {},
   "source": [
    "* Нулевая гипотеза : статистически значимых различий в в среднем чеке заказа между группами нет;\n",
    "* Альтернативная гипотеза : статистически значимые различия в в среднем чеке заказа между группами есть."
   ]
  },
  {
   "cell_type": "markdown",
   "metadata": {},
   "source": [
    "Для тестирования воспользуемся критерием Манна-Уитни, уровень статистической значимости примем равным 5%."
   ]
  },
  {
   "cell_type": "code",
   "execution_count": 48,
   "metadata": {},
   "outputs": [
    {
     "name": "stdout",
     "output_type": "stream",
     "text": [
      "0.05 - уровень статистической значимости\n",
      "0.996 - p-значение\n",
      "0.021 - относительная разница среднего чека группы В и среднего чека группы А\n",
      "Cтатистически значимых различий  в среднем чеке заказа между группами нет\n"
     ]
    }
   ],
   "source": [
    "sampleA =  orders[\n",
    "                np.logical_and(\n",
    "                    orders['group'] == 'A',\n",
    "                    np.logical_not(orders['visitor_id'].isin(abnormalUsersA)),\n",
    "                )\n",
    "            ]['revenue']\n",
    "sampleB = orders[\n",
    "                np.logical_and(\n",
    "                    orders['group'] == 'B',\n",
    "                    np.logical_not(orders['visitor_id'].isin(abnormalUsersB)),\n",
    "                )\n",
    "            ]['revenue']\n",
    "alpha = 0.05\n",
    "print(alpha, '- уровень статистической значимости')\n",
    "p_value = st.mannwhitneyu(sampleA, sampleB, True, 'two-sided')[1]\n",
    "print(\"{0:.3f}\".format(p_value), '- p-значение')\n",
    "print(\"{0:.3f}\".format(sampleB.mean() / sampleA.mean() - 1),\n",
    "      '- относительная разница среднего чека группы В и среднего чека группы А') \n",
    "if p_value > alpha:\n",
    "    print('Cтатистически значимых различий  в среднем чеке заказа между группами нет')\n",
    "else:\n",
    "    print('Cтатистически значимые различия  в среднем чеке заказа между группами есть')"
   ]
  },
  {
   "cell_type": "markdown",
   "metadata": {},
   "source": [
    "**По \"oчищенным\" данным p-значение = 99.6% (против 73% по \"сырым\" данным), что ̶з̶н̶а̶ч̶и̶т̶е̶л̶ь̶н̶о̶ больше уровня статистической значимости, следовательно гипотезу о том, что различий в сумме среднего чека между группами нет, не отвергаем.\n",
    "Относительная разница суммы среднего чека между группами составила 2% (против 26% по \"сырым\" данным)- теперь такого значительного отличия суммы среднего чека группы В, как раньше, нет.**"
   ]
  },
  {
   "cell_type": "markdown",
   "metadata": {},
   "source": [
    "## Выводы и рекомендации"
   ]
  },
  {
   "cell_type": "markdown",
   "metadata": {},
   "source": [
    "Из представленных 9 гипотез с применением фреймворка RICE была выбрана как наиболее приоритетная гипотеза - \"Добавить форму подписки на все основные страницы, чтобы собрать базу клиентов для email-рассылок\"\n",
    "\n",
    "По результатам А/В - тестирования гипотезы были сделаны следующие выводы:\n",
    "\n",
    "* кумулятивная выручка группы B после 2 августа стабильно выше кумулятивной выручки группы А. На конец августа этот показатель для группы B оказался в полтора раза выше. Заметен также резкий скачок кумулятивной выручки в группе B с 18 на 19 августа;\n",
    "\n",
    "* кумулятивный средний чек группы В в период с 11 по 15 августа падает ниже уровня группы А, но затем резко растет, что еще раз подтверждает, что в группе В в период 18-19 августа была крупная покупка, которая увеличила размер кумулятивного среднего чека;\n",
    "\n",
    "* начиная с 6 августа кумулятивное среднее количество заказов на посетителя в группе B оказалось больше аналогичного показателя группы А, но оно имело слабую тенденцию к снижению;\n",
    "\n",
    "* у большинства пользователей обеих групп сумма заказа не превышает 10 тысяч рублей, максимальная сумма заказа не превышает 100 тысяч руб. Однако на графике группы В можно заметить один невероятно большой заказ, превышающий 1,2 млн. рублей и еще один крупный заказ на 200 тысяч рублей. Судя по всему это и есть причина резкого скачка кумулятивного среднего чека 19 августа. В остальном группы очень похожи между собой;\n",
    "\n",
    "Был произведен расчет статистической значимости различий в среднем количестве заказов на посетителя и в сумме среднего чека между группами по «сырым» и \"очищенным\" от выбросов данным:\n",
    "\n",
    "* при проведении тестов с использованием критерия Манна-Уитни оказалось, что гипотеза о равенстве среднего количества заказов на посетителя между группами отвергнута, а относительная разница этого показателя группы В на 13.8% больше, чем в группе А. При тестировании \"очищенных\" от выбросов данных результат также подтвердился: среднее количество заказов на посетителя отличается, а относительная разница составила 18.5% - на столько этот показатель группы В больше аналогичного показателя группы А;\n",
    "\n",
    "* гипотеза о том, что различий в сумме среднего чека между группами нет, не отвергнута с очень большой уверенностью, а относительная разница суммы среднего чека между группами составила 2% (против 26% по \"сырым\" данным) - после удаления выбросов разница между чеками обоих групп стремится к нулю."
   ]
  },
  {
   "cell_type": "markdown",
   "metadata": {},
   "source": [
    "Средний чек в результате тестирования гипотезы почти не изменился, а вот среднее количество заказов на посетителя повысилось почти на 20%."
   ]
  },
  {
   "cell_type": "markdown",
   "metadata": {},
   "source": [
    "**Рекомендуется остановить тест и зафиксировать победу группы B.**"
   ]
  }
 ],
 "metadata": {
  "ExecuteTimeLog": [
   {
    "duration": 1310,
    "start_time": "2023-07-02T15:35:54.821Z"
   },
   {
    "duration": 3,
    "start_time": "2023-07-02T15:38:20.931Z"
   },
   {
    "duration": 198,
    "start_time": "2023-07-02T15:39:47.732Z"
   },
   {
    "duration": 1221,
    "start_time": "2023-07-03T12:27:46.705Z"
   },
   {
    "duration": 3,
    "start_time": "2023-07-03T12:27:47.928Z"
   },
   {
    "duration": 205,
    "start_time": "2023-07-03T12:27:47.932Z"
   },
   {
    "duration": 13,
    "start_time": "2023-07-03T12:35:09.673Z"
   },
   {
    "duration": 4,
    "start_time": "2023-07-03T12:36:59.242Z"
   },
   {
    "duration": 2,
    "start_time": "2023-07-03T12:37:23.744Z"
   },
   {
    "duration": 1111,
    "start_time": "2023-07-03T12:37:34.018Z"
   },
   {
    "duration": 4,
    "start_time": "2023-07-03T12:37:35.131Z"
   },
   {
    "duration": 21,
    "start_time": "2023-07-03T12:37:35.136Z"
   },
   {
    "duration": 89,
    "start_time": "2023-07-03T12:37:35.159Z"
   },
   {
    "duration": 12,
    "start_time": "2023-07-03T12:37:35.250Z"
   },
   {
    "duration": 64,
    "start_time": "2023-07-03T13:02:55.817Z"
   },
   {
    "duration": 3,
    "start_time": "2023-07-03T13:03:04.928Z"
   },
   {
    "duration": 12,
    "start_time": "2023-07-03T13:03:18.640Z"
   },
   {
    "duration": 4,
    "start_time": "2023-07-03T13:04:33.704Z"
   },
   {
    "duration": 11,
    "start_time": "2023-07-03T13:04:38.760Z"
   },
   {
    "duration": 90,
    "start_time": "2023-07-03T13:08:01.369Z"
   },
   {
    "duration": 1072,
    "start_time": "2023-07-03T13:08:47.418Z"
   },
   {
    "duration": 11,
    "start_time": "2023-07-03T13:09:01.217Z"
   },
   {
    "duration": 3,
    "start_time": "2023-07-03T13:11:01.419Z"
   },
   {
    "duration": 15,
    "start_time": "2023-07-03T13:11:14.010Z"
   },
   {
    "duration": 3,
    "start_time": "2023-07-03T13:13:59.819Z"
   },
   {
    "duration": 13,
    "start_time": "2023-07-03T13:14:12.771Z"
   },
   {
    "duration": 2,
    "start_time": "2023-07-03T13:14:43.612Z"
   },
   {
    "duration": 8,
    "start_time": "2023-07-03T13:14:45.931Z"
   },
   {
    "duration": 3,
    "start_time": "2023-07-03T13:14:57.435Z"
   },
   {
    "duration": 10,
    "start_time": "2023-07-03T13:14:58.852Z"
   },
   {
    "duration": 67,
    "start_time": "2023-07-03T13:15:16.044Z"
   },
   {
    "duration": 4,
    "start_time": "2023-07-03T13:15:23.955Z"
   },
   {
    "duration": 12,
    "start_time": "2023-07-03T13:15:25.548Z"
   },
   {
    "duration": 4,
    "start_time": "2023-07-03T13:15:49.612Z"
   },
   {
    "duration": 12,
    "start_time": "2023-07-03T13:15:51.716Z"
   },
   {
    "duration": 3,
    "start_time": "2023-07-03T13:17:07.628Z"
   },
   {
    "duration": 15,
    "start_time": "2023-07-03T13:17:09.916Z"
   },
   {
    "duration": 11,
    "start_time": "2023-07-03T13:18:43.005Z"
   },
   {
    "duration": 17,
    "start_time": "2023-07-03T13:18:45.941Z"
   },
   {
    "duration": 15,
    "start_time": "2023-07-03T13:18:52.005Z"
   },
   {
    "duration": 15,
    "start_time": "2023-07-03T13:18:57.445Z"
   },
   {
    "duration": 12,
    "start_time": "2023-07-03T13:19:00.597Z"
   },
   {
    "duration": 16,
    "start_time": "2023-07-03T13:19:27.693Z"
   },
   {
    "duration": 3,
    "start_time": "2023-07-03T13:27:05.264Z"
   },
   {
    "duration": 22,
    "start_time": "2023-07-03T13:27:20.671Z"
   },
   {
    "duration": 4,
    "start_time": "2023-07-03T13:27:47.304Z"
   },
   {
    "duration": 23,
    "start_time": "2023-07-03T13:27:52.535Z"
   },
   {
    "duration": 4,
    "start_time": "2023-07-03T13:29:25.359Z"
   },
   {
    "duration": 4,
    "start_time": "2023-07-03T13:29:36.448Z"
   },
   {
    "duration": 3,
    "start_time": "2023-07-03T13:30:00.921Z"
   },
   {
    "duration": 3,
    "start_time": "2023-07-03T13:30:02.673Z"
   },
   {
    "duration": 30,
    "start_time": "2023-07-03T13:30:05.241Z"
   },
   {
    "duration": 4,
    "start_time": "2023-07-03T13:32:17.389Z"
   },
   {
    "duration": 23,
    "start_time": "2023-07-03T13:32:20.545Z"
   },
   {
    "duration": 3,
    "start_time": "2023-07-03T13:32:35.160Z"
   },
   {
    "duration": 23,
    "start_time": "2023-07-03T13:32:37.297Z"
   },
   {
    "duration": 1102,
    "start_time": "2023-07-03T13:33:18.198Z"
   },
   {
    "duration": 3,
    "start_time": "2023-07-03T13:33:19.302Z"
   },
   {
    "duration": 8,
    "start_time": "2023-07-03T13:33:19.307Z"
   },
   {
    "duration": 79,
    "start_time": "2023-07-03T13:33:19.317Z"
   },
   {
    "duration": 4,
    "start_time": "2023-07-03T13:33:19.397Z"
   },
   {
    "duration": 8,
    "start_time": "2023-07-03T13:33:19.402Z"
   },
   {
    "duration": 30,
    "start_time": "2023-07-03T13:33:19.412Z"
   },
   {
    "duration": 25,
    "start_time": "2023-07-03T13:41:59.619Z"
   },
   {
    "duration": 5,
    "start_time": "2023-07-03T13:46:55.717Z"
   },
   {
    "duration": 7,
    "start_time": "2023-07-03T13:48:15.077Z"
   },
   {
    "duration": 8,
    "start_time": "2023-07-03T13:48:25.203Z"
   },
   {
    "duration": 9,
    "start_time": "2023-07-03T13:49:32.607Z"
   },
   {
    "duration": 7,
    "start_time": "2023-07-03T13:49:41.150Z"
   },
   {
    "duration": 65,
    "start_time": "2023-07-03T13:50:37.376Z"
   },
   {
    "duration": 10,
    "start_time": "2023-07-03T13:50:43.823Z"
   },
   {
    "duration": 9,
    "start_time": "2023-07-03T13:51:04.751Z"
   },
   {
    "duration": 24,
    "start_time": "2023-07-03T13:59:10.656Z"
   },
   {
    "duration": 91,
    "start_time": "2023-07-03T14:01:41.684Z"
   },
   {
    "duration": 13,
    "start_time": "2023-07-03T14:01:46.731Z"
   },
   {
    "duration": 7,
    "start_time": "2023-07-03T14:01:57.683Z"
   },
   {
    "duration": 160,
    "start_time": "2023-07-03T14:03:06.171Z"
   },
   {
    "duration": 120,
    "start_time": "2023-07-03T14:03:26.435Z"
   },
   {
    "duration": 233,
    "start_time": "2023-07-03T14:03:48.275Z"
   },
   {
    "duration": 141,
    "start_time": "2023-07-03T14:03:54.996Z"
   },
   {
    "duration": 141,
    "start_time": "2023-07-03T14:03:57.924Z"
   },
   {
    "duration": 145,
    "start_time": "2023-07-03T14:04:02.732Z"
   },
   {
    "duration": 156,
    "start_time": "2023-07-03T14:04:10.932Z"
   },
   {
    "duration": 5,
    "start_time": "2023-07-03T14:06:30.396Z"
   },
   {
    "duration": 15,
    "start_time": "2023-07-03T14:09:21.462Z"
   },
   {
    "duration": 17,
    "start_time": "2023-07-03T14:09:49.166Z"
   },
   {
    "duration": 1047,
    "start_time": "2023-07-03T14:16:40.993Z"
   },
   {
    "duration": 3,
    "start_time": "2023-07-03T14:16:42.043Z"
   },
   {
    "duration": 12,
    "start_time": "2023-07-03T14:16:42.047Z"
   },
   {
    "duration": 81,
    "start_time": "2023-07-03T14:16:42.061Z"
   },
   {
    "duration": 5,
    "start_time": "2023-07-03T14:16:42.143Z"
   },
   {
    "duration": 5,
    "start_time": "2023-07-03T14:16:42.149Z"
   },
   {
    "duration": 49,
    "start_time": "2023-07-03T14:16:42.156Z"
   },
   {
    "duration": 32,
    "start_time": "2023-07-03T14:16:42.206Z"
   },
   {
    "duration": 4,
    "start_time": "2023-07-03T14:16:42.240Z"
   },
   {
    "duration": 8,
    "start_time": "2023-07-03T14:16:42.268Z"
   },
   {
    "duration": 26,
    "start_time": "2023-07-03T14:16:42.277Z"
   },
   {
    "duration": 4,
    "start_time": "2023-07-03T14:16:42.304Z"
   },
   {
    "duration": 10,
    "start_time": "2023-07-03T14:16:42.309Z"
   },
   {
    "duration": 3,
    "start_time": "2023-07-03T14:19:27.704Z"
   },
   {
    "duration": 4,
    "start_time": "2023-07-03T14:19:46.786Z"
   },
   {
    "duration": 4,
    "start_time": "2023-07-03T14:21:48.409Z"
   },
   {
    "duration": 12,
    "start_time": "2023-07-03T14:21:54.113Z"
   },
   {
    "duration": 12,
    "start_time": "2023-07-03T14:22:20.426Z"
   },
   {
    "duration": 9,
    "start_time": "2023-07-03T14:22:35.498Z"
   },
   {
    "duration": 5,
    "start_time": "2023-07-03T14:24:28.970Z"
   },
   {
    "duration": 11,
    "start_time": "2023-07-03T14:25:44.868Z"
   },
   {
    "duration": 11,
    "start_time": "2023-07-03T14:26:13.179Z"
   },
   {
    "duration": 12,
    "start_time": "2023-07-03T14:27:21.914Z"
   },
   {
    "duration": 1109,
    "start_time": "2023-07-03T14:32:17.153Z"
   },
   {
    "duration": 4,
    "start_time": "2023-07-03T14:32:18.264Z"
   },
   {
    "duration": 23,
    "start_time": "2023-07-03T14:32:18.269Z"
   },
   {
    "duration": 86,
    "start_time": "2023-07-03T14:32:18.294Z"
   },
   {
    "duration": 4,
    "start_time": "2023-07-03T14:32:18.382Z"
   },
   {
    "duration": 6,
    "start_time": "2023-07-03T14:32:18.388Z"
   },
   {
    "duration": 36,
    "start_time": "2023-07-03T14:32:18.395Z"
   },
   {
    "duration": 48,
    "start_time": "2023-07-03T14:32:18.433Z"
   },
   {
    "duration": 5,
    "start_time": "2023-07-03T14:32:18.482Z"
   },
   {
    "duration": 24,
    "start_time": "2023-07-03T14:32:18.489Z"
   },
   {
    "duration": 26,
    "start_time": "2023-07-03T14:32:18.515Z"
   },
   {
    "duration": 27,
    "start_time": "2023-07-03T14:32:18.543Z"
   },
   {
    "duration": 10,
    "start_time": "2023-07-03T14:32:18.572Z"
   },
   {
    "duration": 7,
    "start_time": "2023-07-03T14:32:18.583Z"
   },
   {
    "duration": 9,
    "start_time": "2023-07-03T14:32:18.592Z"
   },
   {
    "duration": 24,
    "start_time": "2023-07-03T14:32:18.603Z"
   },
   {
    "duration": 10,
    "start_time": "2023-07-03T14:32:18.629Z"
   },
   {
    "duration": 16,
    "start_time": "2023-07-03T14:32:18.641Z"
   },
   {
    "duration": 15,
    "start_time": "2023-07-03T14:32:18.659Z"
   },
   {
    "duration": 4,
    "start_time": "2023-07-03T14:38:55.815Z"
   },
   {
    "duration": 3,
    "start_time": "2023-07-03T14:40:05.047Z"
   },
   {
    "duration": 9,
    "start_time": "2023-07-03T14:40:08.951Z"
   },
   {
    "duration": 9,
    "start_time": "2023-07-03T14:41:24.576Z"
   },
   {
    "duration": 10,
    "start_time": "2023-07-03T14:43:40.344Z"
   },
   {
    "duration": 61,
    "start_time": "2023-07-03T14:46:53.513Z"
   },
   {
    "duration": 3,
    "start_time": "2023-07-03T14:47:34.259Z"
   },
   {
    "duration": 10,
    "start_time": "2023-07-03T14:48:08.114Z"
   },
   {
    "duration": 200,
    "start_time": "2023-07-03T15:05:57.479Z"
   },
   {
    "duration": 9,
    "start_time": "2023-07-03T15:07:03.616Z"
   },
   {
    "duration": 216,
    "start_time": "2023-07-03T15:10:58.144Z"
   },
   {
    "duration": 205,
    "start_time": "2023-07-03T15:11:21.177Z"
   },
   {
    "duration": 249,
    "start_time": "2023-07-03T15:11:24.833Z"
   },
   {
    "duration": 236,
    "start_time": "2023-07-03T15:11:33.545Z"
   },
   {
    "duration": 217,
    "start_time": "2023-07-03T15:11:40.801Z"
   },
   {
    "duration": 317,
    "start_time": "2023-07-03T15:13:26.371Z"
   },
   {
    "duration": 212,
    "start_time": "2023-07-03T15:14:06.170Z"
   },
   {
    "duration": 306,
    "start_time": "2023-07-03T15:14:16.066Z"
   },
   {
    "duration": 227,
    "start_time": "2023-07-03T15:15:40.890Z"
   },
   {
    "duration": 197,
    "start_time": "2023-07-03T15:15:56.698Z"
   },
   {
    "duration": 218,
    "start_time": "2023-07-03T15:16:02.803Z"
   },
   {
    "duration": 215,
    "start_time": "2023-07-03T15:17:55.611Z"
   },
   {
    "duration": 286,
    "start_time": "2023-07-03T15:17:58.874Z"
   },
   {
    "duration": 234,
    "start_time": "2023-07-03T15:18:30.107Z"
   },
   {
    "duration": 227,
    "start_time": "2023-07-03T15:18:58.204Z"
   },
   {
    "duration": 252,
    "start_time": "2023-07-03T15:19:13.420Z"
   },
   {
    "duration": 122,
    "start_time": "2023-07-03T15:20:20.220Z"
   },
   {
    "duration": 123,
    "start_time": "2023-07-03T15:20:49.916Z"
   },
   {
    "duration": 191,
    "start_time": "2023-07-03T15:21:19.030Z"
   },
   {
    "duration": 187,
    "start_time": "2023-07-03T15:21:24.364Z"
   },
   {
    "duration": 243,
    "start_time": "2023-07-03T15:23:05.669Z"
   },
   {
    "duration": 240,
    "start_time": "2023-07-03T15:24:09.917Z"
   },
   {
    "duration": 220,
    "start_time": "2023-07-03T15:24:34.645Z"
   },
   {
    "duration": 287,
    "start_time": "2023-07-03T15:24:46.902Z"
   },
   {
    "duration": 216,
    "start_time": "2023-07-03T15:25:41.662Z"
   },
   {
    "duration": 216,
    "start_time": "2023-07-03T15:26:05.982Z"
   },
   {
    "duration": 198,
    "start_time": "2023-07-03T15:26:17.053Z"
   },
   {
    "duration": 315,
    "start_time": "2023-07-03T15:26:24.006Z"
   },
   {
    "duration": 329,
    "start_time": "2023-07-03T15:26:34.429Z"
   },
   {
    "duration": 230,
    "start_time": "2023-07-03T15:26:39.342Z"
   },
   {
    "duration": 236,
    "start_time": "2023-07-03T15:26:43.446Z"
   },
   {
    "duration": 292,
    "start_time": "2023-07-03T15:35:48.481Z"
   },
   {
    "duration": 313,
    "start_time": "2023-07-03T15:41:55.906Z"
   },
   {
    "duration": 392,
    "start_time": "2023-07-03T15:42:11.411Z"
   },
   {
    "duration": 332,
    "start_time": "2023-07-03T15:53:50.575Z"
   },
   {
    "duration": 222,
    "start_time": "2023-07-03T15:53:59.039Z"
   },
   {
    "duration": 291,
    "start_time": "2023-07-03T15:54:15.414Z"
   },
   {
    "duration": 291,
    "start_time": "2023-07-03T15:54:51.807Z"
   },
   {
    "duration": 262,
    "start_time": "2023-07-03T15:55:28.303Z"
   },
   {
    "duration": 16,
    "start_time": "2023-07-03T16:03:19.777Z"
   },
   {
    "duration": 398,
    "start_time": "2023-07-03T16:03:30.881Z"
   },
   {
    "duration": 355,
    "start_time": "2023-07-03T16:04:00.153Z"
   },
   {
    "duration": 349,
    "start_time": "2023-07-03T16:04:17.633Z"
   },
   {
    "duration": 345,
    "start_time": "2023-07-03T16:04:30.634Z"
   },
   {
    "duration": 225,
    "start_time": "2023-07-03T16:13:39.588Z"
   },
   {
    "duration": 262,
    "start_time": "2023-07-03T16:13:52.644Z"
   },
   {
    "duration": 223,
    "start_time": "2023-07-03T16:13:56.700Z"
   },
   {
    "duration": 235,
    "start_time": "2023-07-03T16:14:29.508Z"
   },
   {
    "duration": 6,
    "start_time": "2023-07-03T16:19:49.781Z"
   },
   {
    "duration": 4,
    "start_time": "2023-07-03T16:20:06.718Z"
   },
   {
    "duration": 4,
    "start_time": "2023-07-03T16:22:22.854Z"
   },
   {
    "duration": 250,
    "start_time": "2023-07-03T16:27:29.688Z"
   },
   {
    "duration": 232,
    "start_time": "2023-07-03T16:28:40.265Z"
   },
   {
    "duration": 241,
    "start_time": "2023-07-03T16:29:02.920Z"
   },
   {
    "duration": 346,
    "start_time": "2023-07-03T16:29:06.841Z"
   },
   {
    "duration": 5,
    "start_time": "2023-07-03T16:33:23.434Z"
   },
   {
    "duration": 11,
    "start_time": "2023-07-03T16:33:49.162Z"
   },
   {
    "duration": 4,
    "start_time": "2023-07-03T16:33:59.355Z"
   },
   {
    "duration": 4,
    "start_time": "2023-07-03T16:34:19.723Z"
   },
   {
    "duration": 6,
    "start_time": "2023-07-03T16:41:47.191Z"
   },
   {
    "duration": 31,
    "start_time": "2023-07-03T16:45:44.758Z"
   },
   {
    "duration": 23,
    "start_time": "2023-07-03T16:47:50.047Z"
   },
   {
    "duration": 5,
    "start_time": "2023-07-03T16:53:01.129Z"
   },
   {
    "duration": 6,
    "start_time": "2023-07-03T16:53:40.345Z"
   },
   {
    "duration": 6,
    "start_time": "2023-07-03T16:53:49.898Z"
   },
   {
    "duration": 6,
    "start_time": "2023-07-03T16:53:57.704Z"
   },
   {
    "duration": 6,
    "start_time": "2023-07-03T16:54:03.097Z"
   },
   {
    "duration": 9,
    "start_time": "2023-07-03T17:02:34.892Z"
   },
   {
    "duration": 9,
    "start_time": "2023-07-03T17:03:25.508Z"
   },
   {
    "duration": 9,
    "start_time": "2023-07-03T17:03:44.388Z"
   },
   {
    "duration": 9,
    "start_time": "2023-07-03T17:03:49.924Z"
   },
   {
    "duration": 9,
    "start_time": "2023-07-03T17:03:59.300Z"
   },
   {
    "duration": 4,
    "start_time": "2023-07-03T17:05:43.389Z"
   },
   {
    "duration": 21,
    "start_time": "2023-07-03T17:06:33.792Z"
   },
   {
    "duration": 36,
    "start_time": "2023-07-03T17:09:26.302Z"
   },
   {
    "duration": 11,
    "start_time": "2023-07-03T17:13:01.359Z"
   },
   {
    "duration": 5,
    "start_time": "2023-07-03T17:15:46.241Z"
   },
   {
    "duration": 25,
    "start_time": "2023-07-03T17:17:49.968Z"
   },
   {
    "duration": 23,
    "start_time": "2023-07-03T17:18:06.803Z"
   },
   {
    "duration": 28,
    "start_time": "2023-07-03T17:18:14.001Z"
   },
   {
    "duration": 23,
    "start_time": "2023-07-03T17:19:00.657Z"
   },
   {
    "duration": 63,
    "start_time": "2023-07-03T17:22:43.330Z"
   },
   {
    "duration": 36,
    "start_time": "2023-07-03T17:22:51.066Z"
   },
   {
    "duration": 66,
    "start_time": "2023-07-03T17:23:57.503Z"
   },
   {
    "duration": 24,
    "start_time": "2023-07-03T17:24:06.034Z"
   },
   {
    "duration": 27,
    "start_time": "2023-07-03T17:24:48.403Z"
   },
   {
    "duration": 25,
    "start_time": "2023-07-03T17:25:34.827Z"
   },
   {
    "duration": 141,
    "start_time": "2023-07-03T17:30:01.452Z"
   },
   {
    "duration": 11,
    "start_time": "2023-07-03T17:32:40.054Z"
   },
   {
    "duration": 11,
    "start_time": "2023-07-03T17:33:17.055Z"
   },
   {
    "duration": 9,
    "start_time": "2023-07-03T17:39:12.240Z"
   },
   {
    "duration": 8,
    "start_time": "2023-07-03T17:40:57.346Z"
   },
   {
    "duration": 23,
    "start_time": "2023-07-03T17:43:04.569Z"
   },
   {
    "duration": 12,
    "start_time": "2023-07-03T17:50:11.636Z"
   },
   {
    "duration": 13,
    "start_time": "2023-07-03T17:50:51.460Z"
   },
   {
    "duration": 11,
    "start_time": "2023-07-03T17:51:23.510Z"
   },
   {
    "duration": 1152,
    "start_time": "2023-07-03T18:14:13.871Z"
   },
   {
    "duration": 3,
    "start_time": "2023-07-03T18:14:15.025Z"
   },
   {
    "duration": 62,
    "start_time": "2023-07-03T18:14:15.029Z"
   },
   {
    "duration": 112,
    "start_time": "2023-07-03T18:14:15.095Z"
   },
   {
    "duration": 4,
    "start_time": "2023-07-03T18:14:15.209Z"
   },
   {
    "duration": 42,
    "start_time": "2023-07-03T18:14:15.215Z"
   },
   {
    "duration": 58,
    "start_time": "2023-07-03T18:14:15.259Z"
   },
   {
    "duration": 25,
    "start_time": "2023-07-03T18:14:15.319Z"
   },
   {
    "duration": 7,
    "start_time": "2023-07-03T18:14:15.345Z"
   },
   {
    "duration": 41,
    "start_time": "2023-07-03T18:14:15.355Z"
   },
   {
    "duration": 42,
    "start_time": "2023-07-03T18:14:15.398Z"
   },
   {
    "duration": 41,
    "start_time": "2023-07-03T18:14:15.442Z"
   },
   {
    "duration": 30,
    "start_time": "2023-07-03T18:14:15.486Z"
   },
   {
    "duration": 32,
    "start_time": "2023-07-03T18:14:15.518Z"
   },
   {
    "duration": 47,
    "start_time": "2023-07-03T18:14:15.552Z"
   },
   {
    "duration": 22,
    "start_time": "2023-07-03T18:14:15.601Z"
   },
   {
    "duration": 32,
    "start_time": "2023-07-03T18:14:15.625Z"
   },
   {
    "duration": 43,
    "start_time": "2023-07-03T18:14:15.658Z"
   },
   {
    "duration": 34,
    "start_time": "2023-07-03T18:14:15.703Z"
   },
   {
    "duration": 34,
    "start_time": "2023-07-03T18:14:15.739Z"
   },
   {
    "duration": 29,
    "start_time": "2023-07-03T18:14:15.775Z"
   },
   {
    "duration": 38,
    "start_time": "2023-07-03T18:14:15.807Z"
   },
   {
    "duration": 31,
    "start_time": "2023-07-03T18:14:15.846Z"
   },
   {
    "duration": 252,
    "start_time": "2023-07-03T18:14:15.879Z"
   },
   {
    "duration": 10,
    "start_time": "2023-07-03T18:14:16.133Z"
   },
   {
    "duration": 378,
    "start_time": "2023-07-03T18:14:16.144Z"
   },
   {
    "duration": 298,
    "start_time": "2023-07-03T18:14:16.525Z"
   },
   {
    "duration": 399,
    "start_time": "2023-07-03T18:14:16.826Z"
   },
   {
    "duration": 321,
    "start_time": "2023-07-03T18:14:17.227Z"
   },
   {
    "duration": 388,
    "start_time": "2023-07-03T18:14:17.550Z"
   },
   {
    "duration": 282,
    "start_time": "2023-07-03T18:14:17.940Z"
   },
   {
    "duration": 4,
    "start_time": "2023-07-03T18:14:18.224Z"
   },
   {
    "duration": 15,
    "start_time": "2023-07-03T18:14:18.230Z"
   },
   {
    "duration": 284,
    "start_time": "2023-07-03T18:14:18.246Z"
   },
   {
    "duration": 380,
    "start_time": "2023-07-03T18:14:18.532Z"
   },
   {
    "duration": 4,
    "start_time": "2023-07-03T18:14:18.914Z"
   },
   {
    "duration": 14,
    "start_time": "2023-07-03T18:14:18.920Z"
   },
   {
    "duration": 10,
    "start_time": "2023-07-03T18:14:18.935Z"
   },
   {
    "duration": 44,
    "start_time": "2023-07-03T18:14:18.947Z"
   },
   {
    "duration": 13,
    "start_time": "2023-07-03T18:14:18.999Z"
   },
   {
    "duration": 9,
    "start_time": "2023-07-03T18:14:19.013Z"
   },
   {
    "duration": 11,
    "start_time": "2023-07-03T18:14:19.023Z"
   },
   {
    "duration": 50,
    "start_time": "2023-07-03T18:14:19.035Z"
   },
   {
    "duration": 18,
    "start_time": "2023-07-03T18:14:19.087Z"
   },
   {
    "duration": 1430,
    "start_time": "2023-07-04T10:13:37.651Z"
   },
   {
    "duration": 3,
    "start_time": "2023-07-04T10:13:39.083Z"
   },
   {
    "duration": 6,
    "start_time": "2023-07-04T10:13:39.087Z"
   },
   {
    "duration": 207,
    "start_time": "2023-07-04T10:13:39.094Z"
   },
   {
    "duration": 4,
    "start_time": "2023-07-04T10:13:39.303Z"
   },
   {
    "duration": 10,
    "start_time": "2023-07-04T10:13:39.309Z"
   },
   {
    "duration": 40,
    "start_time": "2023-07-04T10:13:39.321Z"
   },
   {
    "duration": 29,
    "start_time": "2023-07-04T10:13:39.362Z"
   },
   {
    "duration": 4,
    "start_time": "2023-07-04T10:13:39.393Z"
   },
   {
    "duration": 26,
    "start_time": "2023-07-04T10:13:39.399Z"
   },
   {
    "duration": 54,
    "start_time": "2023-07-04T10:13:39.427Z"
   },
   {
    "duration": 4,
    "start_time": "2023-07-04T10:13:39.482Z"
   },
   {
    "duration": 23,
    "start_time": "2023-07-04T10:13:39.488Z"
   },
   {
    "duration": 16,
    "start_time": "2023-07-04T10:13:39.513Z"
   },
   {
    "duration": 9,
    "start_time": "2023-07-04T10:13:39.531Z"
   },
   {
    "duration": 32,
    "start_time": "2023-07-04T10:13:39.541Z"
   },
   {
    "duration": 19,
    "start_time": "2023-07-04T10:13:39.575Z"
   },
   {
    "duration": 15,
    "start_time": "2023-07-04T10:13:39.596Z"
   },
   {
    "duration": 25,
    "start_time": "2023-07-04T10:13:39.613Z"
   },
   {
    "duration": 6,
    "start_time": "2023-07-04T10:13:39.640Z"
   },
   {
    "duration": 12,
    "start_time": "2023-07-04T10:13:39.648Z"
   },
   {
    "duration": 15,
    "start_time": "2023-07-04T10:13:39.661Z"
   },
   {
    "duration": 21,
    "start_time": "2023-07-04T10:13:39.678Z"
   },
   {
    "duration": 213,
    "start_time": "2023-07-04T10:13:39.701Z"
   },
   {
    "duration": 10,
    "start_time": "2023-07-04T10:13:39.916Z"
   },
   {
    "duration": 289,
    "start_time": "2023-07-04T10:13:39.928Z"
   },
   {
    "duration": 294,
    "start_time": "2023-07-04T10:13:40.218Z"
   },
   {
    "duration": 420,
    "start_time": "2023-07-04T10:13:40.515Z"
   },
   {
    "duration": 324,
    "start_time": "2023-07-04T10:13:40.937Z"
   },
   {
    "duration": 329,
    "start_time": "2023-07-04T10:13:41.263Z"
   },
   {
    "duration": 276,
    "start_time": "2023-07-04T10:13:41.594Z"
   },
   {
    "duration": 5,
    "start_time": "2023-07-04T10:13:41.871Z"
   },
   {
    "duration": 6,
    "start_time": "2023-07-04T10:13:41.877Z"
   },
   {
    "duration": 266,
    "start_time": "2023-07-04T10:13:41.884Z"
   },
   {
    "duration": 329,
    "start_time": "2023-07-04T10:13:42.156Z"
   },
   {
    "duration": 4,
    "start_time": "2023-07-04T10:13:42.486Z"
   },
   {
    "duration": 12,
    "start_time": "2023-07-04T10:13:42.492Z"
   },
   {
    "duration": 18,
    "start_time": "2023-07-04T10:13:42.505Z"
   },
   {
    "duration": 25,
    "start_time": "2023-07-04T10:13:42.524Z"
   },
   {
    "duration": 10,
    "start_time": "2023-07-04T10:13:42.557Z"
   },
   {
    "duration": 19,
    "start_time": "2023-07-04T10:13:42.569Z"
   },
   {
    "duration": 25,
    "start_time": "2023-07-04T10:13:42.590Z"
   },
   {
    "duration": 28,
    "start_time": "2023-07-04T10:13:42.617Z"
   },
   {
    "duration": 11,
    "start_time": "2023-07-04T10:13:42.647Z"
   },
   {
    "duration": 1146,
    "start_time": "2023-07-04T10:14:06.926Z"
   },
   {
    "duration": 2,
    "start_time": "2023-07-04T10:14:08.075Z"
   },
   {
    "duration": 18,
    "start_time": "2023-07-04T10:14:08.079Z"
   },
   {
    "duration": 83,
    "start_time": "2023-07-04T10:14:08.099Z"
   },
   {
    "duration": 4,
    "start_time": "2023-07-04T10:14:08.184Z"
   },
   {
    "duration": 10,
    "start_time": "2023-07-04T10:14:08.189Z"
   },
   {
    "duration": 38,
    "start_time": "2023-07-04T10:14:08.201Z"
   },
   {
    "duration": 27,
    "start_time": "2023-07-04T10:14:08.241Z"
   },
   {
    "duration": 4,
    "start_time": "2023-07-04T10:14:08.269Z"
   },
   {
    "duration": 12,
    "start_time": "2023-07-04T10:14:08.276Z"
   },
   {
    "duration": 28,
    "start_time": "2023-07-04T10:14:08.290Z"
   },
   {
    "duration": 4,
    "start_time": "2023-07-04T10:14:08.357Z"
   },
   {
    "duration": 18,
    "start_time": "2023-07-04T10:14:08.363Z"
   },
   {
    "duration": 6,
    "start_time": "2023-07-04T10:14:08.382Z"
   },
   {
    "duration": 9,
    "start_time": "2023-07-04T10:14:08.390Z"
   },
   {
    "duration": 7,
    "start_time": "2023-07-04T10:14:08.401Z"
   },
   {
    "duration": 19,
    "start_time": "2023-07-04T10:14:08.410Z"
   },
   {
    "duration": 26,
    "start_time": "2023-07-04T10:14:08.431Z"
   },
   {
    "duration": 18,
    "start_time": "2023-07-04T10:14:08.459Z"
   },
   {
    "duration": 15,
    "start_time": "2023-07-04T10:14:08.478Z"
   },
   {
    "duration": 16,
    "start_time": "2023-07-04T10:14:08.494Z"
   },
   {
    "duration": 23,
    "start_time": "2023-07-04T10:14:08.512Z"
   },
   {
    "duration": 13,
    "start_time": "2023-07-04T10:14:08.537Z"
   },
   {
    "duration": 230,
    "start_time": "2023-07-04T10:14:08.551Z"
   },
   {
    "duration": 10,
    "start_time": "2023-07-04T10:14:08.783Z"
   },
   {
    "duration": 363,
    "start_time": "2023-07-04T10:14:08.795Z"
   },
   {
    "duration": 285,
    "start_time": "2023-07-04T10:14:09.160Z"
   },
   {
    "duration": 366,
    "start_time": "2023-07-04T10:14:09.449Z"
   },
   {
    "duration": 312,
    "start_time": "2023-07-04T10:14:09.817Z"
   },
   {
    "duration": 353,
    "start_time": "2023-07-04T10:14:10.131Z"
   },
   {
    "duration": 256,
    "start_time": "2023-07-04T10:14:10.486Z"
   },
   {
    "duration": 4,
    "start_time": "2023-07-04T10:14:10.744Z"
   },
   {
    "duration": 5,
    "start_time": "2023-07-04T10:14:10.756Z"
   },
   {
    "duration": 262,
    "start_time": "2023-07-04T10:14:10.762Z"
   },
   {
    "duration": 335,
    "start_time": "2023-07-04T10:14:11.026Z"
   },
   {
    "duration": 4,
    "start_time": "2023-07-04T10:14:11.362Z"
   },
   {
    "duration": 39,
    "start_time": "2023-07-04T10:14:11.367Z"
   },
   {
    "duration": 99,
    "start_time": "2023-07-04T10:14:11.407Z"
   },
   {
    "duration": 28,
    "start_time": "2023-07-04T10:14:11.507Z"
   },
   {
    "duration": 10,
    "start_time": "2023-07-04T10:14:11.536Z"
   },
   {
    "duration": 21,
    "start_time": "2023-07-04T10:14:11.548Z"
   },
   {
    "duration": 31,
    "start_time": "2023-07-04T10:14:11.571Z"
   },
   {
    "duration": 35,
    "start_time": "2023-07-04T10:14:11.603Z"
   },
   {
    "duration": 12,
    "start_time": "2023-07-04T10:14:11.640Z"
   },
   {
    "duration": 6,
    "start_time": "2023-07-04T10:19:35.468Z"
   },
   {
    "duration": 8,
    "start_time": "2023-07-04T10:20:15.923Z"
   },
   {
    "duration": 7,
    "start_time": "2023-07-04T10:20:30.011Z"
   },
   {
    "duration": 6,
    "start_time": "2023-07-04T10:20:31.493Z"
   },
   {
    "duration": 6,
    "start_time": "2023-07-04T10:20:42.668Z"
   },
   {
    "duration": 8,
    "start_time": "2023-07-04T10:20:44.989Z"
   },
   {
    "duration": 9,
    "start_time": "2023-07-04T10:21:23.198Z"
   },
   {
    "duration": 8,
    "start_time": "2023-07-04T10:21:24.628Z"
   },
   {
    "duration": 1620,
    "start_time": "2023-07-04T10:21:34.893Z"
   },
   {
    "duration": 5,
    "start_time": "2023-07-04T10:21:47.509Z"
   },
   {
    "duration": 10,
    "start_time": "2023-07-04T10:22:20.308Z"
   },
   {
    "duration": 5,
    "start_time": "2023-07-04T10:22:31.806Z"
   },
   {
    "duration": 65,
    "start_time": "2023-07-04T10:23:03.273Z"
   },
   {
    "duration": 66,
    "start_time": "2023-07-04T10:23:17.501Z"
   },
   {
    "duration": 61,
    "start_time": "2023-07-04T10:23:45.629Z"
   },
   {
    "duration": 61,
    "start_time": "2023-07-04T10:23:51.853Z"
   },
   {
    "duration": 7,
    "start_time": "2023-07-04T10:24:07.525Z"
   },
   {
    "duration": 9,
    "start_time": "2023-07-04T10:24:16.804Z"
   },
   {
    "duration": 10,
    "start_time": "2023-07-04T10:25:17.316Z"
   },
   {
    "duration": 10,
    "start_time": "2023-07-04T10:25:19.141Z"
   },
   {
    "duration": 6,
    "start_time": "2023-07-04T10:25:26.934Z"
   },
   {
    "duration": 4,
    "start_time": "2023-07-04T10:28:47.342Z"
   },
   {
    "duration": 10,
    "start_time": "2023-07-04T10:32:01.360Z"
   },
   {
    "duration": 9,
    "start_time": "2023-07-04T10:32:09.520Z"
   },
   {
    "duration": 1177,
    "start_time": "2023-07-04T11:06:29.053Z"
   },
   {
    "duration": 2,
    "start_time": "2023-07-04T11:06:30.233Z"
   },
   {
    "duration": 34,
    "start_time": "2023-07-04T11:06:30.237Z"
   },
   {
    "duration": 116,
    "start_time": "2023-07-04T11:06:30.274Z"
   },
   {
    "duration": 4,
    "start_time": "2023-07-04T11:06:30.392Z"
   },
   {
    "duration": 63,
    "start_time": "2023-07-04T11:06:30.397Z"
   },
   {
    "duration": 94,
    "start_time": "2023-07-04T11:06:30.462Z"
   },
   {
    "duration": 82,
    "start_time": "2023-07-04T11:06:30.559Z"
   },
   {
    "duration": 32,
    "start_time": "2023-07-04T11:06:30.643Z"
   },
   {
    "duration": 44,
    "start_time": "2023-07-04T11:06:30.679Z"
   },
   {
    "duration": 67,
    "start_time": "2023-07-04T11:06:30.725Z"
   },
   {
    "duration": 16,
    "start_time": "2023-07-04T11:06:30.794Z"
   },
   {
    "duration": 64,
    "start_time": "2023-07-04T11:06:30.812Z"
   },
   {
    "duration": 75,
    "start_time": "2023-07-04T11:06:30.878Z"
   },
   {
    "duration": 35,
    "start_time": "2023-07-04T11:06:30.955Z"
   },
   {
    "duration": 33,
    "start_time": "2023-07-04T11:06:30.992Z"
   },
   {
    "duration": 48,
    "start_time": "2023-07-04T11:06:31.028Z"
   },
   {
    "duration": 31,
    "start_time": "2023-07-04T11:06:31.078Z"
   },
   {
    "duration": 40,
    "start_time": "2023-07-04T11:06:31.111Z"
   },
   {
    "duration": 42,
    "start_time": "2023-07-04T11:06:31.153Z"
   },
   {
    "duration": 65,
    "start_time": "2023-07-04T11:06:31.197Z"
   },
   {
    "duration": 54,
    "start_time": "2023-07-04T11:06:31.265Z"
   },
   {
    "duration": 56,
    "start_time": "2023-07-04T11:06:31.322Z"
   },
   {
    "duration": 257,
    "start_time": "2023-07-04T11:06:31.381Z"
   },
   {
    "duration": 17,
    "start_time": "2023-07-04T11:06:31.640Z"
   },
   {
    "duration": 12,
    "start_time": "2023-07-04T11:06:31.659Z"
   },
   {
    "duration": 29,
    "start_time": "2023-07-04T11:06:31.673Z"
   },
   {
    "duration": 35,
    "start_time": "2023-07-04T11:06:31.706Z"
   },
   {
    "duration": 46,
    "start_time": "2023-07-04T11:06:31.743Z"
   },
   {
    "duration": 312,
    "start_time": "2023-07-04T11:06:31.791Z"
   },
   {
    "duration": 303,
    "start_time": "2023-07-04T11:06:32.104Z"
   },
   {
    "duration": 404,
    "start_time": "2023-07-04T11:06:32.409Z"
   },
   {
    "duration": 350,
    "start_time": "2023-07-04T11:06:32.815Z"
   },
   {
    "duration": 460,
    "start_time": "2023-07-04T11:06:33.168Z"
   },
   {
    "duration": 296,
    "start_time": "2023-07-04T11:06:33.629Z"
   },
   {
    "duration": 5,
    "start_time": "2023-07-04T11:06:33.927Z"
   },
   {
    "duration": 23,
    "start_time": "2023-07-04T11:06:33.934Z"
   },
   {
    "duration": 290,
    "start_time": "2023-07-04T11:06:33.959Z"
   },
   {
    "duration": 382,
    "start_time": "2023-07-04T11:06:34.250Z"
   },
   {
    "duration": 5,
    "start_time": "2023-07-04T11:06:34.634Z"
   },
   {
    "duration": 18,
    "start_time": "2023-07-04T11:06:34.641Z"
   },
   {
    "duration": 9,
    "start_time": "2023-07-04T11:06:34.661Z"
   },
   {
    "duration": 38,
    "start_time": "2023-07-04T11:06:34.672Z"
   },
   {
    "duration": 44,
    "start_time": "2023-07-04T11:06:34.712Z"
   },
   {
    "duration": 11,
    "start_time": "2023-07-04T11:06:34.759Z"
   },
   {
    "duration": 12,
    "start_time": "2023-07-04T11:06:34.772Z"
   },
   {
    "duration": 25,
    "start_time": "2023-07-04T11:06:34.786Z"
   },
   {
    "duration": 43,
    "start_time": "2023-07-04T11:06:34.814Z"
   }
  ],
  "kernelspec": {
   "display_name": "Python 3 (ipykernel)",
   "language": "python",
   "name": "python3"
  },
  "language_info": {
   "codemirror_mode": {
    "name": "ipython",
    "version": 3
   },
   "file_extension": ".py",
   "mimetype": "text/x-python",
   "name": "python",
   "nbconvert_exporter": "python",
   "pygments_lexer": "ipython3",
   "version": "3.9.18"
  },
  "toc": {
   "base_numbering": 1,
   "nav_menu": {},
   "number_sections": true,
   "sideBar": true,
   "skip_h1_title": true,
   "title_cell": "Table of Contents",
   "title_sidebar": "Contents",
   "toc_cell": false,
   "toc_position": {},
   "toc_section_display": true,
   "toc_window_display": false
  }
 },
 "nbformat": 4,
 "nbformat_minor": 4
}
